{
 "cells": [
  {
   "cell_type": "code",
   "execution_count": 1,
   "metadata": {},
   "outputs": [],
   "source": [
    "import numpy as np\n",
    "import pandas as pds\n",
    "import matplotlib.pyplot as plt\n",
    "from WindPy import w\n",
    "import empyrical\n",
    "import datetime as dt\n",
    "%matplotlib inline"
   ]
  },
  {
   "cell_type": "code",
   "execution_count": 2,
   "metadata": {},
   "outputs": [
    {
     "name": "stdout",
     "output_type": "stream",
     "text": [
      "Welcome to use Wind Quant API for Python (WindPy)!\n",
      "\n",
      "COPYRIGHT (C) 2017 WIND INFORMATION CO., LTD. ALL RIGHTS RESERVED.\n",
      "IN NO CIRCUMSTANCE SHALL WIND BE RESPONSIBLE FOR ANY DAMAGES OR LOSSES CAUSED BY USING WIND QUANT API FOR Python.\n"
     ]
    },
    {
     "data": {
      "text/plain": [
       ".ErrorCode=0\n",
       ".Data=[OK!]"
      ]
     },
     "execution_count": 2,
     "metadata": {},
     "output_type": "execute_result"
    }
   ],
   "source": [
    "w.start()"
   ]
  },
  {
   "cell_type": "code",
   "execution_count": 3,
   "metadata": {},
   "outputs": [],
   "source": [
    "def metric(ret):\n",
    "    print(empyrical.annual_return(ret))\n",
    "    print(empyrical.annual_volatility(ret))\n",
    "    print(empyrical.max_drawdown(ret))\n",
    "    print(empyrical.sharpe_ratio(ret, risk_free=0.015/360))"
   ]
  },
  {
   "cell_type": "code",
   "execution_count": 4,
   "metadata": {},
   "outputs": [],
   "source": [
    "start_date = '2014-01-01'"
   ]
  },
  {
   "cell_type": "code",
   "execution_count": 5,
   "metadata": {},
   "outputs": [],
   "source": [
    "weight_19 = pd.read_excel('../data/1090_all_wgts.xlsx')\n",
    "weight_28 = pd.read_excel('../data/2080_all_wgts.xlsx')\n",
    "weight_46 = pd.read_excel('../data/4060_all_wgts.xlsx')"
   ]
  },
  {
   "cell_type": "code",
   "execution_count": 6,
   "metadata": {},
   "outputs": [],
   "source": [
    "weight_19 = weight_19[weight_19.index >= start_date]\n",
    "weight_28 = weight_28[weight_28.index >= start_date]\n",
    "weight_46 = weight_46[weight_46.index >= start_date]"
   ]
  },
  {
   "cell_type": "code",
   "execution_count": 7,
   "metadata": {},
   "outputs": [
    {
     "data": {
      "text/html": [
       "<div>\n",
       "<style scoped>\n",
       "    .dataframe tbody tr th:only-of-type {\n",
       "        vertical-align: middle;\n",
       "    }\n",
       "\n",
       "    .dataframe tbody tr th {\n",
       "        vertical-align: top;\n",
       "    }\n",
       "\n",
       "    .dataframe thead th {\n",
       "        text-align: right;\n",
       "    }\n",
       "</style>\n",
       "<table border=\"1\" class=\"dataframe\">\n",
       "  <thead>\n",
       "    <tr style=\"text-align: right;\">\n",
       "      <th></th>\n",
       "      <th>cn_equity_li</th>\n",
       "      <th>cn_bond_li</th>\n",
       "      <th>cn_equity_li2</th>\n",
       "      <th>cn_bond_li2</th>\n",
       "    </tr>\n",
       "  </thead>\n",
       "  <tbody>\n",
       "    <tr>\n",
       "      <th>2020-05-11</th>\n",
       "      <td>0.125789</td>\n",
       "      <td>0.874211</td>\n",
       "      <td>0.124762</td>\n",
       "      <td>0.875238</td>\n",
       "    </tr>\n",
       "  </tbody>\n",
       "</table>\n",
       "</div>"
      ],
      "text/plain": [
       "            cn_equity_li  cn_bond_li  cn_equity_li2  cn_bond_li2\n",
       "2020-05-11      0.125789    0.874211       0.124762     0.875238"
      ]
     },
     "execution_count": 7,
     "metadata": {},
     "output_type": "execute_result"
    }
   ],
   "source": [
    "weight_19.tail(n=1)"
   ]
  },
  {
   "cell_type": "code",
   "execution_count": 8,
   "metadata": {},
   "outputs": [
    {
     "data": {
      "text/html": [
       "<div>\n",
       "<style scoped>\n",
       "    .dataframe tbody tr th:only-of-type {\n",
       "        vertical-align: middle;\n",
       "    }\n",
       "\n",
       "    .dataframe tbody tr th {\n",
       "        vertical-align: top;\n",
       "    }\n",
       "\n",
       "    .dataframe thead th {\n",
       "        text-align: right;\n",
       "    }\n",
       "</style>\n",
       "<table border=\"1\" class=\"dataframe\">\n",
       "  <thead>\n",
       "    <tr style=\"text-align: right;\">\n",
       "      <th></th>\n",
       "      <th>cn_equity_li</th>\n",
       "      <th>cn_bond_li</th>\n",
       "      <th>cn_equity_li2</th>\n",
       "      <th>cn_bond_li2</th>\n",
       "    </tr>\n",
       "  </thead>\n",
       "  <tbody>\n",
       "    <tr>\n",
       "      <th>2020-05-11</th>\n",
       "      <td>0.204623</td>\n",
       "      <td>0.795377</td>\n",
       "      <td>0.203602</td>\n",
       "      <td>0.796398</td>\n",
       "    </tr>\n",
       "  </tbody>\n",
       "</table>\n",
       "</div>"
      ],
      "text/plain": [
       "            cn_equity_li  cn_bond_li  cn_equity_li2  cn_bond_li2\n",
       "2020-05-11      0.204623    0.795377       0.203602     0.796398"
      ]
     },
     "execution_count": 8,
     "metadata": {},
     "output_type": "execute_result"
    }
   ],
   "source": [
    "weight_28.tail(n=1)"
   ]
  },
  {
   "cell_type": "code",
   "execution_count": 9,
   "metadata": {},
   "outputs": [
    {
     "data": {
      "text/html": [
       "<div>\n",
       "<style scoped>\n",
       "    .dataframe tbody tr th:only-of-type {\n",
       "        vertical-align: middle;\n",
       "    }\n",
       "\n",
       "    .dataframe tbody tr th {\n",
       "        vertical-align: top;\n",
       "    }\n",
       "\n",
       "    .dataframe thead th {\n",
       "        text-align: right;\n",
       "    }\n",
       "</style>\n",
       "<table border=\"1\" class=\"dataframe\">\n",
       "  <thead>\n",
       "    <tr style=\"text-align: right;\">\n",
       "      <th></th>\n",
       "      <th>cn_equity_li</th>\n",
       "      <th>cn_bond_li</th>\n",
       "      <th>cn_equity_li2</th>\n",
       "      <th>cn_bond_li2</th>\n",
       "    </tr>\n",
       "  </thead>\n",
       "  <tbody>\n",
       "    <tr>\n",
       "      <th>2020-05-11</th>\n",
       "      <td>0.378173</td>\n",
       "      <td>0.621827</td>\n",
       "      <td>0.377165</td>\n",
       "      <td>0.622835</td>\n",
       "    </tr>\n",
       "  </tbody>\n",
       "</table>\n",
       "</div>"
      ],
      "text/plain": [
       "            cn_equity_li  cn_bond_li  cn_equity_li2  cn_bond_li2\n",
       "2020-05-11      0.378173    0.621827       0.377165     0.622835"
      ]
     },
     "execution_count": 9,
     "metadata": {},
     "output_type": "execute_result"
    }
   ],
   "source": [
    "weight_46.tail(n=1)"
   ]
  },
  {
   "cell_type": "code",
   "execution_count": 10,
   "metadata": {},
   "outputs": [],
   "source": [
    "end_date = weight_19.index[-1]"
   ]
  },
  {
   "cell_type": "markdown",
   "metadata": {},
   "source": [
    "# 计算行业基金收益率"
   ]
  },
  {
   "cell_type": "code",
   "execution_count": 11,
   "metadata": {},
   "outputs": [],
   "source": [
    "sfund = pd.read_excel('../data/基金池.xlsx', sheet_name='行业')"
   ]
  },
  {
   "cell_type": "code",
   "execution_count": 12,
   "metadata": {},
   "outputs": [],
   "source": [
    "data = w.wsd(sfund['code'].tolist(), 'nav_adj', start_date, end_date)"
   ]
  },
  {
   "cell_type": "code",
   "execution_count": 13,
   "metadata": {},
   "outputs": [],
   "source": [
    "sfund_nav = pd.DataFrame(np.array(data.Data).T, index=data.Times, columns=data.Codes)"
   ]
  },
  {
   "cell_type": "code",
   "execution_count": 14,
   "metadata": {},
   "outputs": [],
   "source": [
    "sfund_nav_ret = sfund_nav.pct_change()"
   ]
  },
  {
   "cell_type": "code",
   "execution_count": 15,
   "metadata": {},
   "outputs": [],
   "source": [
    "sector_fund_ret = 0.15 * sfund_nav_ret[sfund[sfund['tag'] == '金融地产']['code']].mean(axis=1) + \\\n",
    "                  0.35 * sfund_nav_ret[sfund[sfund['tag'] == '可选消费']['code']].mean(axis=1) + \\\n",
    "                  0.15 * sfund_nav_ret[sfund[sfund['tag'] == '必选医药']['code']].mean(axis=1) + \\\n",
    "                  0.35 * sfund_nav_ret[sfund[sfund['tag'] == '信息科技']['code']].mean(axis=1)"
   ]
  },
  {
   "cell_type": "markdown",
   "metadata": {},
   "source": [
    "# 计算全市场基金收益率"
   ]
  },
  {
   "cell_type": "code",
   "execution_count": 16,
   "metadata": {},
   "outputs": [],
   "source": [
    "fund = pd.read_excel('../data/基金池.xlsx', sheet_name='全市场')"
   ]
  },
  {
   "cell_type": "code",
   "execution_count": 17,
   "metadata": {},
   "outputs": [],
   "source": [
    "data = w.wsd(fund['code'].tolist(), 'nav_adj', start_date, end_date)"
   ]
  },
  {
   "cell_type": "code",
   "execution_count": 18,
   "metadata": {},
   "outputs": [],
   "source": [
    "fund_nav = pd.DataFrame(np.array(data.Data).T, index=data.Times, columns=data.Codes)"
   ]
  },
  {
   "cell_type": "code",
   "execution_count": 19,
   "metadata": {},
   "outputs": [],
   "source": [
    "fund_ret = fund_nav.pct_change()"
   ]
  },
  {
   "cell_type": "code",
   "execution_count": 20,
   "metadata": {},
   "outputs": [],
   "source": [
    "fund_pf_ret = fund_ret.mean(axis=1)"
   ]
  },
  {
   "cell_type": "markdown",
   "metadata": {},
   "source": [
    "# 计算债券基金收益率"
   ]
  },
  {
   "cell_type": "code",
   "execution_count": 21,
   "metadata": {},
   "outputs": [],
   "source": [
    "bfund = pd.read_excel('../data/基金池.xlsx', sheet_name='债券')"
   ]
  },
  {
   "cell_type": "code",
   "execution_count": 22,
   "metadata": {},
   "outputs": [],
   "source": [
    "data = w.wsd(bfund['code'].tolist(), 'nav_adj', start_date, end_date)"
   ]
  },
  {
   "cell_type": "code",
   "execution_count": 23,
   "metadata": {},
   "outputs": [],
   "source": [
    "bfund_nav = pd.DataFrame(np.array(data.Data).T, index=data.Times, columns=data.Codes)"
   ]
  },
  {
   "cell_type": "code",
   "execution_count": 24,
   "metadata": {},
   "outputs": [],
   "source": [
    "bfund_ret = bfund_nav.pct_change()"
   ]
  },
  {
   "cell_type": "code",
   "execution_count": 25,
   "metadata": {},
   "outputs": [],
   "source": [
    "bfund_pf_ret = bfund_ret.mean(axis=1)"
   ]
  },
  {
   "cell_type": "markdown",
   "metadata": {},
   "source": [
    "# 计算组合收益率"
   ]
  },
  {
   "cell_type": "code",
   "execution_count": 26,
   "metadata": {},
   "outputs": [],
   "source": [
    "pf_ret_19 = weight_19['cn_bond_li'] * bfund_pf_ret + weight_19['cn_equity_li'] * fund_pf_ret * 0.5 + weight_28['cn_equity_li'] * sector_fund_ret * 0.5\n",
    "pf_ret_28 = weight_19['cn_bond_li'] * bfund_pf_ret + weight_28['cn_equity_li'] * fund_pf_ret * 0.5 + weight_28['cn_equity_li'] * sector_fund_ret * 0.5\n",
    "pf_ret_46 = weight_46['cn_bond_li'] * bfund_pf_ret + weight_46['cn_equity_li'] * fund_pf_ret * 0.5 + weight_46['cn_equity_li'] * sector_fund_ret * 0.5"
   ]
  },
  {
   "cell_type": "code",
   "execution_count": 27,
   "metadata": {},
   "outputs": [
    {
     "data": {
      "image/png": "[encoded data removed]",
      "text/plain": [
       "<Figure size 1152x648 with 1 Axes>"
      ]
     },
     "metadata": {
      "needs_background": "light"
     },
     "output_type": "display_data"
    }
   ],
   "source": [
    "fig, ax = plt.subplots(figsize=(16, 9))\n",
    "\n",
    "ax.plot((1 + pf_ret_19).cumprod(), label='10/90组合', color='blue')\n",
    "ax.plot((1 + pf_ret_28).cumprod(), label='20/80组合', color='red')\n",
    "ax.plot((1 + pf_ret_46).cumprod(), label='40/60组合', color='black')\n",
    "\n",
    "ax.legend(fontsize=15)\n",
    "ax.xaxis.set_tick_params(labelsize=15)\n",
    "ax.yaxis.set_tick_params(labelsize=15)\n",
    "vals = ax.get_yticks()\n",
    "ax.set_yticklabels(['{:2.2f}'.format(x) for x in vals])\n",
    "\n",
    "_ = ax.set_title('资产配置组合净值', fontsize=25, y=1.02)"
   ]
  },
  {
   "cell_type": "code",
   "execution_count": 28,
   "metadata": {},
   "outputs": [
    {
     "name": "stdout",
     "output_type": "stream",
     "text": [
      "0.08155471494243693\n",
      "0.03157339404867815\n",
      "-0.02618342240625446\n",
      "2.4353709716746956\n"
     ]
    }
   ],
   "source": [
    "metric(pf_ret_19)"
   ]
  },
  {
   "cell_type": "code",
   "execution_count": 29,
   "metadata": {},
   "outputs": [
    {
     "name": "stdout",
     "output_type": "stream",
     "text": [
      "0.09117611611252507\n",
      "0.04017896917393903\n",
      "-0.036971843533170894\n",
      "2.1658022933840324\n"
     ]
    }
   ],
   "source": [
    "metric(pf_ret_28)"
   ]
  },
  {
   "cell_type": "code",
   "execution_count": 30,
   "metadata": {},
   "outputs": [
    {
     "name": "stdout",
     "output_type": "stream",
     "text": [
      "0.12060646685510323\n",
      "0.0797684455207078\n",
      "-0.09417584619757308\n",
      "1.4905777665375786\n"
     ]
    }
   ],
   "source": [
    "metric(pf_ret_46)"
   ]
  },
  {
   "cell_type": "code",
   "execution_count": null,
   "metadata": {},
   "outputs": [],
   "source": []
  }
 ],
 "metadata": {
  "kernelspec": {
   "display_name": "Python 3",
   "language": "python",
   "name": "python3"
  },
  "language_info": {
   "codemirror_mode": {
    "name": "ipython",
    "version": 3
   },
   "file_extension": ".py",
   "mimetype": "text/x-python",
   "name": "python",
   "nbconvert_exporter": "python",
   "pygments_lexer": "ipython3",
   "version": "3.6.5"
  }
 },
 "nbformat": 4,
 "nbformat_minor": 4
}
