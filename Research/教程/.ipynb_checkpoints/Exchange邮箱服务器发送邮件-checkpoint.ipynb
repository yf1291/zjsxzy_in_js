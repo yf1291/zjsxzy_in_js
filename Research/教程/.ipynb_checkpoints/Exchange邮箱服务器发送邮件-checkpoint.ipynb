{
 "cells": [
  {
   "cell_type": "code",
   "execution_count": 1,
   "metadata": {},
   "outputs": [],
   "source": [
    "from exchangelib import Credentials, Account, DELEGATE, Configuration, GSSAPI, Message, HTMLBody, Mailbox, FileAttachment\n",
    "from exchangelib.protocol import BaseProtocol, NoVerifyHTTPAdapter\n",
    "import logging"
   ]
  },
  {
   "cell_type": "code",
   "execution_count": 2,
   "metadata": {},
   "outputs": [],
   "source": [
    "BaseProtocol.HTTP_ADAPTER_CLS = NoVerifyHTTPAdapter\n",
    "logging.captureWarnings(True)"
   ]
  },
  {
   "cell_type": "code",
   "execution_count": 28,
   "metadata": {},
   "outputs": [],
   "source": [
    "creds = Credentials('js.local\\zhangyang01', 'Zjsxzy@js0981')"
   ]
  },
  {
   "cell_type": "code",
   "execution_count": 29,
   "metadata": {},
   "outputs": [],
   "source": [
    "config = Configuration(server='JSJD-MAIL-SRV.js.local', credentials=creds)"
   ]
  },
  {
   "cell_type": "code",
   "execution_count": 30,
   "metadata": {},
   "outputs": [],
   "source": [
    "account = Account(\n",
    "    primary_smtp_address='zhangyang01@jsfund.cn', \n",
    "    autodiscover=False,\n",
    "    config=config,\n",
    "    access_type=DELEGATE\n",
    ")"
   ]
  },
  {
   "cell_type": "code",
   "execution_count": 31,
   "metadata": {},
   "outputs": [],
   "source": [
    "html = '<html><body>Hello happy <blink>OWA user!</blink></body></html>'\n",
    "message = Message(\n",
    "    account=account,\n",
    "    subject='测试主题',\n",
    "    body=HTMLBody(html),\n",
    "    to_recipients=(\n",
    "        'zhangyang01@jsfund.cn',\n",
    "    ),\n",
    ")"
   ]
  },
  {
   "cell_type": "code",
   "execution_count": 32,
   "metadata": {},
   "outputs": [],
   "source": [
    "logo_filename = './pe.png'\n",
    "with open(logo_filename, 'rb') as f:\n",
    "    logo = FileAttachment(\n",
    "        name=logo_filename,\n",
    "        content=f.read(),\n",
    "        is_inline=True,\n",
    "        content_id=logo_filename,\n",
    "        content_type='GIF/image',\n",
    "    )\n",
    "message.attach(logo)\n",
    "message.body = HTMLBody(\n",
    "    \"\"\"<html><body>\n",
    "    中国风险指标\n",
    "    <p></p>\n",
    "    <img src=\"cid:%s\" width=\"800\" height=\"600\">\n",
    "    </body></html>\"\"\" \n",
    "    % (logo_filename))"
   ]
  },
  {
   "cell_type": "code",
   "execution_count": 33,
   "metadata": {},
   "outputs": [],
   "source": [
    "message.send()"
   ]
  },
  {
   "cell_type": "code",
   "execution_count": null,
   "metadata": {},
   "outputs": [],
   "source": []
  }
 ],
 "metadata": {
  "kernelspec": {
   "display_name": "Python 3",
   "language": "python",
   "name": "python3"
  },
  "language_info": {
   "codemirror_mode": {
    "name": "ipython",
    "version": 3
   },
   "file_extension": ".py",
   "mimetype": "text/x-python",
   "name": "python",
   "nbconvert_exporter": "python",
   "pygments_lexer": "ipython3",
   "version": "3.6.5"
  }
 },
 "nbformat": 4,
 "nbformat_minor": 4
}
