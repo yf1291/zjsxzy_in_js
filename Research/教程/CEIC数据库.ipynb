{
 "cells": [
  {
   "cell_type": "code",
   "execution_count": 4,
   "metadata": {},
   "outputs": [],
   "source": [
    "from ceic_api_client.pyceic import Ceic"
   ]
  },
  {
   "cell_type": "code",
   "execution_count": 5,
   "metadata": {},
   "outputs": [
    {
     "name": "stderr",
     "output_type": "stream",
     "text": [
      "C:\\Users\\zhangyang01\\AppData\\Local\\Continuum\\anaconda2\\envs\\py36\\lib\\site-packages\\ceic_api_client\\facade\\pyceic_warnings.py:85: UserWarning: \u001b[93m\n",
      "\u001b[1mWARNING: \u001b[0m\u001b[93mThe PyCEIC package is designed as direct\n",
      "interaction interface to CEIC macroeconomic data and\n",
      "any data usage abuse attempt will be recorded.\u001b[0m\n",
      "  warnings.warn(message=self._WARNING_MESSAGE, category=UserWarning)\n"
     ]
    },
    {
     "data": {
      "text/plain": [
       "<ceic_api_client.pyceic.Ceic at 0x6f3c9b0>"
      ]
     },
     "execution_count": 5,
     "metadata": {},
     "output_type": "execute_result"
    }
   ],
   "source": [
    "Ceic.login(\"zhangyang01@jsfund.cn\", \"zjsxzy1513\")"
   ]
  },
  {
   "cell_type": "code",
   "execution_count": 11,
   "metadata": {},
   "outputs": [],
   "source": [
    "ceic_result = Ceic.series([\"7028101\"], lang = \"zh\")"
   ]
  },
  {
   "cell_type": "code",
   "execution_count": 13,
   "metadata": {},
   "outputs": [
    {
     "data": {
      "text/plain": [
       "ceic_api_client.facade.pyceic_facade_models.CeicGetSeriesResult"
      ]
     },
     "execution_count": 13,
     "metadata": {},
     "output_type": "execute_result"
    }
   ],
   "source": [
    "type(ceic_result)"
   ]
  },
  {
   "cell_type": "code",
   "execution_count": 19,
   "metadata": {},
   "outputs": [
    {
     "data": {
      "text/plain": [
       "list"
      ]
     },
     "execution_count": 19,
     "metadata": {},
     "output_type": "execute_result"
    }
   ],
   "source": [
    "type(ceic_result.data)"
   ]
  },
  {
   "cell_type": "code",
   "execution_count": null,
   "metadata": {},
   "outputs": [],
   "source": []
  }
 ],
 "metadata": {
  "kernelspec": {
   "display_name": "Python 3",
   "language": "python",
   "name": "python3"
  },
  "language_info": {
   "codemirror_mode": {
    "name": "ipython",
    "version": 3
   },
   "file_extension": ".py",
   "mimetype": "text/x-python",
   "name": "python",
   "nbconvert_exporter": "python",
   "pygments_lexer": "ipython3",
   "version": "3.6.5"
  }
 },
 "nbformat": 4,
 "nbformat_minor": 2
}
