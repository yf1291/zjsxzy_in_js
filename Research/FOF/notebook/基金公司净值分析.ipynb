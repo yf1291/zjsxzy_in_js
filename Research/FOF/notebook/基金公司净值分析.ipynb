{
 "cells": [
  {
   "cell_type": "code",
   "execution_count": 1,
   "metadata": {
    "collapsed": true
   },
   "outputs": [],
   "source": [
    "import pandas as pd\n",
    "import numpy as np\n",
    "import matplotlib.pyplot as plt\n",
    "from WindPy import w\n",
    "%matplotlib inline"
   ]
  },
  {
   "cell_type": "code",
   "execution_count": 2,
   "metadata": {},
   "outputs": [
    {
     "name": "stdout",
     "output_type": "stream",
     "text": [
      "Welcome to use Wind Quant API for Python (WindPy)!\n",
      "\n",
      "COPYRIGHT (C) 2017 WIND INFORMATION CO., LTD. ALL RIGHTS RESERVED.\n",
      "IN NO CIRCUMSTANCE SHALL WIND BE RESPONSIBLE FOR ANY DAMAGES OR LOSSES CAUSED BY USING WIND QUANT API FOR Python.\n"
     ]
    },
    {
     "data": {
      "text/plain": [
       ".ErrorCode=0\n",
       ".Data=[OK!]"
      ]
     },
     "execution_count": 2,
     "metadata": {},
     "output_type": "execute_result"
    }
   ],
   "source": [
    "w.start()"
   ]
  },
  {
   "cell_type": "code",
   "execution_count": 3,
   "metadata": {
    "collapsed": true
   },
   "outputs": [],
   "source": [
    "name = u'平安大华基金管理有限公司'"
   ]
  },
  {
   "cell_type": "code",
   "execution_count": 4,
   "metadata": {
    "collapsed": true
   },
   "outputs": [],
   "source": [
    "df = pd.read_excel(u'D:/Data/fund/comp/%s.xlsx'%(name))"
   ]
  },
  {
   "cell_type": "code",
   "execution_count": 5,
   "metadata": {},
   "outputs": [
    {
     "data": {
      "text/html": [
       "<div>\n",
       "<style scoped>\n",
       "    .dataframe tbody tr th:only-of-type {\n",
       "        vertical-align: middle;\n",
       "    }\n",
       "\n",
       "    .dataframe tbody tr th {\n",
       "        vertical-align: top;\n",
       "    }\n",
       "\n",
       "    .dataframe thead th {\n",
       "        text-align: right;\n",
       "    }\n",
       "</style>\n",
       "<table border=\"1\" class=\"dataframe\">\n",
       "  <thead>\n",
       "    <tr style=\"text-align: right;\">\n",
       "      <th></th>\n",
       "      <th>000739.OF</th>\n",
       "      <th>001297.OF</th>\n",
       "      <th>001515.OF</th>\n",
       "      <th>001609.OF</th>\n",
       "      <th>001610.OF</th>\n",
       "      <th>001664.OF</th>\n",
       "      <th>001665.OF</th>\n",
       "      <th>002282.OF</th>\n",
       "      <th>002304.OF</th>\n",
       "      <th>002450.OF</th>\n",
       "      <th>...</th>\n",
       "      <th>004825.OF</th>\n",
       "      <th>004826.OF</th>\n",
       "      <th>004827.OF</th>\n",
       "      <th>004828.OF</th>\n",
       "      <th>700001.OF</th>\n",
       "      <th>700002.OF</th>\n",
       "      <th>700003.OF</th>\n",
       "      <th>700004.OF</th>\n",
       "      <th>700005.OF</th>\n",
       "      <th>700006.OF</th>\n",
       "    </tr>\n",
       "  </thead>\n",
       "  <tbody>\n",
       "    <tr>\n",
       "      <th>2018-03-26</th>\n",
       "      <td>1.160</td>\n",
       "      <td>0.509</td>\n",
       "      <td>1.140</td>\n",
       "      <td>1.172</td>\n",
       "      <td>1.177</td>\n",
       "      <td>1.119</td>\n",
       "      <td>1.110</td>\n",
       "      <td>1.020</td>\n",
       "      <td>1.030</td>\n",
       "      <td>1.142</td>\n",
       "      <td>...</td>\n",
       "      <td>1.093813</td>\n",
       "      <td>1.048057</td>\n",
       "      <td>1.0013</td>\n",
       "      <td>0.9971</td>\n",
       "      <td>1.454337</td>\n",
       "      <td>1.815435</td>\n",
       "      <td>1.820521</td>\n",
       "      <td>1.274481</td>\n",
       "      <td>1.424</td>\n",
       "      <td>1.390</td>\n",
       "    </tr>\n",
       "    <tr>\n",
       "      <th>2018-03-27</th>\n",
       "      <td>1.167</td>\n",
       "      <td>0.526</td>\n",
       "      <td>1.147</td>\n",
       "      <td>1.178</td>\n",
       "      <td>1.182</td>\n",
       "      <td>1.126</td>\n",
       "      <td>1.117</td>\n",
       "      <td>1.020</td>\n",
       "      <td>1.030</td>\n",
       "      <td>1.155</td>\n",
       "      <td>...</td>\n",
       "      <td>1.093511</td>\n",
       "      <td>1.047314</td>\n",
       "      <td>1.0030</td>\n",
       "      <td>0.9988</td>\n",
       "      <td>1.477381</td>\n",
       "      <td>1.847776</td>\n",
       "      <td>1.877378</td>\n",
       "      <td>1.274481</td>\n",
       "      <td>1.424</td>\n",
       "      <td>1.390</td>\n",
       "    </tr>\n",
       "    <tr>\n",
       "      <th>2018-03-28</th>\n",
       "      <td>1.143</td>\n",
       "      <td>0.522</td>\n",
       "      <td>1.124</td>\n",
       "      <td>1.167</td>\n",
       "      <td>1.172</td>\n",
       "      <td>1.114</td>\n",
       "      <td>1.105</td>\n",
       "      <td>1.018</td>\n",
       "      <td>1.029</td>\n",
       "      <td>1.153</td>\n",
       "      <td>...</td>\n",
       "      <td>1.093310</td>\n",
       "      <td>1.046942</td>\n",
       "      <td>0.9983</td>\n",
       "      <td>0.9941</td>\n",
       "      <td>1.462018</td>\n",
       "      <td>1.825137</td>\n",
       "      <td>1.868631</td>\n",
       "      <td>1.271987</td>\n",
       "      <td>1.424</td>\n",
       "      <td>1.391</td>\n",
       "    </tr>\n",
       "    <tr>\n",
       "      <th>2018-03-29</th>\n",
       "      <td>1.150</td>\n",
       "      <td>0.520</td>\n",
       "      <td>1.130</td>\n",
       "      <td>1.179</td>\n",
       "      <td>1.184</td>\n",
       "      <td>1.123</td>\n",
       "      <td>1.114</td>\n",
       "      <td>1.020</td>\n",
       "      <td>1.031</td>\n",
       "      <td>1.153</td>\n",
       "      <td>...</td>\n",
       "      <td>1.093411</td>\n",
       "      <td>1.045828</td>\n",
       "      <td>1.0026</td>\n",
       "      <td>0.9983</td>\n",
       "      <td>1.460738</td>\n",
       "      <td>1.844542</td>\n",
       "      <td>1.859884</td>\n",
       "      <td>1.275728</td>\n",
       "      <td>1.424</td>\n",
       "      <td>1.391</td>\n",
       "    </tr>\n",
       "    <tr>\n",
       "      <th>2018-03-30</th>\n",
       "      <td>1.182</td>\n",
       "      <td>0.534</td>\n",
       "      <td>1.162</td>\n",
       "      <td>1.178</td>\n",
       "      <td>1.183</td>\n",
       "      <td>1.126</td>\n",
       "      <td>1.117</td>\n",
       "      <td>1.021</td>\n",
       "      <td>1.031</td>\n",
       "      <td>1.173</td>\n",
       "      <td>...</td>\n",
       "      <td>1.094215</td>\n",
       "      <td>1.046014</td>\n",
       "      <td>1.0034</td>\n",
       "      <td>0.9991</td>\n",
       "      <td>1.485062</td>\n",
       "      <td>1.865025</td>\n",
       "      <td>1.915647</td>\n",
       "      <td>1.275728</td>\n",
       "      <td>1.425</td>\n",
       "      <td>1.391</td>\n",
       "    </tr>\n",
       "  </tbody>\n",
       "</table>\n",
       "<p>5 rows × 44 columns</p>\n",
       "</div>"
      ],
      "text/plain": [
       "            000739.OF  001297.OF  001515.OF  001609.OF  001610.OF  001664.OF  \\\n",
       "2018-03-26      1.160      0.509      1.140      1.172      1.177      1.119   \n",
       "2018-03-27      1.167      0.526      1.147      1.178      1.182      1.126   \n",
       "2018-03-28      1.143      0.522      1.124      1.167      1.172      1.114   \n",
       "2018-03-29      1.150      0.520      1.130      1.179      1.184      1.123   \n",
       "2018-03-30      1.182      0.534      1.162      1.178      1.183      1.126   \n",
       "\n",
       "            001665.OF  002282.OF  002304.OF  002450.OF    ...      004825.OF  \\\n",
       "2018-03-26      1.110      1.020      1.030      1.142    ...       1.093813   \n",
       "2018-03-27      1.117      1.020      1.030      1.155    ...       1.093511   \n",
       "2018-03-28      1.105      1.018      1.029      1.153    ...       1.093310   \n",
       "2018-03-29      1.114      1.020      1.031      1.153    ...       1.093411   \n",
       "2018-03-30      1.117      1.021      1.031      1.173    ...       1.094215   \n",
       "\n",
       "            004826.OF  004827.OF  004828.OF  700001.OF  700002.OF  700003.OF  \\\n",
       "2018-03-26   1.048057     1.0013     0.9971   1.454337   1.815435   1.820521   \n",
       "2018-03-27   1.047314     1.0030     0.9988   1.477381   1.847776   1.877378   \n",
       "2018-03-28   1.046942     0.9983     0.9941   1.462018   1.825137   1.868631   \n",
       "2018-03-29   1.045828     1.0026     0.9983   1.460738   1.844542   1.859884   \n",
       "2018-03-30   1.046014     1.0034     0.9991   1.485062   1.865025   1.915647   \n",
       "\n",
       "            700004.OF  700005.OF  700006.OF  \n",
       "2018-03-26   1.274481      1.424      1.390  \n",
       "2018-03-27   1.274481      1.424      1.390  \n",
       "2018-03-28   1.271987      1.424      1.391  \n",
       "2018-03-29   1.275728      1.424      1.391  \n",
       "2018-03-30   1.275728      1.425      1.391  \n",
       "\n",
       "[5 rows x 44 columns]"
      ]
     },
     "execution_count": 5,
     "metadata": {},
     "output_type": "execute_result"
    }
   ],
   "source": [
    "df.tail()"
   ]
  },
  {
   "cell_type": "code",
   "execution_count": 6,
   "metadata": {
    "collapsed": true
   },
   "outputs": [],
   "source": [
    "pnl = pd.read_pickle(u'D:/Data/fund/comp_rpt/%s.pkl'%(name))"
   ]
  },
  {
   "cell_type": "code",
   "execution_count": 7,
   "metadata": {},
   "outputs": [
    {
     "data": {
      "text/plain": [
       "<class 'pandas.core.panel.Panel'>\n",
       "Dimensions: 44 (items) x 26 (major_axis) x 5 (minor_axis)\n",
       "Items axis: 000739.OF to 700006.OF\n",
       "Major_axis axis: 2011-09-30 00:00:00 to 2017-12-31 00:00:00\n",
       "Minor_axis axis: prt_netasset to prt_stocktoasset"
      ]
     },
     "execution_count": 7,
     "metadata": {},
     "output_type": "execute_result"
    }
   ],
   "source": [
    "pnl"
   ]
  },
  {
   "cell_type": "code",
   "execution_count": 8,
   "metadata": {},
   "outputs": [
    {
     "data": {
      "text/plain": [
       "Index([u'prt_netasset', u'prt_stocktonav', u'prt_bondtonav', u'prt_cashtonav',\n",
       "       u'prt_stocktoasset'],\n",
       "      dtype='object')"
      ]
     },
     "execution_count": 8,
     "metadata": {},
     "output_type": "execute_result"
    }
   ],
   "source": [
    "pnl.minor_axis"
   ]
  },
  {
   "cell_type": "code",
   "execution_count": 10,
   "metadata": {
    "collapsed": true
   },
   "outputs": [],
   "source": [
    "df = df.tail()"
   ]
  },
  {
   "cell_type": "code",
   "execution_count": 13,
   "metadata": {},
   "outputs": [],
   "source": [
    "s = df.pct_change(4).iloc[-1]"
   ]
  },
  {
   "cell_type": "code",
   "execution_count": 15,
   "metadata": {},
   "outputs": [
    {
     "data": {
      "text/plain": [
       "700003.OF    0.052252\n",
       "001297.OF    0.049116\n",
       "700002.OF    0.027316\n",
       "002450.OF    0.027145\n",
       "002451.OF    0.026738\n",
       "002598.OF    0.022959\n",
       "002599.OF    0.022930\n",
       "700001.OF    0.021127\n",
       "001515.OF    0.019298\n",
       "000739.OF    0.018966\n",
       "003559.OF    0.017358\n",
       "003560.OF    0.017274\n",
       "003702.OF    0.007842\n",
       "001665.OF    0.006306\n",
       "001664.OF    0.006256\n",
       "004390.OF    0.005531\n",
       "004391.OF    0.005460\n",
       "001609.OF    0.005119\n",
       "001610.OF    0.005098\n",
       "002795.OF    0.002973\n",
       "003024.OF    0.002436\n",
       "004827.OF    0.002097\n",
       "004828.OF    0.002006\n",
       "002988.OF    0.001614\n",
       "003286.OF    0.001548\n",
       "003568.OF    0.001358\n",
       "002282.OF    0.000980\n",
       "700004.OF    0.000978\n",
       "002304.OF    0.000971\n",
       "003626.OF    0.000772\n",
       "700006.OF    0.000719\n",
       "700005.OF    0.000702\n",
       "003488.OF    0.000699\n",
       "004177.OF    0.000604\n",
       "004825.OF    0.000368\n",
       "003486.OF    0.000306\n",
       "003487.OF    0.000290\n",
       "003716.OF    0.000288\n",
       "002537.OF    0.000000\n",
       "003959.OF    0.000000\n",
       "003960.OF    0.000000\n",
       "004826.OF   -0.001949\n",
       "004403.OF   -0.004001\n",
       "004404.OF   -0.004050\n",
       "Name: 2018-03-30 00:00:00, dtype: float64"
      ]
     },
     "execution_count": 15,
     "metadata": {},
     "output_type": "execute_result"
    }
   ],
   "source": [
    "s.sort_values(ascending=False)"
   ]
  },
  {
   "cell_type": "code",
   "execution_count": null,
   "metadata": {},
   "outputs": [],
   "source": []
  }
 ],
 "metadata": {
  "kernelspec": {
   "display_name": "Python 2",
   "language": "python",
   "name": "python2"
  },
  "language_info": {
   "codemirror_mode": {
    "name": "ipython",
    "version": 2
   },
   "file_extension": ".py",
   "mimetype": "text/x-python",
   "name": "python",
   "nbconvert_exporter": "python",
   "pygments_lexer": "ipython2",
   "version": "2.7.14"
  }
 },
 "nbformat": 4,
 "nbformat_minor": 2
}
