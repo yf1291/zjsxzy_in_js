{
 "cells": [
  {
   "cell_type": "code",
   "execution_count": 117,
   "metadata": {},
   "outputs": [],
   "source": [
    "import pandas as pd\n",
    "import empyrical"
   ]
  },
  {
   "cell_type": "markdown",
   "metadata": {},
   "source": [
    "# 基金列表"
   ]
  },
  {
   "cell_type": "code",
   "execution_count": 3,
   "metadata": {},
   "outputs": [],
   "source": [
    "DATA_DIR = 'D:/Data/fund'"
   ]
  },
  {
   "cell_type": "code",
   "execution_count": 4,
   "metadata": {},
   "outputs": [],
   "source": [
    "stock_funds_file = u'%s/股票型基金列表.xlsx'%(DATA_DIR)\n",
    "mixed_funds_file = u'%s/混合型基金列表.xlsx'%(DATA_DIR)\n",
    "bond_funds_files = u'%s/债券型基金列表.xlsx'%(DATA_DIR)"
   ]
  },
  {
   "cell_type": "markdown",
   "metadata": {},
   "source": [
    "# 得到所有基金数据"
   ]
  },
  {
   "cell_type": "code",
   "execution_count": 5,
   "metadata": {},
   "outputs": [],
   "source": [
    "stock_df = pd.read_excel(stock_funds_file)\n",
    "mixed_df = pd.read_excel(mixed_funds_file)\n",
    "bond_df = pd.read_excel(bond_funds_files)\n",
    "all_df = stock_df.append(mixed_df).append(bond_df)"
   ]
  },
  {
   "cell_type": "code",
   "execution_count": 6,
   "metadata": {},
   "outputs": [
    {
     "data": {
      "text/plain": [
       "(6087, 8)"
      ]
     },
     "execution_count": 6,
     "metadata": {},
     "output_type": "execute_result"
    }
   ],
   "source": [
    "all_df.shape"
   ]
  },
  {
   "cell_type": "code",
   "execution_count": 7,
   "metadata": {},
   "outputs": [],
   "source": [
    "comps = all_df['mgrcomp'].unique()"
   ]
  },
  {
   "cell_type": "code",
   "execution_count": 80,
   "metadata": {},
   "outputs": [],
   "source": [
    "c = u'前海开源基金管理有限公司'"
   ]
  },
  {
   "cell_type": "markdown",
   "metadata": {},
   "source": [
    "# 提取一家基金公司的所有基金净值"
   ]
  },
  {
   "cell_type": "code",
   "execution_count": 81,
   "metadata": {},
   "outputs": [],
   "source": [
    "df = all_df[all_df['mgrcomp'] == c]"
   ]
  },
  {
   "cell_type": "code",
   "execution_count": 82,
   "metadata": {},
   "outputs": [
    {
     "data": {
      "text/html": [
       "<div>\n",
       "<style scoped>\n",
       "    .dataframe tbody tr th:only-of-type {\n",
       "        vertical-align: middle;\n",
       "    }\n",
       "\n",
       "    .dataframe tbody tr th {\n",
       "        vertical-align: top;\n",
       "    }\n",
       "\n",
       "    .dataframe thead th {\n",
       "        text-align: right;\n",
       "    }\n",
       "</style>\n",
       "<table border=\"1\" class=\"dataframe\">\n",
       "  <thead>\n",
       "    <tr style=\"text-align: right;\">\n",
       "      <th></th>\n",
       "      <th>sec_name</th>\n",
       "      <th>wind_code</th>\n",
       "      <th>investtype</th>\n",
       "      <th>issue_date</th>\n",
       "      <th>netasset</th>\n",
       "      <th>mgrcomp</th>\n",
       "      <th>fundmanager</th>\n",
       "      <th>fund_status</th>\n",
       "    </tr>\n",
       "  </thead>\n",
       "  <tbody>\n",
       "    <tr>\n",
       "      <th>28</th>\n",
       "      <td>前海开源中证军工A</td>\n",
       "      <td>000596.OF</td>\n",
       "      <td>被动指数型基金</td>\n",
       "      <td>2014-04-08</td>\n",
       "      <td>5.341176e+08</td>\n",
       "      <td>前海开源基金管理有限公司</td>\n",
       "      <td>黄玥,陶曙斌</td>\n",
       "      <td>开放申购|开放赎回</td>\n",
       "    </tr>\n",
       "    <tr>\n",
       "      <th>31</th>\n",
       "      <td>前海开源沪深300</td>\n",
       "      <td>000656.OF</td>\n",
       "      <td>被动指数型基金</td>\n",
       "      <td>2014-06-03</td>\n",
       "      <td>1.330600e+07</td>\n",
       "      <td>前海开源基金管理有限公司</td>\n",
       "      <td>付海宁</td>\n",
       "      <td>开放申购|开放赎回</td>\n",
       "    </tr>\n",
       "    <tr>\n",
       "      <th>56</th>\n",
       "      <td>前海开源股息率100强</td>\n",
       "      <td>000916.OF</td>\n",
       "      <td>普通股票型基金</td>\n",
       "      <td>2014-12-18</td>\n",
       "      <td>6.535418e+08</td>\n",
       "      <td>前海开源基金管理有限公司</td>\n",
       "      <td>邱杰</td>\n",
       "      <td>开放申购|开放赎回</td>\n",
       "    </tr>\n",
       "    <tr>\n",
       "      <th>78</th>\n",
       "      <td>前海开源中证大农业增强</td>\n",
       "      <td>001027.OF</td>\n",
       "      <td>增强指数型基金</td>\n",
       "      <td>2015-01-28</td>\n",
       "      <td>6.385476e+07</td>\n",
       "      <td>前海开源基金管理有限公司</td>\n",
       "      <td>付海宁</td>\n",
       "      <td>开放申购|开放赎回</td>\n",
       "    </tr>\n",
       "    <tr>\n",
       "      <th>103</th>\n",
       "      <td>前海开源优势蓝筹A</td>\n",
       "      <td>001162.OF</td>\n",
       "      <td>普通股票型基金</td>\n",
       "      <td>2015-04-14</td>\n",
       "      <td>2.817643e+07</td>\n",
       "      <td>前海开源基金管理有限公司</td>\n",
       "      <td>吴国清</td>\n",
       "      <td>开放申购|开放赎回</td>\n",
       "    </tr>\n",
       "  </tbody>\n",
       "</table>\n",
       "</div>"
      ],
      "text/plain": [
       "        sec_name  wind_code investtype issue_date      netasset       mgrcomp  \\\n",
       "28     前海开源中证军工A  000596.OF    被动指数型基金 2014-04-08  5.341176e+08  前海开源基金管理有限公司   \n",
       "31     前海开源沪深300  000656.OF    被动指数型基金 2014-06-03  1.330600e+07  前海开源基金管理有限公司   \n",
       "56   前海开源股息率100强  000916.OF    普通股票型基金 2014-12-18  6.535418e+08  前海开源基金管理有限公司   \n",
       "78   前海开源中证大农业增强  001027.OF    增强指数型基金 2015-01-28  6.385476e+07  前海开源基金管理有限公司   \n",
       "103    前海开源优势蓝筹A  001162.OF    普通股票型基金 2015-04-14  2.817643e+07  前海开源基金管理有限公司   \n",
       "\n",
       "    fundmanager fund_status  \n",
       "28       黄玥,陶曙斌   开放申购|开放赎回  \n",
       "31          付海宁   开放申购|开放赎回  \n",
       "56           邱杰   开放申购|开放赎回  \n",
       "78          付海宁   开放申购|开放赎回  \n",
       "103         吴国清   开放申购|开放赎回  "
      ]
     },
     "execution_count": 82,
     "metadata": {},
     "output_type": "execute_result"
    }
   ],
   "source": [
    "df.head()"
   ]
  },
  {
   "cell_type": "code",
   "execution_count": 83,
   "metadata": {},
   "outputs": [],
   "source": [
    "df = df[df['investtype'].str.contains(u'股')]"
   ]
  },
  {
   "cell_type": "code",
   "execution_count": 84,
   "metadata": {},
   "outputs": [
    {
     "data": {
      "text/html": [
       "<div>\n",
       "<style scoped>\n",
       "    .dataframe tbody tr th:only-of-type {\n",
       "        vertical-align: middle;\n",
       "    }\n",
       "\n",
       "    .dataframe tbody tr th {\n",
       "        vertical-align: top;\n",
       "    }\n",
       "\n",
       "    .dataframe thead th {\n",
       "        text-align: right;\n",
       "    }\n",
       "</style>\n",
       "<table border=\"1\" class=\"dataframe\">\n",
       "  <thead>\n",
       "    <tr style=\"text-align: right;\">\n",
       "      <th></th>\n",
       "      <th>sec_name</th>\n",
       "      <th>wind_code</th>\n",
       "      <th>investtype</th>\n",
       "      <th>issue_date</th>\n",
       "      <th>netasset</th>\n",
       "      <th>mgrcomp</th>\n",
       "      <th>fundmanager</th>\n",
       "      <th>fund_status</th>\n",
       "    </tr>\n",
       "  </thead>\n",
       "  <tbody>\n",
       "    <tr>\n",
       "      <th>56</th>\n",
       "      <td>前海开源股息率100强</td>\n",
       "      <td>000916.OF</td>\n",
       "      <td>普通股票型基金</td>\n",
       "      <td>2014-12-18</td>\n",
       "      <td>6.535418e+08</td>\n",
       "      <td>前海开源基金管理有限公司</td>\n",
       "      <td>邱杰</td>\n",
       "      <td>开放申购|开放赎回</td>\n",
       "    </tr>\n",
       "    <tr>\n",
       "      <th>103</th>\n",
       "      <td>前海开源优势蓝筹A</td>\n",
       "      <td>001162.OF</td>\n",
       "      <td>普通股票型基金</td>\n",
       "      <td>2015-04-14</td>\n",
       "      <td>2.817643e+07</td>\n",
       "      <td>前海开源基金管理有限公司</td>\n",
       "      <td>吴国清</td>\n",
       "      <td>开放申购|开放赎回</td>\n",
       "    </tr>\n",
       "    <tr>\n",
       "      <th>108</th>\n",
       "      <td>前海开源再融资主题精选</td>\n",
       "      <td>001178.OF</td>\n",
       "      <td>普通股票型基金</td>\n",
       "      <td>2015-04-23</td>\n",
       "      <td>5.507317e+08</td>\n",
       "      <td>前海开源基金管理有限公司</td>\n",
       "      <td>邱杰</td>\n",
       "      <td>开放申购|开放赎回</td>\n",
       "    </tr>\n",
       "    <tr>\n",
       "      <th>182</th>\n",
       "      <td>前海开源优势蓝筹C</td>\n",
       "      <td>001638.OF</td>\n",
       "      <td>普通股票型基金</td>\n",
       "      <td>1899-12-30 00:00:00</td>\n",
       "      <td>5.527824e+06</td>\n",
       "      <td>前海开源基金管理有限公司</td>\n",
       "      <td>吴国清</td>\n",
       "      <td>开放申购|开放赎回</td>\n",
       "    </tr>\n",
       "    <tr>\n",
       "      <th>212</th>\n",
       "      <td>前海开源强势共识100强</td>\n",
       "      <td>001849.OF</td>\n",
       "      <td>普通股票型基金</td>\n",
       "      <td>2015-10-14</td>\n",
       "      <td>1.782840e+07</td>\n",
       "      <td>前海开源基金管理有限公司</td>\n",
       "      <td>谢屹</td>\n",
       "      <td>开放申购|开放赎回</td>\n",
       "    </tr>\n",
       "    <tr>\n",
       "      <th>291</th>\n",
       "      <td>前海开源外向企业</td>\n",
       "      <td>003492.OF</td>\n",
       "      <td>普通股票型基金</td>\n",
       "      <td>2016-10-17</td>\n",
       "      <td>4.892743e+07</td>\n",
       "      <td>前海开源基金管理有限公司</td>\n",
       "      <td>苏天杉</td>\n",
       "      <td>开放申购|开放赎回</td>\n",
       "    </tr>\n",
       "    <tr>\n",
       "      <th>322</th>\n",
       "      <td>前海开源股息率50强</td>\n",
       "      <td>004098.OF</td>\n",
       "      <td>普通股票型基金</td>\n",
       "      <td>2017-04-05</td>\n",
       "      <td>1.008204e+08</td>\n",
       "      <td>前海开源基金管理有限公司</td>\n",
       "      <td>邱杰,史程,苏天杉</td>\n",
       "      <td>开放申购|开放赎回</td>\n",
       "    </tr>\n",
       "    <tr>\n",
       "      <th>447</th>\n",
       "      <td>前海开源价值策略</td>\n",
       "      <td>005328.OF</td>\n",
       "      <td>普通股票型基金</td>\n",
       "      <td>2017-11-21</td>\n",
       "      <td>1.766602e+08</td>\n",
       "      <td>前海开源基金管理有限公司</td>\n",
       "      <td>赵雪芹</td>\n",
       "      <td>开放申购|开放赎回</td>\n",
       "    </tr>\n",
       "    <tr>\n",
       "      <th>491</th>\n",
       "      <td>前海开源公用事业</td>\n",
       "      <td>005669.OF</td>\n",
       "      <td>普通股票型基金</td>\n",
       "      <td>2018-02-26</td>\n",
       "      <td>8.856864e+07</td>\n",
       "      <td>前海开源基金管理有限公司</td>\n",
       "      <td>史程</td>\n",
       "      <td>开放申购|开放赎回</td>\n",
       "    </tr>\n",
       "  </tbody>\n",
       "</table>\n",
       "</div>"
      ],
      "text/plain": [
       "         sec_name  wind_code investtype          issue_date      netasset  \\\n",
       "56    前海开源股息率100强  000916.OF    普通股票型基金          2014-12-18  6.535418e+08   \n",
       "103     前海开源优势蓝筹A  001162.OF    普通股票型基金          2015-04-14  2.817643e+07   \n",
       "108   前海开源再融资主题精选  001178.OF    普通股票型基金          2015-04-23  5.507317e+08   \n",
       "182     前海开源优势蓝筹C  001638.OF    普通股票型基金 1899-12-30 00:00:00  5.527824e+06   \n",
       "212  前海开源强势共识100强  001849.OF    普通股票型基金          2015-10-14  1.782840e+07   \n",
       "291      前海开源外向企业  003492.OF    普通股票型基金          2016-10-17  4.892743e+07   \n",
       "322    前海开源股息率50强  004098.OF    普通股票型基金          2017-04-05  1.008204e+08   \n",
       "447      前海开源价值策略  005328.OF    普通股票型基金          2017-11-21  1.766602e+08   \n",
       "491      前海开源公用事业  005669.OF    普通股票型基金          2018-02-26  8.856864e+07   \n",
       "\n",
       "          mgrcomp fundmanager fund_status  \n",
       "56   前海开源基金管理有限公司          邱杰   开放申购|开放赎回  \n",
       "103  前海开源基金管理有限公司         吴国清   开放申购|开放赎回  \n",
       "108  前海开源基金管理有限公司          邱杰   开放申购|开放赎回  \n",
       "182  前海开源基金管理有限公司         吴国清   开放申购|开放赎回  \n",
       "212  前海开源基金管理有限公司          谢屹   开放申购|开放赎回  \n",
       "291  前海开源基金管理有限公司         苏天杉   开放申购|开放赎回  \n",
       "322  前海开源基金管理有限公司   邱杰,史程,苏天杉   开放申购|开放赎回  \n",
       "447  前海开源基金管理有限公司         赵雪芹   开放申购|开放赎回  \n",
       "491  前海开源基金管理有限公司          史程   开放申购|开放赎回  "
      ]
     },
     "execution_count": 84,
     "metadata": {},
     "output_type": "execute_result"
    }
   ],
   "source": [
    "df"
   ]
  },
  {
   "cell_type": "code",
   "execution_count": 85,
   "metadata": {},
   "outputs": [],
   "source": [
    "fname = 'D:/Data/fund/comp/%s.xlsx'%(c)"
   ]
  },
  {
   "cell_type": "code",
   "execution_count": 86,
   "metadata": {},
   "outputs": [],
   "source": [
    "rdf = pd.read_excel(fname, encoding='utf-8')"
   ]
  },
  {
   "cell_type": "code",
   "execution_count": 87,
   "metadata": {},
   "outputs": [],
   "source": [
    "rdf = rdf[df['wind_code']]"
   ]
  },
  {
   "cell_type": "code",
   "execution_count": 88,
   "metadata": {},
   "outputs": [],
   "source": [
    "rdf = rdf.pct_change()"
   ]
  },
  {
   "cell_type": "code",
   "execution_count": 89,
   "metadata": {},
   "outputs": [
    {
     "data": {
      "text/html": [
       "<div>\n",
       "<style scoped>\n",
       "    .dataframe tbody tr th:only-of-type {\n",
       "        vertical-align: middle;\n",
       "    }\n",
       "\n",
       "    .dataframe tbody tr th {\n",
       "        vertical-align: top;\n",
       "    }\n",
       "\n",
       "    .dataframe thead th {\n",
       "        text-align: right;\n",
       "    }\n",
       "</style>\n",
       "<table border=\"1\" class=\"dataframe\">\n",
       "  <thead>\n",
       "    <tr style=\"text-align: right;\">\n",
       "      <th></th>\n",
       "      <th>000916.OF</th>\n",
       "      <th>001162.OF</th>\n",
       "      <th>001178.OF</th>\n",
       "      <th>001638.OF</th>\n",
       "      <th>001849.OF</th>\n",
       "      <th>003492.OF</th>\n",
       "      <th>004098.OF</th>\n",
       "      <th>005328.OF</th>\n",
       "      <th>005669.OF</th>\n",
       "    </tr>\n",
       "  </thead>\n",
       "  <tbody>\n",
       "    <tr>\n",
       "      <th>2019-04-15</th>\n",
       "      <td>-0.006547</td>\n",
       "      <td>-0.007976</td>\n",
       "      <td>-0.016713</td>\n",
       "      <td>-0.009074</td>\n",
       "      <td>-0.007477</td>\n",
       "      <td>-0.020965</td>\n",
       "      <td>-0.001226</td>\n",
       "      <td>-0.010225</td>\n",
       "      <td>-0.006976</td>\n",
       "    </tr>\n",
       "    <tr>\n",
       "      <th>2019-04-16</th>\n",
       "      <td>0.015651</td>\n",
       "      <td>0.015075</td>\n",
       "      <td>0.012748</td>\n",
       "      <td>0.015568</td>\n",
       "      <td>0.019774</td>\n",
       "      <td>0.021229</td>\n",
       "      <td>0.005624</td>\n",
       "      <td>0.017447</td>\n",
       "      <td>0.006431</td>\n",
       "    </tr>\n",
       "    <tr>\n",
       "      <th>2019-04-17</th>\n",
       "      <td>0.000811</td>\n",
       "      <td>-0.003960</td>\n",
       "      <td>0.007692</td>\n",
       "      <td>-0.003607</td>\n",
       "      <td>0.005540</td>\n",
       "      <td>0.009490</td>\n",
       "      <td>0.002339</td>\n",
       "      <td>0.000000</td>\n",
       "      <td>-0.002064</td>\n",
       "    </tr>\n",
       "    <tr>\n",
       "      <th>2019-04-18</th>\n",
       "      <td>-0.006483</td>\n",
       "      <td>-0.009940</td>\n",
       "      <td>-0.002082</td>\n",
       "      <td>-0.009955</td>\n",
       "      <td>-0.003673</td>\n",
       "      <td>-0.006536</td>\n",
       "      <td>-0.004667</td>\n",
       "      <td>-0.005077</td>\n",
       "      <td>-0.001182</td>\n",
       "    </tr>\n",
       "    <tr>\n",
       "      <th>2019-04-19</th>\n",
       "      <td>0.008157</td>\n",
       "      <td>0.006024</td>\n",
       "      <td>0.011127</td>\n",
       "      <td>0.006399</td>\n",
       "      <td>0.008295</td>\n",
       "      <td>0.010725</td>\n",
       "      <td>0.001733</td>\n",
       "      <td>0.007144</td>\n",
       "      <td>0.003255</td>\n",
       "    </tr>\n",
       "  </tbody>\n",
       "</table>\n",
       "</div>"
      ],
      "text/plain": [
       "            000916.OF  001162.OF  001178.OF  001638.OF  001849.OF  003492.OF  \\\n",
       "2019-04-15  -0.006547  -0.007976  -0.016713  -0.009074  -0.007477  -0.020965   \n",
       "2019-04-16   0.015651   0.015075   0.012748   0.015568   0.019774   0.021229   \n",
       "2019-04-17   0.000811  -0.003960   0.007692  -0.003607   0.005540   0.009490   \n",
       "2019-04-18  -0.006483  -0.009940  -0.002082  -0.009955  -0.003673  -0.006536   \n",
       "2019-04-19   0.008157   0.006024   0.011127   0.006399   0.008295   0.010725   \n",
       "\n",
       "            004098.OF  005328.OF  005669.OF  \n",
       "2019-04-15  -0.001226  -0.010225  -0.006976  \n",
       "2019-04-16   0.005624   0.017447   0.006431  \n",
       "2019-04-17   0.002339   0.000000  -0.002064  \n",
       "2019-04-18  -0.004667  -0.005077  -0.001182  \n",
       "2019-04-19   0.001733   0.007144   0.003255  "
      ]
     },
     "execution_count": 89,
     "metadata": {},
     "output_type": "execute_result"
    }
   ],
   "source": [
    "rdf.tail()"
   ]
  },
  {
   "cell_type": "markdown",
   "metadata": {},
   "source": [
    "# 提取股票持仓比例，并按规模加权"
   ]
  },
  {
   "cell_type": "code",
   "execution_count": 122,
   "metadata": {},
   "outputs": [],
   "source": [
    "fname = 'D:/Data/fund/comp_rpt/%s.pkl'%(c)"
   ]
  },
  {
   "cell_type": "code",
   "execution_count": 123,
   "metadata": {},
   "outputs": [],
   "source": [
    "pnl = pd.read_pickle(fname)"
   ]
  },
  {
   "cell_type": "code",
   "execution_count": 124,
   "metadata": {},
   "outputs": [],
   "source": [
    "st2nav = pnl.minor_xs('prt_stocktonav')"
   ]
  },
  {
   "cell_type": "code",
   "execution_count": 125,
   "metadata": {},
   "outputs": [],
   "source": [
    "weight_df = pnl.minor_xs('prt_netasset')"
   ]
  },
  {
   "cell_type": "code",
   "execution_count": 127,
   "metadata": {},
   "outputs": [],
   "source": [
    "weight_df = weight_df[rdf.columns]"
   ]
  },
  {
   "cell_type": "code",
   "execution_count": 128,
   "metadata": {},
   "outputs": [],
   "source": [
    "weight_df = weight_df[st2nav > 60] # 股票仓位大于60%"
   ]
  },
  {
   "cell_type": "code",
   "execution_count": 129,
   "metadata": {},
   "outputs": [],
   "source": [
    "weight_df = weight_df.fillna(0)"
   ]
  },
  {
   "cell_type": "code",
   "execution_count": 130,
   "metadata": {},
   "outputs": [],
   "source": [
    "weight_zero_df = pd.DataFrame(index=rdf.index, columns=rdf.columns)"
   ]
  },
  {
   "cell_type": "code",
   "execution_count": 131,
   "metadata": {},
   "outputs": [],
   "source": [
    "weight_df = weight_zero_df.append(weight_df).sort_index()"
   ]
  },
  {
   "cell_type": "code",
   "execution_count": 132,
   "metadata": {},
   "outputs": [],
   "source": [
    "weight_df = weight_df.fillna(method='ffill').loc[rdf.index]"
   ]
  },
  {
   "cell_type": "code",
   "execution_count": 133,
   "metadata": {},
   "outputs": [],
   "source": [
    "weight_df = weight_df[~weight_df.index.duplicated(keep='first')]"
   ]
  },
  {
   "cell_type": "code",
   "execution_count": 134,
   "metadata": {},
   "outputs": [],
   "source": [
    "sum_weight = weight_df.sum(axis=1)"
   ]
  },
  {
   "cell_type": "code",
   "execution_count": 135,
   "metadata": {},
   "outputs": [],
   "source": [
    "select_index = sum_weight[sum_weight > 0].index"
   ]
  },
  {
   "cell_type": "code",
   "execution_count": 136,
   "metadata": {},
   "outputs": [],
   "source": [
    "weight_df = weight_df.loc[select_index]"
   ]
  },
  {
   "cell_type": "code",
   "execution_count": 138,
   "metadata": {},
   "outputs": [],
   "source": [
    "weight_df = weight_df.div(weight_df.sum(axis=1), axis='index') "
   ]
  },
  {
   "cell_type": "code",
   "execution_count": 139,
   "metadata": {},
   "outputs": [],
   "source": [
    "ret = (weight_df * rdf).sum(axis=1)"
   ]
  },
  {
   "cell_type": "code",
   "execution_count": 140,
   "metadata": {},
   "outputs": [],
   "source": [
    "ret = ret[ret != 0]"
   ]
  },
  {
   "cell_type": "code",
   "execution_count": 142,
   "metadata": {},
   "outputs": [
    {
     "data": {
      "text/plain": [
       "0.3534429319992203"
      ]
     },
     "execution_count": 142,
     "metadata": {},
     "output_type": "execute_result"
    }
   ],
   "source": [
    "empyrical.cum_returns_final(ret[ret.index >= '2019-01-01'])"
   ]
  },
  {
   "cell_type": "code",
   "execution_count": null,
   "metadata": {},
   "outputs": [],
   "source": []
  }
 ],
 "metadata": {
  "kernelspec": {
   "display_name": "Python 2",
   "language": "python",
   "name": "python2"
  },
  "language_info": {
   "codemirror_mode": {
    "name": "ipython",
    "version": 2
   },
   "file_extension": ".py",
   "mimetype": "text/x-python",
   "name": "python",
   "nbconvert_exporter": "python",
   "pygments_lexer": "ipython2",
   "version": "2.7.14"
  }
 },
 "nbformat": 4,
 "nbformat_minor": 2
}
