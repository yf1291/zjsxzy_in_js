{
 "cells": [
  {
   "cell_type": "code",
   "execution_count": 5,
   "metadata": {
    "collapsed": true
   },
   "outputs": [],
   "source": [
    "from WindPy import w\n",
    "import pandas as pd\n",
    "import datetime"
   ]
  },
  {
   "cell_type": "code",
   "execution_count": 2,
   "metadata": {
    "collapsed": false
   },
   "outputs": [
    {
     "name": "stdout",
     "output_type": "stream",
     "text": [
      "Welcome to use Wind Quant API for Python (WindPy)!\n",
      "You can use w.menu to help yourself to create commands(WSD,WSS,WST,WSI,WSQ,...)!\n",
      "\n",
      "COPYRIGHT (C) 2016 WIND HONGHUI INFORMATION & TECHKNOLEWDGE CO., LTD. ALL RIGHTS RESERVED.\n",
      "IN NO CIRCUMSTANCE SHALL WIND BE RESPONSIBLE FOR ANY DAMAGES OR LOSSES CAUSED BY USING WIND QUANT API FOR Python.\n"
     ]
    },
    {
     "data": {
      "text/plain": [
       ".ErrorCode=0\n",
       ".Data=[OK!]"
      ]
     },
     "execution_count": 2,
     "metadata": {},
     "output_type": "execute_result"
    }
   ],
   "source": [
    "w.start()"
   ]
  },
  {
   "cell_type": "code",
   "execution_count": 6,
   "metadata": {
    "collapsed": false
   },
   "outputs": [],
   "source": [
    "today = datetime.datetime.today().strftime('%Y-%m-%d')"
   ]
  },
  {
   "cell_type": "code",
   "execution_count": 7,
   "metadata": {
    "collapsed": true
   },
   "outputs": [],
   "source": [
    "data = w.wset(\"sectorconstituent\",\"date=%s;windcode=885012.WI\"%(today))"
   ]
  },
  {
   "cell_type": "code",
   "execution_count": 8,
   "metadata": {
    "collapsed": false
   },
   "outputs": [
    {
     "data": {
      "text/plain": [
       ".ErrorCode=0\n",
       ".Codes=[1,2,3,4,5,6,7,8,9,10,...]\n",
       ".Fields=[date,wind_code,sec_name]\n",
       ".Times=[20170906]\n",
       ".Data=[[2017-09-06 00:00:00.005000,2017-09-06 00:00:00.005000,2017-09-06 00:00:00.005000,2017-09-06 00:00:00.005000,2017-09-06 00:00:00.005000,2017-09-06 00:00:00.005000,2017-09-06 00:00:00.005000,2017-09-06 00:00:00.005000,2017-09-06 00:00:00.005000,2017-09-06 00:00:00.005000,...],[000008.OF,000042.OF,000051.OF,000059.OF,000082.OF,000176.OF,000248.OF,000309.OF,000311.OF,000312.OF,...],[u'\\u5609\\u5b9e\\u4e2d\\u8bc1500ETF\\u8054\\u63a5',u'\\u8d22\\u901a\\u4e2d\\u8bc1100\\u589e\\u5f3aA',u'\\u534e\\u590f\\u6caa\\u6df1300ETF\\u8054\\u63a5',u'\\u56fd\\u8054\\u5b89\\u4e2d\\u8bc1\\u533b\\u836f100',u'\\u5609\\u5b9e\\u7814\\u7a76\\u963f\\u5c14\\u6cd5',u'\\u5609\\u5b9e\\u6caa\\u6df1300\\u589e\\u5f3a',u'\\u6c47\\u6dfb\\u5bcc\\u4e2d\\u8bc1\\u4e3b\\u8981\\u6d88\\u8d39ETF\\u8054\\u63a5',u'\\u5927\\u6469\\u54c1\\u8d28\\u751f\\u6d3b\\u7cbe\\u9009',u'\\u666f\\u987a\\u957f\\u57ce\\u6caa\\u6df1300',u'\\u534e\\u5b89\\u6caa\\u6df1300\\u91cf\\u5316A',...]]"
      ]
     },
     "execution_count": 8,
     "metadata": {},
     "output_type": "execute_result"
    }
   ],
   "source": [
    "data"
   ]
  },
  {
   "cell_type": "code",
   "execution_count": 9,
   "metadata": {
    "collapsed": true
   },
   "outputs": [],
   "source": [
    "def wind2df(raw_data):\n",
    "    dic = {}\n",
    "    for data, field in zip(raw_data.Data, raw_data.Fields):\n",
    "        dic[str(field.lower())] = data\n",
    "    if len(raw_data.Times) == len(dic[dic.keys()[0]]):\n",
    "        return pd.DataFrame(dic, index=raw_data.Times)\n",
    "    else:\n",
    "        return pd.DataFrame(dic)"
   ]
  },
  {
   "cell_type": "code",
   "execution_count": 10,
   "metadata": {
    "collapsed": true
   },
   "outputs": [],
   "source": [
    "df = wind2df(data)"
   ]
  },
  {
   "cell_type": "code",
   "execution_count": 12,
   "metadata": {
    "collapsed": false
   },
   "outputs": [
    {
     "data": {
      "text/html": [
       "<div>\n",
       "<table border=\"1\" class=\"dataframe\">\n",
       "  <thead>\n",
       "    <tr style=\"text-align: right;\">\n",
       "      <th></th>\n",
       "      <th>date</th>\n",
       "      <th>sec_name</th>\n",
       "      <th>wind_code</th>\n",
       "    </tr>\n",
       "  </thead>\n",
       "  <tbody>\n",
       "    <tr>\n",
       "      <th>0</th>\n",
       "      <td>2017-09-06 00:00:00.005</td>\n",
       "      <td>嘉实中证500ETF联接</td>\n",
       "      <td>000008.OF</td>\n",
       "    </tr>\n",
       "    <tr>\n",
       "      <th>1</th>\n",
       "      <td>2017-09-06 00:00:00.005</td>\n",
       "      <td>财通中证100增强A</td>\n",
       "      <td>000042.OF</td>\n",
       "    </tr>\n",
       "    <tr>\n",
       "      <th>2</th>\n",
       "      <td>2017-09-06 00:00:00.005</td>\n",
       "      <td>华夏沪深300ETF联接</td>\n",
       "      <td>000051.OF</td>\n",
       "    </tr>\n",
       "    <tr>\n",
       "      <th>3</th>\n",
       "      <td>2017-09-06 00:00:00.005</td>\n",
       "      <td>国联安中证医药100</td>\n",
       "      <td>000059.OF</td>\n",
       "    </tr>\n",
       "    <tr>\n",
       "      <th>4</th>\n",
       "      <td>2017-09-06 00:00:00.005</td>\n",
       "      <td>嘉实研究阿尔法</td>\n",
       "      <td>000082.OF</td>\n",
       "    </tr>\n",
       "  </tbody>\n",
       "</table>\n",
       "</div>"
      ],
      "text/plain": [
       "                     date      sec_name  wind_code\n",
       "0 2017-09-06 00:00:00.005  嘉实中证500ETF联接  000008.OF\n",
       "1 2017-09-06 00:00:00.005    财通中证100增强A  000042.OF\n",
       "2 2017-09-06 00:00:00.005  华夏沪深300ETF联接  000051.OF\n",
       "3 2017-09-06 00:00:00.005    国联安中证医药100  000059.OF\n",
       "4 2017-09-06 00:00:00.005       嘉实研究阿尔法  000082.OF"
      ]
     },
     "execution_count": 12,
     "metadata": {},
     "output_type": "execute_result"
    }
   ],
   "source": [
    "df.head()"
   ]
  },
  {
   "cell_type": "code",
   "execution_count": 16,
   "metadata": {
    "collapsed": true
   },
   "outputs": [],
   "source": [
    "data = w.wss(df['wind_code'].tolist(), \"fund_mgrcomp\")"
   ]
  },
  {
   "cell_type": "code",
   "execution_count": 17,
   "metadata": {
    "collapsed": true
   },
   "outputs": [],
   "source": [
    "temp = wind2df(data)"
   ]
  },
  {
   "cell_type": "code",
   "execution_count": 18,
   "metadata": {
    "collapsed": false
   },
   "outputs": [
    {
     "data": {
      "text/html": [
       "<div>\n",
       "<table border=\"1\" class=\"dataframe\">\n",
       "  <thead>\n",
       "    <tr style=\"text-align: right;\">\n",
       "      <th></th>\n",
       "      <th>fund_mgrcomp</th>\n",
       "    </tr>\n",
       "  </thead>\n",
       "  <tbody>\n",
       "    <tr>\n",
       "      <th>0</th>\n",
       "      <td>嘉实基金管理有限公司</td>\n",
       "    </tr>\n",
       "    <tr>\n",
       "      <th>1</th>\n",
       "      <td>财通基金管理有限公司</td>\n",
       "    </tr>\n",
       "    <tr>\n",
       "      <th>2</th>\n",
       "      <td>华夏基金管理有限公司</td>\n",
       "    </tr>\n",
       "    <tr>\n",
       "      <th>3</th>\n",
       "      <td>国联安基金管理有限公司</td>\n",
       "    </tr>\n",
       "    <tr>\n",
       "      <th>4</th>\n",
       "      <td>嘉实基金管理有限公司</td>\n",
       "    </tr>\n",
       "    <tr>\n",
       "      <th>5</th>\n",
       "      <td>嘉实基金管理有限公司</td>\n",
       "    </tr>\n",
       "    <tr>\n",
       "      <th>6</th>\n",
       "      <td>汇添富基金管理股份有限公司</td>\n",
       "    </tr>\n",
       "    <tr>\n",
       "      <th>7</th>\n",
       "      <td>摩根士丹利华鑫基金管理有限公司</td>\n",
       "    </tr>\n",
       "    <tr>\n",
       "      <th>8</th>\n",
       "      <td>景顺长城基金管理有限公司</td>\n",
       "    </tr>\n",
       "    <tr>\n",
       "      <th>9</th>\n",
       "      <td>华安基金管理有限公司</td>\n",
       "    </tr>\n",
       "    <tr>\n",
       "      <th>10</th>\n",
       "      <td>华安基金管理有限公司</td>\n",
       "    </tr>\n",
       "    <tr>\n",
       "      <th>11</th>\n",
       "      <td>汇添富基金管理股份有限公司</td>\n",
       "    </tr>\n",
       "    <tr>\n",
       "      <th>12</th>\n",
       "      <td>华安基金管理有限公司</td>\n",
       "    </tr>\n",
       "    <tr>\n",
       "      <th>13</th>\n",
       "      <td>华安基金管理有限公司</td>\n",
       "    </tr>\n",
       "    <tr>\n",
       "      <th>14</th>\n",
       "      <td>鹏华基金管理有限公司</td>\n",
       "    </tr>\n",
       "    <tr>\n",
       "      <th>15</th>\n",
       "      <td>景顺长城基金管理有限公司</td>\n",
       "    </tr>\n",
       "    <tr>\n",
       "      <th>16</th>\n",
       "      <td>景顺长城基金管理有限公司</td>\n",
       "    </tr>\n",
       "    <tr>\n",
       "      <th>17</th>\n",
       "      <td>上投摩根基金管理有限公司</td>\n",
       "    </tr>\n",
       "    <tr>\n",
       "      <th>18</th>\n",
       "      <td>富国基金管理有限公司</td>\n",
       "    </tr>\n",
       "    <tr>\n",
       "      <th>19</th>\n",
       "      <td>建信基金管理有限责任公司</td>\n",
       "    </tr>\n",
       "    <tr>\n",
       "      <th>20</th>\n",
       "      <td>富国基金管理有限公司</td>\n",
       "    </tr>\n",
       "    <tr>\n",
       "      <th>21</th>\n",
       "      <td>上投摩根基金管理有限公司</td>\n",
       "    </tr>\n",
       "    <tr>\n",
       "      <th>22</th>\n",
       "      <td>华安基金管理有限公司</td>\n",
       "    </tr>\n",
       "    <tr>\n",
       "      <th>23</th>\n",
       "      <td>安信基金管理有限责任公司</td>\n",
       "    </tr>\n",
       "    <tr>\n",
       "      <th>24</th>\n",
       "      <td>景顺长城基金管理有限公司</td>\n",
       "    </tr>\n",
       "    <tr>\n",
       "      <th>25</th>\n",
       "      <td>建信基金管理有限责任公司</td>\n",
       "    </tr>\n",
       "    <tr>\n",
       "      <th>26</th>\n",
       "      <td>摩根士丹利华鑫基金管理有限公司</td>\n",
       "    </tr>\n",
       "    <tr>\n",
       "      <th>27</th>\n",
       "      <td>前海开源基金管理有限公司</td>\n",
       "    </tr>\n",
       "    <tr>\n",
       "      <th>28</th>\n",
       "      <td>国寿安保基金管理有限公司</td>\n",
       "    </tr>\n",
       "    <tr>\n",
       "      <th>29</th>\n",
       "      <td>大成基金管理有限公司</td>\n",
       "    </tr>\n",
       "    <tr>\n",
       "      <th>...</th>\n",
       "      <td>...</td>\n",
       "    </tr>\n",
       "    <tr>\n",
       "      <th>738</th>\n",
       "      <td>银河基金管理有限公司</td>\n",
       "    </tr>\n",
       "    <tr>\n",
       "      <th>739</th>\n",
       "      <td>银河基金管理有限公司</td>\n",
       "    </tr>\n",
       "    <tr>\n",
       "      <th>740</th>\n",
       "      <td>交银施罗德基金管理有限公司</td>\n",
       "    </tr>\n",
       "    <tr>\n",
       "      <th>741</th>\n",
       "      <td>交银施罗德基金管理有限公司</td>\n",
       "    </tr>\n",
       "    <tr>\n",
       "      <th>742</th>\n",
       "      <td>交银施罗德基金管理有限公司</td>\n",
       "    </tr>\n",
       "    <tr>\n",
       "      <th>743</th>\n",
       "      <td>长信基金管理有限责任公司</td>\n",
       "    </tr>\n",
       "    <tr>\n",
       "      <th>744</th>\n",
       "      <td>长信基金管理有限责任公司</td>\n",
       "    </tr>\n",
       "    <tr>\n",
       "      <th>745</th>\n",
       "      <td>长信基金管理有限责任公司</td>\n",
       "    </tr>\n",
       "    <tr>\n",
       "      <th>746</th>\n",
       "      <td>长信基金管理有限责任公司</td>\n",
       "    </tr>\n",
       "    <tr>\n",
       "      <th>747</th>\n",
       "      <td>建信基金管理有限责任公司</td>\n",
       "    </tr>\n",
       "    <tr>\n",
       "      <th>748</th>\n",
       "      <td>建信基金管理有限责任公司</td>\n",
       "    </tr>\n",
       "    <tr>\n",
       "      <th>749</th>\n",
       "      <td>建信基金管理有限责任公司</td>\n",
       "    </tr>\n",
       "    <tr>\n",
       "      <th>750</th>\n",
       "      <td>汇丰晋信基金管理有限公司</td>\n",
       "    </tr>\n",
       "    <tr>\n",
       "      <th>751</th>\n",
       "      <td>汇丰晋信基金管理有限公司</td>\n",
       "    </tr>\n",
       "    <tr>\n",
       "      <th>752</th>\n",
       "      <td>汇丰晋信基金管理有限公司</td>\n",
       "    </tr>\n",
       "    <tr>\n",
       "      <th>753</th>\n",
       "      <td>汇丰晋信基金管理有限公司</td>\n",
       "    </tr>\n",
       "    <tr>\n",
       "      <th>754</th>\n",
       "      <td>汇丰晋信基金管理有限公司</td>\n",
       "    </tr>\n",
       "    <tr>\n",
       "      <th>755</th>\n",
       "      <td>汇丰晋信基金管理有限公司</td>\n",
       "    </tr>\n",
       "    <tr>\n",
       "      <th>756</th>\n",
       "      <td>东吴基金管理有限公司</td>\n",
       "    </tr>\n",
       "    <tr>\n",
       "      <th>757</th>\n",
       "      <td>中邮创业基金管理股份有限公司</td>\n",
       "    </tr>\n",
       "    <tr>\n",
       "      <th>758</th>\n",
       "      <td>农银汇理基金管理有限公司</td>\n",
       "    </tr>\n",
       "    <tr>\n",
       "      <th>759</th>\n",
       "      <td>农银汇理基金管理有限公司</td>\n",
       "    </tr>\n",
       "    <tr>\n",
       "      <th>760</th>\n",
       "      <td>西部利得基金管理有限公司</td>\n",
       "    </tr>\n",
       "    <tr>\n",
       "      <th>761</th>\n",
       "      <td>民生加银基金管理有限公司</td>\n",
       "    </tr>\n",
       "    <tr>\n",
       "      <th>762</th>\n",
       "      <td>平安大华基金管理有限公司</td>\n",
       "    </tr>\n",
       "    <tr>\n",
       "      <th>763</th>\n",
       "      <td>长安基金管理有限公司</td>\n",
       "    </tr>\n",
       "    <tr>\n",
       "      <th>764</th>\n",
       "      <td>汇丰晋信基金管理有限公司</td>\n",
       "    </tr>\n",
       "    <tr>\n",
       "      <th>765</th>\n",
       "      <td>博时基金管理有限公司</td>\n",
       "    </tr>\n",
       "    <tr>\n",
       "      <th>766</th>\n",
       "      <td>融通基金管理有限公司</td>\n",
       "    </tr>\n",
       "    <tr>\n",
       "      <th>767</th>\n",
       "      <td>南方基金管理有限公司</td>\n",
       "    </tr>\n",
       "  </tbody>\n",
       "</table>\n",
       "<p>768 rows × 1 columns</p>\n",
       "</div>"
      ],
      "text/plain": [
       "        fund_mgrcomp\n",
       "0         嘉实基金管理有限公司\n",
       "1         财通基金管理有限公司\n",
       "2         华夏基金管理有限公司\n",
       "3        国联安基金管理有限公司\n",
       "4         嘉实基金管理有限公司\n",
       "5         嘉实基金管理有限公司\n",
       "6      汇添富基金管理股份有限公司\n",
       "7    摩根士丹利华鑫基金管理有限公司\n",
       "8       景顺长城基金管理有限公司\n",
       "9         华安基金管理有限公司\n",
       "10        华安基金管理有限公司\n",
       "11     汇添富基金管理股份有限公司\n",
       "12        华安基金管理有限公司\n",
       "13        华安基金管理有限公司\n",
       "14        鹏华基金管理有限公司\n",
       "15      景顺长城基金管理有限公司\n",
       "16      景顺长城基金管理有限公司\n",
       "17      上投摩根基金管理有限公司\n",
       "18        富国基金管理有限公司\n",
       "19      建信基金管理有限责任公司\n",
       "20        富国基金管理有限公司\n",
       "21      上投摩根基金管理有限公司\n",
       "22        华安基金管理有限公司\n",
       "23      安信基金管理有限责任公司\n",
       "24      景顺长城基金管理有限公司\n",
       "25      建信基金管理有限责任公司\n",
       "26   摩根士丹利华鑫基金管理有限公司\n",
       "27      前海开源基金管理有限公司\n",
       "28      国寿安保基金管理有限公司\n",
       "29        大成基金管理有限公司\n",
       "..               ...\n",
       "738       银河基金管理有限公司\n",
       "739       银河基金管理有限公司\n",
       "740    交银施罗德基金管理有限公司\n",
       "741    交银施罗德基金管理有限公司\n",
       "742    交银施罗德基金管理有限公司\n",
       "743     长信基金管理有限责任公司\n",
       "744     长信基金管理有限责任公司\n",
       "745     长信基金管理有限责任公司\n",
       "746     长信基金管理有限责任公司\n",
       "747     建信基金管理有限责任公司\n",
       "748     建信基金管理有限责任公司\n",
       "749     建信基金管理有限责任公司\n",
       "750     汇丰晋信基金管理有限公司\n",
       "751     汇丰晋信基金管理有限公司\n",
       "752     汇丰晋信基金管理有限公司\n",
       "753     汇丰晋信基金管理有限公司\n",
       "754     汇丰晋信基金管理有限公司\n",
       "755     汇丰晋信基金管理有限公司\n",
       "756       东吴基金管理有限公司\n",
       "757   中邮创业基金管理股份有限公司\n",
       "758     农银汇理基金管理有限公司\n",
       "759     农银汇理基金管理有限公司\n",
       "760     西部利得基金管理有限公司\n",
       "761     民生加银基金管理有限公司\n",
       "762     平安大华基金管理有限公司\n",
       "763       长安基金管理有限公司\n",
       "764     汇丰晋信基金管理有限公司\n",
       "765       博时基金管理有限公司\n",
       "766       融通基金管理有限公司\n",
       "767       南方基金管理有限公司\n",
       "\n",
       "[768 rows x 1 columns]"
      ]
     },
     "execution_count": 18,
     "metadata": {},
     "output_type": "execute_result"
    }
   ],
   "source": [
    "temp"
   ]
  },
  {
   "cell_type": "code",
   "execution_count": null,
   "metadata": {
    "collapsed": true
   },
   "outputs": [],
   "source": []
  }
 ],
 "metadata": {
  "kernelspec": {
   "display_name": "Python [default]",
   "language": "python",
   "name": "python2"
  },
  "language_info": {
   "codemirror_mode": {
    "name": "ipython",
    "version": 2
   },
   "file_extension": ".py",
   "mimetype": "text/x-python",
   "name": "python",
   "nbconvert_exporter": "python",
   "pygments_lexer": "ipython2",
   "version": "2.7.12"
  }
 },
 "nbformat": 4,
 "nbformat_minor": 1
}
