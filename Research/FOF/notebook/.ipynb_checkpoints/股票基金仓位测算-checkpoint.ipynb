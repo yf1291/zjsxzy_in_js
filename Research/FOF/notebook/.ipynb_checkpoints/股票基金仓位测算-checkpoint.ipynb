{
 "cells": [
  {
   "cell_type": "code",
   "execution_count": 1,
   "metadata": {},
   "outputs": [],
   "source": [
    "import pandas as pd\n",
    "import numpy as np\n",
    "import matplotlib.pyplot as plt\n",
    "from scipy.optimize import minimize\n",
    "from WindPy import w\n",
    "from sklearn.linear_model import LinearRegression\n",
    "import datetime\n",
    "%matplotlib inline"
   ]
  },
  {
   "cell_type": "code",
   "execution_count": 2,
   "metadata": {},
   "outputs": [
    {
     "name": "stdout",
     "output_type": "stream",
     "text": [
      "Welcome to use Wind Quant API for Python (WindPy)!\n",
      "\n",
      "COPYRIGHT (C) 2017 WIND INFORMATION CO., LTD. ALL RIGHTS RESERVED.\n",
      "IN NO CIRCUMSTANCE SHALL WIND BE RESPONSIBLE FOR ANY DAMAGES OR LOSSES CAUSED BY USING WIND QUANT API FOR Python.\n"
     ]
    },
    {
     "data": {
      "text/plain": [
       ".ErrorCode=0\n",
       ".Data=[OK!]"
      ]
     },
     "execution_count": 2,
     "metadata": {},
     "output_type": "execute_result"
    }
   ],
   "source": [
    "w.start()"
   ]
  },
  {
   "cell_type": "code",
   "execution_count": 3,
   "metadata": {},
   "outputs": [],
   "source": [
    "end_date = datetime.datetime.today()\n",
    "start_date = end_date - datetime.timedelta(200)"
   ]
  },
  {
   "cell_type": "markdown",
   "metadata": {},
   "source": [
    "# 获取股票指数历史收益率"
   ]
  },
  {
   "cell_type": "code",
   "execution_count": 4,
   "metadata": {},
   "outputs": [],
   "source": [
    "# codes = 'CI005917.WI,CI005919.WI,CI005018.WI,CI005916.WI' # 金融地产、消费、医药、科技\n",
    "codes = '000934.SH,000931.CSI,000933.SH,000935.SH' # 中证金融地产、可选消费、必选医药、信息技术"
   ]
  },
  {
   "cell_type": "code",
   "execution_count": 5,
   "metadata": {},
   "outputs": [],
   "source": [
    "data = w.wsd(codes, 'close', start_date, end_date)"
   ]
  },
  {
   "cell_type": "code",
   "execution_count": 6,
   "metadata": {},
   "outputs": [],
   "source": [
    "df = pd.DataFrame(np.array(data.Data).T, index=data.Times, columns=data.Codes)"
   ]
  },
  {
   "cell_type": "code",
   "execution_count": 7,
   "metadata": {},
   "outputs": [],
   "source": [
    "rdf = df.pct_change().dropna()"
   ]
  },
  {
   "cell_type": "markdown",
   "metadata": {},
   "source": [
    "# 获取股票基金历史收益率"
   ]
  },
  {
   "cell_type": "code",
   "execution_count": 8,
   "metadata": {},
   "outputs": [],
   "source": [
    "fund_df = pd.read_excel(u'../data/股票基金池.xlsx')\n",
    "# fund_df = pd.read_excel(u'../data/嘉实股票基金池.xlsx')"
   ]
  },
  {
   "cell_type": "code",
   "execution_count": 9,
   "metadata": {},
   "outputs": [
    {
     "data": {
      "text/html": [
       "<div>\n",
       "<style scoped>\n",
       "    .dataframe tbody tr th:only-of-type {\n",
       "        vertical-align: middle;\n",
       "    }\n",
       "\n",
       "    .dataframe tbody tr th {\n",
       "        vertical-align: top;\n",
       "    }\n",
       "\n",
       "    .dataframe thead th {\n",
       "        text-align: right;\n",
       "    }\n",
       "</style>\n",
       "<table border=\"1\" class=\"dataframe\">\n",
       "  <thead>\n",
       "    <tr style=\"text-align: right;\">\n",
       "      <th></th>\n",
       "      <th>代码</th>\n",
       "      <th>名称</th>\n",
       "      <th>市值占净值</th>\n",
       "    </tr>\n",
       "  </thead>\n",
       "  <tbody>\n",
       "    <tr>\n",
       "      <th>0</th>\n",
       "      <td>070002.OF</td>\n",
       "      <td>嘉实增长</td>\n",
       "      <td>0.200000</td>\n",
       "    </tr>\n",
       "    <tr>\n",
       "      <th>1</th>\n",
       "      <td>000595.OF</td>\n",
       "      <td>嘉实泰和</td>\n",
       "      <td>0.140396</td>\n",
       "    </tr>\n",
       "    <tr>\n",
       "      <th>2</th>\n",
       "      <td>070021.OF</td>\n",
       "      <td>嘉实主题新动力</td>\n",
       "      <td>0.200000</td>\n",
       "    </tr>\n",
       "    <tr>\n",
       "      <th>3</th>\n",
       "      <td>003634.OF</td>\n",
       "      <td>嘉实农业产业</td>\n",
       "      <td>0.199999</td>\n",
       "    </tr>\n",
       "    <tr>\n",
       "      <th>4</th>\n",
       "      <td>004477.OF</td>\n",
       "      <td>嘉实沪港深回报</td>\n",
       "      <td>0.199999</td>\n",
       "    </tr>\n",
       "    <tr>\n",
       "      <th>5</th>\n",
       "      <td>005267.OF</td>\n",
       "      <td>嘉实价值精选</td>\n",
       "      <td>0.017521</td>\n",
       "    </tr>\n",
       "    <tr>\n",
       "      <th>6</th>\n",
       "      <td>005303.OF</td>\n",
       "      <td>嘉实医药健康A</td>\n",
       "      <td>0.042069</td>\n",
       "    </tr>\n",
       "  </tbody>\n",
       "</table>\n",
       "</div>"
      ],
      "text/plain": [
       "          代码       名称     市值占净值\n",
       "0  070002.OF     嘉实增长  0.200000\n",
       "1  000595.OF     嘉实泰和  0.140396\n",
       "2  070021.OF  嘉实主题新动力  0.200000\n",
       "3  003634.OF   嘉实农业产业  0.199999\n",
       "4  004477.OF  嘉实沪港深回报  0.199999\n",
       "5  005267.OF   嘉实价值精选  0.017521\n",
       "6  005303.OF  嘉实医药健康A  0.042069"
      ]
     },
     "execution_count": 9,
     "metadata": {},
     "output_type": "execute_result"
    }
   ],
   "source": [
    "fund_df"
   ]
  },
  {
   "cell_type": "code",
   "execution_count": 10,
   "metadata": {},
   "outputs": [],
   "source": [
    "codes = fund_df[u'代码'].tolist()"
   ]
  },
  {
   "cell_type": "code",
   "execution_count": 11,
   "metadata": {},
   "outputs": [
    {
     "data": {
      "text/plain": [
       "[u'070002.OF',\n",
       " u'000595.OF',\n",
       " u'070021.OF',\n",
       " u'003634.OF',\n",
       " u'004477.OF',\n",
       " u'005267.OF',\n",
       " u'005303.OF']"
      ]
     },
     "execution_count": 11,
     "metadata": {},
     "output_type": "execute_result"
    }
   ],
   "source": [
    "codes"
   ]
  },
  {
   "cell_type": "code",
   "execution_count": 12,
   "metadata": {},
   "outputs": [],
   "source": [
    "data = w.wsd(codes, 'nav', start_date, end_date)"
   ]
  },
  {
   "cell_type": "code",
   "execution_count": 13,
   "metadata": {},
   "outputs": [],
   "source": [
    "fdf = pd.DataFrame(np.array(data.Data).T, index=data.Times, columns=data.Codes)"
   ]
  },
  {
   "cell_type": "code",
   "execution_count": 14,
   "metadata": {},
   "outputs": [],
   "source": [
    "fdf = fdf.dropna(axis=1)"
   ]
  },
  {
   "cell_type": "code",
   "execution_count": 15,
   "metadata": {},
   "outputs": [],
   "source": [
    "rfdf = fdf.pct_change().dropna()"
   ]
  },
  {
   "cell_type": "code",
   "execution_count": 16,
   "metadata": {},
   "outputs": [],
   "source": [
    "codes = rfdf.columns.tolist()"
   ]
  },
  {
   "cell_type": "code",
   "execution_count": 17,
   "metadata": {},
   "outputs": [
    {
     "name": "stdout",
     "output_type": "stream",
     "text": [
      "(132, 7)\n",
      "(132, 4)\n"
     ]
    }
   ],
   "source": [
    "print rfdf.shape\n",
    "print rdf.shape"
   ]
  },
  {
   "cell_type": "markdown",
   "metadata": {},
   "source": [
    "# 非负线性优化求解"
   ]
  },
  {
   "cell_type": "code",
   "execution_count": 18,
   "metadata": {},
   "outputs": [],
   "source": [
    "# decomp = pd.DataFrame(index=codes, columns=[u'金融地产', u'消费', u'医药', u'科技'])\n",
    "decomp = pd.DataFrame(index=codes, columns=[u'金融地产', u'可选消费', u'必选医药', u'科技'])\n",
    "decomp.index.name = u'基金代码'"
   ]
  },
  {
   "cell_type": "code",
   "execution_count": 19,
   "metadata": {},
   "outputs": [],
   "source": [
    "def objective(coef, args):\n",
    "    n = coef.size\n",
    "    X, y = args[0], args[1]\n",
    "    target = np.dot(X, coef)\n",
    "#     error = np.sum(np.square(target - y))\n",
    "    error = np.sum(np.square(target - y)) + np.linalg.norm(coef, 1) # lasso error\n",
    "    return error / n\n",
    "\n",
    "def decomposition(code):\n",
    "    TOLERANCE = 1e-10\n",
    "    n = rdf.shape[1]\n",
    "    init_weights = np.array([1. / n] * n)\n",
    "    X = rdf.values\n",
    "    y = rfdf[code].values\n",
    "    \n",
    "    constraints = ({'type': 'eq', 'fun': lambda x: np.sum(x) - 1.0},\n",
    "                   {'type': 'ineq', 'fun': lambda x: x})\n",
    "    \n",
    "    opt_res = minimize(fun=objective,\n",
    "                       x0=init_weights,\n",
    "                       args=[X, y],\n",
    "                       constraints=constraints,\n",
    "                       tol=TOLERANCE,\n",
    "                       options={'disp': True})\n",
    "    \n",
    "    return opt_res.x"
   ]
  },
  {
   "cell_type": "code",
   "execution_count": 20,
   "metadata": {},
   "outputs": [
    {
     "name": "stdout",
     "output_type": "stream",
     "text": [
      "Optimization terminated successfully.    (Exit mode 0)\n",
      "            Current function value: 0.251040255523\n",
      "            Iterations: 16\n",
      "            Function evaluations: 96\n",
      "            Gradient evaluations: 16\n"
     ]
    },
    {
     "data": {
      "text/plain": [
       "array([2.25033098e-01, 7.67663507e-02, 6.98200551e-01, 2.03626721e-18])"
      ]
     },
     "execution_count": 20,
     "metadata": {},
     "output_type": "execute_result"
    }
   ],
   "source": [
    "decomposition(codes[0])"
   ]
  },
  {
   "cell_type": "code",
   "execution_count": 21,
   "metadata": {},
   "outputs": [
    {
     "name": "stdout",
     "output_type": "stream",
     "text": [
      "Optimization terminated successfully.    (Exit mode 0)\n",
      "            Current function value: 0.251040255523\n",
      "            Iterations: 16\n",
      "            Function evaluations: 96\n",
      "            Gradient evaluations: 16\n",
      "Optimization terminated successfully.    (Exit mode 0)\n",
      "            Current function value: 0.256507057505\n",
      "            Iterations: 17\n",
      "            Function evaluations: 102\n",
      "            Gradient evaluations: 17\n",
      "Optimization terminated successfully.    (Exit mode 0)\n",
      "            Current function value: 0.251444686933\n",
      "            Iterations: 16\n",
      "            Function evaluations: 96\n",
      "            Gradient evaluations: 16\n",
      "Optimization terminated successfully.    (Exit mode 0)\n",
      "            Current function value: 0.256044702564\n",
      "            Iterations: 23\n",
      "            Function evaluations: 138\n",
      "            Gradient evaluations: 23\n",
      "Optimization terminated successfully.    (Exit mode 0)\n",
      "            Current function value: 0.250940234638\n",
      "            Iterations: 11\n",
      "            Function evaluations: 66\n",
      "            Gradient evaluations: 11\n",
      "Optimization terminated successfully.    (Exit mode 0)\n",
      "            Current function value: 0.251044933701\n",
      "            Iterations: 16\n",
      "            Function evaluations: 96\n",
      "            Gradient evaluations: 16\n",
      "Optimization terminated successfully.    (Exit mode 0)\n",
      "            Current function value: 0.250965639458\n",
      "            Iterations: 14\n",
      "            Function evaluations: 84\n",
      "            Gradient evaluations: 14\n"
     ]
    }
   ],
   "source": [
    "for c in codes:\n",
    "    weight = decomposition(c)\n",
    "    decomp.loc[c] = weight"
   ]
  },
  {
   "cell_type": "code",
   "execution_count": 22,
   "metadata": {},
   "outputs": [],
   "source": [
    "decomp[u'基金名称'] = fund_df[fund_df[u'代码'].isin(codes)][u'名称'].tolist()"
   ]
  },
  {
   "cell_type": "code",
   "execution_count": 23,
   "metadata": {},
   "outputs": [],
   "source": [
    "if u'市值占净值' in fund_df.columns:\n",
    "    decomp[u'市值占净值'] = fund_df[fund_df[u'代码'].isin(codes)][u'市值占净值'].tolist()"
   ]
  },
  {
   "cell_type": "code",
   "execution_count": 24,
   "metadata": {},
   "outputs": [],
   "source": [
    "decomp = decomp[decomp.columns[4:].tolist() + decomp.columns[:4].tolist()]"
   ]
  },
  {
   "cell_type": "code",
   "execution_count": 25,
   "metadata": {},
   "outputs": [
    {
     "data": {
      "text/html": [
       "<div>\n",
       "<style scoped>\n",
       "    .dataframe tbody tr th:only-of-type {\n",
       "        vertical-align: middle;\n",
       "    }\n",
       "\n",
       "    .dataframe tbody tr th {\n",
       "        vertical-align: top;\n",
       "    }\n",
       "\n",
       "    .dataframe thead th {\n",
       "        text-align: right;\n",
       "    }\n",
       "</style>\n",
       "<table border=\"1\" class=\"dataframe\">\n",
       "  <thead>\n",
       "    <tr style=\"text-align: right;\">\n",
       "      <th></th>\n",
       "      <th>基金名称</th>\n",
       "      <th>市值占净值</th>\n",
       "      <th>金融地产</th>\n",
       "      <th>可选消费</th>\n",
       "      <th>必选医药</th>\n",
       "      <th>科技</th>\n",
       "    </tr>\n",
       "    <tr>\n",
       "      <th>基金代码</th>\n",
       "      <th></th>\n",
       "      <th></th>\n",
       "      <th></th>\n",
       "      <th></th>\n",
       "      <th></th>\n",
       "      <th></th>\n",
       "    </tr>\n",
       "  </thead>\n",
       "  <tbody>\n",
       "    <tr>\n",
       "      <th>070002.OF</th>\n",
       "      <td>嘉实增长</td>\n",
       "      <td>0.200000</td>\n",
       "      <td>0.225033</td>\n",
       "      <td>0.0767664</td>\n",
       "      <td>0.698201</td>\n",
       "      <td>2.03627e-18</td>\n",
       "    </tr>\n",
       "    <tr>\n",
       "      <th>000595.OF</th>\n",
       "      <td>嘉实泰和</td>\n",
       "      <td>0.140396</td>\n",
       "      <td>-1.0349e-17</td>\n",
       "      <td>5.25476e-18</td>\n",
       "      <td>0.720364</td>\n",
       "      <td>0.279636</td>\n",
       "    </tr>\n",
       "    <tr>\n",
       "      <th>070021.OF</th>\n",
       "      <td>嘉实主题新动力</td>\n",
       "      <td>0.200000</td>\n",
       "      <td>0.0409531</td>\n",
       "      <td>0.0737921</td>\n",
       "      <td>0.193036</td>\n",
       "      <td>0.692218</td>\n",
       "    </tr>\n",
       "    <tr>\n",
       "      <th>003634.OF</th>\n",
       "      <td>嘉实农业产业</td>\n",
       "      <td>0.199999</td>\n",
       "      <td>0.105178</td>\n",
       "      <td>0.335179</td>\n",
       "      <td>0.467355</td>\n",
       "      <td>0.092288</td>\n",
       "    </tr>\n",
       "    <tr>\n",
       "      <th>004477.OF</th>\n",
       "      <td>嘉实沪港深回报</td>\n",
       "      <td>0.199999</td>\n",
       "      <td>0.46926</td>\n",
       "      <td>0.0716834</td>\n",
       "      <td>0.459057</td>\n",
       "      <td>-3.72694e-18</td>\n",
       "    </tr>\n",
       "    <tr>\n",
       "      <th>005267.OF</th>\n",
       "      <td>嘉实价值精选</td>\n",
       "      <td>0.017521</td>\n",
       "      <td>0.446564</td>\n",
       "      <td>0.291024</td>\n",
       "      <td>0.262411</td>\n",
       "      <td>-5.60736e-18</td>\n",
       "    </tr>\n",
       "    <tr>\n",
       "      <th>005303.OF</th>\n",
       "      <td>嘉实医药健康A</td>\n",
       "      <td>0.042069</td>\n",
       "      <td>8.89046e-18</td>\n",
       "      <td>0</td>\n",
       "      <td>1</td>\n",
       "      <td>-2.71051e-18</td>\n",
       "    </tr>\n",
       "  </tbody>\n",
       "</table>\n",
       "</div>"
      ],
      "text/plain": [
       "              基金名称     市值占净值         金融地产         可选消费      必选医药           科技\n",
       "基金代码                                                                         \n",
       "070002.OF     嘉实增长  0.200000     0.225033    0.0767664  0.698201  2.03627e-18\n",
       "000595.OF     嘉实泰和  0.140396  -1.0349e-17  5.25476e-18  0.720364     0.279636\n",
       "070021.OF  嘉实主题新动力  0.200000    0.0409531    0.0737921  0.193036     0.692218\n",
       "003634.OF   嘉实农业产业  0.199999     0.105178     0.335179  0.467355     0.092288\n",
       "004477.OF  嘉实沪港深回报  0.199999      0.46926    0.0716834  0.459057 -3.72694e-18\n",
       "005267.OF   嘉实价值精选  0.017521     0.446564     0.291024  0.262411 -5.60736e-18\n",
       "005303.OF  嘉实医药健康A  0.042069  8.89046e-18            0         1 -2.71051e-18"
      ]
     },
     "execution_count": 25,
     "metadata": {},
     "output_type": "execute_result"
    }
   ],
   "source": [
    "decomp"
   ]
  },
  {
   "cell_type": "code",
   "execution_count": 26,
   "metadata": {},
   "outputs": [],
   "source": [
    "if u'市值占净值' in fund_df.columns:\n",
    "    decomp = decomp.append(pd.DataFrame([['', '',\n",
    "                           np.dot(decomp[u'金融地产'], fund_df[u'市值占净值']) / fund_df[u'市值占净值'].sum(),\n",
    "                           np.dot(decomp[u'可选消费'], fund_df[u'市值占净值']) / fund_df[u'市值占净值'].sum(),\n",
    "                           np.dot(decomp[u'必选医药'], fund_df[u'市值占净值']) / fund_df[u'市值占净值'].sum(),\n",
    "                           np.dot(decomp[u'科技'], fund_df[u'市值占净值']) / fund_df[u'市值占净值'].sum(), \n",
    "                           ]], index=[u'组合'], columns=decomp.columns))"
   ]
  },
  {
   "cell_type": "code",
   "execution_count": 27,
   "metadata": {},
   "outputs": [],
   "source": [
    "decomp.to_excel(u'../data/股票基金收益率分解.xlsx')\n",
    "# decomp.to_excel(u'../data/嘉实股票基金收益率分解.xlsx')"
   ]
  },
  {
   "cell_type": "code",
   "execution_count": null,
   "metadata": {},
   "outputs": [],
   "source": []
  }
 ],
 "metadata": {
  "kernelspec": {
   "display_name": "Python 2",
   "language": "python",
   "name": "python2"
  },
  "language_info": {
   "codemirror_mode": {
    "name": "ipython",
    "version": 2
   },
   "file_extension": ".py",
   "mimetype": "text/x-python",
   "name": "python",
   "nbconvert_exporter": "python",
   "pygments_lexer": "ipython2",
   "version": "2.7.14"
  }
 },
 "nbformat": 4,
 "nbformat_minor": 4
}
