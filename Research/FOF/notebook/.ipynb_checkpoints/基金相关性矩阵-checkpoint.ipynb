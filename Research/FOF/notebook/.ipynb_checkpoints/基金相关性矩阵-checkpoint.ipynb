{
 "cells": [
  {
   "cell_type": "code",
   "execution_count": 334,
   "metadata": {
    "collapsed": true
   },
   "outputs": [],
   "source": [
    "import pandas as pd\n",
    "import numpy as np"
   ]
  },
  {
   "cell_type": "code",
   "execution_count": 335,
   "metadata": {
    "collapsed": true
   },
   "outputs": [],
   "source": [
    "def portfolio_var(cov, weight):\n",
    "    return weight.dot(cov).dot(weight)"
   ]
  },
  {
   "cell_type": "code",
   "execution_count": 336,
   "metadata": {
    "collapsed": true
   },
   "outputs": [],
   "source": [
    "DATA_DIR = 'D:/Data/fund/history/'"
   ]
  },
  {
   "cell_type": "code",
   "execution_count": 337,
   "metadata": {
    "collapsed": true
   },
   "outputs": [],
   "source": [
    "funds = [\n",
    "    '001637.OF',\n",
    "    '001878.OF',\n",
    "    '004450.OF',\n",
    "    '004477.OF',\n",
    "    '070005.OF',\n",
    "    '070023.OF',\n",
    "    '160716.OF',\n",
    "    '160720.OF',\n",
    "]\n",
    "weight = np.array([0.05, 0.05, 0.05, 0.05, 0.3, 0.075, 0.075, 0.35])"
   ]
  },
  {
   "cell_type": "code",
   "execution_count": 338,
   "metadata": {
    "collapsed": false
   },
   "outputs": [],
   "source": [
    "dic = {}\n",
    "for f in funds:\n",
    "    fname = '%s/%s.xlsx'%(DATA_DIR, f)\n",
    "    temp = pd.read_excel(fname, index_col=0)\n",
    "    dic[f] = temp['nav_adj']"
   ]
  },
  {
   "cell_type": "code",
   "execution_count": 339,
   "metadata": {
    "collapsed": false
   },
   "outputs": [],
   "source": [
    "df = pd.DataFrame(dic)"
   ]
  },
  {
   "cell_type": "code",
   "execution_count": 340,
   "metadata": {
    "collapsed": true
   },
   "outputs": [],
   "source": [
    "ret_df = df.pct_change()"
   ]
  },
  {
   "cell_type": "code",
   "execution_count": 341,
   "metadata": {
    "collapsed": false
   },
   "outputs": [
    {
     "data": {
      "text/html": [
       "<div>\n",
       "<table border=\"1\" class=\"dataframe\">\n",
       "  <thead>\n",
       "    <tr style=\"text-align: right;\">\n",
       "      <th></th>\n",
       "      <th>001637.OF</th>\n",
       "      <th>001878.OF</th>\n",
       "      <th>004450.OF</th>\n",
       "      <th>004477.OF</th>\n",
       "      <th>070005.OF</th>\n",
       "      <th>070023.OF</th>\n",
       "      <th>160716.OF</th>\n",
       "      <th>160720.OF</th>\n",
       "    </tr>\n",
       "  </thead>\n",
       "  <tbody>\n",
       "    <tr>\n",
       "      <th>001637.OF</th>\n",
       "      <td>1.000000</td>\n",
       "      <td>0.533143</td>\n",
       "      <td>0.394442</td>\n",
       "      <td>0.399910</td>\n",
       "      <td>0.115024</td>\n",
       "      <td>0.615689</td>\n",
       "      <td>0.356382</td>\n",
       "      <td>0.064878</td>\n",
       "    </tr>\n",
       "    <tr>\n",
       "      <th>001878.OF</th>\n",
       "      <td>0.533143</td>\n",
       "      <td>1.000000</td>\n",
       "      <td>0.632304</td>\n",
       "      <td>0.849573</td>\n",
       "      <td>0.221326</td>\n",
       "      <td>0.654716</td>\n",
       "      <td>0.466402</td>\n",
       "      <td>0.086832</td>\n",
       "    </tr>\n",
       "    <tr>\n",
       "      <th>004450.OF</th>\n",
       "      <td>0.394442</td>\n",
       "      <td>0.632304</td>\n",
       "      <td>1.000000</td>\n",
       "      <td>0.608589</td>\n",
       "      <td>0.302457</td>\n",
       "      <td>0.560419</td>\n",
       "      <td>0.380175</td>\n",
       "      <td>-0.175835</td>\n",
       "    </tr>\n",
       "    <tr>\n",
       "      <th>004477.OF</th>\n",
       "      <td>0.399910</td>\n",
       "      <td>0.849573</td>\n",
       "      <td>0.608589</td>\n",
       "      <td>1.000000</td>\n",
       "      <td>0.415305</td>\n",
       "      <td>0.620355</td>\n",
       "      <td>0.581379</td>\n",
       "      <td>0.055810</td>\n",
       "    </tr>\n",
       "    <tr>\n",
       "      <th>070005.OF</th>\n",
       "      <td>0.115024</td>\n",
       "      <td>0.221326</td>\n",
       "      <td>0.302457</td>\n",
       "      <td>0.415305</td>\n",
       "      <td>1.000000</td>\n",
       "      <td>0.124872</td>\n",
       "      <td>0.134512</td>\n",
       "      <td>0.734628</td>\n",
       "    </tr>\n",
       "    <tr>\n",
       "      <th>070023.OF</th>\n",
       "      <td>0.615689</td>\n",
       "      <td>0.654716</td>\n",
       "      <td>0.560419</td>\n",
       "      <td>0.620355</td>\n",
       "      <td>0.124872</td>\n",
       "      <td>1.000000</td>\n",
       "      <td>0.796583</td>\n",
       "      <td>0.033989</td>\n",
       "    </tr>\n",
       "    <tr>\n",
       "      <th>160716.OF</th>\n",
       "      <td>0.356382</td>\n",
       "      <td>0.466402</td>\n",
       "      <td>0.380175</td>\n",
       "      <td>0.581379</td>\n",
       "      <td>0.134512</td>\n",
       "      <td>0.796583</td>\n",
       "      <td>1.000000</td>\n",
       "      <td>0.052602</td>\n",
       "    </tr>\n",
       "    <tr>\n",
       "      <th>160720.OF</th>\n",
       "      <td>0.064878</td>\n",
       "      <td>0.086832</td>\n",
       "      <td>-0.175835</td>\n",
       "      <td>0.055810</td>\n",
       "      <td>0.734628</td>\n",
       "      <td>0.033989</td>\n",
       "      <td>0.052602</td>\n",
       "      <td>1.000000</td>\n",
       "    </tr>\n",
       "  </tbody>\n",
       "</table>\n",
       "</div>"
      ],
      "text/plain": [
       "           001637.OF  001878.OF  004450.OF  004477.OF  070005.OF  070023.OF  \\\n",
       "001637.OF   1.000000   0.533143   0.394442   0.399910   0.115024   0.615689   \n",
       "001878.OF   0.533143   1.000000   0.632304   0.849573   0.221326   0.654716   \n",
       "004450.OF   0.394442   0.632304   1.000000   0.608589   0.302457   0.560419   \n",
       "004477.OF   0.399910   0.849573   0.608589   1.000000   0.415305   0.620355   \n",
       "070005.OF   0.115024   0.221326   0.302457   0.415305   1.000000   0.124872   \n",
       "070023.OF   0.615689   0.654716   0.560419   0.620355   0.124872   1.000000   \n",
       "160716.OF   0.356382   0.466402   0.380175   0.581379   0.134512   0.796583   \n",
       "160720.OF   0.064878   0.086832  -0.175835   0.055810   0.734628   0.033989   \n",
       "\n",
       "           160716.OF  160720.OF  \n",
       "001637.OF   0.356382   0.064878  \n",
       "001878.OF   0.466402   0.086832  \n",
       "004450.OF   0.380175  -0.175835  \n",
       "004477.OF   0.581379   0.055810  \n",
       "070005.OF   0.134512   0.734628  \n",
       "070023.OF   0.796583   0.033989  \n",
       "160716.OF   1.000000   0.052602  \n",
       "160720.OF   0.052602   1.000000  "
      ]
     },
     "execution_count": 341,
     "metadata": {},
     "output_type": "execute_result"
    }
   ],
   "source": [
    "ret_df.iloc[-500:].corr()"
   ]
  },
  {
   "cell_type": "code",
   "execution_count": 18,
   "metadata": {
    "collapsed": false
   },
   "outputs": [],
   "source": [
    "ret_df.iloc[-500:].corr().to_excel('../data/corr.xlsx')"
   ]
  },
  {
   "cell_type": "code",
   "execution_count": 342,
   "metadata": {
    "collapsed": false
   },
   "outputs": [],
   "source": [
    "cov = ret_df.iloc[-500:].cov()"
   ]
  },
  {
   "cell_type": "code",
   "execution_count": 343,
   "metadata": {
    "collapsed": false
   },
   "outputs": [
    {
     "data": {
      "text/plain": [
       "9.3951569909770867e-06"
      ]
     },
     "execution_count": 343,
     "metadata": {},
     "output_type": "execute_result"
    }
   ],
   "source": [
    "portfolio_var(cov, weight)"
   ]
  },
  {
   "cell_type": "markdown",
   "metadata": {},
   "source": [
    "# 调仓之后"
   ]
  },
  {
   "cell_type": "code",
   "execution_count": 551,
   "metadata": {
    "collapsed": false
   },
   "outputs": [
    {
     "name": "stdout",
     "output_type": "stream",
     "text": [
      "1.0\n"
     ]
    }
   ],
   "source": [
    "funds = [\n",
    "    '001637.OF',\n",
    "    '001878.OF',\n",
    "    '004450.OF',\n",
    "    '004477.OF',\n",
    "    '070005.OF',\n",
    "    '070023.OF',\n",
    "    '160716.OF',\n",
    "    '160720.OF',\n",
    "]\n",
    "# weight = np.array([0.063, 0.05, 0.15-0.033, 0.05, 0.3, 0.07, 0.35])\n",
    "weight = np.array([0.09, 0.05, 0.07, 0.05, 0.3, 0.015, 0.075, 0.35])\n",
    "print weight.sum()"
   ]
  },
  {
   "cell_type": "code",
   "execution_count": 552,
   "metadata": {
    "collapsed": true
   },
   "outputs": [],
   "source": [
    "dic = {}\n",
    "for f in funds:\n",
    "    fname = '%s/%s.xlsx'%(DATA_DIR, f)\n",
    "    temp = pd.read_excel(fname, index_col=0)\n",
    "    dic[f] = temp['nav_adj']"
   ]
  },
  {
   "cell_type": "code",
   "execution_count": 553,
   "metadata": {
    "collapsed": true
   },
   "outputs": [],
   "source": [
    "df = pd.DataFrame(dic)\n",
    "ret_df = df.pct_change()"
   ]
  },
  {
   "cell_type": "code",
   "execution_count": 554,
   "metadata": {
    "collapsed": false
   },
   "outputs": [
    {
     "data": {
      "text/html": [
       "<div>\n",
       "<table border=\"1\" class=\"dataframe\">\n",
       "  <thead>\n",
       "    <tr style=\"text-align: right;\">\n",
       "      <th></th>\n",
       "      <th>001637.OF</th>\n",
       "      <th>001878.OF</th>\n",
       "      <th>004450.OF</th>\n",
       "      <th>004477.OF</th>\n",
       "      <th>070005.OF</th>\n",
       "      <th>070023.OF</th>\n",
       "      <th>160716.OF</th>\n",
       "      <th>160720.OF</th>\n",
       "    </tr>\n",
       "  </thead>\n",
       "  <tbody>\n",
       "    <tr>\n",
       "      <th>001637.OF</th>\n",
       "      <td>1.000000</td>\n",
       "      <td>0.533143</td>\n",
       "      <td>0.394442</td>\n",
       "      <td>0.399910</td>\n",
       "      <td>0.115024</td>\n",
       "      <td>0.615689</td>\n",
       "      <td>0.356382</td>\n",
       "      <td>0.064878</td>\n",
       "    </tr>\n",
       "    <tr>\n",
       "      <th>001878.OF</th>\n",
       "      <td>0.533143</td>\n",
       "      <td>1.000000</td>\n",
       "      <td>0.632304</td>\n",
       "      <td>0.849573</td>\n",
       "      <td>0.221326</td>\n",
       "      <td>0.654716</td>\n",
       "      <td>0.466402</td>\n",
       "      <td>0.086832</td>\n",
       "    </tr>\n",
       "    <tr>\n",
       "      <th>004450.OF</th>\n",
       "      <td>0.394442</td>\n",
       "      <td>0.632304</td>\n",
       "      <td>1.000000</td>\n",
       "      <td>0.608589</td>\n",
       "      <td>0.302457</td>\n",
       "      <td>0.560419</td>\n",
       "      <td>0.380175</td>\n",
       "      <td>-0.175835</td>\n",
       "    </tr>\n",
       "    <tr>\n",
       "      <th>004477.OF</th>\n",
       "      <td>0.399910</td>\n",
       "      <td>0.849573</td>\n",
       "      <td>0.608589</td>\n",
       "      <td>1.000000</td>\n",
       "      <td>0.415305</td>\n",
       "      <td>0.620355</td>\n",
       "      <td>0.581379</td>\n",
       "      <td>0.055810</td>\n",
       "    </tr>\n",
       "    <tr>\n",
       "      <th>070005.OF</th>\n",
       "      <td>0.115024</td>\n",
       "      <td>0.221326</td>\n",
       "      <td>0.302457</td>\n",
       "      <td>0.415305</td>\n",
       "      <td>1.000000</td>\n",
       "      <td>0.124872</td>\n",
       "      <td>0.134512</td>\n",
       "      <td>0.734628</td>\n",
       "    </tr>\n",
       "    <tr>\n",
       "      <th>070023.OF</th>\n",
       "      <td>0.615689</td>\n",
       "      <td>0.654716</td>\n",
       "      <td>0.560419</td>\n",
       "      <td>0.620355</td>\n",
       "      <td>0.124872</td>\n",
       "      <td>1.000000</td>\n",
       "      <td>0.796583</td>\n",
       "      <td>0.033989</td>\n",
       "    </tr>\n",
       "    <tr>\n",
       "      <th>160716.OF</th>\n",
       "      <td>0.356382</td>\n",
       "      <td>0.466402</td>\n",
       "      <td>0.380175</td>\n",
       "      <td>0.581379</td>\n",
       "      <td>0.134512</td>\n",
       "      <td>0.796583</td>\n",
       "      <td>1.000000</td>\n",
       "      <td>0.052602</td>\n",
       "    </tr>\n",
       "    <tr>\n",
       "      <th>160720.OF</th>\n",
       "      <td>0.064878</td>\n",
       "      <td>0.086832</td>\n",
       "      <td>-0.175835</td>\n",
       "      <td>0.055810</td>\n",
       "      <td>0.734628</td>\n",
       "      <td>0.033989</td>\n",
       "      <td>0.052602</td>\n",
       "      <td>1.000000</td>\n",
       "    </tr>\n",
       "  </tbody>\n",
       "</table>\n",
       "</div>"
      ],
      "text/plain": [
       "           001637.OF  001878.OF  004450.OF  004477.OF  070005.OF  070023.OF  \\\n",
       "001637.OF   1.000000   0.533143   0.394442   0.399910   0.115024   0.615689   \n",
       "001878.OF   0.533143   1.000000   0.632304   0.849573   0.221326   0.654716   \n",
       "004450.OF   0.394442   0.632304   1.000000   0.608589   0.302457   0.560419   \n",
       "004477.OF   0.399910   0.849573   0.608589   1.000000   0.415305   0.620355   \n",
       "070005.OF   0.115024   0.221326   0.302457   0.415305   1.000000   0.124872   \n",
       "070023.OF   0.615689   0.654716   0.560419   0.620355   0.124872   1.000000   \n",
       "160716.OF   0.356382   0.466402   0.380175   0.581379   0.134512   0.796583   \n",
       "160720.OF   0.064878   0.086832  -0.175835   0.055810   0.734628   0.033989   \n",
       "\n",
       "           160716.OF  160720.OF  \n",
       "001637.OF   0.356382   0.064878  \n",
       "001878.OF   0.466402   0.086832  \n",
       "004450.OF   0.380175  -0.175835  \n",
       "004477.OF   0.581379   0.055810  \n",
       "070005.OF   0.134512   0.734628  \n",
       "070023.OF   0.796583   0.033989  \n",
       "160716.OF   1.000000   0.052602  \n",
       "160720.OF   0.052602   1.000000  "
      ]
     },
     "execution_count": 554,
     "metadata": {},
     "output_type": "execute_result"
    }
   ],
   "source": [
    "ret_df.iloc[-500:].corr()"
   ]
  },
  {
   "cell_type": "code",
   "execution_count": 555,
   "metadata": {
    "collapsed": true
   },
   "outputs": [],
   "source": [
    "cov = ret_df.iloc[-500:].cov()"
   ]
  },
  {
   "cell_type": "code",
   "execution_count": 556,
   "metadata": {
    "collapsed": false
   },
   "outputs": [
    {
     "data": {
      "text/plain": [
       "7.8779926051544945e-06"
      ]
     },
     "execution_count": 556,
     "metadata": {},
     "output_type": "execute_result"
    }
   ],
   "source": [
    "portfolio_var(cov, weight)"
   ]
  },
  {
   "cell_type": "code",
   "execution_count": 557,
   "metadata": {
    "collapsed": false
   },
   "outputs": [
    {
     "data": {
      "text/plain": [
       "0.16148366517767029"
      ]
     },
     "execution_count": 557,
     "metadata": {},
     "output_type": "execute_result"
    }
   ],
   "source": [
    "(9.3951569909770867e-06 - portfolio_var(cov, weight)) / 9.3951569909770867e-06"
   ]
  },
  {
   "cell_type": "code",
   "execution_count": 558,
   "metadata": {
    "collapsed": false,
    "scrolled": true
   },
   "outputs": [
    {
     "data": {
      "text/plain": [
       "001637.OF    1.734457e-06\n",
       "001878.OF    9.319105e-07\n",
       "004450.OF    1.674711e-06\n",
       "004477.OF    8.384820e-07\n",
       "070005.OF    2.871348e-07\n",
       "070023.OF    4.359763e-07\n",
       "160716.OF    1.671019e-06\n",
       "160720.OF    3.043022e-07\n",
       "dtype: float64"
      ]
     },
     "execution_count": 558,
     "metadata": {},
     "output_type": "execute_result"
    }
   ],
   "source": [
    "weight * cov.dot(weight)"
   ]
  },
  {
   "cell_type": "code",
   "execution_count": null,
   "metadata": {
    "collapsed": true
   },
   "outputs": [],
   "source": []
  },
  {
   "cell_type": "code",
   "execution_count": null,
   "metadata": {
    "collapsed": true
   },
   "outputs": [],
   "source": []
  }
 ],
 "metadata": {
  "anaconda-cloud": {},
  "kernelspec": {
   "display_name": "Python [default]",
   "language": "python",
   "name": "python2"
  },
  "language_info": {
   "codemirror_mode": {
    "name": "ipython",
    "version": 2
   },
   "file_extension": ".py",
   "mimetype": "text/x-python",
   "name": "python",
   "nbconvert_exporter": "python",
   "pygments_lexer": "ipython2",
   "version": "2.7.12"
  }
 },
 "nbformat": 4,
 "nbformat_minor": 1
}
