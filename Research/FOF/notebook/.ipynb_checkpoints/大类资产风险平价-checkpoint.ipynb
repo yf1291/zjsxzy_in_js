{
 "cells": [
  {
   "cell_type": "code",
   "execution_count": 21,
   "metadata": {
    "collapsed": true
   },
   "outputs": [],
   "source": [
    "import pandas as pd\n",
    "import numpy as np\n",
    "import matplotlib.pyplot as plt\n",
    "import seaborn as sns\n",
    "from scipy.optimize import minimize, basinhopping\n",
    "%matplotlib inline"
   ]
  },
  {
   "cell_type": "code",
   "execution_count": 22,
   "metadata": {
    "collapsed": true
   },
   "outputs": [],
   "source": [
    "df = pd.read_excel('../data/asset.xlsx', index_col=0)"
   ]
  },
  {
   "cell_type": "code",
   "execution_count": 23,
   "metadata": {
    "collapsed": false
   },
   "outputs": [
    {
     "data": {
      "text/html": [
       "<div>\n",
       "<table border=\"1\" class=\"dataframe\">\n",
       "  <thead>\n",
       "    <tr style=\"text-align: right;\">\n",
       "      <th></th>\n",
       "      <th>000016.SH</th>\n",
       "      <th>000906.SH</th>\n",
       "      <th>HSI.HI</th>\n",
       "      <th>IXIC.GI</th>\n",
       "    </tr>\n",
       "  </thead>\n",
       "  <tbody>\n",
       "    <tr>\n",
       "      <th>2017-08-22</th>\n",
       "      <td>2643.5032</td>\n",
       "      <td>4205.2359</td>\n",
       "      <td>27401.67</td>\n",
       "      <td>6297.48</td>\n",
       "    </tr>\n",
       "    <tr>\n",
       "      <th>2017-08-23</th>\n",
       "      <td>2659.7804</td>\n",
       "      <td>4198.4550</td>\n",
       "      <td>27401.67</td>\n",
       "      <td>6278.41</td>\n",
       "    </tr>\n",
       "    <tr>\n",
       "      <th>2017-08-24</th>\n",
       "      <td>2646.4016</td>\n",
       "      <td>4172.9899</td>\n",
       "      <td>27518.60</td>\n",
       "      <td>6271.33</td>\n",
       "    </tr>\n",
       "    <tr>\n",
       "      <th>2017-08-25</th>\n",
       "      <td>2706.2421</td>\n",
       "      <td>4234.8388</td>\n",
       "      <td>27848.16</td>\n",
       "      <td>6265.64</td>\n",
       "    </tr>\n",
       "    <tr>\n",
       "      <th>2017-08-28</th>\n",
       "      <td>2736.4617</td>\n",
       "      <td>4287.1433</td>\n",
       "      <td>27863.29</td>\n",
       "      <td>6265.64</td>\n",
       "    </tr>\n",
       "  </tbody>\n",
       "</table>\n",
       "</div>"
      ],
      "text/plain": [
       "            000016.SH  000906.SH    HSI.HI  IXIC.GI\n",
       "2017-08-22  2643.5032  4205.2359  27401.67  6297.48\n",
       "2017-08-23  2659.7804  4198.4550  27401.67  6278.41\n",
       "2017-08-24  2646.4016  4172.9899  27518.60  6271.33\n",
       "2017-08-25  2706.2421  4234.8388  27848.16  6265.64\n",
       "2017-08-28  2736.4617  4287.1433  27863.29  6265.64"
      ]
     },
     "execution_count": 23,
     "metadata": {},
     "output_type": "execute_result"
    }
   ],
   "source": [
    "df.tail()"
   ]
  },
  {
   "cell_type": "code",
   "execution_count": 24,
   "metadata": {
    "collapsed": true
   },
   "outputs": [],
   "source": [
    "ret_df = df.pct_change()"
   ]
  },
  {
   "cell_type": "code",
   "execution_count": 25,
   "metadata": {
    "collapsed": true
   },
   "outputs": [],
   "source": [
    "cov = ret_df.cov()"
   ]
  },
  {
   "cell_type": "code",
   "execution_count": 26,
   "metadata": {
    "collapsed": true
   },
   "outputs": [],
   "source": [
    "# 风险预算优化\n",
    "def calculate_portfolio_var(w, V):\n",
    "    # 计算组合风险的函数\n",
    "    return w.dot(V).dot(w)\n",
    "\n",
    "def calculate_risk_contribution(w ,V):\n",
    "    # 边际风险贡献\n",
    "    MRC = V.dot(w)\n",
    "    # 风险贡献\n",
    "    RC = w * MRC\n",
    "    return RC\n",
    "\n",
    "def risk_budget_objective(x, pars):\n",
    "    # 计算组合风险\n",
    "    V = pars[0]# 协方差矩阵\n",
    "    MRC = V.dot(x)\n",
    "    ARC = x * MRC\n",
    "    J = np.sum([(i-j)**2 for i in ARC for j in ARC])\n",
    "#     J = x.dot(MRC) - np.log(x).sum()\n",
    "#     J = calculate_portfolio_var(x, V) - np.log(x).sum()\n",
    "#     J = sum(np.square(asset_RC - risk_target.T))[0, 0] # sum of squared error\n",
    "#     J = np.abs(asset_RC.max() - asset_RC.min())\n",
    "    return J\n",
    "\n",
    "def total_weight_constraint(x):\n",
    "    return np.sum(x) - 1.0\n",
    "    \n",
    "def long_only_constraint(x):\n",
    "    return x\n",
    "    \n",
    "# 根据资产预期目标风险贡献度来计算各资产的权重\n",
    "def calcu_w(V):\n",
    "    N = V.shape[0]\n",
    "    w0 = np.random.random_sample((N,))\n",
    "    w0 /= w0.sum()\n",
    "    cons = ({'type': 'eq', 'fun': total_weight_constraint},\n",
    "            {'type': 'ineq', 'fun': long_only_constraint})\n",
    "    minimizer_args = {'method': 'SLSQP', 'args': [V], 'constraints': cons}\n",
    "#     minimizer_args = {'method': 'L-BFGS-B', 'args': [V], 'bounds': np.array([(0., None)]*N)}\n",
    "#     weight = res.x / res.x.sum()\n",
    "    res = basinhopping(risk_budget_objective, w0, stepsize=1e-8, minimizer_kwargs=minimizer_args)\n",
    "#     res = minimize(risk_budget_objective, w0, args=[V], method='SLSQP',constraints=cons)\n",
    "    return res.x"
   ]
  },
  {
   "cell_type": "code",
   "execution_count": 27,
   "metadata": {
    "collapsed": false
   },
   "outputs": [],
   "source": [
    "weight = calcu_w(cov*10000)"
   ]
  },
  {
   "cell_type": "code",
   "execution_count": 28,
   "metadata": {
    "collapsed": false
   },
   "outputs": [
    {
     "data": {
      "text/plain": [
       "array([ 0.18185088,  0.18400344,  0.2687741 ,  0.36537158])"
      ]
     },
     "execution_count": 28,
     "metadata": {},
     "output_type": "execute_result"
    }
   ],
   "source": [
    "weight"
   ]
  },
  {
   "cell_type": "code",
   "execution_count": 29,
   "metadata": {
    "collapsed": false
   },
   "outputs": [
    {
     "data": {
      "text/plain": [
       "000016.SH    0.000021\n",
       "000906.SH    0.000021\n",
       "HSI.HI       0.000021\n",
       "IXIC.GI      0.000021\n",
       "dtype: float64"
      ]
     },
     "execution_count": 29,
     "metadata": {},
     "output_type": "execute_result"
    }
   ],
   "source": [
    "calculate_risk_contribution(weight, cov)"
   ]
  },
  {
   "cell_type": "code",
   "execution_count": 33,
   "metadata": {
    "collapsed": false
   },
   "outputs": [
    {
     "data": {
      "text/html": [
       "<div>\n",
       "<table border=\"1\" class=\"dataframe\">\n",
       "  <thead>\n",
       "    <tr style=\"text-align: right;\">\n",
       "      <th></th>\n",
       "      <th>000016.SH</th>\n",
       "      <th>000906.SH</th>\n",
       "      <th>HSI.HI</th>\n",
       "      <th>IXIC.GI</th>\n",
       "    </tr>\n",
       "  </thead>\n",
       "  <tbody>\n",
       "    <tr>\n",
       "      <th>000016.SH</th>\n",
       "      <td>1.000000</td>\n",
       "      <td>0.715839</td>\n",
       "      <td>0.447734</td>\n",
       "      <td>0.106468</td>\n",
       "    </tr>\n",
       "    <tr>\n",
       "      <th>000906.SH</th>\n",
       "      <td>0.715839</td>\n",
       "      <td>1.000000</td>\n",
       "      <td>0.467823</td>\n",
       "      <td>0.060985</td>\n",
       "    </tr>\n",
       "    <tr>\n",
       "      <th>HSI.HI</th>\n",
       "      <td>0.447734</td>\n",
       "      <td>0.467823</td>\n",
       "      <td>1.000000</td>\n",
       "      <td>0.111086</td>\n",
       "    </tr>\n",
       "    <tr>\n",
       "      <th>IXIC.GI</th>\n",
       "      <td>0.106468</td>\n",
       "      <td>0.060985</td>\n",
       "      <td>0.111086</td>\n",
       "      <td>1.000000</td>\n",
       "    </tr>\n",
       "  </tbody>\n",
       "</table>\n",
       "</div>"
      ],
      "text/plain": [
       "           000016.SH  000906.SH    HSI.HI   IXIC.GI\n",
       "000016.SH   1.000000   0.715839  0.447734  0.106468\n",
       "000906.SH   0.715839   1.000000  0.467823  0.060985\n",
       "HSI.HI      0.447734   0.467823  1.000000  0.111086\n",
       "IXIC.GI     0.106468   0.060985  0.111086  1.000000"
      ]
     },
     "execution_count": 33,
     "metadata": {},
     "output_type": "execute_result"
    }
   ],
   "source": [
    "ret_df.iloc[-242:].corr()"
   ]
  },
  {
   "cell_type": "code",
   "execution_count": null,
   "metadata": {
    "collapsed": true
   },
   "outputs": [],
   "source": []
  }
 ],
 "metadata": {
  "anaconda-cloud": {},
  "kernelspec": {
   "display_name": "Python [default]",
   "language": "python",
   "name": "python2"
  },
  "language_info": {
   "codemirror_mode": {
    "name": "ipython",
    "version": 2
   },
   "file_extension": ".py",
   "mimetype": "text/x-python",
   "name": "python",
   "nbconvert_exporter": "python",
   "pygments_lexer": "ipython2",
   "version": "2.7.12"
  }
 },
 "nbformat": 4,
 "nbformat_minor": 1
}
