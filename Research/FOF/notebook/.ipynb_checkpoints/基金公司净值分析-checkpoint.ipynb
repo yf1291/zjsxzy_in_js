{
 "cells": [
  {
   "cell_type": "code",
   "execution_count": 14,
   "metadata": {
    "collapsed": true
   },
   "outputs": [],
   "source": [
    "import pandas as pd\n",
    "import numpy as np\n",
    "import matplotlib.pyplot as plt\n",
    "from WindPy import w\n",
    "%matplotlib inline"
   ]
  },
  {
   "cell_type": "code",
   "execution_count": 2,
   "metadata": {
    "collapsed": true
   },
   "outputs": [],
   "source": [
    "name = u'嘉实基金管理有限公司'"
   ]
  },
  {
   "cell_type": "code",
   "execution_count": 3,
   "metadata": {
    "collapsed": true
   },
   "outputs": [],
   "source": [
    "df = pd.read_excel(u'D:/Data/fund/comp/%s.xlsx'%(name))"
   ]
  },
  {
   "cell_type": "code",
   "execution_count": 6,
   "metadata": {},
   "outputs": [
    {
     "data": {
      "text/html": [
       "<div>\n",
       "<style>\n",
       "    .dataframe thead tr:only-child th {\n",
       "        text-align: right;\n",
       "    }\n",
       "\n",
       "    .dataframe thead th {\n",
       "        text-align: left;\n",
       "    }\n",
       "\n",
       "    .dataframe tbody tr th {\n",
       "        vertical-align: top;\n",
       "    }\n",
       "</style>\n",
       "<table border=\"1\" class=\"dataframe\">\n",
       "  <thead>\n",
       "    <tr style=\"text-align: right;\">\n",
       "      <th></th>\n",
       "      <th>000005.OF</th>\n",
       "      <th>000008.OF</th>\n",
       "      <th>000082.OF</th>\n",
       "      <th>000087.OF</th>\n",
       "      <th>000088.OF</th>\n",
       "      <th>000113.OF</th>\n",
       "      <th>000115.OF</th>\n",
       "      <th>000116.OF</th>\n",
       "      <th>000176.OF</th>\n",
       "      <th>000177.OF</th>\n",
       "      <th>...</th>\n",
       "      <th>160716.OF</th>\n",
       "      <th>160718.OF</th>\n",
       "      <th>160720.OF</th>\n",
       "      <th>160721.OF</th>\n",
       "      <th>512550.OF</th>\n",
       "      <th>512600.OF</th>\n",
       "      <th>512610.OF</th>\n",
       "      <th>512640.OF</th>\n",
       "      <th>960024.OF</th>\n",
       "      <th>960025.OF</th>\n",
       "    </tr>\n",
       "  </thead>\n",
       "  <tbody>\n",
       "    <tr>\n",
       "      <th>2017-11-20</th>\n",
       "      <td>1.217768</td>\n",
       "      <td>1.7659</td>\n",
       "      <td>2.191362</td>\n",
       "      <td>1.0410</td>\n",
       "      <td>1.0371</td>\n",
       "      <td>1.272204</td>\n",
       "      <td>1.251128</td>\n",
       "      <td>1.251859</td>\n",
       "      <td>1.3713</td>\n",
       "      <td>1.303603</td>\n",
       "      <td>...</td>\n",
       "      <td>1.5889</td>\n",
       "      <td>1.374382</td>\n",
       "      <td>1.165863</td>\n",
       "      <td>1.168957</td>\n",
       "      <td>1.1398</td>\n",
       "      <td>2.2965</td>\n",
       "      <td>1.6138</td>\n",
       "      <td>2.0002</td>\n",
       "      <td>1.1531</td>\n",
       "      <td>NaN</td>\n",
       "    </tr>\n",
       "    <tr>\n",
       "      <th>2017-11-21</th>\n",
       "      <td>1.217768</td>\n",
       "      <td>1.7721</td>\n",
       "      <td>2.211381</td>\n",
       "      <td>1.0407</td>\n",
       "      <td>1.0368</td>\n",
       "      <td>1.272204</td>\n",
       "      <td>1.249995</td>\n",
       "      <td>1.250611</td>\n",
       "      <td>1.3911</td>\n",
       "      <td>1.303603</td>\n",
       "      <td>...</td>\n",
       "      <td>1.6121</td>\n",
       "      <td>1.375460</td>\n",
       "      <td>1.164434</td>\n",
       "      <td>1.167534</td>\n",
       "      <td>1.1627</td>\n",
       "      <td>2.3426</td>\n",
       "      <td>1.6199</td>\n",
       "      <td>2.0448</td>\n",
       "      <td>1.1571</td>\n",
       "      <td>NaN</td>\n",
       "    </tr>\n",
       "    <tr>\n",
       "      <th>2017-11-22</th>\n",
       "      <td>1.216555</td>\n",
       "      <td>1.7677</td>\n",
       "      <td>2.206761</td>\n",
       "      <td>1.0395</td>\n",
       "      <td>1.0356</td>\n",
       "      <td>1.271063</td>\n",
       "      <td>1.248861</td>\n",
       "      <td>1.250611</td>\n",
       "      <td>1.3924</td>\n",
       "      <td>1.303603</td>\n",
       "      <td>...</td>\n",
       "      <td>1.6351</td>\n",
       "      <td>1.376403</td>\n",
       "      <td>1.159378</td>\n",
       "      <td>1.162500</td>\n",
       "      <td>1.1708</td>\n",
       "      <td>2.2928</td>\n",
       "      <td>1.6033</td>\n",
       "      <td>2.0599</td>\n",
       "      <td>1.1488</td>\n",
       "      <td>NaN</td>\n",
       "    </tr>\n",
       "    <tr>\n",
       "      <th>2017-11-23</th>\n",
       "      <td>1.215342</td>\n",
       "      <td>1.7260</td>\n",
       "      <td>2.134383</td>\n",
       "      <td>1.0387</td>\n",
       "      <td>1.0347</td>\n",
       "      <td>1.268781</td>\n",
       "      <td>1.246595</td>\n",
       "      <td>1.249363</td>\n",
       "      <td>1.3483</td>\n",
       "      <td>1.299734</td>\n",
       "      <td>...</td>\n",
       "      <td>1.6002</td>\n",
       "      <td>1.369531</td>\n",
       "      <td>1.157180</td>\n",
       "      <td>1.160202</td>\n",
       "      <td>1.1376</td>\n",
       "      <td>2.2020</td>\n",
       "      <td>1.5501</td>\n",
       "      <td>2.0119</td>\n",
       "      <td>1.1048</td>\n",
       "      <td>NaN</td>\n",
       "    </tr>\n",
       "    <tr>\n",
       "      <th>2017-11-24</th>\n",
       "      <td>1.215342</td>\n",
       "      <td>1.7268</td>\n",
       "      <td>2.129763</td>\n",
       "      <td>1.0398</td>\n",
       "      <td>1.0359</td>\n",
       "      <td>1.268781</td>\n",
       "      <td>1.246595</td>\n",
       "      <td>1.249363</td>\n",
       "      <td>1.3477</td>\n",
       "      <td>1.298445</td>\n",
       "      <td>...</td>\n",
       "      <td>1.6005</td>\n",
       "      <td>1.370205</td>\n",
       "      <td>1.156850</td>\n",
       "      <td>1.159874</td>\n",
       "      <td>1.1377</td>\n",
       "      <td>2.1970</td>\n",
       "      <td>1.5531</td>\n",
       "      <td>2.0186</td>\n",
       "      <td>1.1017</td>\n",
       "      <td>NaN</td>\n",
       "    </tr>\n",
       "  </tbody>\n",
       "</table>\n",
       "<p>5 rows × 124 columns</p>\n",
       "</div>"
      ],
      "text/plain": [
       "            000005.OF  000008.OF  000082.OF  000087.OF  000088.OF  000113.OF  \\\n",
       "2017-11-20   1.217768     1.7659   2.191362     1.0410     1.0371   1.272204   \n",
       "2017-11-21   1.217768     1.7721   2.211381     1.0407     1.0368   1.272204   \n",
       "2017-11-22   1.216555     1.7677   2.206761     1.0395     1.0356   1.271063   \n",
       "2017-11-23   1.215342     1.7260   2.134383     1.0387     1.0347   1.268781   \n",
       "2017-11-24   1.215342     1.7268   2.129763     1.0398     1.0359   1.268781   \n",
       "\n",
       "            000115.OF  000116.OF  000176.OF  000177.OF    ...      160716.OF  \\\n",
       "2017-11-20   1.251128   1.251859     1.3713   1.303603    ...         1.5889   \n",
       "2017-11-21   1.249995   1.250611     1.3911   1.303603    ...         1.6121   \n",
       "2017-11-22   1.248861   1.250611     1.3924   1.303603    ...         1.6351   \n",
       "2017-11-23   1.246595   1.249363     1.3483   1.299734    ...         1.6002   \n",
       "2017-11-24   1.246595   1.249363     1.3477   1.298445    ...         1.6005   \n",
       "\n",
       "            160718.OF  160720.OF  160721.OF  512550.OF  512600.OF  512610.OF  \\\n",
       "2017-11-20   1.374382   1.165863   1.168957     1.1398     2.2965     1.6138   \n",
       "2017-11-21   1.375460   1.164434   1.167534     1.1627     2.3426     1.6199   \n",
       "2017-11-22   1.376403   1.159378   1.162500     1.1708     2.2928     1.6033   \n",
       "2017-11-23   1.369531   1.157180   1.160202     1.1376     2.2020     1.5501   \n",
       "2017-11-24   1.370205   1.156850   1.159874     1.1377     2.1970     1.5531   \n",
       "\n",
       "            512640.OF  960024.OF  960025.OF  \n",
       "2017-11-20     2.0002     1.1531        NaN  \n",
       "2017-11-21     2.0448     1.1571        NaN  \n",
       "2017-11-22     2.0599     1.1488        NaN  \n",
       "2017-11-23     2.0119     1.1048        NaN  \n",
       "2017-11-24     2.0186     1.1017        NaN  \n",
       "\n",
       "[5 rows x 124 columns]"
      ]
     },
     "execution_count": 6,
     "metadata": {},
     "output_type": "execute_result"
    }
   ],
   "source": [
    "df.tail()"
   ]
  },
  {
   "cell_type": "code",
   "execution_count": 8,
   "metadata": {},
   "outputs": [],
   "source": [
    "pnl = pd.read_pickle(u'D:/Data/fund/comp_rpt/%s.pkl'%(name))"
   ]
  },
  {
   "cell_type": "code",
   "execution_count": 10,
   "metadata": {},
   "outputs": [
    {
     "data": {
      "text/plain": [
       "<class 'pandas.core.panel.Panel'>\n",
       "Dimensions: 124 (items) x 31 (major_axis) x 5 (minor_axis)\n",
       "Items axis: 000005.OF to 960025.OF\n",
       "Major_axis axis: 2010-03-31 00:00:00 to 2017-09-30 00:00:00\n",
       "Minor_axis axis: prt_netasset to prt_stocktoasset"
      ]
     },
     "execution_count": 10,
     "metadata": {},
     "output_type": "execute_result"
    }
   ],
   "source": [
    "pnl"
   ]
  },
  {
   "cell_type": "code",
   "execution_count": 12,
   "metadata": {},
   "outputs": [
    {
     "data": {
      "text/plain": [
       "Index([u'prt_netasset', u'prt_stocktonav', u'prt_bondtonav', u'prt_cashtonav',\n",
       "       u'prt_stocktoasset'],\n",
       "      dtype='object')"
      ]
     },
     "execution_count": 12,
     "metadata": {},
     "output_type": "execute_result"
    }
   ],
   "source": [
    "pnl.minor_axis"
   ]
  },
  {
   "cell_type": "code",
   "execution_count": 15,
   "metadata": {},
   "outputs": [
    {
     "data": {
      "text/plain": [
       ".ErrorCode=-40520004\n",
       ".Data=[Login Failed!]"
      ]
     },
     "execution_count": 15,
     "metadata": {},
     "output_type": "execute_result"
    }
   ],
   "source": [
    "w.start()"
   ]
  },
  {
   "cell_type": "code",
   "execution_count": null,
   "metadata": {
    "collapsed": true
   },
   "outputs": [],
   "source": []
  }
 ],
 "metadata": {
  "kernelspec": {
   "display_name": "Python 2",
   "language": "python",
   "name": "python2"
  },
  "language_info": {
   "codemirror_mode": {
    "name": "ipython",
    "version": 2
   },
   "file_extension": ".py",
   "mimetype": "text/x-python",
   "name": "python",
   "nbconvert_exporter": "python",
   "pygments_lexer": "ipython2",
   "version": "2.7.14"
  }
 },
 "nbformat": 4,
 "nbformat_minor": 2
}
