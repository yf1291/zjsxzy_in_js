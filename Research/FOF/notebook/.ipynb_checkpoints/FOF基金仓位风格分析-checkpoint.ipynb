{
 "cells": [
  {
   "cell_type": "code",
   "execution_count": 44,
   "metadata": {
    "collapsed": true
   },
   "outputs": [],
   "source": [
    "import pandas as pd\n",
    "import numpy as np\n",
    "import matplotlib.pyplot as plt\n",
    "from WindPy import w\n",
    "import empyrical\n",
    "%matplotlib inline"
   ]
  },
  {
   "cell_type": "code",
   "execution_count": 5,
   "metadata": {},
   "outputs": [
    {
     "name": "stdout",
     "output_type": "stream",
     "text": [
      "Welcome to use Wind Quant API for Python (WindPy)!\n",
      "\n",
      "COPYRIGHT (C) 2017 WIND INFORMATION CO., LTD. ALL RIGHTS RESERVED.\n",
      "IN NO CIRCUMSTANCE SHALL WIND BE RESPONSIBLE FOR ANY DAMAGES OR LOSSES CAUSED BY USING WIND QUANT API FOR Python.\n"
     ]
    },
    {
     "data": {
      "text/plain": [
       ".ErrorCode=0\n",
       ".Data=[OK!]"
      ]
     },
     "execution_count": 5,
     "metadata": {},
     "output_type": "execute_result"
    }
   ],
   "source": [
    "w.start()"
   ]
  },
  {
   "cell_type": "code",
   "execution_count": 50,
   "metadata": {
    "collapsed": true
   },
   "outputs": [],
   "source": [
    "DATA_DIR = 'D:/Data/index'"
   ]
  },
  {
   "cell_type": "code",
   "execution_count": 51,
   "metadata": {
    "collapsed": true
   },
   "outputs": [],
   "source": [
    "df = pd.read_excel(u'../data/混合型FOF.xlsx')"
   ]
  },
  {
   "cell_type": "code",
   "execution_count": 52,
   "metadata": {},
   "outputs": [
    {
     "data": {
      "text/html": [
       "<div>\n",
       "<style scoped>\n",
       "    .dataframe tbody tr th:only-of-type {\n",
       "        vertical-align: middle;\n",
       "    }\n",
       "\n",
       "    .dataframe tbody tr th {\n",
       "        vertical-align: top;\n",
       "    }\n",
       "\n",
       "    .dataframe thead th {\n",
       "        text-align: right;\n",
       "    }\n",
       "</style>\n",
       "<table border=\"1\" class=\"dataframe\">\n",
       "  <thead>\n",
       "    <tr style=\"text-align: right;\">\n",
       "      <th></th>\n",
       "      <th>代码</th>\n",
       "      <th>名称</th>\n",
       "      <th>现价</th>\n",
       "      <th>涨跌</th>\n",
       "      <th>涨跌幅</th>\n",
       "      <th>成交金额</th>\n",
       "      <th>年初至今</th>\n",
       "      <th>时间</th>\n",
       "    </tr>\n",
       "  </thead>\n",
       "  <tbody>\n",
       "    <tr>\n",
       "      <th>0</th>\n",
       "      <td>005218.OF</td>\n",
       "      <td>华夏聚惠稳健目标A</td>\n",
       "      <td>1.0092</td>\n",
       "      <td>0.0010</td>\n",
       "      <td>0.0010</td>\n",
       "      <td>0</td>\n",
       "      <td>0.0030</td>\n",
       "      <td>2018-01-04</td>\n",
       "    </tr>\n",
       "    <tr>\n",
       "      <th>1</th>\n",
       "      <td>005219.OF</td>\n",
       "      <td>华夏聚惠稳健目标C</td>\n",
       "      <td>1.0085</td>\n",
       "      <td>0.0009</td>\n",
       "      <td>0.0009</td>\n",
       "      <td>0</td>\n",
       "      <td>0.0029</td>\n",
       "      <td>2018-01-04</td>\n",
       "    </tr>\n",
       "    <tr>\n",
       "      <th>2</th>\n",
       "      <td>005221.OF</td>\n",
       "      <td>泰达宏利全能优选A</td>\n",
       "      <td>1.0058</td>\n",
       "      <td>0.0005</td>\n",
       "      <td>0.0005</td>\n",
       "      <td>0</td>\n",
       "      <td>0.0046</td>\n",
       "      <td>2018-01-04</td>\n",
       "    </tr>\n",
       "    <tr>\n",
       "      <th>3</th>\n",
       "      <td>005222.OF</td>\n",
       "      <td>泰达宏利全能优选C</td>\n",
       "      <td>1.0052</td>\n",
       "      <td>0.0004</td>\n",
       "      <td>0.0004</td>\n",
       "      <td>0</td>\n",
       "      <td>0.0044</td>\n",
       "      <td>2018-01-04</td>\n",
       "    </tr>\n",
       "    <tr>\n",
       "      <th>4</th>\n",
       "      <td>005217.OF</td>\n",
       "      <td>建信福泽安泰</td>\n",
       "      <td>1.0103</td>\n",
       "      <td>0.0003</td>\n",
       "      <td>0.0003</td>\n",
       "      <td>0</td>\n",
       "      <td>0.0035</td>\n",
       "      <td>2018-01-05</td>\n",
       "    </tr>\n",
       "    <tr>\n",
       "      <th>5</th>\n",
       "      <td>005157.OF</td>\n",
       "      <td>嘉实领航资产配置C</td>\n",
       "      <td>1.0041</td>\n",
       "      <td>0.0002</td>\n",
       "      <td>0.0002</td>\n",
       "      <td>0</td>\n",
       "      <td>0.0015</td>\n",
       "      <td>2018-01-04</td>\n",
       "    </tr>\n",
       "    <tr>\n",
       "      <th>6</th>\n",
       "      <td>005156.OF</td>\n",
       "      <td>嘉实领航资产配置A</td>\n",
       "      <td>1.0061</td>\n",
       "      <td>0.0002</td>\n",
       "      <td>0.0002</td>\n",
       "      <td>0</td>\n",
       "      <td>0.0017</td>\n",
       "      <td>2018-01-04</td>\n",
       "    </tr>\n",
       "    <tr>\n",
       "      <th>7</th>\n",
       "      <td>005216.OF</td>\n",
       "      <td>南方全天候策略C</td>\n",
       "      <td>1.0076</td>\n",
       "      <td>-0.0001</td>\n",
       "      <td>-0.0001</td>\n",
       "      <td>0</td>\n",
       "      <td>0.0022</td>\n",
       "      <td>2018-01-05</td>\n",
       "    </tr>\n",
       "    <tr>\n",
       "      <th>8</th>\n",
       "      <td>005215.OF</td>\n",
       "      <td>南方全天候策略A</td>\n",
       "      <td>1.0089</td>\n",
       "      <td>-0.0001</td>\n",
       "      <td>-0.0001</td>\n",
       "      <td>0</td>\n",
       "      <td>0.0023</td>\n",
       "      <td>2018-01-05</td>\n",
       "    </tr>\n",
       "    <tr>\n",
       "      <th>9</th>\n",
       "      <td>005220.OF</td>\n",
       "      <td>海富通聚优精选</td>\n",
       "      <td>1.0153</td>\n",
       "      <td>-0.0002</td>\n",
       "      <td>-0.0002</td>\n",
       "      <td>0</td>\n",
       "      <td>0.0166</td>\n",
       "      <td>2018-01-05</td>\n",
       "    </tr>\n",
       "  </tbody>\n",
       "</table>\n",
       "</div>"
      ],
      "text/plain": [
       "          代码         名称      现价      涨跌     涨跌幅  成交金额    年初至今         时间\n",
       "0  005218.OF  华夏聚惠稳健目标A  1.0092  0.0010  0.0010     0  0.0030 2018-01-04\n",
       "1  005219.OF  华夏聚惠稳健目标C  1.0085  0.0009  0.0009     0  0.0029 2018-01-04\n",
       "2  005221.OF  泰达宏利全能优选A  1.0058  0.0005  0.0005     0  0.0046 2018-01-04\n",
       "3  005222.OF  泰达宏利全能优选C  1.0052  0.0004  0.0004     0  0.0044 2018-01-04\n",
       "4  005217.OF     建信福泽安泰  1.0103  0.0003  0.0003     0  0.0035 2018-01-05\n",
       "5  005157.OF  嘉实领航资产配置C  1.0041  0.0002  0.0002     0  0.0015 2018-01-04\n",
       "6  005156.OF  嘉实领航资产配置A  1.0061  0.0002  0.0002     0  0.0017 2018-01-04\n",
       "7  005216.OF   南方全天候策略C  1.0076 -0.0001 -0.0001     0  0.0022 2018-01-05\n",
       "8  005215.OF   南方全天候策略A  1.0089 -0.0001 -0.0001     0  0.0023 2018-01-05\n",
       "9  005220.OF    海富通聚优精选  1.0153 -0.0002 -0.0002     0  0.0166 2018-01-05"
      ]
     },
     "execution_count": 52,
     "metadata": {},
     "output_type": "execute_result"
    }
   ],
   "source": [
    "df"
   ]
  },
  {
   "cell_type": "code",
   "execution_count": 53,
   "metadata": {},
   "outputs": [
    {
     "name": "stdout",
     "output_type": "stream",
     "text": [
      "005218.OF\n",
      "005221.OF\n",
      "005217.OF\n",
      "005156.OF\n",
      "005215.OF\n",
      "005220.OF\n"
     ]
    }
   ],
   "source": [
    "dic = {}\n",
    "start_date, end_date = '2017-12-01', '2018-01-04'\n",
    "for index in df.index:\n",
    "    if df.loc[index][u'名称'].endswith('C'):\n",
    "        continue\n",
    "    else:\n",
    "        wind_code = df.loc[index][u'代码']\n",
    "        print wind_code\n",
    "        data = w.wsd(wind_code, 'nav_adj', start_date, end_date)\n",
    "        dic[wind_code] = pd.Series(data.Data[0], index=data.Times)"
   ]
  },
  {
   "cell_type": "code",
   "execution_count": 54,
   "metadata": {
    "collapsed": true
   },
   "outputs": [],
   "source": [
    "nav = pd.DataFrame(dic)"
   ]
  },
  {
   "cell_type": "code",
   "execution_count": 55,
   "metadata": {},
   "outputs": [],
   "source": [
    "nav = nav.dropna()"
   ]
  },
  {
   "cell_type": "code",
   "execution_count": 56,
   "metadata": {
    "collapsed": true
   },
   "outputs": [],
   "source": [
    "nav.index = pd.to_datetime(nav.index)"
   ]
  },
  {
   "cell_type": "code",
   "execution_count": 57,
   "metadata": {},
   "outputs": [
    {
     "data": {
      "text/plain": [
       "[<matplotlib.lines.Line2D at 0x2148d358>]"
      ]
     },
     "execution_count": 57,
     "metadata": {},
     "output_type": "execute_result"
    },
    {
     "data": {
      "image/png": "[encoded data removed]",
      "text/plain": [
       "<matplotlib.figure.Figure at 0x1d062d30>"
      ]
     },
     "metadata": {},
     "output_type": "display_data"
    }
   ],
   "source": [
    "plt.figure(figsize=(16, 9))\n",
    "plt.plot(nav['005156.OF'])"
   ]
  },
  {
   "cell_type": "code",
   "execution_count": 77,
   "metadata": {
    "collapsed": true
   },
   "outputs": [],
   "source": [
    "sector = pd.read_excel(u'D:/Data/list/板块指数.xlsx', index_col=0)\n",
    "cor_df = pd.DataFrame(index=sector[u'名称'], columns=nav.columns)"
   ]
  },
  {
   "cell_type": "code",
   "execution_count": 78,
   "metadata": {},
   "outputs": [
    {
     "name": "stdout",
     "output_type": "stream",
     "text": [
      "上证综指\n",
      "上证50\n",
      "沪深300\n",
      "中证1000\n",
      "中证100\n",
      "中证500\n",
      "中证800\n",
      "中小板综\n",
      "创业板综\n",
      "深证综指\n",
      "万得全A\n"
     ]
    }
   ],
   "source": [
    "for wind_code in sector.index:\n",
    "    fname = '%s/%s.xlsx'%(DATA_DIR, wind_code)\n",
    "    temp = pd.read_excel(fname, index_col=0)\n",
    "    ret = temp.pct_change()\n",
    "    ret = ret[(ret.index >= start_date) & (ret.index <= end_date)]['close']\n",
    "    for col in nav.columns:\n",
    "        series = nav[col].pct_change()\n",
    "        cor_df.loc[sector.loc[wind_code, u'名称'], col] = (1+ret).cumprod().corr((1+series).cumprod())\n",
    "    print sector.loc[wind_code, u'名称']"
   ]
  },
  {
   "cell_type": "code",
   "execution_count": 79,
   "metadata": {
    "collapsed": true
   },
   "outputs": [],
   "source": [
    "cor_df.to_excel(u'../data/FOF-板块-corr.xlsx')"
   ]
  },
  {
   "cell_type": "code",
   "execution_count": 58,
   "metadata": {
    "collapsed": true
   },
   "outputs": [],
   "source": [
    "sector = pd.read_excel(u'D:/Data/list/板块指数.xlsx', index_col=0)\n",
    "beta_df = pd.DataFrame(index=sector[u'名称'], columns=nav.columns)"
   ]
  },
  {
   "cell_type": "code",
   "execution_count": 60,
   "metadata": {},
   "outputs": [
    {
     "name": "stdout",
     "output_type": "stream",
     "text": [
      "上证综指\n",
      "上证50\n",
      "沪深300\n",
      "中证1000\n",
      "中证100\n",
      "中证500\n",
      "中证800\n",
      "中小板综\n",
      "创业板综\n",
      "深证综指\n",
      "万得全A\n"
     ]
    }
   ],
   "source": [
    "for wind_code in sector.index:\n",
    "    fname = '%s/%s.xlsx'%(DATA_DIR, wind_code)\n",
    "    temp = pd.read_excel(fname, index_col=0)\n",
    "    ret = temp.pct_change()\n",
    "    ret = ret[(ret.index >= start_date) & (ret.index <= end_date)]['close']\n",
    "    for col in nav.columns:\n",
    "        series = nav[col].pct_change()\n",
    "        beta_df.loc[sector.loc[wind_code, u'名称'], col] = empyrical.beta(series, ret)\n",
    "    print sector.loc[wind_code, u'名称']"
   ]
  },
  {
   "cell_type": "code",
   "execution_count": 61,
   "metadata": {},
   "outputs": [
    {
     "data": {
      "text/html": [
       "<div>\n",
       "<style scoped>\n",
       "    .dataframe tbody tr th:only-of-type {\n",
       "        vertical-align: middle;\n",
       "    }\n",
       "\n",
       "    .dataframe tbody tr th {\n",
       "        vertical-align: top;\n",
       "    }\n",
       "\n",
       "    .dataframe thead th {\n",
       "        text-align: right;\n",
       "    }\n",
       "</style>\n",
       "<table border=\"1\" class=\"dataframe\">\n",
       "  <thead>\n",
       "    <tr style=\"text-align: right;\">\n",
       "      <th></th>\n",
       "      <th>005156.OF</th>\n",
       "      <th>005215.OF</th>\n",
       "      <th>005217.OF</th>\n",
       "      <th>005218.OF</th>\n",
       "      <th>005220.OF</th>\n",
       "      <th>005221.OF</th>\n",
       "    </tr>\n",
       "    <tr>\n",
       "      <th>名称</th>\n",
       "      <th></th>\n",
       "      <th></th>\n",
       "      <th></th>\n",
       "      <th></th>\n",
       "      <th></th>\n",
       "      <th></th>\n",
       "    </tr>\n",
       "  </thead>\n",
       "  <tbody>\n",
       "    <tr>\n",
       "      <th>上证综指</th>\n",
       "      <td>0.0321626</td>\n",
       "      <td>0.0648395</td>\n",
       "      <td>0.068183</td>\n",
       "      <td>0.0477066</td>\n",
       "      <td>0.803139</td>\n",
       "      <td>0.181743</td>\n",
       "    </tr>\n",
       "    <tr>\n",
       "      <th>上证50</th>\n",
       "      <td>0.0212959</td>\n",
       "      <td>0.0404646</td>\n",
       "      <td>0.0419817</td>\n",
       "      <td>0.024558</td>\n",
       "      <td>0.511091</td>\n",
       "      <td>0.0940682</td>\n",
       "    </tr>\n",
       "    <tr>\n",
       "      <th>沪深300</th>\n",
       "      <td>0.0259707</td>\n",
       "      <td>0.0538837</td>\n",
       "      <td>0.052365</td>\n",
       "      <td>0.0344</td>\n",
       "      <td>0.68587</td>\n",
       "      <td>0.129295</td>\n",
       "    </tr>\n",
       "    <tr>\n",
       "      <th>中证1000</th>\n",
       "      <td>0.01029</td>\n",
       "      <td>0.0250151</td>\n",
       "      <td>0.0249717</td>\n",
       "      <td>0.0242315</td>\n",
       "      <td>0.284395</td>\n",
       "      <td>0.0871323</td>\n",
       "    </tr>\n",
       "    <tr>\n",
       "      <th>中证100</th>\n",
       "      <td>0.0218031</td>\n",
       "      <td>0.0439929</td>\n",
       "      <td>0.0426315</td>\n",
       "      <td>0.0270537</td>\n",
       "      <td>0.566918</td>\n",
       "      <td>0.101054</td>\n",
       "    </tr>\n",
       "    <tr>\n",
       "      <th>中证500</th>\n",
       "      <td>0.0154555</td>\n",
       "      <td>0.0371675</td>\n",
       "      <td>0.0349344</td>\n",
       "      <td>0.0306385</td>\n",
       "      <td>0.439175</td>\n",
       "      <td>0.112488</td>\n",
       "    </tr>\n",
       "    <tr>\n",
       "      <th>中证800</th>\n",
       "      <td>0.0275817</td>\n",
       "      <td>0.0588977</td>\n",
       "      <td>0.0568282</td>\n",
       "      <td>0.0398933</td>\n",
       "      <td>0.738405</td>\n",
       "      <td>0.149052</td>\n",
       "    </tr>\n",
       "    <tr>\n",
       "      <th>中小板综</th>\n",
       "      <td>0.0152904</td>\n",
       "      <td>0.0394154</td>\n",
       "      <td>0.0360615</td>\n",
       "      <td>0.0317232</td>\n",
       "      <td>0.473402</td>\n",
       "      <td>0.111479</td>\n",
       "    </tr>\n",
       "    <tr>\n",
       "      <th>创业板综</th>\n",
       "      <td>0.00951105</td>\n",
       "      <td>0.0238581</td>\n",
       "      <td>0.0242157</td>\n",
       "      <td>0.0224652</td>\n",
       "      <td>0.278188</td>\n",
       "      <td>0.0807257</td>\n",
       "    </tr>\n",
       "    <tr>\n",
       "      <th>深证综指</th>\n",
       "      <td>0.0170918</td>\n",
       "      <td>0.0402073</td>\n",
       "      <td>0.0373825</td>\n",
       "      <td>0.0320992</td>\n",
       "      <td>0.493463</td>\n",
       "      <td>0.119512</td>\n",
       "    </tr>\n",
       "    <tr>\n",
       "      <th>万得全A</th>\n",
       "      <td>0.0258723</td>\n",
       "      <td>0.0564926</td>\n",
       "      <td>0.0552859</td>\n",
       "      <td>0.0422227</td>\n",
       "      <td>0.693751</td>\n",
       "      <td>0.157316</td>\n",
       "    </tr>\n",
       "  </tbody>\n",
       "</table>\n",
       "</div>"
      ],
      "text/plain": [
       "         005156.OF  005215.OF  005217.OF  005218.OF 005220.OF  005221.OF\n",
       "名称                                                                      \n",
       "上证综指     0.0321626  0.0648395   0.068183  0.0477066  0.803139   0.181743\n",
       "上证50     0.0212959  0.0404646  0.0419817   0.024558  0.511091  0.0940682\n",
       "沪深300    0.0259707  0.0538837   0.052365     0.0344   0.68587   0.129295\n",
       "中证1000     0.01029  0.0250151  0.0249717  0.0242315  0.284395  0.0871323\n",
       "中证100    0.0218031  0.0439929  0.0426315  0.0270537  0.566918   0.101054\n",
       "中证500    0.0154555  0.0371675  0.0349344  0.0306385  0.439175   0.112488\n",
       "中证800    0.0275817  0.0588977  0.0568282  0.0398933  0.738405   0.149052\n",
       "中小板综     0.0152904  0.0394154  0.0360615  0.0317232  0.473402   0.111479\n",
       "创业板综    0.00951105  0.0238581  0.0242157  0.0224652  0.278188  0.0807257\n",
       "深证综指     0.0170918  0.0402073  0.0373825  0.0320992  0.493463   0.119512\n",
       "万得全A     0.0258723  0.0564926  0.0552859  0.0422227  0.693751   0.157316"
      ]
     },
     "execution_count": 61,
     "metadata": {},
     "output_type": "execute_result"
    }
   ],
   "source": [
    "beta_df"
   ]
  },
  {
   "cell_type": "code",
   "execution_count": 62,
   "metadata": {
    "collapsed": true
   },
   "outputs": [],
   "source": [
    "beta_df.to_excel(u'../data/FOF-板块-beta.xlsx')"
   ]
  },
  {
   "cell_type": "code",
   "execution_count": 72,
   "metadata": {
    "collapsed": true
   },
   "outputs": [],
   "source": [
    "theme = pd.read_excel(u'D:/Data/list/板块指数.xlsx', index_col=0)\n",
    "cor_df = pd.DataFrame(index=theme[u'名称'], columns=nav.columns)"
   ]
  },
  {
   "cell_type": "code",
   "execution_count": 74,
   "metadata": {},
   "outputs": [
    {
     "name": "stdout",
     "output_type": "stream",
     "text": [
      "酒类指数\n",
      "办公用品指数\n",
      "食品指数\n",
      "家居用品指数\n",
      "机场指数\n",
      "航空指数\n",
      "家用电器指数\n",
      "林木指数\n",
      "保险指数\n",
      "餐饮旅游指数\n",
      "零售指数\n",
      "制药指数\n",
      "港口指数\n",
      "电力指数\n",
      "包装指数\n",
      "农业指数\n",
      "纺织服装指数\n",
      "建筑指数\n",
      "石油天然气指数\n",
      "银行指数\n",
      "陆路运输指数\n",
      "燃气指数\n",
      "化纤指数\n",
      "贸易指数\n",
      "文化传媒指数\n",
      "工程机械指数\n",
      "化肥农药指数\n",
      "房地产指数\n",
      "软饮料指数\n",
      "多元金融指数\n",
      "休闲用品指数\n",
      "煤炭指数\n",
      "日用化工指数\n",
      "重型机械指数\n",
      "能源设备指数\n",
      "汽车零部件指数\n",
      "化工原料指数\n",
      "电工电网指数\n",
      "发电设备指数\n",
      "石油化工指数\n",
      "航天军工指数\n",
      "环保指数\n",
      "医疗保健指数\n",
      "工业机械指数\n",
      "建材指数\n",
      "电信指数\n",
      "券商指数\n",
      "公路指数\n",
      "汽车指数\n",
      "钢铁指数\n",
      "生物科技指数\n",
      "电子元器件指数\n",
      "水务指数\n",
      "商业服务指数\n",
      "贵金属指数\n",
      "海运指数\n",
      "综合类指数\n",
      "互联网指数\n",
      "摩托车指数\n",
      "基本金属指数\n",
      "软件指数\n",
      "半导体指数\n",
      "精细化工指数\n",
      "通信设备指数\n",
      "电脑硬件指数\n",
      "教育指数\n",
      "造纸指数\n"
     ]
    }
   ],
   "source": [
    "for wind_code in theme.index:\n",
    "    fname = '%s/%s.xlsx'%(DATA_DIR, wind_code)\n",
    "    temp = pd.read_excel(fname, index_col=0)\n",
    "    ret = temp.pct_change()\n",
    "    ret = ret[(ret.index >= start_date) & (ret.index <= end_date)]['close']\n",
    "    for col in nav.columns:\n",
    "        series = nav[col].pct_change()\n",
    "        cor_df.loc[theme.loc[wind_code, u'名称'], col] = (1+ret).cumprod().corr((1+series).cumprod())\n",
    "    print theme.loc[wind_code, u'名称']"
   ]
  },
  {
   "cell_type": "code",
   "execution_count": 76,
   "metadata": {
    "collapsed": true
   },
   "outputs": [],
   "source": [
    "cor_df.to_excel(u'../data/FOF-主题行业-corr.xlsx')"
   ]
  },
  {
   "cell_type": "code",
   "execution_count": 67,
   "metadata": {
    "collapsed": true
   },
   "outputs": [],
   "source": [
    "theme = pd.read_excel(u'D:/Data/list/主题行业.xlsx', index_col=0)\n",
    "beta_df = pd.DataFrame(index=theme[u'名称'], columns=nav.columns)"
   ]
  },
  {
   "cell_type": "code",
   "execution_count": 66,
   "metadata": {},
   "outputs": [
    {
     "name": "stdout",
     "output_type": "stream",
     "text": [
      "酒类指数\n",
      "办公用品指数\n",
      "食品指数\n",
      "家居用品指数\n",
      "机场指数\n",
      "航空指数\n",
      "家用电器指数\n",
      "林木指数\n",
      "保险指数\n",
      "餐饮旅游指数\n",
      "零售指数\n",
      "制药指数\n",
      "港口指数\n",
      "电力指数\n",
      "包装指数\n",
      "农业指数\n",
      "纺织服装指数\n",
      "建筑指数\n",
      "石油天然气指数\n",
      "银行指数\n",
      "陆路运输指数\n",
      "燃气指数\n",
      "化纤指数\n",
      "贸易指数\n",
      "文化传媒指数\n",
      "工程机械指数\n",
      "化肥农药指数\n",
      "房地产指数\n",
      "软饮料指数\n",
      "多元金融指数\n",
      "休闲用品指数\n",
      "煤炭指数\n",
      "日用化工指数\n",
      "重型机械指数\n",
      "能源设备指数\n",
      "汽车零部件指数\n",
      "化工原料指数\n",
      "电工电网指数\n",
      "发电设备指数\n",
      "石油化工指数\n",
      "航天军工指数\n",
      "环保指数\n",
      "医疗保健指数\n",
      "工业机械指数\n",
      "建材指数\n",
      "电信指数\n",
      "券商指数\n",
      "公路指数\n",
      "汽车指数\n",
      "钢铁指数\n",
      "生物科技指数\n",
      "电子元器件指数\n",
      "水务指数\n",
      "商业服务指数\n",
      "贵金属指数\n",
      "海运指数\n",
      "综合类指数\n",
      "互联网指数\n",
      "摩托车指数\n",
      "基本金属指数\n",
      "软件指数\n",
      "半导体指数\n",
      "精细化工指数\n",
      "通信设备指数\n",
      "电脑硬件指数\n",
      "教育指数\n",
      "造纸指数\n"
     ]
    }
   ],
   "source": [
    "for wind_code in theme.index:\n",
    "    fname = '%s/%s.xlsx'%(DATA_DIR, wind_code)\n",
    "    temp = pd.read_excel(fname, index_col=0)\n",
    "    ret = temp.pct_change()\n",
    "    ret = ret[(ret.index >= start_date) & (ret.index <= end_date)]['close']\n",
    "    for col in nav.columns:\n",
    "        series = nav[col].pct_change()\n",
    "        beta_df.loc[theme.loc[wind_code, u'名称'], col] = empyrical.beta(ret, series)\n",
    "    print theme.loc[wind_code, u'名称']"
   ]
  },
  {
   "cell_type": "code",
   "execution_count": 65,
   "metadata": {
    "collapsed": true
   },
   "outputs": [],
   "source": [
    "beta_df.to_excel(u'../data/FOF-主题行业-beta.xlsx')"
   ]
  },
  {
   "cell_type": "markdown",
   "metadata": {},
   "source": [
    "# 仓位变化（相关性）"
   ]
  },
  {
   "cell_type": "code",
   "execution_count": 168,
   "metadata": {},
   "outputs": [
    {
     "name": "stdout",
     "output_type": "stream",
     "text": [
      "005156.OF\n",
      "005215.OF\n",
      "005217.OF\n",
      "005218.OF\n",
      "005220.OF\n",
      "005221.OF\n"
     ]
    }
   ],
   "source": [
    "for fund_code in nav.columns:\n",
    "    print fund_code\n",
    "    dic = {}\n",
    "    for wind_code in sector.index:\n",
    "        fname = '%s/%s.xlsx'%(DATA_DIR, wind_code)\n",
    "        temp = pd.read_excel(fname, index_col=0)\n",
    "        temp[fund_code] = nav[fund_code]\n",
    "        temp = temp.dropna()\n",
    "        ret = temp.pct_change()\n",
    "        cor = ret.rolling(window=5).corr()\n",
    "#         print sector.loc[wind_code][u'名称']\n",
    "        dic[sector.loc[wind_code][u'名称']] = cor.unstack(level=1)['close'][fund_code]\n",
    "    pos_df = pd.DataFrame(dic)\n",
    "    pos_df.dropna().to_excel('../data/%s.xlsx'%(fund_code))"
   ]
  },
  {
   "cell_type": "code",
   "execution_count": 165,
   "metadata": {
    "collapsed": true
   },
   "outputs": [],
   "source": [
    "industry = pd.read_excel(u'D:/Data/list/中信一级行业.xlsx', index_col=0)"
   ]
  },
  {
   "cell_type": "code",
   "execution_count": 167,
   "metadata": {},
   "outputs": [
    {
     "name": "stdout",
     "output_type": "stream",
     "text": [
      "005156.OF\n",
      "005215.OF\n",
      "005217.OF\n",
      "005218.OF\n",
      "005220.OF\n",
      "005221.OF\n"
     ]
    }
   ],
   "source": [
    "for fund_code in nav.columns:\n",
    "    print fund_code\n",
    "    dic = {}\n",
    "    for wind_code in industry.index:\n",
    "        fname = '%s/%s.xlsx'%(DATA_DIR, wind_code)\n",
    "        temp = pd.read_excel(fname, index_col=0)\n",
    "        temp[fund_code] = nav[fund_code]\n",
    "        temp = temp.dropna()\n",
    "        ret = temp.pct_change()\n",
    "        cor = ret.rolling(window=5).corr()\n",
    "#         print sector.loc[wind_code][u'名称']\n",
    "        dic[industry.loc[wind_code][u'名称']] = cor.unstack(level=1)['close'][fund_code]\n",
    "    pos_df = pd.DataFrame(dic)\n",
    "    pos_df.dropna().to_excel('../data/%s.xlsx'%(fund_code))"
   ]
  },
  {
   "cell_type": "markdown",
   "metadata": {},
   "source": [
    "# 仓位变化（比值）"
   ]
  },
  {
   "cell_type": "code",
   "execution_count": 170,
   "metadata": {},
   "outputs": [
    {
     "name": "stdout",
     "output_type": "stream",
     "text": [
      "005156.OF\n",
      "005215.OF\n",
      "005217.OF\n",
      "005218.OF\n",
      "005220.OF\n",
      "005221.OF\n"
     ]
    }
   ],
   "source": [
    "for fund_code in nav.columns:\n",
    "    print fund_code\n",
    "    dic = {}\n",
    "    for wind_code in industry.index:\n",
    "        fname = '%s/%s.xlsx'%(DATA_DIR, wind_code)\n",
    "        temp = pd.read_excel(fname, index_col=0)\n",
    "        temp[fund_code] = nav[fund_code]\n",
    "        temp = temp.dropna()\n",
    "        ret = temp.pct_change()\n",
    "        dic[industry.loc[wind_code][u'名称']] = ret[fund_code] / ret['close']\n",
    "    pos_df = pd.DataFrame(dic)\n",
    "    pos_df.dropna().to_excel('../data/%s.xlsx'%(fund_code))"
   ]
  },
  {
   "cell_type": "markdown",
   "metadata": {},
   "source": [
    "# 建信FOF"
   ]
  },
  {
   "cell_type": "code",
   "execution_count": 171,
   "metadata": {
    "collapsed": true
   },
   "outputs": [],
   "source": [
    "df = pd.read_excel('D:/Data/fund/history/000478.OF.xlsx')"
   ]
  },
  {
   "cell_type": "code",
   "execution_count": 174,
   "metadata": {},
   "outputs": [],
   "source": [
    "df['005217.OF'] = nav['005217.OF']"
   ]
  },
  {
   "cell_type": "code",
   "execution_count": 175,
   "metadata": {
    "collapsed": true
   },
   "outputs": [],
   "source": [
    "df = df.dropna()"
   ]
  },
  {
   "cell_type": "code",
   "execution_count": 177,
   "metadata": {},
   "outputs": [],
   "source": [
    "df = df[['nav_adj', '005217.OF']]"
   ]
  },
  {
   "cell_type": "code",
   "execution_count": 180,
   "metadata": {},
   "outputs": [],
   "source": [
    "ret_df = df.pct_change()"
   ]
  },
  {
   "cell_type": "code",
   "execution_count": 182,
   "metadata": {},
   "outputs": [
    {
     "data": {
      "text/html": [
       "<div>\n",
       "<style scoped>\n",
       "    .dataframe tbody tr th:only-of-type {\n",
       "        vertical-align: middle;\n",
       "    }\n",
       "\n",
       "    .dataframe tbody tr th {\n",
       "        vertical-align: top;\n",
       "    }\n",
       "\n",
       "    .dataframe thead th {\n",
       "        text-align: right;\n",
       "    }\n",
       "</style>\n",
       "<table border=\"1\" class=\"dataframe\">\n",
       "  <thead>\n",
       "    <tr style=\"text-align: right;\">\n",
       "      <th></th>\n",
       "      <th>nav_adj</th>\n",
       "      <th>005217.OF</th>\n",
       "    </tr>\n",
       "  </thead>\n",
       "  <tbody>\n",
       "    <tr>\n",
       "      <th>2017-12-28</th>\n",
       "      <td>0.005208</td>\n",
       "      <td>0.000696</td>\n",
       "    </tr>\n",
       "    <tr>\n",
       "      <th>2017-12-29</th>\n",
       "      <td>0.007793</td>\n",
       "      <td>0.000596</td>\n",
       "    </tr>\n",
       "    <tr>\n",
       "      <th>2018-01-02</th>\n",
       "      <td>0.013554</td>\n",
       "      <td>0.001689</td>\n",
       "    </tr>\n",
       "    <tr>\n",
       "      <th>2018-01-03</th>\n",
       "      <td>0.010941</td>\n",
       "      <td>0.000992</td>\n",
       "    </tr>\n",
       "    <tr>\n",
       "      <th>2018-01-04</th>\n",
       "      <td>0.006096</td>\n",
       "      <td>0.000495</td>\n",
       "    </tr>\n",
       "  </tbody>\n",
       "</table>\n",
       "</div>"
      ],
      "text/plain": [
       "             nav_adj  005217.OF\n",
       "2017-12-28  0.005208   0.000696\n",
       "2017-12-29  0.007793   0.000596\n",
       "2018-01-02  0.013554   0.001689\n",
       "2018-01-03  0.010941   0.000992\n",
       "2018-01-04  0.006096   0.000495"
      ]
     },
     "execution_count": 182,
     "metadata": {},
     "output_type": "execute_result"
    }
   ],
   "source": [
    "ret_df.tail()"
   ]
  },
  {
   "cell_type": "code",
   "execution_count": 189,
   "metadata": {},
   "outputs": [
    {
     "data": {
      "text/plain": [
       "<matplotlib.axes._subplots.AxesSubplot at 0x21bec438>"
      ]
     },
     "execution_count": 189,
     "metadata": {},
     "output_type": "execute_result"
    },
    {
     "data": {
      "image/png": "[encoded data removed]",
      "text/plain": [
       "<matplotlib.figure.Figure at 0x21dbd940>"
      ]
     },
     "metadata": {},
     "output_type": "display_data"
    }
   ],
   "source": [
    "plt.figure(figsize=(16, 9))\n",
    "(1 + ret_df['nav_adj']).cumprod().plot()\n",
    "(1 + ret_df['005217.OF']).cumprod().plot()"
   ]
  },
  {
   "cell_type": "code",
   "execution_count": null,
   "metadata": {
    "collapsed": true
   },
   "outputs": [],
   "source": []
  }
 ],
 "metadata": {
  "kernelspec": {
   "display_name": "Python 2",
   "language": "python",
   "name": "python2"
  },
  "language_info": {
   "codemirror_mode": {
    "name": "ipython",
    "version": 2
   },
   "file_extension": ".py",
   "mimetype": "text/x-python",
   "name": "python",
   "nbconvert_exporter": "python",
   "pygments_lexer": "ipython2",
   "version": "2.7.14"
  }
 },
 "nbformat": 4,
 "nbformat_minor": 2
}
