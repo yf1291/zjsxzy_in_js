{
 "cells": [
  {
   "cell_type": "code",
   "execution_count": 1,
   "metadata": {},
   "outputs": [],
   "source": [
    "import pandas as pd\n",
    "import numpy as np\n",
    "import empyrical\n",
    "import matplotlib.pyplot as plt\n",
    "%matplotlib inline"
   ]
  },
  {
   "cell_type": "code",
   "execution_count": 2,
   "metadata": {},
   "outputs": [],
   "source": [
    "start_date = '2019-07-15'\n",
    "end_date = '2019-07-22'"
   ]
  },
  {
   "cell_type": "code",
   "execution_count": 3,
   "metadata": {},
   "outputs": [],
   "source": [
    "DATA_DIR = 'D:/Data/index'"
   ]
  },
  {
   "cell_type": "markdown",
   "metadata": {},
   "source": [
    "# 主题收益率"
   ]
  },
  {
   "cell_type": "code",
   "execution_count": 4,
   "metadata": {},
   "outputs": [],
   "source": [
    "df = pd.read_excel(u'D:/Data/list/主题行业.xlsx', index_col=0)"
   ]
  },
  {
   "cell_type": "code",
   "execution_count": 5,
   "metadata": {},
   "outputs": [],
   "source": [
    "df[u'收益率'] = 0"
   ]
  },
  {
   "cell_type": "code",
   "execution_count": 6,
   "metadata": {},
   "outputs": [],
   "source": [
    "for wind_code in df.index:\n",
    "    fname = '%s/%s.xlsx'%(DATA_DIR, wind_code)\n",
    "    nav = pd.read_excel(fname, index_col=0)\n",
    "    ret = nav.pct_change()\n",
    "    ret = ret[(ret.index >= start_date) & (ret.index <= end_date)]\n",
    "    df.loc[wind_code, u'收益率'] = empyrical.cum_returns_final(ret['close'])"
   ]
  },
  {
   "cell_type": "code",
   "execution_count": 7,
   "metadata": {},
   "outputs": [
    {
     "data": {
      "text/html": [
       "<div>\n",
       "<style scoped>\n",
       "    .dataframe tbody tr th:only-of-type {\n",
       "        vertical-align: middle;\n",
       "    }\n",
       "\n",
       "    .dataframe tbody tr th {\n",
       "        vertical-align: top;\n",
       "    }\n",
       "\n",
       "    .dataframe thead th {\n",
       "        text-align: right;\n",
       "    }\n",
       "</style>\n",
       "<table border=\"1\" class=\"dataframe\">\n",
       "  <thead>\n",
       "    <tr style=\"text-align: right;\">\n",
       "      <th></th>\n",
       "      <th>名称</th>\n",
       "      <th>收益率</th>\n",
       "    </tr>\n",
       "    <tr>\n",
       "      <th>代码</th>\n",
       "      <th></th>\n",
       "      <th></th>\n",
       "    </tr>\n",
       "  </thead>\n",
       "  <tbody>\n",
       "    <tr>\n",
       "      <th>886068.WI</th>\n",
       "      <td>工程机械指数</td>\n",
       "      <td>0.056258</td>\n",
       "    </tr>\n",
       "    <tr>\n",
       "      <th>886045.WI</th>\n",
       "      <td>农业指数</td>\n",
       "      <td>0.047852</td>\n",
       "    </tr>\n",
       "    <tr>\n",
       "      <th>886027.WI</th>\n",
       "      <td>海运指数</td>\n",
       "      <td>0.041431</td>\n",
       "    </tr>\n",
       "    <tr>\n",
       "      <th>886011.WI</th>\n",
       "      <td>贵金属指数</td>\n",
       "      <td>0.036034</td>\n",
       "    </tr>\n",
       "    <tr>\n",
       "      <th>886020.WI</th>\n",
       "      <td>重型机械指数</td>\n",
       "      <td>0.034906</td>\n",
       "    </tr>\n",
       "  </tbody>\n",
       "</table>\n",
       "</div>"
      ],
      "text/plain": [
       "               名称       收益率\n",
       "代码                         \n",
       "886068.WI  工程机械指数  0.056258\n",
       "886045.WI    农业指数  0.047852\n",
       "886027.WI    海运指数  0.041431\n",
       "886011.WI   贵金属指数  0.036034\n",
       "886020.WI  重型机械指数  0.034906"
      ]
     },
     "execution_count": 7,
     "metadata": {},
     "output_type": "execute_result"
    }
   ],
   "source": [
    "df.sort_values(u'收益率', ascending=False).head()"
   ]
  },
  {
   "cell_type": "code",
   "execution_count": 8,
   "metadata": {},
   "outputs": [],
   "source": [
    "df.sort_values(u'收益率', ascending=False).to_excel(u'../data/主题.xlsx')"
   ]
  },
  {
   "cell_type": "markdown",
   "metadata": {},
   "source": [
    "# 概念指数"
   ]
  },
  {
   "cell_type": "code",
   "execution_count": 9,
   "metadata": {},
   "outputs": [],
   "source": [
    "df = pd.read_excel(u'D:/Data/list/概念板块.xlsx', index_col=0)"
   ]
  },
  {
   "cell_type": "code",
   "execution_count": 10,
   "metadata": {},
   "outputs": [],
   "source": [
    "df[u'收益率'] = 0"
   ]
  },
  {
   "cell_type": "code",
   "execution_count": 11,
   "metadata": {},
   "outputs": [],
   "source": [
    "for wind_code in df.index:\n",
    "    fname = '%s/%s.xlsx'%(DATA_DIR, wind_code)\n",
    "    nav = pd.read_excel(fname, index_col=0)\n",
    "#     print fname\n",
    "    ret = nav.pct_change()\n",
    "    ret = ret[(ret.index >= start_date) & (ret.index <= end_date)]\n",
    "    df.loc[wind_code, u'收益率'] = empyrical.cum_returns_final(ret['close'])"
   ]
  },
  {
   "cell_type": "code",
   "execution_count": 12,
   "metadata": {},
   "outputs": [
    {
     "data": {
      "text/html": [
       "<div>\n",
       "<style scoped>\n",
       "    .dataframe tbody tr th:only-of-type {\n",
       "        vertical-align: middle;\n",
       "    }\n",
       "\n",
       "    .dataframe tbody tr th {\n",
       "        vertical-align: top;\n",
       "    }\n",
       "\n",
       "    .dataframe thead th {\n",
       "        text-align: right;\n",
       "    }\n",
       "</style>\n",
       "<table border=\"1\" class=\"dataframe\">\n",
       "  <thead>\n",
       "    <tr style=\"text-align: right;\">\n",
       "      <th></th>\n",
       "      <th>名称</th>\n",
       "      <th>收益率</th>\n",
       "    </tr>\n",
       "    <tr>\n",
       "      <th>代码</th>\n",
       "      <th></th>\n",
       "      <th></th>\n",
       "    </tr>\n",
       "  </thead>\n",
       "  <tbody>\n",
       "    <tr>\n",
       "      <th>8841080.WI</th>\n",
       "      <td>南北船合并指数</td>\n",
       "      <td>0.066738</td>\n",
       "    </tr>\n",
       "    <tr>\n",
       "      <th>884251.WI</th>\n",
       "      <td>猪产业指数</td>\n",
       "      <td>0.061460</td>\n",
       "    </tr>\n",
       "    <tr>\n",
       "      <th>884246.WI</th>\n",
       "      <td>打板指数</td>\n",
       "      <td>0.059543</td>\n",
       "    </tr>\n",
       "    <tr>\n",
       "      <th>884252.WI</th>\n",
       "      <td>鸡产业指数</td>\n",
       "      <td>0.045676</td>\n",
       "    </tr>\n",
       "    <tr>\n",
       "      <th>8841089.WI</th>\n",
       "      <td>稀土指数</td>\n",
       "      <td>0.044286</td>\n",
       "    </tr>\n",
       "  </tbody>\n",
       "</table>\n",
       "</div>"
      ],
      "text/plain": [
       "                 名称       收益率\n",
       "代码                           \n",
       "8841080.WI  南北船合并指数  0.066738\n",
       "884251.WI     猪产业指数  0.061460\n",
       "884246.WI      打板指数  0.059543\n",
       "884252.WI     鸡产业指数  0.045676\n",
       "8841089.WI     稀土指数  0.044286"
      ]
     },
     "execution_count": 12,
     "metadata": {},
     "output_type": "execute_result"
    }
   ],
   "source": [
    "df.sort_values(u'收益率', ascending=False).head()"
   ]
  },
  {
   "cell_type": "code",
   "execution_count": 13,
   "metadata": {},
   "outputs": [],
   "source": [
    "df.sort_values(u'收益率', ascending=False).to_excel(u'../data/概念.xlsx')"
   ]
  },
  {
   "cell_type": "markdown",
   "metadata": {},
   "source": [
    "# 版块指数"
   ]
  },
  {
   "cell_type": "code",
   "execution_count": 14,
   "metadata": {},
   "outputs": [],
   "source": [
    "df = pd.read_excel(u'D:/Data/list/板块指数.xlsx', index_col=0)"
   ]
  },
  {
   "cell_type": "code",
   "execution_count": 15,
   "metadata": {},
   "outputs": [],
   "source": [
    "df[u'收益率'] = 0"
   ]
  },
  {
   "cell_type": "code",
   "execution_count": 16,
   "metadata": {},
   "outputs": [],
   "source": [
    "for wind_code in df.index:\n",
    "    fname = '%s/%s.xlsx'%(DATA_DIR, wind_code)\n",
    "    nav = pd.read_excel(fname, index_col=0)\n",
    "    ret = nav.pct_change()\n",
    "    ret = ret[(ret.index >= start_date) & (ret.index <= end_date)]\n",
    "    df.loc[wind_code, u'收益率'] = empyrical.cum_returns_final(ret['close'])"
   ]
  },
  {
   "cell_type": "code",
   "execution_count": 17,
   "metadata": {},
   "outputs": [
    {
     "data": {
      "text/html": [
       "<div>\n",
       "<style scoped>\n",
       "    .dataframe tbody tr th:only-of-type {\n",
       "        vertical-align: middle;\n",
       "    }\n",
       "\n",
       "    .dataframe tbody tr th {\n",
       "        vertical-align: top;\n",
       "    }\n",
       "\n",
       "    .dataframe thead th {\n",
       "        text-align: right;\n",
       "    }\n",
       "</style>\n",
       "<table border=\"1\" class=\"dataframe\">\n",
       "  <thead>\n",
       "    <tr style=\"text-align: right;\">\n",
       "      <th></th>\n",
       "      <th>名称</th>\n",
       "      <th>收益率</th>\n",
       "    </tr>\n",
       "    <tr>\n",
       "      <th>代码</th>\n",
       "      <th></th>\n",
       "      <th></th>\n",
       "    </tr>\n",
       "  </thead>\n",
       "  <tbody>\n",
       "    <tr>\n",
       "      <th>399102.SZ</th>\n",
       "      <td>创业板综</td>\n",
       "      <td>0.007224</td>\n",
       "    </tr>\n",
       "    <tr>\n",
       "      <th>000905.SH</th>\n",
       "      <td>中证500</td>\n",
       "      <td>0.003522</td>\n",
       "    </tr>\n",
       "    <tr>\n",
       "      <th>399106.SZ</th>\n",
       "      <td>深证综指</td>\n",
       "      <td>0.002250</td>\n",
       "    </tr>\n",
       "    <tr>\n",
       "      <th>881001.WI</th>\n",
       "      <td>万得全A</td>\n",
       "      <td>0.001146</td>\n",
       "    </tr>\n",
       "    <tr>\n",
       "      <th>000906.SH</th>\n",
       "      <td>中证800</td>\n",
       "      <td>0.000665</td>\n",
       "    </tr>\n",
       "    <tr>\n",
       "      <th>399101.SZ</th>\n",
       "      <td>中小板综</td>\n",
       "      <td>0.000391</td>\n",
       "    </tr>\n",
       "    <tr>\n",
       "      <th>000852.SH</th>\n",
       "      <td>中证1000</td>\n",
       "      <td>0.000161</td>\n",
       "    </tr>\n",
       "    <tr>\n",
       "      <th>000300.SH</th>\n",
       "      <td>沪深300</td>\n",
       "      <td>-0.000204</td>\n",
       "    </tr>\n",
       "    <tr>\n",
       "      <th>000001.SH</th>\n",
       "      <td>上证综指</td>\n",
       "      <td>-0.002165</td>\n",
       "    </tr>\n",
       "    <tr>\n",
       "      <th>000016.SH</th>\n",
       "      <td>上证50</td>\n",
       "      <td>-0.002241</td>\n",
       "    </tr>\n",
       "    <tr>\n",
       "      <th>000903.SH</th>\n",
       "      <td>中证100</td>\n",
       "      <td>-0.002692</td>\n",
       "    </tr>\n",
       "  </tbody>\n",
       "</table>\n",
       "</div>"
      ],
      "text/plain": [
       "               名称       收益率\n",
       "代码                         \n",
       "399102.SZ    创业板综  0.007224\n",
       "000905.SH   中证500  0.003522\n",
       "399106.SZ    深证综指  0.002250\n",
       "881001.WI    万得全A  0.001146\n",
       "000906.SH   中证800  0.000665\n",
       "399101.SZ    中小板综  0.000391\n",
       "000852.SH  中证1000  0.000161\n",
       "000300.SH   沪深300 -0.000204\n",
       "000001.SH    上证综指 -0.002165\n",
       "000016.SH    上证50 -0.002241\n",
       "000903.SH   中证100 -0.002692"
      ]
     },
     "execution_count": 17,
     "metadata": {},
     "output_type": "execute_result"
    }
   ],
   "source": [
    "df.sort_values(u'收益率', ascending=False)"
   ]
  },
  {
   "cell_type": "code",
   "execution_count": 18,
   "metadata": {},
   "outputs": [],
   "source": [
    "df.sort_values(u'收益率', ascending=False).to_excel(u'../data/板块.xlsx')"
   ]
  },
  {
   "cell_type": "markdown",
   "metadata": {},
   "source": [
    "# 基金公司排名"
   ]
  },
  {
   "cell_type": "code",
   "execution_count": 19,
   "metadata": {},
   "outputs": [],
   "source": [
    "nav_fname = u'D:/workspace/data/FOF/comp_ret.xlsx'\n",
    "df = pd.read_excel(nav_fname)\n",
    "fund_comp = pd.read_excel(u'D:/Data/list/基金公司.xlsx')"
   ]
  },
  {
   "cell_type": "code",
   "execution_count": 20,
   "metadata": {},
   "outputs": [],
   "source": [
    "df = df[fund_comp[u'名称']]\n",
    "df.columns = [col.replace(u'基金管理有限公司', '').replace(u'基金管理股份', '').replace(u'基金管理有限责任', '').replace(u'有限公司', '').replace(u'公司', '')\n",
    "              for col in df.columns]"
   ]
  },
  {
   "cell_type": "code",
   "execution_count": 21,
   "metadata": {},
   "outputs": [],
   "source": [
    "ret_df = pd.DataFrame({u'名称': df.columns, \n",
    "                       u'WTD': 0,\n",
    "                       u'MTD': 0,\n",
    "                       u'YTD': 0}, index=df.columns)"
   ]
  },
  {
   "cell_type": "markdown",
   "metadata": {},
   "source": [
    "### 近一周收益率"
   ]
  },
  {
   "cell_type": "code",
   "execution_count": 22,
   "metadata": {},
   "outputs": [],
   "source": [
    "week_df = df[(df.index >= start_date) & (df.index <= end_date)]"
   ]
  },
  {
   "cell_type": "code",
   "execution_count": 23,
   "metadata": {},
   "outputs": [],
   "source": [
    "for col in df.columns:\n",
    "    ret_df.loc[col, u'WTD'] = empyrical.cum_returns_final(week_df[col])"
   ]
  },
  {
   "cell_type": "markdown",
   "metadata": {},
   "source": [
    "### 近一月收益率"
   ]
  },
  {
   "cell_type": "code",
   "execution_count": 24,
   "metadata": {},
   "outputs": [],
   "source": [
    "month_df = df[(df.index >= '-'.join(start_date.split('-')[:2]) + '-01') & (df.index <= end_date)]"
   ]
  },
  {
   "cell_type": "code",
   "execution_count": 25,
   "metadata": {},
   "outputs": [],
   "source": [
    "for col in df.columns:\n",
    "    ret_df.loc[col, u'MTD'] = empyrical.cum_returns_final(month_df[col])"
   ]
  },
  {
   "cell_type": "markdown",
   "metadata": {},
   "source": [
    "### 近一年收益率"
   ]
  },
  {
   "cell_type": "code",
   "execution_count": 26,
   "metadata": {},
   "outputs": [],
   "source": [
    "year_df = df[(df.index >= start_date.split('-')[0] + '-01-01') & (df.index <= end_date)]"
   ]
  },
  {
   "cell_type": "code",
   "execution_count": 27,
   "metadata": {},
   "outputs": [],
   "source": [
    "for col in df.columns:\n",
    "    ret_df.loc[col, u'YTD'] = empyrical.cum_returns_final(year_df[col])"
   ]
  },
  {
   "cell_type": "code",
   "execution_count": 28,
   "metadata": {},
   "outputs": [
    {
     "data": {
      "text/html": [
       "<div>\n",
       "<style scoped>\n",
       "    .dataframe tbody tr th:only-of-type {\n",
       "        vertical-align: middle;\n",
       "    }\n",
       "\n",
       "    .dataframe tbody tr th {\n",
       "        vertical-align: top;\n",
       "    }\n",
       "\n",
       "    .dataframe thead th {\n",
       "        text-align: right;\n",
       "    }\n",
       "</style>\n",
       "<table border=\"1\" class=\"dataframe\">\n",
       "  <thead>\n",
       "    <tr style=\"text-align: right;\">\n",
       "      <th></th>\n",
       "      <th>MTD</th>\n",
       "      <th>WTD</th>\n",
       "      <th>YTD</th>\n",
       "      <th>名称</th>\n",
       "    </tr>\n",
       "  </thead>\n",
       "  <tbody>\n",
       "    <tr>\n",
       "      <th>博时</th>\n",
       "      <td>0.001397</td>\n",
       "      <td>0.006556</td>\n",
       "      <td>0.223605</td>\n",
       "      <td>博时</td>\n",
       "    </tr>\n",
       "    <tr>\n",
       "      <th>上投摩根</th>\n",
       "      <td>0.010613</td>\n",
       "      <td>0.004325</td>\n",
       "      <td>0.306250</td>\n",
       "      <td>上投摩根</td>\n",
       "    </tr>\n",
       "    <tr>\n",
       "      <th>中邮创业</th>\n",
       "      <td>0.002231</td>\n",
       "      <td>0.003184</td>\n",
       "      <td>0.182176</td>\n",
       "      <td>中邮创业</td>\n",
       "    </tr>\n",
       "    <tr>\n",
       "      <th>交银施罗德</th>\n",
       "      <td>-0.009157</td>\n",
       "      <td>0.003146</td>\n",
       "      <td>0.256570</td>\n",
       "      <td>交银施罗德</td>\n",
       "    </tr>\n",
       "    <tr>\n",
       "      <th>天弘</th>\n",
       "      <td>0.011521</td>\n",
       "      <td>0.002603</td>\n",
       "      <td>0.329486</td>\n",
       "      <td>天弘</td>\n",
       "    </tr>\n",
       "  </tbody>\n",
       "</table>\n",
       "</div>"
      ],
      "text/plain": [
       "            MTD       WTD       YTD     名称\n",
       "博时     0.001397  0.006556  0.223605     博时\n",
       "上投摩根   0.010613  0.004325  0.306250   上投摩根\n",
       "中邮创业   0.002231  0.003184  0.182176   中邮创业\n",
       "交银施罗德 -0.009157  0.003146  0.256570  交银施罗德\n",
       "天弘     0.011521  0.002603  0.329486     天弘"
      ]
     },
     "execution_count": 28,
     "metadata": {},
     "output_type": "execute_result"
    }
   ],
   "source": [
    "ret_df.sort_values(u'WTD', ascending=False).head()"
   ]
  },
  {
   "cell_type": "code",
   "execution_count": 29,
   "metadata": {},
   "outputs": [],
   "source": [
    "ret_df = ret_df[[u'名称', 'WTD', 'MTD', 'YTD']]"
   ]
  },
  {
   "cell_type": "code",
   "execution_count": 30,
   "metadata": {},
   "outputs": [],
   "source": [
    "ret_df.sort_values(u'WTD', ascending=False).to_excel(u'../data/基金公司.xlsx')"
   ]
  },
  {
   "cell_type": "markdown",
   "metadata": {},
   "source": [
    "# 基金公司与主题指数相关性"
   ]
  },
  {
   "cell_type": "code",
   "execution_count": 95,
   "metadata": {
    "collapsed": true,
    "jupyter": {
     "outputs_hidden": true
    }
   },
   "outputs": [],
   "source": [
    "nav_fname = u'D:/workspace/data/FOF/comp_ret.xlsx'\n",
    "df = pd.read_excel(nav_fname)\n",
    "fund_comp = pd.read_excel(u'D:/Data/list/基金公司.xlsx')\n",
    "df = df[fund_comp[u'名称']]\n",
    "df.columns = [col.replace(u'基金管理有限公司', '').replace(u'基金管理股份', '').replace(u'基金管理有限责任', '').replace(u'有限公司', '').replace(u'公司', '') \n",
    "              for col in df.columns]"
   ]
  },
  {
   "cell_type": "code",
   "execution_count": 96,
   "metadata": {
    "collapsed": true,
    "jupyter": {
     "outputs_hidden": true
    }
   },
   "outputs": [],
   "source": [
    "fund_comp = pd.read_excel(u'../data/基金公司.xlsx')\n",
    "df = df[fund_comp[u'名称']]"
   ]
  },
  {
   "cell_type": "code",
   "execution_count": 97,
   "metadata": {
    "collapsed": true,
    "jupyter": {
     "outputs_hidden": true
    }
   },
   "outputs": [],
   "source": [
    "df = df[(df.index >= start_date) & (df.index <= end_date)]"
   ]
  },
  {
   "cell_type": "code",
   "execution_count": 98,
   "metadata": {
    "collapsed": true,
    "jupyter": {
     "outputs_hidden": true
    }
   },
   "outputs": [],
   "source": [
    "theme = pd.read_excel(u'../data/主题.xlsx', index_col=0)"
   ]
  },
  {
   "cell_type": "code",
   "execution_count": 99,
   "metadata": {
    "collapsed": true,
    "jupyter": {
     "outputs_hidden": true
    }
   },
   "outputs": [],
   "source": [
    "cor_df = pd.DataFrame(index=theme[u'名称'], columns=df.columns)"
   ]
  },
  {
   "cell_type": "code",
   "execution_count": 100,
   "metadata": {},
   "outputs": [
    {
     "name": "stdout",
     "output_type": "stream",
     "text": [
      "环保指数\n",
      "券商指数\n",
      "多元金融指数\n",
      "保险指数\n",
      "软件指数\n",
      "水务指数\n",
      "互联网指数\n",
      "酒类指数\n",
      "餐饮旅游指数\n",
      "机场指数\n",
      "电脑硬件指数\n",
      "贵金属指数\n",
      "办公用品指数\n",
      "航空指数\n",
      "港口指数\n",
      "摩托车指数\n",
      "电子元器件指数\n",
      "商业服务指数\n",
      "制药指数\n",
      "化纤指数\n",
      "半导体指数\n",
      "海运指数\n",
      "石油化工指数\n",
      "造纸指数\n",
      "发电设备指数\n",
      "工业机械指数\n",
      "教育指数\n",
      "零售指数\n",
      "能源设备指数\n",
      "生物科技指数\n",
      "汽车零部件指数\n",
      "文化传媒指数\n",
      "化肥农药指数\n",
      "贸易指数\n",
      "重型机械指数\n",
      "通信设备指数\n",
      "精细化工指数\n",
      "陆路运输指数\n",
      "化工原料指数\n",
      "日用化工指数\n",
      "航天军工指数\n",
      "综合类指数\n",
      "工程机械指数\n",
      "医疗保健指数\n",
      "家用电器指数\n",
      "休闲用品指数\n",
      "纺织服装指数\n",
      "银行指数\n",
      "汽车指数\n",
      "电信指数\n",
      "公路指数\n",
      "煤炭指数\n",
      "建筑指数\n",
      "建材指数\n",
      "包装指数\n",
      "燃气指数\n",
      "电工电网指数\n",
      "家居用品指数\n",
      "软饮料指数\n",
      "钢铁指数\n",
      "石油天然气指数\n",
      "电力指数\n",
      "房地产指数\n",
      "食品指数\n",
      "林木指数\n",
      "基本金属指数\n",
      "农业指数\n"
     ]
    }
   ],
   "source": [
    "for wind_code in theme.index:\n",
    "    fname = '%s/%s.xlsx'%(DATA_DIR, wind_code)\n",
    "    nav = pd.read_excel(fname, index_col=0)\n",
    "    ret = nav.pct_change()\n",
    "    ret = ret[(ret.index >= start_date) & (ret.index <= end_date)]['close']\n",
    "    for col in df.columns:\n",
    "        series = df[col]\n",
    "        cor_df.loc[theme.loc[wind_code, u'名称'], col] = (1+ret).cumprod().corr((1+series).cumprod())\n",
    "    print theme.loc[wind_code, u'名称']"
   ]
  },
  {
   "cell_type": "code",
   "execution_count": 101,
   "metadata": {
    "collapsed": true,
    "jupyter": {
     "outputs_hidden": true
    }
   },
   "outputs": [],
   "source": [
    "cor_df.to_excel(u'../data/基金公司-主题.xlsx')"
   ]
  },
  {
   "cell_type": "code",
   "execution_count": 102,
   "metadata": {
    "collapsed": true,
    "jupyter": {
     "outputs_hidden": true
    }
   },
   "outputs": [],
   "source": [
    "beta_df = pd.DataFrame(index=theme[u'名称'], columns=df.columns)"
   ]
  },
  {
   "cell_type": "code",
   "execution_count": 103,
   "metadata": {},
   "outputs": [
    {
     "name": "stdout",
     "output_type": "stream",
     "text": [
      "环保指数\n",
      "券商指数\n",
      "多元金融指数\n",
      "保险指数\n",
      "软件指数\n",
      "水务指数\n",
      "互联网指数\n",
      "酒类指数\n",
      "餐饮旅游指数\n",
      "机场指数\n",
      "电脑硬件指数\n",
      "贵金属指数\n",
      "办公用品指数\n",
      "航空指数\n",
      "港口指数\n",
      "摩托车指数\n",
      "电子元器件指数\n",
      "商业服务指数\n",
      "制药指数\n",
      "化纤指数\n",
      "半导体指数\n",
      "海运指数\n",
      "石油化工指数\n",
      "造纸指数\n",
      "发电设备指数\n",
      "工业机械指数\n",
      "教育指数\n",
      "零售指数\n",
      "能源设备指数\n",
      "生物科技指数\n",
      "汽车零部件指数\n",
      "文化传媒指数\n",
      "化肥农药指数\n",
      "贸易指数\n",
      "重型机械指数\n",
      "通信设备指数\n",
      "精细化工指数\n",
      "陆路运输指数\n",
      "化工原料指数\n",
      "日用化工指数\n",
      "航天军工指数\n",
      "综合类指数\n",
      "工程机械指数\n",
      "医疗保健指数\n",
      "家用电器指数\n",
      "休闲用品指数\n",
      "纺织服装指数\n",
      "银行指数\n",
      "汽车指数\n",
      "电信指数\n",
      "公路指数\n",
      "煤炭指数\n",
      "建筑指数\n",
      "建材指数\n",
      "包装指数\n",
      "燃气指数\n",
      "电工电网指数\n",
      "家居用品指数\n",
      "软饮料指数\n",
      "钢铁指数\n",
      "石油天然气指数\n",
      "电力指数\n",
      "房地产指数\n",
      "食品指数\n",
      "林木指数\n",
      "基本金属指数\n",
      "农业指数\n"
     ]
    }
   ],
   "source": [
    "for wind_code in theme.index:\n",
    "    fname = '%s/%s.xlsx'%(DATA_DIR, wind_code)\n",
    "    nav = pd.read_excel(fname, index_col=0)\n",
    "    ret = nav.pct_change()\n",
    "    ret = ret[(ret.index >= start_date) & (ret.index <= end_date)]['close']\n",
    "    for col in df.columns:\n",
    "        series = df[col]\n",
    "        beta_df.loc[theme.loc[wind_code, u'名称'], col] = empyrical.beta(series, ret)\n",
    "    print theme.loc[wind_code, u'名称']"
   ]
  },
  {
   "cell_type": "code",
   "execution_count": 104,
   "metadata": {
    "collapsed": true,
    "jupyter": {
     "outputs_hidden": true
    }
   },
   "outputs": [],
   "source": [
    "beta_df.to_excel(u'../data/基金公司-主题-beta.xlsx')"
   ]
  },
  {
   "cell_type": "markdown",
   "metadata": {},
   "source": [
    "# 基金公司与概念指数相关性"
   ]
  },
  {
   "cell_type": "code",
   "execution_count": 105,
   "metadata": {
    "collapsed": true,
    "jupyter": {
     "outputs_hidden": true
    }
   },
   "outputs": [],
   "source": [
    "nav_fname = u'D:/workspace/data/FOF/comp_ret.xlsx'\n",
    "df = pd.read_excel(nav_fname)\n",
    "fund_comp = pd.read_excel(u'D:/Data/list/基金公司.xlsx')\n",
    "df = df[fund_comp[u'名称']]\n",
    "df.columns = [col.replace(u'基金管理有限公司', '').replace(u'基金管理股份', '').replace(u'基金管理有限责任', '').replace(u'有限公司', '').replace(u'公司', '')\n",
    "              for col in df.columns]"
   ]
  },
  {
   "cell_type": "code",
   "execution_count": 106,
   "metadata": {
    "collapsed": true,
    "jupyter": {
     "outputs_hidden": true
    }
   },
   "outputs": [],
   "source": [
    "fund_comp = pd.read_excel(u'../data/基金公司.xlsx')\n",
    "df = df[fund_comp[u'名称']]"
   ]
  },
  {
   "cell_type": "code",
   "execution_count": 107,
   "metadata": {
    "collapsed": true,
    "jupyter": {
     "outputs_hidden": true
    }
   },
   "outputs": [],
   "source": [
    "df = df[(df.index >= start_date) & (df.index <= end_date)]"
   ]
  },
  {
   "cell_type": "code",
   "execution_count": 108,
   "metadata": {
    "collapsed": true,
    "jupyter": {
     "outputs_hidden": true
    }
   },
   "outputs": [],
   "source": [
    "concept = pd.read_excel(u'../data/概念.xlsx', index_col=0)"
   ]
  },
  {
   "cell_type": "code",
   "execution_count": 109,
   "metadata": {
    "collapsed": true,
    "jupyter": {
     "outputs_hidden": true
    }
   },
   "outputs": [],
   "source": [
    "cor_df = pd.DataFrame(index=concept[u'名称'], columns=df.columns)"
   ]
  },
  {
   "cell_type": "code",
   "execution_count": 110,
   "metadata": {},
   "outputs": [
    {
     "name": "stdout",
     "output_type": "stream",
     "text": [
      "打板指数\n",
      "环保概念指数\n",
      "区块链指数\n",
      "近端次新股指数\n",
      "网络游戏指数\n",
      "抗癌指数\n",
      "电子竞技指数\n",
      "乡村振兴指数\n",
      "次新股指数\n",
      "中朝经济特区指数\n",
      "知识产权指数\n",
      "金融科技指数\n",
      "智能音箱指数\n",
      "创新药指数\n",
      "金控平台指数\n",
      "白酒指数\n",
      "CAR-T疗法指数\n",
      "最小市值指数\n",
      "数字孪生指数\n",
      "智慧医疗指数\n",
      "工业大麻指数\n",
      "业绩爆雷指数\n",
      "虚拟现实指数\n",
      "超级细菌指数\n",
      "边缘计算指数\n",
      "高校指数\n",
      "基因检测指数\n",
      "上海自贸区指数\n",
      "智能IC卡指数\n",
      "自主可控指数\n",
      "触摸屏指数\n",
      "医疗器械指数\n",
      "工业4.0指数\n",
      "机器人指数\n",
      "电子烟指数\n",
      "页岩气指数\n",
      "高送转预期指数\n",
      "期货概念指数\n",
      "泛在电力物联网指数\n",
      "白马股指数\n",
      "参股金融指数\n",
      "工业互联网指数\n",
      "雄安新区指数\n",
      "手机产业指数\n",
      "汽车后市场指数\n",
      "中小创蓝筹指数\n",
      "人工智能指数\n",
      "风力发电指数\n",
      "生物疫苗指数\n",
      "大数据指数\n",
      "电路板指数\n",
      "云计算指数\n",
      "新零售指数\n",
      "网络安全指数\n",
      "卫星导航指数\n",
      "上海本地重组指数\n",
      "高盈利成长股指数\n",
      "国产化创新指数\n",
      "仿制药指数\n",
      "十大军工集团指数\n",
      "影视指数\n",
      "华为概念指数\n",
      "国资改革指数\n",
      "物联网指数\n",
      "独角兽概念指数\n",
      "操作系统国产化指数\n",
      "维生素指数\n",
      "国企混改指数\n",
      "广电系指数\n",
      "超高清视频指数\n",
      "智能物流指数\n",
      "甲醇指数\n",
      "军民融合指数\n",
      "陆股通重仓指数\n",
      "智能汽车指数\n",
      "富士康概念指数\n",
      "染料指数\n",
      "航母指数\n",
      "高送转概念指数\n",
      "OLED指数\n",
      "MSCI概念指数\n",
      "特高压指数\n",
      "充电桩指数\n",
      "丝绸之路指数\n",
      "二线龙头指数\n",
      "芯片国产化指数\n",
      "出口型企业指数\n",
      "轨道交通指数\n",
      "中国一汽概念指数\n",
      "高铁指数\n",
      "LNG指数\n",
      "高端装备制造指数\n",
      "海南自贸港指数\n",
      "光伏指数\n",
      "行业龙头指数\n",
      "品牌龙头指数\n",
      "护城河指数\n",
      "5G指数\n",
      "新疆振兴指数\n",
      "燃料电池指数\n",
      "核电指数\n",
      "参股科创板指数\n",
      "大消费指数\n",
      "西部水泥指数\n",
      "新三板指数\n",
      "氟化工指数\n",
      "房屋租赁指数\n",
      "一线龙头指数\n",
      "一带一路指数\n",
      "石墨烯指数\n",
      "新能源汽车指数\n",
      "南北船合并指数\n",
      "福建自贸区指数\n",
      "西部大基建指数\n",
      "锂电池指数\n",
      "创投指数\n",
      "赛马指数\n",
      "海南省国资指数\n",
      "集成电路指数\n",
      "钴矿指数\n",
      "钛白粉指数\n",
      "西藏振兴指数\n",
      "黄金珠宝指数\n",
      "粤港澳大湾区指数\n",
      "草甘膦指数\n",
      "锂矿指数\n",
      "大基建央企指数\n",
      "啤酒指数\n",
      "猪产业指数\n",
      "人造肉指数\n",
      "鸡产业指数\n",
      "小金属指数\n",
      "ST概念指数\n",
      "反关税指数\n",
      "生物育种指数\n",
      "大豆指数\n",
      "稀土指数\n",
      "低价股指数\n"
     ]
    }
   ],
   "source": [
    "for wind_code in concept.index:\n",
    "    fname = '%s/%s.xlsx'%(DATA_DIR, wind_code)\n",
    "    nav = pd.read_excel(fname, index_col=0)\n",
    "    ret = nav.pct_change()\n",
    "    ret = ret[(ret.index >= start_date) & (ret.index <= end_date)]['close']\n",
    "    for col in df.columns:\n",
    "        series = df[col]\n",
    "        cor_df.loc[concept.loc[wind_code, u'名称'], col] = (1+ret).cumprod().corr((1+series).cumprod())\n",
    "    print concept.loc[wind_code, u'名称']"
   ]
  },
  {
   "cell_type": "code",
   "execution_count": 111,
   "metadata": {
    "collapsed": true,
    "jupyter": {
     "outputs_hidden": true
    }
   },
   "outputs": [],
   "source": [
    "cor_df.to_excel(u'../data/基金公司-概念.xlsx')"
   ]
  },
  {
   "cell_type": "code",
   "execution_count": 112,
   "metadata": {
    "collapsed": true,
    "jupyter": {
     "outputs_hidden": true
    }
   },
   "outputs": [],
   "source": [
    "beta_df = pd.DataFrame(index=concept[u'名称'], columns=df.columns)"
   ]
  },
  {
   "cell_type": "code",
   "execution_count": 113,
   "metadata": {},
   "outputs": [
    {
     "name": "stdout",
     "output_type": "stream",
     "text": [
      "打板指数\n",
      "环保概念指数\n",
      "区块链指数\n",
      "近端次新股指数\n",
      "网络游戏指数\n",
      "抗癌指数\n",
      "电子竞技指数\n",
      "乡村振兴指数\n",
      "次新股指数\n",
      "中朝经济特区指数\n",
      "知识产权指数\n",
      "金融科技指数\n",
      "智能音箱指数\n",
      "创新药指数\n",
      "金控平台指数\n",
      "白酒指数\n",
      "CAR-T疗法指数\n",
      "最小市值指数\n",
      "数字孪生指数\n",
      "智慧医疗指数\n",
      "工业大麻指数\n",
      "业绩爆雷指数\n",
      "虚拟现实指数\n",
      "超级细菌指数\n",
      "边缘计算指数\n",
      "高校指数\n",
      "基因检测指数\n",
      "上海自贸区指数\n",
      "智能IC卡指数\n",
      "自主可控指数\n",
      "触摸屏指数\n",
      "医疗器械指数\n",
      "工业4.0指数\n",
      "机器人指数\n",
      "电子烟指数\n",
      "页岩气指数\n",
      "高送转预期指数\n",
      "期货概念指数\n",
      "泛在电力物联网指数\n",
      "白马股指数\n",
      "参股金融指数\n",
      "工业互联网指数\n",
      "雄安新区指数\n",
      "手机产业指数\n",
      "汽车后市场指数\n",
      "中小创蓝筹指数\n",
      "人工智能指数\n",
      "风力发电指数\n",
      "生物疫苗指数\n",
      "大数据指数\n",
      "电路板指数\n",
      "云计算指数\n",
      "新零售指数\n",
      "网络安全指数\n",
      "卫星导航指数\n",
      "上海本地重组指数\n",
      "高盈利成长股指数\n",
      "国产化创新指数\n",
      "仿制药指数\n",
      "十大军工集团指数\n",
      "影视指数\n",
      "华为概念指数\n",
      "国资改革指数\n",
      "物联网指数\n",
      "独角兽概念指数\n",
      "操作系统国产化指数\n",
      "维生素指数\n",
      "国企混改指数\n",
      "广电系指数\n",
      "超高清视频指数\n",
      "智能物流指数\n",
      "甲醇指数\n",
      "军民融合指数\n",
      "陆股通重仓指数\n",
      "智能汽车指数\n",
      "富士康概念指数\n",
      "染料指数\n",
      "航母指数\n",
      "高送转概念指数\n",
      "OLED指数\n",
      "MSCI概念指数\n",
      "特高压指数\n",
      "充电桩指数\n",
      "丝绸之路指数\n",
      "二线龙头指数\n",
      "芯片国产化指数\n",
      "出口型企业指数\n",
      "轨道交通指数\n",
      "中国一汽概念指数\n",
      "高铁指数\n",
      "LNG指数\n",
      "高端装备制造指数\n",
      "海南自贸港指数\n",
      "光伏指数\n",
      "行业龙头指数\n",
      "品牌龙头指数\n",
      "护城河指数\n",
      "5G指数\n",
      "新疆振兴指数\n",
      "燃料电池指数\n",
      "核电指数\n",
      "参股科创板指数\n",
      "大消费指数\n",
      "西部水泥指数\n",
      "新三板指数\n",
      "氟化工指数\n",
      "房屋租赁指数\n",
      "一线龙头指数\n",
      "一带一路指数\n",
      "石墨烯指数\n",
      "新能源汽车指数\n",
      "南北船合并指数\n",
      "福建自贸区指数\n",
      "西部大基建指数\n",
      "锂电池指数\n",
      "创投指数\n",
      "赛马指数\n",
      "海南省国资指数\n",
      "集成电路指数\n",
      "钴矿指数\n",
      "钛白粉指数\n",
      "西藏振兴指数\n",
      "黄金珠宝指数\n",
      "粤港澳大湾区指数\n",
      "草甘膦指数\n",
      "锂矿指数\n",
      "大基建央企指数\n",
      "啤酒指数\n",
      "猪产业指数\n",
      "人造肉指数\n",
      "鸡产业指数\n",
      "小金属指数\n",
      "ST概念指数\n",
      "反关税指数\n",
      "生物育种指数\n",
      "大豆指数\n",
      "稀土指数\n",
      "低价股指数\n"
     ]
    }
   ],
   "source": [
    "for wind_code in concept.index:\n",
    "    fname = '%s/%s.xlsx'%(DATA_DIR, wind_code)\n",
    "    nav = pd.read_excel(fname, index_col=0)\n",
    "    ret = nav.pct_change()\n",
    "    ret = ret[(ret.index >= start_date) & (ret.index <= end_date)]['close']\n",
    "    for col in df.columns:\n",
    "        series = df[col]\n",
    "        beta_df.loc[concept.loc[wind_code, u'名称'], col] = empyrical.beta(series, ret)\n",
    "    print concept.loc[wind_code, u'名称']"
   ]
  },
  {
   "cell_type": "code",
   "execution_count": 114,
   "metadata": {
    "collapsed": true,
    "jupyter": {
     "outputs_hidden": true
    }
   },
   "outputs": [],
   "source": [
    "beta_df.to_excel(u'../data/基金公司-概念-beta.xlsx')"
   ]
  },
  {
   "cell_type": "markdown",
   "metadata": {},
   "source": [
    "# 基金公司与板块指数相关性"
   ]
  },
  {
   "cell_type": "code",
   "execution_count": 115,
   "metadata": {
    "collapsed": true,
    "jupyter": {
     "outputs_hidden": true
    }
   },
   "outputs": [],
   "source": [
    "nav_fname = u'D:/workspace/data/FOF/comp_ret.xlsx'\n",
    "df = pd.read_excel(nav_fname)\n",
    "fund_comp = pd.read_excel(u'D:/Data/list/基金公司.xlsx')\n",
    "df = df[fund_comp[u'名称']]\n",
    "df.columns = [col.replace(u'基金管理有限公司', '').replace(u'基金管理股份', '').replace(u'基金管理有限责任', '').replace(u'有限公司', '').replace(u'公司', '')\n",
    "              for col in df.columns]"
   ]
  },
  {
   "cell_type": "code",
   "execution_count": 116,
   "metadata": {
    "collapsed": true,
    "jupyter": {
     "outputs_hidden": true
    }
   },
   "outputs": [],
   "source": [
    "fund_comp = pd.read_excel(u'../data/基金公司.xlsx')\n",
    "df = df[fund_comp[u'名称']]"
   ]
  },
  {
   "cell_type": "code",
   "execution_count": 117,
   "metadata": {
    "collapsed": true,
    "jupyter": {
     "outputs_hidden": true
    }
   },
   "outputs": [],
   "source": [
    "df = df[(df.index >= start_date) & (df.index <= end_date)]"
   ]
  },
  {
   "cell_type": "code",
   "execution_count": 118,
   "metadata": {
    "collapsed": true,
    "jupyter": {
     "outputs_hidden": true
    }
   },
   "outputs": [],
   "source": [
    "sector = pd.read_excel(u'../data/板块.xlsx', index_col=0)"
   ]
  },
  {
   "cell_type": "code",
   "execution_count": 119,
   "metadata": {
    "collapsed": true,
    "jupyter": {
     "outputs_hidden": true
    }
   },
   "outputs": [],
   "source": [
    "cor_df = pd.DataFrame(index=sector[u'名称'], columns=df.columns)"
   ]
  },
  {
   "cell_type": "code",
   "execution_count": 120,
   "metadata": {},
   "outputs": [
    {
     "name": "stdout",
     "output_type": "stream",
     "text": [
      "创业板综\n",
      "上证50\n",
      "中证100\n",
      "沪深300\n",
      "万得全A\n",
      "中证800\n",
      "深证综指\n",
      "中证500\n",
      "中证1000\n",
      "中小板综\n",
      "上证综指\n"
     ]
    }
   ],
   "source": [
    "for wind_code in sector.index:\n",
    "    fname = '%s/%s.xlsx'%(DATA_DIR, wind_code)\n",
    "    nav = pd.read_excel(fname, index_col=0)\n",
    "    ret = nav.pct_change()\n",
    "    ret = ret[(ret.index >= start_date) & (ret.index <= end_date)]['close']\n",
    "    for col in df.columns:\n",
    "        series = df[col]\n",
    "        cor_df.loc[sector.loc[wind_code, u'名称'], col] = (1+ret).cumprod().corr((1+series).cumprod())\n",
    "    print sector.loc[wind_code, u'名称']"
   ]
  },
  {
   "cell_type": "code",
   "execution_count": 121,
   "metadata": {
    "collapsed": true,
    "jupyter": {
     "outputs_hidden": true
    }
   },
   "outputs": [],
   "source": [
    "cor_df.to_excel(u'../data/基金公司-板块.xlsx')"
   ]
  },
  {
   "cell_type": "code",
   "execution_count": 122,
   "metadata": {
    "collapsed": true,
    "jupyter": {
     "outputs_hidden": true
    }
   },
   "outputs": [],
   "source": [
    "beta_df = pd.DataFrame(index=sector[u'名称'], columns=df.columns)"
   ]
  },
  {
   "cell_type": "code",
   "execution_count": 123,
   "metadata": {},
   "outputs": [
    {
     "name": "stdout",
     "output_type": "stream",
     "text": [
      "创业板综\n",
      "上证50\n",
      "中证100\n",
      "沪深300\n",
      "万得全A\n",
      "中证800\n",
      "深证综指\n",
      "中证500\n",
      "中证1000\n",
      "中小板综\n",
      "上证综指\n"
     ]
    }
   ],
   "source": [
    "for wind_code in sector.index:\n",
    "    fname = '%s/%s.xlsx'%(DATA_DIR, wind_code)\n",
    "    nav = pd.read_excel(fname, index_col=0)\n",
    "    ret = nav.pct_change()\n",
    "    ret = ret[(ret.index >= start_date) & (ret.index <= end_date)]['close']\n",
    "    for col in df.columns:\n",
    "        series = df[col]\n",
    "        beta_df.loc[sector.loc[wind_code, u'名称'], col] = empyrical.beta(series, ret)\n",
    "    print sector.loc[wind_code, u'名称']"
   ]
  },
  {
   "cell_type": "code",
   "execution_count": 124,
   "metadata": {
    "collapsed": true,
    "jupyter": {
     "outputs_hidden": true
    }
   },
   "outputs": [],
   "source": [
    "beta_df.to_excel(u'../data/基金公司-板块-beta.xlsx')"
   ]
  },
  {
   "cell_type": "code",
   "execution_count": null,
   "metadata": {
    "collapsed": true,
    "jupyter": {
     "outputs_hidden": true
    }
   },
   "outputs": [],
   "source": []
  },
  {
   "cell_type": "code",
   "execution_count": null,
   "metadata": {
    "collapsed": true,
    "jupyter": {
     "outputs_hidden": true
    }
   },
   "outputs": [],
   "source": []
  },
  {
   "cell_type": "code",
   "execution_count": null,
   "metadata": {},
   "outputs": [],
   "source": []
  }
 ],
 "metadata": {
  "anaconda-cloud": {},
  "kernelspec": {
   "display_name": "Python 2",
   "language": "python",
   "name": "python2"
  },
  "language_info": {
   "codemirror_mode": {
    "name": "ipython",
    "version": 2
   },
   "file_extension": ".py",
   "mimetype": "text/x-python",
   "name": "python",
   "nbconvert_exporter": "python",
   "pygments_lexer": "ipython2",
   "version": "2.7.14"
  }
 },
 "nbformat": 4,
 "nbformat_minor": 4
}
