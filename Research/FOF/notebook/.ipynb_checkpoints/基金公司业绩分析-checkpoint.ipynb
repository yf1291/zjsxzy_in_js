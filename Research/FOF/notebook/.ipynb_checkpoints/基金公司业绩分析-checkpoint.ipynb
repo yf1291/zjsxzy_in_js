{
 "cells": [
  {
   "cell_type": "code",
   "execution_count": 21,
   "metadata": {
    "collapsed": true
   },
   "outputs": [],
   "source": [
    "import pandas as pd\n",
    "import numpy as np\n",
    "import pyfolio as pf"
   ]
  },
  {
   "cell_type": "code",
   "execution_count": 22,
   "metadata": {
    "collapsed": true
   },
   "outputs": [],
   "source": [
    "FOF_DIR = 'C:/Users/jgtzsx01/Documents/workspace/data/FOF'\n",
    "DATA_DIR = 'C:\\Users\\jgtzsx01\\Documents\\workspace\\zjsxzy_in_js\\website\\everyday-update\\data'"
   ]
  },
  {
   "cell_type": "code",
   "execution_count": 29,
   "metadata": {
    "collapsed": true
   },
   "outputs": [],
   "source": [
    "wdf = pd.read_csv('%s/881001.WI.csv'%(DATA_DIR), index_col=1)"
   ]
  },
  {
   "cell_type": "code",
   "execution_count": 3,
   "metadata": {
    "collapsed": true
   },
   "outputs": [],
   "source": [
    "comp_ret = pd.read_excel('%s/comp_ret.xlsx'%(FOF_DIR), index_col=0)"
   ]
  },
  {
   "cell_type": "code",
   "execution_count": 7,
   "metadata": {
    "collapsed": false
   },
   "outputs": [],
   "source": [
    "comp_pos = pd.read_excel('%s/comp_position.xlsx'%(FOF_DIR), index_col=0)"
   ]
  },
  {
   "cell_type": "code",
   "execution_count": 9,
   "metadata": {
    "collapsed": false
   },
   "outputs": [
    {
     "data": {
      "text/html": [
       "<div>\n",
       "<table border=\"1\" class=\"dataframe\">\n",
       "  <thead>\n",
       "    <tr style=\"text-align: right;\">\n",
       "      <th></th>\n",
       "      <th>万家基金管理有限公司</th>\n",
       "      <th>上投摩根基金管理有限公司</th>\n",
       "      <th>上海东方证券资产管理有限公司</th>\n",
       "      <th>上银基金管理有限公司</th>\n",
       "      <th>东兴证券股份有限公司</th>\n",
       "      <th>东吴基金管理有限公司</th>\n",
       "      <th>东方基金管理有限责任公司</th>\n",
       "      <th>东海基金管理有限责任公司</th>\n",
       "      <th>中信建投基金管理有限公司</th>\n",
       "      <th>中加基金管理有限公司</th>\n",
       "      <th>...</th>\n",
       "      <th>鑫元基金管理有限公司</th>\n",
       "      <th>银华基金管理股份有限公司</th>\n",
       "      <th>银河基金管理有限公司</th>\n",
       "      <th>长信基金管理有限责任公司</th>\n",
       "      <th>长城基金管理有限公司</th>\n",
       "      <th>长安基金管理有限公司</th>\n",
       "      <th>长江证券(上海)资产管理有限公司</th>\n",
       "      <th>长盛基金管理有限公司</th>\n",
       "      <th>鹏华基金管理有限公司</th>\n",
       "      <th>鹏扬基金管理有限公司</th>\n",
       "    </tr>\n",
       "  </thead>\n",
       "  <tbody>\n",
       "    <tr>\n",
       "      <th>2017-09-04</th>\n",
       "      <td>0.000131</td>\n",
       "      <td>0.010424</td>\n",
       "      <td>0.006646</td>\n",
       "      <td>0.003187</td>\n",
       "      <td>0.008308</td>\n",
       "      <td>0.005179</td>\n",
       "      <td>0.007058</td>\n",
       "      <td>0.017152</td>\n",
       "      <td>0.006618</td>\n",
       "      <td>0.0</td>\n",
       "      <td>...</td>\n",
       "      <td>0.0</td>\n",
       "      <td>-0.000046</td>\n",
       "      <td>0.005460</td>\n",
       "      <td>0.004949</td>\n",
       "      <td>0.004760</td>\n",
       "      <td>0.006545</td>\n",
       "      <td>0.0</td>\n",
       "      <td>0.007737</td>\n",
       "      <td>0.006230</td>\n",
       "      <td>0.0</td>\n",
       "    </tr>\n",
       "    <tr>\n",
       "      <th>2017-09-05</th>\n",
       "      <td>0.007712</td>\n",
       "      <td>0.006095</td>\n",
       "      <td>0.003774</td>\n",
       "      <td>0.004766</td>\n",
       "      <td>0.003239</td>\n",
       "      <td>0.000486</td>\n",
       "      <td>-0.001706</td>\n",
       "      <td>-0.000627</td>\n",
       "      <td>-0.000200</td>\n",
       "      <td>0.0</td>\n",
       "      <td>...</td>\n",
       "      <td>0.0</td>\n",
       "      <td>0.002544</td>\n",
       "      <td>0.001484</td>\n",
       "      <td>0.001974</td>\n",
       "      <td>0.000494</td>\n",
       "      <td>0.003734</td>\n",
       "      <td>0.0</td>\n",
       "      <td>0.000318</td>\n",
       "      <td>-0.000031</td>\n",
       "      <td>0.0</td>\n",
       "    </tr>\n",
       "    <tr>\n",
       "      <th>2017-09-06</th>\n",
       "      <td>0.000000</td>\n",
       "      <td>0.000000</td>\n",
       "      <td>0.000000</td>\n",
       "      <td>0.000000</td>\n",
       "      <td>0.000000</td>\n",
       "      <td>0.000000</td>\n",
       "      <td>0.000000</td>\n",
       "      <td>0.000000</td>\n",
       "      <td>0.000000</td>\n",
       "      <td>0.0</td>\n",
       "      <td>...</td>\n",
       "      <td>0.0</td>\n",
       "      <td>0.000000</td>\n",
       "      <td>0.000000</td>\n",
       "      <td>0.000000</td>\n",
       "      <td>0.000000</td>\n",
       "      <td>0.000000</td>\n",
       "      <td>0.0</td>\n",
       "      <td>0.000000</td>\n",
       "      <td>0.000000</td>\n",
       "      <td>0.0</td>\n",
       "    </tr>\n",
       "    <tr>\n",
       "      <th>2017-09-07</th>\n",
       "      <td>0.004791</td>\n",
       "      <td>-0.005403</td>\n",
       "      <td>-0.005140</td>\n",
       "      <td>-0.007115</td>\n",
       "      <td>-0.002028</td>\n",
       "      <td>-0.002491</td>\n",
       "      <td>-0.003633</td>\n",
       "      <td>-0.000942</td>\n",
       "      <td>-0.000143</td>\n",
       "      <td>0.0</td>\n",
       "      <td>...</td>\n",
       "      <td>0.0</td>\n",
       "      <td>-0.005997</td>\n",
       "      <td>-0.005570</td>\n",
       "      <td>-0.002469</td>\n",
       "      <td>-0.004593</td>\n",
       "      <td>-0.010465</td>\n",
       "      <td>0.0</td>\n",
       "      <td>-0.001913</td>\n",
       "      <td>-0.004802</td>\n",
       "      <td>0.0</td>\n",
       "    </tr>\n",
       "    <tr>\n",
       "      <th>2017-09-08</th>\n",
       "      <td>0.002054</td>\n",
       "      <td>0.001072</td>\n",
       "      <td>0.002656</td>\n",
       "      <td>-0.003185</td>\n",
       "      <td>0.002098</td>\n",
       "      <td>-0.001265</td>\n",
       "      <td>0.001725</td>\n",
       "      <td>-0.002613</td>\n",
       "      <td>0.001360</td>\n",
       "      <td>0.0</td>\n",
       "      <td>...</td>\n",
       "      <td>0.0</td>\n",
       "      <td>-0.003287</td>\n",
       "      <td>0.002167</td>\n",
       "      <td>0.000661</td>\n",
       "      <td>-0.002470</td>\n",
       "      <td>-0.001637</td>\n",
       "      <td>0.0</td>\n",
       "      <td>-0.001019</td>\n",
       "      <td>-0.002523</td>\n",
       "      <td>0.0</td>\n",
       "    </tr>\n",
       "  </tbody>\n",
       "</table>\n",
       "<p>5 rows × 116 columns</p>\n",
       "</div>"
      ],
      "text/plain": [
       "            万家基金管理有限公司  上投摩根基金管理有限公司  上海东方证券资产管理有限公司  上银基金管理有限公司  东兴证券股份有限公司  \\\n",
       "2017-09-04    0.000131      0.010424        0.006646    0.003187    0.008308   \n",
       "2017-09-05    0.007712      0.006095        0.003774    0.004766    0.003239   \n",
       "2017-09-06    0.000000      0.000000        0.000000    0.000000    0.000000   \n",
       "2017-09-07    0.004791     -0.005403       -0.005140   -0.007115   -0.002028   \n",
       "2017-09-08    0.002054      0.001072        0.002656   -0.003185    0.002098   \n",
       "\n",
       "            东吴基金管理有限公司  东方基金管理有限责任公司  东海基金管理有限责任公司  中信建投基金管理有限公司  中加基金管理有限公司  \\\n",
       "2017-09-04    0.005179      0.007058      0.017152      0.006618         0.0   \n",
       "2017-09-05    0.000486     -0.001706     -0.000627     -0.000200         0.0   \n",
       "2017-09-06    0.000000      0.000000      0.000000      0.000000         0.0   \n",
       "2017-09-07   -0.002491     -0.003633     -0.000942     -0.000143         0.0   \n",
       "2017-09-08   -0.001265      0.001725     -0.002613      0.001360         0.0   \n",
       "\n",
       "               ...      鑫元基金管理有限公司  银华基金管理股份有限公司  银河基金管理有限公司  长信基金管理有限责任公司  \\\n",
       "2017-09-04     ...             0.0     -0.000046    0.005460      0.004949   \n",
       "2017-09-05     ...             0.0      0.002544    0.001484      0.001974   \n",
       "2017-09-06     ...             0.0      0.000000    0.000000      0.000000   \n",
       "2017-09-07     ...             0.0     -0.005997   -0.005570     -0.002469   \n",
       "2017-09-08     ...             0.0     -0.003287    0.002167      0.000661   \n",
       "\n",
       "            长城基金管理有限公司  长安基金管理有限公司  长江证券(上海)资产管理有限公司  长盛基金管理有限公司  鹏华基金管理有限公司  \\\n",
       "2017-09-04    0.004760    0.006545               0.0    0.007737    0.006230   \n",
       "2017-09-05    0.000494    0.003734               0.0    0.000318   -0.000031   \n",
       "2017-09-06    0.000000    0.000000               0.0    0.000000    0.000000   \n",
       "2017-09-07   -0.004593   -0.010465               0.0   -0.001913   -0.004802   \n",
       "2017-09-08   -0.002470   -0.001637               0.0   -0.001019   -0.002523   \n",
       "\n",
       "            鹏扬基金管理有限公司  \n",
       "2017-09-04         0.0  \n",
       "2017-09-05         0.0  \n",
       "2017-09-06         0.0  \n",
       "2017-09-07         0.0  \n",
       "2017-09-08         0.0  \n",
       "\n",
       "[5 rows x 116 columns]"
      ]
     },
     "execution_count": 9,
     "metadata": {},
     "output_type": "execute_result"
    }
   ],
   "source": [
    "comp_ret.tail()"
   ]
  },
  {
   "cell_type": "code",
   "execution_count": 10,
   "metadata": {
    "collapsed": true
   },
   "outputs": [],
   "source": [
    "df = pd.DataFrame(index=comp_ret.columns, columns=['ret', 'vol', 'beta', 'pos'])"
   ]
  },
  {
   "cell_type": "code",
   "execution_count": 11,
   "metadata": {
    "collapsed": true
   },
   "outputs": [],
   "source": [
    "c = df.index[0]"
   ]
  },
  {
   "cell_type": "code",
   "execution_count": 13,
   "metadata": {
    "collapsed": false
   },
   "outputs": [
    {
     "name": "stdout",
     "output_type": "stream",
     "text": [
      "万家基金管理有限公司\n"
     ]
    }
   ],
   "source": [
    "print c"
   ]
  },
  {
   "cell_type": "code",
   "execution_count": 14,
   "metadata": {
    "collapsed": true
   },
   "outputs": [],
   "source": [
    "start_date = '2017-07-01'"
   ]
  },
  {
   "cell_type": "code",
   "execution_count": 15,
   "metadata": {
    "collapsed": true
   },
   "outputs": [],
   "source": [
    "series = comp_ret[c]"
   ]
  },
  {
   "cell_type": "code",
   "execution_count": 25,
   "metadata": {
    "collapsed": true
   },
   "outputs": [],
   "source": [
    "series = series[series.index >= start_date]"
   ]
  },
  {
   "cell_type": "code",
   "execution_count": 26,
   "metadata": {
    "collapsed": true
   },
   "outputs": [],
   "source": [
    "vol = pf.empyrical.annual_volatility(series)"
   ]
  },
  {
   "cell_type": "code",
   "execution_count": 27,
   "metadata": {
    "collapsed": false
   },
   "outputs": [
    {
     "data": {
      "text/plain": [
       "0.13282592004938357"
      ]
     },
     "execution_count": 27,
     "metadata": {},
     "output_type": "execute_result"
    }
   ],
   "source": [
    "vol"
   ]
  },
  {
   "cell_type": "code",
   "execution_count": 34,
   "metadata": {
    "collapsed": false
   },
   "outputs": [],
   "source": [
    "wseries = wdf.pct_change()[wdf.index >= start_date]['close']"
   ]
  },
  {
   "cell_type": "code",
   "execution_count": 35,
   "metadata": {
    "collapsed": false
   },
   "outputs": [
    {
     "data": {
      "text/plain": [
       "0.97990754245177947"
      ]
     },
     "execution_count": 35,
     "metadata": {},
     "output_type": "execute_result"
    }
   ],
   "source": [
    "pf.empyrical.beta(series, wseries)"
   ]
  },
  {
   "cell_type": "code",
   "execution_count": 36,
   "metadata": {
    "collapsed": true
   },
   "outputs": [],
   "source": [
    "acc = (1 + series).cumprod()"
   ]
  },
  {
   "cell_type": "code",
   "execution_count": 40,
   "metadata": {
    "collapsed": false
   },
   "outputs": [
    {
     "data": {
      "text/plain": [
       "0.071629222136519122"
      ]
     },
     "execution_count": 40,
     "metadata": {},
     "output_type": "execute_result"
    }
   ],
   "source": [
    "acc[-1] - 1"
   ]
  },
  {
   "cell_type": "code",
   "execution_count": 42,
   "metadata": {
    "collapsed": false
   },
   "outputs": [
    {
     "data": {
      "text/plain": [
       "0.13423225927433316"
      ]
     },
     "execution_count": 42,
     "metadata": {},
     "output_type": "execute_result"
    }
   ],
   "source": [
    "(comp_pos[c][-1] - comp_pos[c][-2]) / comp_pos[c][-2]"
   ]
  },
  {
   "cell_type": "code",
   "execution_count": null,
   "metadata": {
    "collapsed": true
   },
   "outputs": [],
   "source": []
  }
 ],
 "metadata": {
  "anaconda-cloud": {},
  "kernelspec": {
   "display_name": "Python [default]",
   "language": "python",
   "name": "python2"
  },
  "language_info": {
   "codemirror_mode": {
    "name": "ipython",
    "version": 2
   },
   "file_extension": ".py",
   "mimetype": "text/x-python",
   "name": "python",
   "nbconvert_exporter": "python",
   "pygments_lexer": "ipython2",
   "version": "2.7.12"
  }
 },
 "nbformat": 4,
 "nbformat_minor": 1
}
