{
 "cells": [
  {
   "cell_type": "code",
   "execution_count": 1,
   "metadata": {},
   "outputs": [],
   "source": [
    "import requests\n",
    "from bs4 import BeautifulSoup"
   ]
  },
  {
   "cell_type": "code",
   "execution_count": 2,
   "metadata": {},
   "outputs": [],
   "source": [
    "url = 'http://biz.finance.sina.com.cn/fundinfo/share/jjgg_search.php?content=2017-12-16&type=same_date'"
   ]
  },
  {
   "cell_type": "code",
   "execution_count": 3,
   "metadata": {},
   "outputs": [],
   "source": [
    "response = requests.get(url)\n",
    "response.encoding = 'gb2312'"
   ]
  },
  {
   "cell_type": "code",
   "execution_count": 4,
   "metadata": {},
   "outputs": [
    {
     "data": {
      "text/plain": [
       "200"
      ]
     },
     "execution_count": 4,
     "metadata": {},
     "output_type": "execute_result"
    }
   ],
   "source": [
    "response.status_code"
   ]
  },
  {
   "cell_type": "code",
   "execution_count": 5,
   "metadata": {},
   "outputs": [],
   "source": [
    "text = response.text"
   ]
  },
  {
   "cell_type": "code",
   "execution_count": 6,
   "metadata": {},
   "outputs": [],
   "source": [
    "soup = BeautifulSoup(text, \"html.parser\")"
   ]
  },
  {
   "cell_type": "code",
   "execution_count": 7,
   "metadata": {},
   "outputs": [],
   "source": [
    "lists = soup.findAll('tr')"
   ]
  },
  {
   "cell_type": "code",
   "execution_count": 8,
   "metadata": {},
   "outputs": [
    {
     "data": {
      "text/plain": [
       "579"
      ]
     },
     "execution_count": 8,
     "metadata": {},
     "output_type": "execute_result"
    }
   ],
   "source": [
    "len(lists)"
   ]
  },
  {
   "cell_type": "code",
   "execution_count": 9,
   "metadata": {},
   "outputs": [
    {
     "name": "stdout",
     "output_type": "stream",
     "text": [
      "<tr>\n",
      "<th style=\"border-right:1px #ccc solid;\"><a href=\"http://finance.sina.com.cn/fund/quotes/700006/bc.shtml\" target=\"_blank\">平安大华添利债券C</a></th>\n",
      "<th><a href=\"http://finance.sina.com.cn/fund/quotes/700006/bc.shtml\" target=\"_blank\">700006</a></th>\n",
      "<th style=\"text-align:left;padding-left:5px;border-left:1px #ccc solid;border-right:1px #ccc solid;\">\n",
      "<a href=\"http://money.finance.sina.com.cn/fund/go.php/vAkFundInfo_JJGKXX/q/897736.phtml\" target=\"_blank\" title=\"平安大华基金管理有限公司关于召开平安大华添利债券型证券投资基金基金份额持有人大会(通讯方式)的第一次提示性公告\">平安大华基金管理有限公司关于召开平安大华添利债券型证券投资基金基金份额持有人大会...</a>\n",
      "</th>\n",
      "<th style=\"border-right:1px #ccc solid;\">基金持有人大会,提示性公告</th>\n",
      "<th><a href=\"http://stock.finance.sina.com.cn/fundInfo/view/FundInfo_LSGG.php?symbol=700006\" target=\"_blank\">更多</a></th>\n",
      "</tr>\n"
     ]
    }
   ],
   "source": [
    "print lists[-1]"
   ]
  },
  {
   "cell_type": "code",
   "execution_count": 10,
   "metadata": {},
   "outputs": [
    {
     "name": "stdout",
     "output_type": "stream",
     "text": [
      "http://finance.sina.com.cn/fund/quotes/700006/bc.shtml\n"
     ]
    }
   ],
   "source": [
    "print lists[-1].find('a').get('href')"
   ]
  },
  {
   "cell_type": "code",
   "execution_count": 63,
   "metadata": {},
   "outputs": [],
   "source": [
    "elements = lists[-1].findAll('th')"
   ]
  },
  {
   "cell_type": "code",
   "execution_count": 64,
   "metadata": {},
   "outputs": [
    {
     "data": {
      "text/plain": [
       "5"
      ]
     },
     "execution_count": 64,
     "metadata": {},
     "output_type": "execute_result"
    }
   ],
   "source": [
    "len(elements)"
   ]
  },
  {
   "cell_type": "code",
   "execution_count": 65,
   "metadata": {},
   "outputs": [
    {
     "name": "stdout",
     "output_type": "stream",
     "text": [
      "嘉实成长收益混合H\n"
     ]
    }
   ],
   "source": [
    "print elements[0].text"
   ]
  },
  {
   "cell_type": "code",
   "execution_count": 66,
   "metadata": {},
   "outputs": [
    {
     "name": "stdout",
     "output_type": "stream",
     "text": [
      "960024\n"
     ]
    }
   ],
   "source": [
    "print elements[1].text"
   ]
  },
  {
   "cell_type": "code",
   "execution_count": 67,
   "metadata": {},
   "outputs": [
    {
     "name": "stdout",
     "output_type": "stream",
     "text": [
      "\n",
      "嘉实基金管理有限公司关于旗下基金持有债券估值调整的公告\n",
      "\n"
     ]
    }
   ],
   "source": [
    "print elements[2].text"
   ]
  },
  {
   "cell_type": "code",
   "execution_count": 68,
   "metadata": {},
   "outputs": [
    {
     "name": "stdout",
     "output_type": "stream",
     "text": [
      "http://money.finance.sina.com.cn/fund/go.php/vAkFundInfo_JJGKXX/q/1033783.phtml\n"
     ]
    }
   ],
   "source": [
    "print elements[2].find('a').get('href')"
   ]
  },
  {
   "cell_type": "code",
   "execution_count": null,
   "metadata": {},
   "outputs": [],
   "source": []
  }
 ],
 "metadata": {
  "kernelspec": {
   "display_name": "Python 2",
   "language": "python",
   "name": "python2"
  },
  "language_info": {
   "codemirror_mode": {
    "name": "ipython",
    "version": 2
   },
   "file_extension": ".py",
   "mimetype": "text/x-python",
   "name": "python",
   "nbconvert_exporter": "python",
   "pygments_lexer": "ipython2",
   "version": "2.7.14"
  }
 },
 "nbformat": 4,
 "nbformat_minor": 2
}
