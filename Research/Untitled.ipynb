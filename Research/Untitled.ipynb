{
 "cells": [
  {
   "cell_type": "code",
   "execution_count": 1,
   "metadata": {},
   "outputs": [
    {
     "name": "stderr",
     "output_type": "stream",
     "text": [
      "C:\\Users\\zhangyang01\\AppData\\Local\\Continuum\\anaconda2\\envs\\py36\\lib\\site-packages\\pandas_datareader\\compat\\__init__.py:7: FutureWarning: pandas.util.testing is deprecated. Use the functions in the public API at pandas.testing instead.\n",
      "  from pandas.util.testing import assert_frame_equal\n"
     ]
    }
   ],
   "source": [
    "import pandas as pd\n",
    "import empyrical"
   ]
  },
  {
   "cell_type": "code",
   "execution_count": 2,
   "metadata": {},
   "outputs": [],
   "source": [
    "df = pd.read_excel('D:/OneDrive/嘉实/资产配置/投资组合净值.xlsx', skiprows=1, index_col=0)"
   ]
  },
  {
   "cell_type": "code",
   "execution_count": 3,
   "metadata": {},
   "outputs": [
    {
     "data": {
      "text/html": [
       "<div>\n",
       "<style scoped>\n",
       "    .dataframe tbody tr th:only-of-type {\n",
       "        vertical-align: middle;\n",
       "    }\n",
       "\n",
       "    .dataframe tbody tr th {\n",
       "        vertical-align: top;\n",
       "    }\n",
       "\n",
       "    .dataframe thead th {\n",
       "        text-align: right;\n",
       "    }\n",
       "</style>\n",
       "<table border=\"1\" class=\"dataframe\">\n",
       "  <thead>\n",
       "    <tr style=\"text-align: right;\">\n",
       "      <th></th>\n",
       "      <th>10/90组合（固收plus）</th>\n",
       "      <th>40/60组合（股债平衡）</th>\n",
       "      <th>10/90组合（固收plus）.1</th>\n",
       "      <th>40/60组合（股债平衡）.1</th>\n",
       "      <th>000906.SH</th>\n",
       "      <th>CBA00321.CS</th>\n",
       "      <th>10/90组合基准</th>\n",
       "      <th>40/60组合基准</th>\n",
       "      <th>10/90组合基准.1</th>\n",
       "      <th>40/60组合基准.1</th>\n",
       "    </tr>\n",
       "  </thead>\n",
       "  <tbody>\n",
       "    <tr>\n",
       "      <th>2019-12-23</th>\n",
       "      <td>1.000000</td>\n",
       "      <td>1.000000</td>\n",
       "      <td>NaN</td>\n",
       "      <td>NaN</td>\n",
       "      <td>NaN</td>\n",
       "      <td>NaN</td>\n",
       "      <td>NaN</td>\n",
       "      <td>NaN</td>\n",
       "      <td>1.000000</td>\n",
       "      <td>1.000000</td>\n",
       "    </tr>\n",
       "    <tr>\n",
       "      <th>2019-12-24</th>\n",
       "      <td>1.001108</td>\n",
       "      <td>1.003400</td>\n",
       "      <td>0.001108</td>\n",
       "      <td>0.003400</td>\n",
       "      <td>0.008594</td>\n",
       "      <td>0.000591</td>\n",
       "      <td>0.001391</td>\n",
       "      <td>0.003792</td>\n",
       "      <td>1.001391</td>\n",
       "      <td>1.003792</td>\n",
       "    </tr>\n",
       "    <tr>\n",
       "      <th>2019-12-25</th>\n",
       "      <td>1.001452</td>\n",
       "      <td>1.004127</td>\n",
       "      <td>0.000344</td>\n",
       "      <td>0.000725</td>\n",
       "      <td>0.000572</td>\n",
       "      <td>0.000478</td>\n",
       "      <td>0.000487</td>\n",
       "      <td>0.000515</td>\n",
       "      <td>1.001879</td>\n",
       "      <td>1.004310</td>\n",
       "    </tr>\n",
       "    <tr>\n",
       "      <th>2019-12-26</th>\n",
       "      <td>1.002273</td>\n",
       "      <td>1.007093</td>\n",
       "      <td>0.000820</td>\n",
       "      <td>0.002954</td>\n",
       "      <td>0.008359</td>\n",
       "      <td>0.000314</td>\n",
       "      <td>0.001118</td>\n",
       "      <td>0.003532</td>\n",
       "      <td>1.003000</td>\n",
       "      <td>1.007857</td>\n",
       "    </tr>\n",
       "    <tr>\n",
       "      <th>2019-12-27</th>\n",
       "      <td>1.002179</td>\n",
       "      <td>1.006679</td>\n",
       "      <td>-0.000094</td>\n",
       "      <td>-0.000411</td>\n",
       "      <td>-0.002576</td>\n",
       "      <td>0.000394</td>\n",
       "      <td>0.000097</td>\n",
       "      <td>-0.000794</td>\n",
       "      <td>1.003097</td>\n",
       "      <td>1.007056</td>\n",
       "    </tr>\n",
       "  </tbody>\n",
       "</table>\n",
       "</div>"
      ],
      "text/plain": [
       "            10/90组合（固收plus）  40/60组合（股债平衡）  10/90组合（固收plus）.1  \\\n",
       "2019-12-23         1.000000       1.000000                NaN   \n",
       "2019-12-24         1.001108       1.003400           0.001108   \n",
       "2019-12-25         1.001452       1.004127           0.000344   \n",
       "2019-12-26         1.002273       1.007093           0.000820   \n",
       "2019-12-27         1.002179       1.006679          -0.000094   \n",
       "\n",
       "            40/60组合（股债平衡）.1  000906.SH  CBA00321.CS  10/90组合基准  40/60组合基准  \\\n",
       "2019-12-23              NaN        NaN          NaN        NaN        NaN   \n",
       "2019-12-24         0.003400   0.008594     0.000591   0.001391   0.003792   \n",
       "2019-12-25         0.000725   0.000572     0.000478   0.000487   0.000515   \n",
       "2019-12-26         0.002954   0.008359     0.000314   0.001118   0.003532   \n",
       "2019-12-27        -0.000411  -0.002576     0.000394   0.000097  -0.000794   \n",
       "\n",
       "            10/90组合基准.1  40/60组合基准.1  \n",
       "2019-12-23     1.000000     1.000000  \n",
       "2019-12-24     1.001391     1.003792  \n",
       "2019-12-25     1.001879     1.004310  \n",
       "2019-12-26     1.003000     1.007857  \n",
       "2019-12-27     1.003097     1.007056  "
      ]
     },
     "execution_count": 3,
     "metadata": {},
     "output_type": "execute_result"
    }
   ],
   "source": [
    "df.head()"
   ]
  },
  {
   "cell_type": "code",
   "execution_count": 4,
   "metadata": {},
   "outputs": [
    {
     "data": {
      "text/plain": [
       "0.017008339055321085"
      ]
     },
     "execution_count": 4,
     "metadata": {},
     "output_type": "execute_result"
    }
   ],
   "source": [
    "empyrical.annual_volatility(df['10/90组合（固收plus）'].pct_change())"
   ]
  },
  {
   "cell_type": "code",
   "execution_count": 6,
   "metadata": {},
   "outputs": [
    {
     "data": {
      "text/plain": [
       "0.07370779409523712"
      ]
     },
     "execution_count": 6,
     "metadata": {},
     "output_type": "execute_result"
    }
   ],
   "source": [
    "empyrical.annual_volatility(df['40/60组合（股债平衡）'].pct_change())"
   ]
  },
  {
   "cell_type": "code",
   "execution_count": null,
   "metadata": {},
   "outputs": [],
   "source": []
  }
 ],
 "metadata": {
  "kernelspec": {
   "display_name": "Python 3",
   "language": "python",
   "name": "python3"
  },
  "language_info": {
   "codemirror_mode": {
    "name": "ipython",
    "version": 3
   },
   "file_extension": ".py",
   "mimetype": "text/x-python",
   "name": "python",
   "nbconvert_exporter": "python",
   "pygments_lexer": "ipython3",
   "version": "3.6.5"
  }
 },
 "nbformat": 4,
 "nbformat_minor": 4
}
