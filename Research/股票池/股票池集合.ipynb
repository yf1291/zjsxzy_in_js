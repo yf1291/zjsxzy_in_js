{
 "cells": [
  {
   "cell_type": "code",
   "execution_count": 213,
   "metadata": {},
   "outputs": [],
   "source": [
    "import pandas as pd\n",
    "import numpy as np"
   ]
  },
  {
   "cell_type": "code",
   "execution_count": 214,
   "metadata": {},
   "outputs": [],
   "source": [
    "DATA_DIR = 'D:/OneDrive/Excel数据分析/股票/'"
   ]
  },
  {
   "cell_type": "code",
   "execution_count": 215,
   "metadata": {},
   "outputs": [],
   "source": [
    "stock2theme = {}\n",
    "stock_cate = {'内部股票池':set(), \n",
    "              '唐棠股票池':set(),\n",
    "              '外部股票池': set(), \n",
    "              '基金重仓股票池': set(), \n",
    "              '北向资金重仓股票池': set()}"
   ]
  },
  {
   "cell_type": "markdown",
   "metadata": {},
   "source": [
    "# 细分行业龙头公司"
   ]
  },
  {
   "cell_type": "code",
   "execution_count": 216,
   "metadata": {},
   "outputs": [],
   "source": [
    "strategy = pd.read_excel('%s/细分行业龙头公司.xlsx'%(DATA_DIR))"
   ]
  },
  {
   "cell_type": "code",
   "execution_count": 217,
   "metadata": {},
   "outputs": [],
   "source": [
    "for c, s in zip(strategy['一级行业'], strategy['内部股票池']):\n",
    "    if not pd.isna(s):\n",
    "        stock_cate['内部股票池'].add(s)\n",
    "        if not s in stock2theme:\n",
    "            stock2theme[s] = c"
   ]
  },
  {
   "cell_type": "code",
   "execution_count": 218,
   "metadata": {},
   "outputs": [],
   "source": [
    "for c, s in zip(strategy['一级行业'], strategy['外部股票池']):\n",
    "    if not pd.isna(s):\n",
    "        stock_cate['外部股票池'].add(s)\n",
    "        if not s in stock2theme:\n",
    "            stock2theme[s] = c"
   ]
  },
  {
   "cell_type": "markdown",
   "metadata": {},
   "source": [
    "# 唐棠股票池"
   ]
  },
  {
   "cell_type": "code",
   "execution_count": 219,
   "metadata": {},
   "outputs": [],
   "source": [
    "tt = pd.read_excel('%s/唐棠股票池.xlsx'%(DATA_DIR))"
   ]
  },
  {
   "cell_type": "code",
   "execution_count": 220,
   "metadata": {},
   "outputs": [],
   "source": [
    "for s in tt['股票名']:\n",
    "    if not pd.isna(s):\n",
    "        stock_cate['唐棠股票池'].add(s)\n",
    "        if not s in stock2theme:\n",
    "            stock2theme[s] = '可选消费'"
   ]
  },
  {
   "cell_type": "code",
   "execution_count": 221,
   "metadata": {},
   "outputs": [],
   "source": [
    "for s in tt['股票名2']:\n",
    "    if not pd.isna(s):\n",
    "        stock_cate['唐棠股票池'].add(s)\n",
    "        if not s in stock2theme:\n",
    "            stock2theme[s] = '必选医药'"
   ]
  },
  {
   "cell_type": "code",
   "execution_count": 222,
   "metadata": {},
   "outputs": [],
   "source": [
    "for s in tt['股票名3']:\n",
    "    if not pd.isna(s):\n",
    "        stock_cate['唐棠股票池'].add(s)\n",
    "        if not s in stock2theme:\n",
    "            stock2theme[s] = '信息科技'"
   ]
  },
  {
   "cell_type": "markdown",
   "metadata": {},
   "source": [
    "# 基金重仓股票池"
   ]
  },
  {
   "cell_type": "code",
   "execution_count": 223,
   "metadata": {},
   "outputs": [],
   "source": [
    "fund = pd.read_excel('%s/基金重仓股.xlsx'%(DATA_DIR), skiprows=1)"
   ]
  },
  {
   "cell_type": "code",
   "execution_count": 224,
   "metadata": {},
   "outputs": [],
   "source": [
    "for c, s in zip(fund['主题行业分类'], fund['股票名称']):\n",
    "    if not pd.isna(s):\n",
    "        s = s.replace(' ', '').replace('Ａ', 'A')\n",
    "        stock_cate['基金重仓股票池'].add(s)\n",
    "        if not s in stock2theme:\n",
    "            stock2theme[s] = c"
   ]
  },
  {
   "cell_type": "markdown",
   "metadata": {},
   "source": [
    "# 北向资金重仓股票池"
   ]
  },
  {
   "cell_type": "code",
   "execution_count": 225,
   "metadata": {},
   "outputs": [],
   "source": [
    "connect = pd.read_excel('%s/北向资金重仓股.xlsx'%(DATA_DIR), skiprows=1)"
   ]
  },
  {
   "cell_type": "code",
   "execution_count": 226,
   "metadata": {},
   "outputs": [],
   "source": [
    "for c, s in zip(connect['主题行业分类'], connect['股票名称']):\n",
    "    if not pd.isna(s):\n",
    "        stock_cate['北向资金重仓股票池'].add(s)\n",
    "        if not s in stock2theme:\n",
    "            stock2theme[s] = c"
   ]
  },
  {
   "cell_type": "markdown",
   "metadata": {},
   "source": [
    "# 合成报告"
   ]
  },
  {
   "cell_type": "code",
   "execution_count": 227,
   "metadata": {},
   "outputs": [],
   "source": [
    "df = pd.DataFrame(index=list(stock2theme.values()), \n",
    "                  columns=['股票名称', '内部股票池', '外部股票池', '基金重仓股票池', '北向资金重仓股票池'])"
   ]
  },
  {
   "cell_type": "code",
   "execution_count": 228,
   "metadata": {},
   "outputs": [],
   "source": [
    "df['股票名称'] = list(stock2theme.keys())"
   ]
  },
  {
   "cell_type": "code",
   "execution_count": 229,
   "metadata": {},
   "outputs": [],
   "source": [
    "df['内部股票池'] = [1 if s in stock_cate['内部股票池'] else np.NaN for s in df['股票名称']]"
   ]
  },
  {
   "cell_type": "code",
   "execution_count": 230,
   "metadata": {},
   "outputs": [],
   "source": [
    "df['外部股票池'] = [1 if s in stock_cate['外部股票池'] else np.NaN for s in df['股票名称']]"
   ]
  },
  {
   "cell_type": "code",
   "execution_count": 231,
   "metadata": {},
   "outputs": [],
   "source": [
    "df['唐棠股票池'] = [1 if s in stock_cate['唐棠股票池'] else np.NaN for s in df['股票名称']]"
   ]
  },
  {
   "cell_type": "code",
   "execution_count": 232,
   "metadata": {},
   "outputs": [],
   "source": [
    "df['基金重仓股票池'] = [1 if s in stock_cate['基金重仓股票池'] else np.NaN for s in df['股票名称']]"
   ]
  },
  {
   "cell_type": "code",
   "execution_count": 233,
   "metadata": {},
   "outputs": [],
   "source": [
    "df['北向资金重仓股票池'] = [1 if s in stock_cate['北向资金重仓股票池'] else np.NaN for s in df['股票名称']]"
   ]
  },
  {
   "cell_type": "code",
   "execution_count": 234,
   "metadata": {},
   "outputs": [],
   "source": [
    "df['总分'] = df.sum(axis=1)"
   ]
  },
  {
   "cell_type": "code",
   "execution_count": 235,
   "metadata": {},
   "outputs": [],
   "source": [
    "industry = ['金融地产', '可选消费', '必选医药', '信息科技', '其他经济敏感', '其他经济不敏感']\n",
    "category_industry = pd.api.types.CategoricalDtype(categories=industry, ordered=True)\n",
    "df.index = df.index.astype(category_industry)"
   ]
  },
  {
   "cell_type": "code",
   "execution_count": 236,
   "metadata": {},
   "outputs": [
    {
     "data": {
      "text/html": [
       "<div>\n",
       "<style scoped>\n",
       "    .dataframe tbody tr th:only-of-type {\n",
       "        vertical-align: middle;\n",
       "    }\n",
       "\n",
       "    .dataframe tbody tr th {\n",
       "        vertical-align: top;\n",
       "    }\n",
       "\n",
       "    .dataframe thead th {\n",
       "        text-align: right;\n",
       "    }\n",
       "</style>\n",
       "<table border=\"1\" class=\"dataframe\">\n",
       "  <thead>\n",
       "    <tr style=\"text-align: right;\">\n",
       "      <th></th>\n",
       "      <th>股票名称</th>\n",
       "      <th>内部股票池</th>\n",
       "      <th>外部股票池</th>\n",
       "      <th>基金重仓股票池</th>\n",
       "      <th>北向资金重仓股票池</th>\n",
       "      <th>唐棠股票池</th>\n",
       "      <th>总分</th>\n",
       "    </tr>\n",
       "  </thead>\n",
       "  <tbody>\n",
       "    <tr>\n",
       "      <th>信息科技</th>\n",
       "      <td>广联达</td>\n",
       "      <td>1.0</td>\n",
       "      <td>1.0</td>\n",
       "      <td>1.0</td>\n",
       "      <td>1.0</td>\n",
       "      <td>NaN</td>\n",
       "      <td>4.0</td>\n",
       "    </tr>\n",
       "    <tr>\n",
       "      <th>信息科技</th>\n",
       "      <td>恒生电子</td>\n",
       "      <td>1.0</td>\n",
       "      <td>1.0</td>\n",
       "      <td>1.0</td>\n",
       "      <td>1.0</td>\n",
       "      <td>1.0</td>\n",
       "      <td>5.0</td>\n",
       "    </tr>\n",
       "    <tr>\n",
       "      <th>信息科技</th>\n",
       "      <td>启明星辰</td>\n",
       "      <td>1.0</td>\n",
       "      <td>1.0</td>\n",
       "      <td>1.0</td>\n",
       "      <td>1.0</td>\n",
       "      <td>NaN</td>\n",
       "      <td>4.0</td>\n",
       "    </tr>\n",
       "    <tr>\n",
       "      <th>信息科技</th>\n",
       "      <td>绿盟科技</td>\n",
       "      <td>1.0</td>\n",
       "      <td>1.0</td>\n",
       "      <td>NaN</td>\n",
       "      <td>NaN</td>\n",
       "      <td>NaN</td>\n",
       "      <td>2.0</td>\n",
       "    </tr>\n",
       "    <tr>\n",
       "      <th>信息科技</th>\n",
       "      <td>卫宁健康</td>\n",
       "      <td>1.0</td>\n",
       "      <td>1.0</td>\n",
       "      <td>1.0</td>\n",
       "      <td>1.0</td>\n",
       "      <td>NaN</td>\n",
       "      <td>4.0</td>\n",
       "    </tr>\n",
       "  </tbody>\n",
       "</table>\n",
       "</div>"
      ],
      "text/plain": [
       "      股票名称  内部股票池  外部股票池  基金重仓股票池  北向资金重仓股票池  唐棠股票池   总分\n",
       "信息科技   广联达    1.0    1.0      1.0        1.0    NaN  4.0\n",
       "信息科技  恒生电子    1.0    1.0      1.0        1.0    1.0  5.0\n",
       "信息科技  启明星辰    1.0    1.0      1.0        1.0    NaN  4.0\n",
       "信息科技  绿盟科技    1.0    1.0      NaN        NaN    NaN  2.0\n",
       "信息科技  卫宁健康    1.0    1.0      1.0        1.0    NaN  4.0"
      ]
     },
     "execution_count": 236,
     "metadata": {},
     "output_type": "execute_result"
    }
   ],
   "source": [
    "df.head()"
   ]
  },
  {
   "cell_type": "code",
   "execution_count": 237,
   "metadata": {},
   "outputs": [],
   "source": [
    "df.sort_index().to_excel('%s/股票池.xlsx'%(DATA_DIR))"
   ]
  },
  {
   "cell_type": "code",
   "execution_count": null,
   "metadata": {},
   "outputs": [],
   "source": []
  }
 ],
 "metadata": {
  "kernelspec": {
   "display_name": "Python 3",
   "language": "python",
   "name": "python3"
  },
  "language_info": {
   "codemirror_mode": {
    "name": "ipython",
    "version": 3
   },
   "file_extension": ".py",
   "mimetype": "text/x-python",
   "name": "python",
   "nbconvert_exporter": "python",
   "pygments_lexer": "ipython3",
   "version": "3.6.5"
  }
 },
 "nbformat": 4,
 "nbformat_minor": 4
}
