{
 "cells": [
  {
   "cell_type": "code",
   "execution_count": 1,
   "metadata": {},
   "outputs": [],
   "source": [
    "import pandas as pd\n",
    "import numpy as np\n",
    "import matplotlib.pyplot as plt\n",
    "import empyrical\n",
    "from scipy import stats\n",
    "from WindPy import w\n",
    "%matplotlib inline"
   ]
  },
  {
   "cell_type": "code",
   "execution_count": 2,
   "metadata": {},
   "outputs": [
    {
     "name": "stdout",
     "output_type": "stream",
     "text": [
      "Welcome to use Wind Quant API for Python (WindPy)!\n",
      "\n",
      "COPYRIGHT (C) 2017 WIND INFORMATION CO., LTD. ALL RIGHTS RESERVED.\n",
      "IN NO CIRCUMSTANCE SHALL WIND BE RESPONSIBLE FOR ANY DAMAGES OR LOSSES CAUSED BY USING WIND QUANT API FOR Python.\n"
     ]
    },
    {
     "data": {
      "text/plain": [
       ".ErrorCode=0\n",
       ".Data=[OK!]"
      ]
     },
     "execution_count": 2,
     "metadata": {},
     "output_type": "execute_result"
    }
   ],
   "source": [
    "w.start()"
   ]
  },
  {
   "cell_type": "code",
   "execution_count": 3,
   "metadata": {},
   "outputs": [],
   "source": [
    "FOF_DIR = 'D:/workspace/data/FOF'\n",
    "COMP_RET_FILE = '%s/comp_ret.xlsx'%(FOF_DIR)"
   ]
  },
  {
   "cell_type": "code",
   "execution_count": 4,
   "metadata": {},
   "outputs": [],
   "source": [
    "def up_down(returns, risk_free=0.0, required_return=0.0, annualization=252):\n",
    "    if len(returns) < 2:\n",
    "        return np.nan\n",
    "\n",
    "    if annualization == 1:\n",
    "        return_threshold = required_return\n",
    "    elif required_return <= -1:\n",
    "        return np.nan\n",
    "    else:\n",
    "        return_threshold = (1 + required_return) ** \\\n",
    "            (1. / annualization) - 1\n",
    "\n",
    "    returns_less_thresh = returns - risk_free - return_threshold\n",
    "\n",
    "    numer = sum(returns_less_thresh[returns_less_thresh > 0.0])\n",
    "    denom = -1.0 * sum(returns_less_thresh[returns_less_thresh < 0.0])\n",
    "    return numer, denom"
   ]
  },
  {
   "cell_type": "code",
   "execution_count": 46,
   "metadata": {},
   "outputs": [],
   "source": [
    "# df = pd.read_pickle('%s/stock_return.pkl'%(FOF_DIR))\n",
    "# df = pd.read_excel(COMP_RET_FILE)\n",
    "df = pd.read_excel(u'./债基数据.xlsx', index_col=0)"
   ]
  },
  {
   "cell_type": "code",
   "execution_count": 47,
   "metadata": {},
   "outputs": [],
   "source": [
    "df.index = pd.to_datetime(df.index, format='%Y%m%d')"
   ]
  },
  {
   "cell_type": "code",
   "execution_count": 48,
   "metadata": {},
   "outputs": [],
   "source": [
    "df = (df + 1).pct_change().dropna()"
   ]
  },
  {
   "cell_type": "code",
   "execution_count": 49,
   "metadata": {},
   "outputs": [],
   "source": [
    "cols = [col for col in df.columns if col.endswith(u'纯债')]"
   ]
  },
  {
   "cell_type": "code",
   "execution_count": 50,
   "metadata": {},
   "outputs": [],
   "source": [
    "df = df[cols]"
   ]
  },
  {
   "cell_type": "code",
   "execution_count": 51,
   "metadata": {},
   "outputs": [],
   "source": [
    "mdf = df.resample('M').apply(lambda x: empyrical.cum_returns_final(x))"
   ]
  },
  {
   "cell_type": "code",
   "execution_count": 52,
   "metadata": {},
   "outputs": [],
   "source": [
    "omega = pd.DataFrame(index=mdf.columns, columns=['omega', 'upside', 'downside', 'ret', 'vol'])\n",
    "for col in mdf.columns:\n",
    "    ret = mdf[col]\n",
    "#     ret = df[col].dropna().copy().replace([np.inf], 0)\n",
    "    up, down = up_down(ret)\n",
    "    omega.loc[col, 'omega'] = empyrical.omega_ratio(ret, annualization=12)\n",
    "    omega.loc[col, 'upside'] = up\n",
    "    omega.loc[col, 'downside'] = down\n",
    "    omega.loc[col, 'ret'] = empyrical.annual_return(ret, period='monthly')\n",
    "    omega.loc[col, 'vol'] = empyrical.annual_volatility(ret, period='monthly')\n",
    "#     omega.loc[col, 'ret'] = ret.mean()\n",
    "#     omega.loc[col, 'vol'] = ret.var()\n",
    "    omega.loc[col, 'sharpe'] = empyrical.sharpe_ratio(ret, period='monthly')"
   ]
  },
  {
   "cell_type": "code",
   "execution_count": 53,
   "metadata": {},
   "outputs": [],
   "source": [
    "# omega = omega.dropna()"
   ]
  },
  {
   "cell_type": "code",
   "execution_count": 60,
   "metadata": {},
   "outputs": [
    {
     "data": {
      "text/html": [
       "<div>\n",
       "<style scoped>\n",
       "    .dataframe tbody tr th:only-of-type {\n",
       "        vertical-align: middle;\n",
       "    }\n",
       "\n",
       "    .dataframe tbody tr th {\n",
       "        vertical-align: top;\n",
       "    }\n",
       "\n",
       "    .dataframe thead th {\n",
       "        text-align: right;\n",
       "    }\n",
       "</style>\n",
       "<table border=\"1\" class=\"dataframe\">\n",
       "  <thead>\n",
       "    <tr style=\"text-align: right;\">\n",
       "      <th></th>\n",
       "      <th>omega</th>\n",
       "      <th>upside</th>\n",
       "      <th>downside</th>\n",
       "      <th>ret</th>\n",
       "      <th>vol</th>\n",
       "      <th>sharpe</th>\n",
       "    </tr>\n",
       "  </thead>\n",
       "  <tbody>\n",
       "    <tr>\n",
       "      <th>兴全基金纯债</th>\n",
       "      <td>23.927</td>\n",
       "      <td>0.145189</td>\n",
       "      <td>0.00606799</td>\n",
       "      <td>0.0263173</td>\n",
       "      <td>0.0127948</td>\n",
       "      <td>2.038733</td>\n",
       "    </tr>\n",
       "    <tr>\n",
       "      <th>新华基金纯债</th>\n",
       "      <td>13.7883</td>\n",
       "      <td>0.397637</td>\n",
       "      <td>0.0288388</td>\n",
       "      <td>0.0709432</td>\n",
       "      <td>0.0292261</td>\n",
       "      <td>2.366025</td>\n",
       "    </tr>\n",
       "    <tr>\n",
       "      <th>中加基金纯债</th>\n",
       "      <td>11.254</td>\n",
       "      <td>0.557588</td>\n",
       "      <td>0.0495458</td>\n",
       "      <td>0.095999</td>\n",
       "      <td>0.0856424</td>\n",
       "      <td>1.112276</td>\n",
       "    </tr>\n",
       "    <tr>\n",
       "      <th>摩根士丹利华鑫基金纯债</th>\n",
       "      <td>8.53987</td>\n",
       "      <td>0.386333</td>\n",
       "      <td>0.0452388</td>\n",
       "      <td>0.065563</td>\n",
       "      <td>0.0240746</td>\n",
       "      <td>2.656540</td>\n",
       "    </tr>\n",
       "    <tr>\n",
       "      <th>兴业基金纯债</th>\n",
       "      <td>6.61835</td>\n",
       "      <td>0.268018</td>\n",
       "      <td>0.0404962</td>\n",
       "      <td>0.0432894</td>\n",
       "      <td>0.0205645</td>\n",
       "      <td>2.074468</td>\n",
       "    </tr>\n",
       "    <tr>\n",
       "      <th>汇添富基金纯债</th>\n",
       "      <td>6.41209</td>\n",
       "      <td>0.32685</td>\n",
       "      <td>0.050974</td>\n",
       "      <td>0.0526853</td>\n",
       "      <td>0.0235779</td>\n",
       "      <td>2.193869</td>\n",
       "    </tr>\n",
       "    <tr>\n",
       "      <th>建信基金纯债</th>\n",
       "      <td>6.23531</td>\n",
       "      <td>0.303672</td>\n",
       "      <td>0.048702</td>\n",
       "      <td>0.0486595</td>\n",
       "      <td>0.0201901</td>\n",
       "      <td>2.367839</td>\n",
       "    </tr>\n",
       "    <tr>\n",
       "      <th>嘉实基金纯债</th>\n",
       "      <td>6.1561</td>\n",
       "      <td>0.315031</td>\n",
       "      <td>0.0511738</td>\n",
       "      <td>0.0503931</td>\n",
       "      <td>0.0206013</td>\n",
       "      <td>2.401455</td>\n",
       "    </tr>\n",
       "    <tr>\n",
       "      <th>富国基金纯债</th>\n",
       "      <td>5.93643</td>\n",
       "      <td>0.33375</td>\n",
       "      <td>0.0562206</td>\n",
       "      <td>0.0530453</td>\n",
       "      <td>0.0220802</td>\n",
       "      <td>2.356718</td>\n",
       "    </tr>\n",
       "    <tr>\n",
       "      <th>国寿安保基金纯债</th>\n",
       "      <td>5.77384</td>\n",
       "      <td>0.353802</td>\n",
       "      <td>0.0612767</td>\n",
       "      <td>0.0555948</td>\n",
       "      <td>0.03579</td>\n",
       "      <td>1.532510</td>\n",
       "    </tr>\n",
       "    <tr>\n",
       "      <th>永赢基金纯债</th>\n",
       "      <td>5.33579</td>\n",
       "      <td>0.0983136</td>\n",
       "      <td>0.0184253</td>\n",
       "      <td>0.0150275</td>\n",
       "      <td>0.0104966</td>\n",
       "      <td>1.427040</td>\n",
       "    </tr>\n",
       "    <tr>\n",
       "      <th>农银汇理基金纯债</th>\n",
       "      <td>5.15607</td>\n",
       "      <td>0.0587113</td>\n",
       "      <td>0.0113868</td>\n",
       "      <td>0.00888357</td>\n",
       "      <td>0.0072342</td>\n",
       "      <td>1.226582</td>\n",
       "    </tr>\n",
       "    <tr>\n",
       "      <th>工银瑞信基金纯债</th>\n",
       "      <td>5.11144</td>\n",
       "      <td>0.321683</td>\n",
       "      <td>0.062934</td>\n",
       "      <td>0.0493149</td>\n",
       "      <td>0.0238977</td>\n",
       "      <td>2.030133</td>\n",
       "    </tr>\n",
       "    <tr>\n",
       "      <th>中银证券纯债</th>\n",
       "      <td>4.88732</td>\n",
       "      <td>0.0642613</td>\n",
       "      <td>0.0131486</td>\n",
       "      <td>0.00958626</td>\n",
       "      <td>0.00894799</td>\n",
       "      <td>1.071038</td>\n",
       "    </tr>\n",
       "    <tr>\n",
       "      <th>万家基金纯债</th>\n",
       "      <td>4.42463</td>\n",
       "      <td>0.34758</td>\n",
       "      <td>0.0785556</td>\n",
       "      <td>0.0513307</td>\n",
       "      <td>0.0238951</td>\n",
       "      <td>2.110979</td>\n",
       "    </tr>\n",
       "    <tr>\n",
       "      <th>博时基金纯债</th>\n",
       "      <td>4.20487</td>\n",
       "      <td>0.383909</td>\n",
       "      <td>0.0913011</td>\n",
       "      <td>0.0558023</td>\n",
       "      <td>0.0299754</td>\n",
       "      <td>1.830299</td>\n",
       "    </tr>\n",
       "    <tr>\n",
       "      <th>招商基金纯债</th>\n",
       "      <td>4.19396</td>\n",
       "      <td>0.348321</td>\n",
       "      <td>0.0830531</td>\n",
       "      <td>0.0505143</td>\n",
       "      <td>0.027003</td>\n",
       "      <td>1.841933</td>\n",
       "    </tr>\n",
       "    <tr>\n",
       "      <th>中银基金纯债</th>\n",
       "      <td>4.12669</td>\n",
       "      <td>0.347858</td>\n",
       "      <td>0.0842947</td>\n",
       "      <td>0.0502263</td>\n",
       "      <td>0.0252212</td>\n",
       "      <td>1.959386</td>\n",
       "    </tr>\n",
       "    <tr>\n",
       "      <th>易方达基金纯债</th>\n",
       "      <td>3.91351</td>\n",
       "      <td>0.36516</td>\n",
       "      <td>0.0933077</td>\n",
       "      <td>0.0518283</td>\n",
       "      <td>0.0261407</td>\n",
       "      <td>1.949923</td>\n",
       "    </tr>\n",
       "    <tr>\n",
       "      <th>浦银安盛基金纯债</th>\n",
       "      <td>3.43201</td>\n",
       "      <td>0.427157</td>\n",
       "      <td>0.124462</td>\n",
       "      <td>0.0574711</td>\n",
       "      <td>0.0388982</td>\n",
       "      <td>1.459070</td>\n",
       "    </tr>\n",
       "    <tr>\n",
       "      <th>鹏华基金纯债</th>\n",
       "      <td>3.37246</td>\n",
       "      <td>0.439092</td>\n",
       "      <td>0.130199</td>\n",
       "      <td>0.0587336</td>\n",
       "      <td>0.0380608</td>\n",
       "      <td>1.521708</td>\n",
       "    </tr>\n",
       "    <tr>\n",
       "      <th>南方基金纯债</th>\n",
       "      <td>3.27269</td>\n",
       "      <td>0.359229</td>\n",
       "      <td>0.109765</td>\n",
       "      <td>0.0473742</td>\n",
       "      <td>0.0284938</td>\n",
       "      <td>1.641561</td>\n",
       "    </tr>\n",
       "    <tr>\n",
       "      <th>上投摩根基金纯债</th>\n",
       "      <td>3.09296</td>\n",
       "      <td>0.294061</td>\n",
       "      <td>0.0950744</td>\n",
       "      <td>0.0376052</td>\n",
       "      <td>0.0262209</td>\n",
       "      <td>1.422915</td>\n",
       "    </tr>\n",
       "    <tr>\n",
       "      <th>华夏基金纯债</th>\n",
       "      <td>3.05061</td>\n",
       "      <td>0.35033</td>\n",
       "      <td>0.114839</td>\n",
       "      <td>0.0445967</td>\n",
       "      <td>0.0300865</td>\n",
       "      <td>1.467589</td>\n",
       "    </tr>\n",
       "    <tr>\n",
       "      <th>广发基金纯债</th>\n",
       "      <td>2.97388</td>\n",
       "      <td>0.428471</td>\n",
       "      <td>0.144078</td>\n",
       "      <td>0.0539429</td>\n",
       "      <td>0.0370034</td>\n",
       "      <td>1.441048</td>\n",
       "    </tr>\n",
       "    <tr>\n",
       "      <th>中信保诚基金纯债</th>\n",
       "      <td>2.48147</td>\n",
       "      <td>0.614077</td>\n",
       "      <td>0.247465</td>\n",
       "      <td>0.0664442</td>\n",
       "      <td>0.0942718</td>\n",
       "      <td>0.729165</td>\n",
       "    </tr>\n",
       "  </tbody>\n",
       "</table>\n",
       "</div>"
      ],
      "text/plain": [
       "               omega     upside    downside         ret         vol    sharpe\n",
       "兴全基金纯债        23.927   0.145189  0.00606799   0.0263173   0.0127948  2.038733\n",
       "新华基金纯债       13.7883   0.397637   0.0288388   0.0709432   0.0292261  2.366025\n",
       "中加基金纯债        11.254   0.557588   0.0495458    0.095999   0.0856424  1.112276\n",
       "摩根士丹利华鑫基金纯债  8.53987   0.386333   0.0452388    0.065563   0.0240746  2.656540\n",
       "兴业基金纯债       6.61835   0.268018   0.0404962   0.0432894   0.0205645  2.074468\n",
       "汇添富基金纯债      6.41209    0.32685    0.050974   0.0526853   0.0235779  2.193869\n",
       "建信基金纯债       6.23531   0.303672    0.048702   0.0486595   0.0201901  2.367839\n",
       "嘉实基金纯债        6.1561   0.315031   0.0511738   0.0503931   0.0206013  2.401455\n",
       "富国基金纯债       5.93643    0.33375   0.0562206   0.0530453   0.0220802  2.356718\n",
       "国寿安保基金纯债     5.77384   0.353802   0.0612767   0.0555948     0.03579  1.532510\n",
       "永赢基金纯债       5.33579  0.0983136   0.0184253   0.0150275   0.0104966  1.427040\n",
       "农银汇理基金纯债     5.15607  0.0587113   0.0113868  0.00888357   0.0072342  1.226582\n",
       "工银瑞信基金纯债     5.11144   0.321683    0.062934   0.0493149   0.0238977  2.030133\n",
       "中银证券纯债       4.88732  0.0642613   0.0131486  0.00958626  0.00894799  1.071038\n",
       "万家基金纯债       4.42463    0.34758   0.0785556   0.0513307   0.0238951  2.110979\n",
       "博时基金纯债       4.20487   0.383909   0.0913011   0.0558023   0.0299754  1.830299\n",
       "招商基金纯债       4.19396   0.348321   0.0830531   0.0505143    0.027003  1.841933\n",
       "中银基金纯债       4.12669   0.347858   0.0842947   0.0502263   0.0252212  1.959386\n",
       "易方达基金纯债      3.91351    0.36516   0.0933077   0.0518283   0.0261407  1.949923\n",
       "浦银安盛基金纯债     3.43201   0.427157    0.124462   0.0574711   0.0388982  1.459070\n",
       "鹏华基金纯债       3.37246   0.439092    0.130199   0.0587336   0.0380608  1.521708\n",
       "南方基金纯债       3.27269   0.359229    0.109765   0.0473742   0.0284938  1.641561\n",
       "上投摩根基金纯债     3.09296   0.294061   0.0950744   0.0376052   0.0262209  1.422915\n",
       "华夏基金纯债       3.05061    0.35033    0.114839   0.0445967   0.0300865  1.467589\n",
       "广发基金纯债       2.97388   0.428471    0.144078   0.0539429   0.0370034  1.441048\n",
       "中信保诚基金纯债     2.48147   0.614077    0.247465   0.0664442   0.0942718  0.729165"
      ]
     },
     "execution_count": 60,
     "metadata": {},
     "output_type": "execute_result"
    }
   ],
   "source": [
    "omega.sort_values('omega', ascending=False)"
   ]
  },
  {
   "cell_type": "code",
   "execution_count": 55,
   "metadata": {},
   "outputs": [],
   "source": [
    "# data = w.wss(','.join(omega.index.tolist()), 'sec_name')\n",
    "# omega['name'] = data.Data[0]\n",
    "# omega.sort_values('sharpe', ascending=False)"
   ]
  },
  {
   "cell_type": "code",
   "execution_count": 56,
   "metadata": {},
   "outputs": [
    {
     "data": {
      "text/plain": [
       "<matplotlib.colorbar.Colorbar at 0xc10a7b8>"
      ]
     },
     "execution_count": 56,
     "metadata": {},
     "output_type": "execute_result"
    },
    {
     "data": {
      "image/png": "[encoded data removed]",
      "text/plain": [
       "<Figure size 1152x648 with 2 Axes>"
      ]
     },
     "metadata": {},
     "output_type": "display_data"
    }
   ],
   "source": [
    "fig, ax = plt.subplots(figsize=(16, 9))\n",
    "plt.scatter(omega['vol'], omega['ret'], c=omega['sharpe'], cmap='RdYlBu', s=100)\n",
    "plt.ylabel(u'Return', size=15)\n",
    "plt.xlabel(u'Volatility', size=15)\n",
    "plt.colorbar()"
   ]
  },
  {
   "cell_type": "code",
   "execution_count": 57,
   "metadata": {},
   "outputs": [
    {
     "data": {
      "text/plain": [
       "<matplotlib.colorbar.Colorbar at 0xc0fc9b0>"
      ]
     },
     "execution_count": 57,
     "metadata": {},
     "output_type": "execute_result"
    },
    {
     "data": {
      "image/png": "[encoded data removed]",
      "text/plain": [
       "<Figure size 1152x648 with 2 Axes>"
      ]
     },
     "metadata": {},
     "output_type": "display_data"
    }
   ],
   "source": [
    "fig, ax = plt.subplots(figsize=(16, 9))\n",
    "plt.ylabel(u'Upside Omega', size=15)\n",
    "plt.xlabel(u'Downside Omega', size=15)\n",
    "plt.scatter(omega['downside'], omega['upside'], c=omega['omega'], cmap='RdYlBu', s=100)\n",
    "plt.colorbar()"
   ]
  },
  {
   "cell_type": "code",
   "execution_count": null,
   "metadata": {},
   "outputs": [],
   "source": []
  }
 ],
 "metadata": {
  "kernelspec": {
   "display_name": "Python 2",
   "language": "python",
   "name": "python2"
  },
  "language_info": {
   "codemirror_mode": {
    "name": "ipython",
    "version": 2
   },
   "file_extension": ".py",
   "mimetype": "text/x-python",
   "name": "python",
   "nbconvert_exporter": "python",
   "pygments_lexer": "ipython2",
   "version": "2.7.14"
  }
 },
 "nbformat": 4,
 "nbformat_minor": 2
}
