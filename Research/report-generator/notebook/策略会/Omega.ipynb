{
 "cells": [
  {
   "cell_type": "code",
   "execution_count": 1,
   "metadata": {},
   "outputs": [],
   "source": [
    "import pandas as pd\n",
    "import numpy as np\n",
    "import matplotlib.pyplot as plt\n",
    "import empyrical\n",
    "from scipy import stats\n",
    "from WindPy import w\n",
    "%matplotlib inline"
   ]
  },
  {
   "cell_type": "code",
   "execution_count": 2,
   "metadata": {},
   "outputs": [
    {
     "name": "stdout",
     "output_type": "stream",
     "text": [
      "Welcome to use Wind Quant API for Python (WindPy)!\n",
      "\n",
      "COPYRIGHT (C) 2017 WIND INFORMATION CO., LTD. ALL RIGHTS RESERVED.\n",
      "IN NO CIRCUMSTANCE SHALL WIND BE RESPONSIBLE FOR ANY DAMAGES OR LOSSES CAUSED BY USING WIND QUANT API FOR Python.\n"
     ]
    },
    {
     "data": {
      "text/plain": [
       ".ErrorCode=0\n",
       ".Data=[OK!]"
      ]
     },
     "execution_count": 2,
     "metadata": {},
     "output_type": "execute_result"
    }
   ],
   "source": [
    "w.start()"
   ]
  },
  {
   "cell_type": "code",
   "execution_count": 3,
   "metadata": {},
   "outputs": [],
   "source": [
    "FOF_DIR = 'D:/workspace/data/FOF'\n",
    "COMP_RET_FILE = '%s/comp_ret.xlsx'%(FOF_DIR)"
   ]
  },
  {
   "cell_type": "code",
   "execution_count": 4,
   "metadata": {},
   "outputs": [],
   "source": [
    "def up_down(returns, risk_free=0.0, required_return=0.0, annualization=252):\n",
    "    if len(returns) < 2:\n",
    "        return np.nan\n",
    "\n",
    "    if annualization == 1:\n",
    "        return_threshold = required_return\n",
    "    elif required_return <= -1:\n",
    "        return np.nan\n",
    "    else:\n",
    "        return_threshold = (1 + required_return) ** \\\n",
    "            (1. / annualization) - 1\n",
    "\n",
    "    returns_less_thresh = returns - risk_free - return_threshold\n",
    "\n",
    "    numer = sum(returns_less_thresh[returns_less_thresh > 0.0])\n",
    "    denom = -1.0 * sum(returns_less_thresh[returns_less_thresh < 0.0])\n",
    "    return numer, denom"
   ]
  },
  {
   "cell_type": "code",
   "execution_count": 105,
   "metadata": {},
   "outputs": [],
   "source": [
    "# df = pd.read_pickle('%s/stock_return.pkl'%(FOF_DIR))\n",
    "# df = pd.read_excel(COMP_RET_FILE)\n",
    "df = pd.read_excel(u'./债基数据.xlsx', index_col=0)"
   ]
  },
  {
   "cell_type": "code",
   "execution_count": 106,
   "metadata": {},
   "outputs": [],
   "source": [
    "df.index = pd.to_datetime(df.index, format='%Y%m%d')"
   ]
  },
  {
   "cell_type": "code",
   "execution_count": 107,
   "metadata": {},
   "outputs": [],
   "source": [
    "df = (df + 1).pct_change().dropna()"
   ]
  },
  {
   "cell_type": "code",
   "execution_count": 108,
   "metadata": {},
   "outputs": [],
   "source": [
    "cols = [col for col in df.columns if col.endswith(u'一级')]"
   ]
  },
  {
   "cell_type": "code",
   "execution_count": 109,
   "metadata": {},
   "outputs": [],
   "source": [
    "df = df[cols]"
   ]
  },
  {
   "cell_type": "code",
   "execution_count": 110,
   "metadata": {},
   "outputs": [],
   "source": [
    "mdf = df.resample('M').apply(lambda x: empyrical.cum_returns_final(x))"
   ]
  },
  {
   "cell_type": "code",
   "execution_count": 111,
   "metadata": {},
   "outputs": [],
   "source": [
    "omega = pd.DataFrame(index=mdf.columns, columns=['omega', 'upside', 'downside', 'ret', 'vol'])\n",
    "for col in mdf.columns:\n",
    "    ret = mdf[col]\n",
    "#     ret = df[col].dropna().copy().replace([np.inf], 0)\n",
    "    up, down = up_down(ret)\n",
    "    omega.loc[col, 'omega'] = empyrical.omega_ratio(ret, annualization=12)\n",
    "    omega.loc[col, 'upside'] = up\n",
    "    omega.loc[col, 'downside'] = down\n",
    "    omega.loc[col, 'ret'] = empyrical.annual_return(ret, period='monthly')\n",
    "    omega.loc[col, 'vol'] = empyrical.annual_volatility(ret, period='monthly')\n",
    "#     omega.loc[col, 'ret'] = ret.mean()\n",
    "#     omega.loc[col, 'vol'] = ret.var()\n",
    "    omega.loc[col, 'sharpe'] = empyrical.sharpe_ratio(ret, period='monthly')"
   ]
  },
  {
   "cell_type": "code",
   "execution_count": 112,
   "metadata": {},
   "outputs": [],
   "source": [
    "# omega = omega.dropna()"
   ]
  },
  {
   "cell_type": "code",
   "execution_count": 113,
   "metadata": {},
   "outputs": [
    {
     "data": {
      "text/html": [
       "<div>\n",
       "<style scoped>\n",
       "    .dataframe tbody tr th:only-of-type {\n",
       "        vertical-align: middle;\n",
       "    }\n",
       "\n",
       "    .dataframe tbody tr th {\n",
       "        vertical-align: top;\n",
       "    }\n",
       "\n",
       "    .dataframe thead th {\n",
       "        text-align: right;\n",
       "    }\n",
       "</style>\n",
       "<table border=\"1\" class=\"dataframe\">\n",
       "  <thead>\n",
       "    <tr style=\"text-align: right;\">\n",
       "      <th></th>\n",
       "      <th>omega</th>\n",
       "      <th>upside</th>\n",
       "      <th>downside</th>\n",
       "      <th>ret</th>\n",
       "      <th>vol</th>\n",
       "      <th>sharpe</th>\n",
       "    </tr>\n",
       "  </thead>\n",
       "  <tbody>\n",
       "    <tr>\n",
       "      <th>招商基金一级</th>\n",
       "      <td>1.94173</td>\n",
       "      <td>0.660695</td>\n",
       "      <td>0.340261</td>\n",
       "      <td>0.0571471</td>\n",
       "      <td>0.093082</td>\n",
       "      <td>0.645467</td>\n",
       "    </tr>\n",
       "    <tr>\n",
       "      <th>工银瑞信基金一级</th>\n",
       "      <td>1.9959</td>\n",
       "      <td>0.561288</td>\n",
       "      <td>0.281221</td>\n",
       "      <td>0.0519789</td>\n",
       "      <td>0.0594508</td>\n",
       "      <td>0.883295</td>\n",
       "    </tr>\n",
       "    <tr>\n",
       "      <th>国联安基金一级</th>\n",
       "      <td>1.89199</td>\n",
       "      <td>0.382363</td>\n",
       "      <td>0.202096</td>\n",
       "      <td>0.033333</td>\n",
       "      <td>0.0443328</td>\n",
       "      <td>0.762418</td>\n",
       "    </tr>\n",
       "    <tr>\n",
       "      <th>广发基金一级</th>\n",
       "      <td>2.67946</td>\n",
       "      <td>0.490528</td>\n",
       "      <td>0.18307</td>\n",
       "      <td>0.0579857</td>\n",
       "      <td>0.0485772</td>\n",
       "      <td>1.186739</td>\n",
       "    </tr>\n",
       "    <tr>\n",
       "      <th>交银施罗德基金一级</th>\n",
       "      <td>2.39968</td>\n",
       "      <td>0.428049</td>\n",
       "      <td>0.178378</td>\n",
       "      <td>0.046975</td>\n",
       "      <td>0.0408716</td>\n",
       "      <td>1.145379</td>\n",
       "    </tr>\n",
       "    <tr>\n",
       "      <th>富国基金一级</th>\n",
       "      <td>2.63234</td>\n",
       "      <td>0.425915</td>\n",
       "      <td>0.161801</td>\n",
       "      <td>0.0498622</td>\n",
       "      <td>0.0394892</td>\n",
       "      <td>1.254052</td>\n",
       "    </tr>\n",
       "    <tr>\n",
       "      <th>中银基金一级</th>\n",
       "      <td>2.7069</td>\n",
       "      <td>0.436404</td>\n",
       "      <td>0.161219</td>\n",
       "      <td>0.0521143</td>\n",
       "      <td>0.0374387</td>\n",
       "      <td>1.378174</td>\n",
       "    </tr>\n",
       "    <tr>\n",
       "      <th>华安基金一级</th>\n",
       "      <td>3.71254</td>\n",
       "      <td>0.563141</td>\n",
       "      <td>0.151686</td>\n",
       "      <td>0.0781787</td>\n",
       "      <td>0.0584385</td>\n",
       "      <td>1.320154</td>\n",
       "    </tr>\n",
       "    <tr>\n",
       "      <th>国投瑞银基金一级</th>\n",
       "      <td>3.43643</td>\n",
       "      <td>0.493853</td>\n",
       "      <td>0.143711</td>\n",
       "      <td>0.0666711</td>\n",
       "      <td>0.0438596</td>\n",
       "      <td>1.496861</td>\n",
       "    </tr>\n",
       "    <tr>\n",
       "      <th>易方达基金一级</th>\n",
       "      <td>3.80935</td>\n",
       "      <td>0.546752</td>\n",
       "      <td>0.143529</td>\n",
       "      <td>0.0770258</td>\n",
       "      <td>0.0492169</td>\n",
       "      <td>1.536146</td>\n",
       "    </tr>\n",
       "    <tr>\n",
       "      <th>华富基金一级</th>\n",
       "      <td>4.12299</td>\n",
       "      <td>0.516742</td>\n",
       "      <td>0.125332</td>\n",
       "      <td>0.0749372</td>\n",
       "      <td>0.0432171</td>\n",
       "      <td>1.698157</td>\n",
       "    </tr>\n",
       "    <tr>\n",
       "      <th>汇添富基金一级</th>\n",
       "      <td>3.0143</td>\n",
       "      <td>0.368484</td>\n",
       "      <td>0.122245</td>\n",
       "      <td>0.0466828</td>\n",
       "      <td>0.0304943</td>\n",
       "      <td>1.514045</td>\n",
       "    </tr>\n",
       "    <tr>\n",
       "      <th>融通基金一级</th>\n",
       "      <td>3.35423</td>\n",
       "      <td>0.409636</td>\n",
       "      <td>0.122125</td>\n",
       "      <td>0.0546288</td>\n",
       "      <td>0.0349893</td>\n",
       "      <td>1.540705</td>\n",
       "    </tr>\n",
       "    <tr>\n",
       "      <th>南方基金一级</th>\n",
       "      <td>3.57651</td>\n",
       "      <td>0.416213</td>\n",
       "      <td>0.116374</td>\n",
       "      <td>0.0570882</td>\n",
       "      <td>0.0342141</td>\n",
       "      <td>1.643174</td>\n",
       "    </tr>\n",
       "    <tr>\n",
       "      <th>华夏基金一级</th>\n",
       "      <td>2.71414</td>\n",
       "      <td>0.311944</td>\n",
       "      <td>0.114933</td>\n",
       "      <td>0.0372054</td>\n",
       "      <td>0.0268189</td>\n",
       "      <td>1.377372</td>\n",
       "    </tr>\n",
       "    <tr>\n",
       "      <th>银华基金一级</th>\n",
       "      <td>3.39673</td>\n",
       "      <td>0.389937</td>\n",
       "      <td>0.114798</td>\n",
       "      <td>0.0521895</td>\n",
       "      <td>0.0353595</td>\n",
       "      <td>1.458976</td>\n",
       "    </tr>\n",
       "    <tr>\n",
       "      <th>嘉实基金一级</th>\n",
       "      <td>3.25768</td>\n",
       "      <td>0.370761</td>\n",
       "      <td>0.113811</td>\n",
       "      <td>0.0487358</td>\n",
       "      <td>0.0319154</td>\n",
       "      <td>1.509557</td>\n",
       "    </tr>\n",
       "    <tr>\n",
       "      <th>建信基金一级</th>\n",
       "      <td>3.97195</td>\n",
       "      <td>0.423881</td>\n",
       "      <td>0.106719</td>\n",
       "      <td>0.0604552</td>\n",
       "      <td>0.0358319</td>\n",
       "      <td>1.659637</td>\n",
       "    </tr>\n",
       "    <tr>\n",
       "      <th>鹏华基金一级</th>\n",
       "      <td>4.73003</td>\n",
       "      <td>0.386159</td>\n",
       "      <td>0.0816399</td>\n",
       "      <td>0.0581619</td>\n",
       "      <td>0.0297192</td>\n",
       "      <td>1.921228</td>\n",
       "    </tr>\n",
       "    <tr>\n",
       "      <th>国泰基金一级</th>\n",
       "      <td>4.3166</td>\n",
       "      <td>0.338149</td>\n",
       "      <td>0.0783369</td>\n",
       "      <td>0.0494518</td>\n",
       "      <td>0.0266678</td>\n",
       "      <td>1.826726</td>\n",
       "    </tr>\n",
       "  </tbody>\n",
       "</table>\n",
       "</div>"
      ],
      "text/plain": [
       "             omega    upside   downside        ret        vol    sharpe\n",
       "招商基金一级     1.94173  0.660695   0.340261  0.0571471   0.093082  0.645467\n",
       "工银瑞信基金一级    1.9959  0.561288   0.281221  0.0519789  0.0594508  0.883295\n",
       "国联安基金一级    1.89199  0.382363   0.202096   0.033333  0.0443328  0.762418\n",
       "广发基金一级     2.67946  0.490528    0.18307  0.0579857  0.0485772  1.186739\n",
       "交银施罗德基金一级  2.39968  0.428049   0.178378   0.046975  0.0408716  1.145379\n",
       "富国基金一级     2.63234  0.425915   0.161801  0.0498622  0.0394892  1.254052\n",
       "中银基金一级      2.7069  0.436404   0.161219  0.0521143  0.0374387  1.378174\n",
       "华安基金一级     3.71254  0.563141   0.151686  0.0781787  0.0584385  1.320154\n",
       "国投瑞银基金一级   3.43643  0.493853   0.143711  0.0666711  0.0438596  1.496861\n",
       "易方达基金一级    3.80935  0.546752   0.143529  0.0770258  0.0492169  1.536146\n",
       "华富基金一级     4.12299  0.516742   0.125332  0.0749372  0.0432171  1.698157\n",
       "汇添富基金一级     3.0143  0.368484   0.122245  0.0466828  0.0304943  1.514045\n",
       "融通基金一级     3.35423  0.409636   0.122125  0.0546288  0.0349893  1.540705\n",
       "南方基金一级     3.57651  0.416213   0.116374  0.0570882  0.0342141  1.643174\n",
       "华夏基金一级     2.71414  0.311944   0.114933  0.0372054  0.0268189  1.377372\n",
       "银华基金一级     3.39673  0.389937   0.114798  0.0521895  0.0353595  1.458976\n",
       "嘉实基金一级     3.25768  0.370761   0.113811  0.0487358  0.0319154  1.509557\n",
       "建信基金一级     3.97195  0.423881   0.106719  0.0604552  0.0358319  1.659637\n",
       "鹏华基金一级     4.73003  0.386159  0.0816399  0.0581619  0.0297192  1.921228\n",
       "国泰基金一级      4.3166  0.338149  0.0783369  0.0494518  0.0266678  1.826726"
      ]
     },
     "execution_count": 113,
     "metadata": {},
     "output_type": "execute_result"
    }
   ],
   "source": [
    "omega.sort_values('downside', ascending=False)"
   ]
  },
  {
   "cell_type": "code",
   "execution_count": 85,
   "metadata": {},
   "outputs": [],
   "source": [
    "# data = w.wss(','.join(omega.index.tolist()), 'sec_name')\n",
    "# omega['name'] = data.Data[0]\n",
    "# omega.sort_values('sharpe', ascending=False)"
   ]
  },
  {
   "cell_type": "code",
   "execution_count": 86,
   "metadata": {},
   "outputs": [
    {
     "data": {
      "text/plain": [
       "<matplotlib.colorbar.Colorbar at 0x22d52470>"
      ]
     },
     "execution_count": 86,
     "metadata": {},
     "output_type": "execute_result"
    },
    {
     "data": {
      "image/png": "[encoded data removed]",
      "text/plain": [
       "<Figure size 1152x648 with 2 Axes>"
      ]
     },
     "metadata": {},
     "output_type": "display_data"
    }
   ],
   "source": [
    "fig, ax = plt.subplots(figsize=(16, 9))\n",
    "plt.scatter(omega['vol'], omega['ret'], c=omega['sharpe'], cmap='RdYlBu', s=100)\n",
    "plt.ylabel(u'Return', size=15)\n",
    "plt.xlabel(u'Volatility', size=15)\n",
    "plt.colorbar()"
   ]
  },
  {
   "cell_type": "code",
   "execution_count": 88,
   "metadata": {},
   "outputs": [
    {
     "data": {
      "text/plain": [
       "Text(0.5,1,u'\\u4e00\\u7ea7\\u503a\\u57fa')"
      ]
     },
     "execution_count": 88,
     "metadata": {},
     "output_type": "execute_result"
    },
    {
     "data": {
      "image/png": "[encoded data removed]",
      "text/plain": [
       "<Figure size 1152x648 with 2 Axes>"
      ]
     },
     "metadata": {},
     "output_type": "display_data"
    }
   ],
   "source": [
    "fig, ax = plt.subplots(figsize=(16, 9))\n",
    "plt.ylabel(u'Upside Omega', size=15)\n",
    "plt.xlabel(u'Downside Omega', size=15)\n",
    "plt.scatter(omega['downside'], omega['upside'], c=omega['omega'], cmap='RdYlBu', s=100)\n",
    "plt.colorbar()\n",
    "plt.title(u'一级债基', fontsize=20)"
   ]
  },
  {
   "cell_type": "code",
   "execution_count": null,
   "metadata": {},
   "outputs": [],
   "source": []
  }
 ],
 "metadata": {
  "kernelspec": {
   "display_name": "Python 2",
   "language": "python",
   "name": "python2"
  },
  "language_info": {
   "codemirror_mode": {
    "name": "ipython",
    "version": 2
   },
   "file_extension": ".py",
   "mimetype": "text/x-python",
   "name": "python",
   "nbconvert_exporter": "python",
   "pygments_lexer": "ipython2",
   "version": "2.7.14"
  }
 },
 "nbformat": 4,
 "nbformat_minor": 2
}
