{
 "cells": [
  {
   "cell_type": "code",
   "execution_count": 86,
   "metadata": {
    "collapsed": true
   },
   "outputs": [],
   "source": [
    "import requests\n",
    "from bs4 import BeautifulSoup\n",
    "import jieba\n",
    "import os\n",
    "import pandas as pd"
   ]
  },
  {
   "cell_type": "code",
   "execution_count": 2,
   "metadata": {
    "collapsed": true
   },
   "outputs": [],
   "source": [
    "base_url = 'http://jhsjk.people.cn/article'"
   ]
  },
  {
   "cell_type": "code",
   "execution_count": 3,
   "metadata": {
    "collapsed": true
   },
   "outputs": [],
   "source": [
    "article_id = '29528976'"
   ]
  },
  {
   "cell_type": "code",
   "execution_count": 4,
   "metadata": {
    "collapsed": true
   },
   "outputs": [],
   "source": [
    "url = '%s/%s'%(base_url, article_id)"
   ]
  },
  {
   "cell_type": "code",
   "execution_count": 5,
   "metadata": {
    "collapsed": false
   },
   "outputs": [
    {
     "data": {
      "text/plain": [
       "'http://jhsjk.people.cn/article/29528976'"
      ]
     },
     "execution_count": 5,
     "metadata": {},
     "output_type": "execute_result"
    }
   ],
   "source": [
    "url"
   ]
  },
  {
   "cell_type": "code",
   "execution_count": 6,
   "metadata": {
    "collapsed": true
   },
   "outputs": [],
   "source": [
    "responce = requests.get(url)"
   ]
  },
  {
   "cell_type": "code",
   "execution_count": 7,
   "metadata": {
    "collapsed": false
   },
   "outputs": [
    {
     "data": {
      "text/plain": [
       "200"
      ]
     },
     "execution_count": 7,
     "metadata": {},
     "output_type": "execute_result"
    }
   ],
   "source": [
    "responce.status_code"
   ]
  },
  {
   "cell_type": "code",
   "execution_count": 8,
   "metadata": {
    "collapsed": true
   },
   "outputs": [],
   "source": [
    "text = responce.text"
   ]
  },
  {
   "cell_type": "code",
   "execution_count": 9,
   "metadata": {
    "collapsed": true
   },
   "outputs": [],
   "source": [
    "soup = BeautifulSoup(text, 'html.parser')"
   ]
  },
  {
   "cell_type": "code",
   "execution_count": 10,
   "metadata": {
    "collapsed": false
   },
   "outputs": [],
   "source": [
    "content = soup.find(class_='d2txt clearfix').text.strip()"
   ]
  },
  {
   "cell_type": "code",
   "execution_count": 11,
   "metadata": {
    "collapsed": false
   },
   "outputs": [
    {
     "name": "stdout",
     "output_type": "stream",
     "text": [
      "习近平致信祝贺《联合国防治荒漠化公约》第十三次缔约方大会高级别会议召开\n",
      "\n",
      "来源：人民网－人民日报          发布时间：2017-09-12\n",
      "\n",
      "\n",
      "习近平致《联合国防治荒漠化公约》第十三次缔约方大会高级别会议的贺信\n",
      "\n",
      "\t值此《联合国防治荒漠化公约》第十三次缔约方大会高级别会议开幕之际，我谨代表中国政府和中国人民，向会议的召开致以热烈的祝贺！向出席会议的各国代表、国际机构负责人和各界人士致以诚挚的欢迎！\n",
      "\n",
      "\t土地荒漠化是影响人类生存和发展的全球重大生态问题。公约生效21年来，在各方共同努力下，全球荒漠化防治取得明显成效，但形势依然严峻，世界上仍有许多地方的人民饱受荒漠化之苦。这次大会以“携手防治荒漠，共谋人类福祉”为主题，共议公约新战略框架，必将对维护全球生态安全产生重大而积极的影响。\n",
      "\n",
      "\t防治荒漠化是人类面临的共同挑战，需要国际社会携手应对。我们要弘扬尊重自然、保护自然的理念，坚持生态优先、预防为主，坚定信心，面向未来，制定广泛合作、目标明确的公约新战略框架，共同推进全球荒漠生态系统治理，让荒漠造福人类。中国将坚定不移履行公约义务，按照本次缔约方大会确定的目标，一如既往加强同各成员国和国际组织的交流合作，共同为建设一个更加美好的世界而努力！\n",
      "\n",
      "\t预祝大会圆满成功！\n",
      "\n",
      "\t中华人民共和国主席  习近平   \n",
      "\n",
      "\t2017年9月11日  \n",
      "\n",
      "\t（新华社呼和浩特9月11日电）\n",
      "\n",
      "\t《联合国防治荒漠化公约》第十三次缔约方大会高级别会议11日在内蒙古鄂尔多斯市开幕。国家主席习近平发来贺信，向会议的召开致以热烈的祝贺，向出席会议的各国代表、国际机构负责人和各界人士致以诚挚的欢迎，并预祝大会圆满成功。\n",
      "\n",
      "\t习近平指出，土地荒漠化是影响人类生存和发展的全球重大生态问题。公约生效21年来，在各方共同努力下，全球荒漠化防治取得明显成效，但形势依然严峻，世界上仍有许多地方的人民饱受荒漠化之苦。这次大会以“携手防治荒漠，共谋人类福祉”为主题，共议公约新战略框架，必将对维护全球生态安全产生重大而积极的影响。\n",
      "\n",
      "\t习近平强调，防治荒漠化是人类面临的共同挑战，需要国际社会携手应对。我们要弘扬尊重自然、保护自然的理念，坚持生态优先、预防为主，坚定信心，面向未来，制定广泛合作、目标明确的公约新战略框架，共同推进全球荒漠生态系统治理，让荒漠造福人类。中国将坚定不移履行公约义务，按照本次缔约方大会确定的目标，一如既往加强同各成员国和国际组织的交流合作，共同为建设一个更加美好的世界而努力。（贺信全文另发）\n",
      "\n",
      "\t国务院副总理汪洋在开幕式上宣读了习近平的贺信并发表主旨演讲。他强调，中国将认真履行习近平主席在2015年联合国发展峰会上的郑重承诺，以落实2030年可持续发展议程为己任，以新发展理念为引领，把防治荒漠化作为生态文明建设的重要内容，全面加强国际交流合作，努力走出一条中国特色荒漠生态系统治理和民生改善相结合的道路。\n",
      "\n",
      "\t联合国秘书长古特雷斯向会议发来视频致辞。\n",
      "\n",
      "\t《联合国防治荒漠化公约》是联合国里约可持续发展大会框架下的三大环境公约之一，旨在推动国际社会在防治荒漠化和缓解干旱影响方面加强合作。缔约方大会是公约的最高决策机构，目前每两年举行一次，来自196个公约缔约方、20多个国际组织的正式代表约1400人出席本次会议。（新华社呼和浩特9月11日电）\n",
      "\n",
      "《 人民日报 》（ 2017年09月12日 01 版）\n",
      "\n",
      "\n",
      "(责编：程宏毅                     )\n"
     ]
    }
   ],
   "source": [
    "print content"
   ]
  },
  {
   "cell_type": "code",
   "execution_count": 12,
   "metadata": {
    "collapsed": false
   },
   "outputs": [
    {
     "name": "stdout",
     "output_type": "stream",
     "text": [
      "2017-09-12\n"
     ]
    }
   ],
   "source": [
    "date = content[content.find(u'发布时间')+5:content.find(u'发布时间')+15]\n",
    "print date"
   ]
  },
  {
   "cell_type": "code",
   "execution_count": 13,
   "metadata": {
    "collapsed": false
   },
   "outputs": [],
   "source": [
    "lines = [l for l in content.split('\\n') if l != '']"
   ]
  },
  {
   "cell_type": "code",
   "execution_count": 14,
   "metadata": {
    "collapsed": false
   },
   "outputs": [],
   "source": [
    "content = '\\n'.join(lines[2:-2])"
   ]
  },
  {
   "cell_type": "code",
   "execution_count": 15,
   "metadata": {
    "collapsed": true
   },
   "outputs": [],
   "source": [
    "with open('./stop_words_zh.txt', 'r') as f:\n",
    "    stop_words = set([line.strip() for line in f.readlines()])"
   ]
  },
  {
   "cell_type": "code",
   "execution_count": 16,
   "metadata": {
    "collapsed": true
   },
   "outputs": [],
   "source": [
    "seg_list = jieba.cut(content)"
   ]
  },
  {
   "cell_type": "code",
   "execution_count": 17,
   "metadata": {
    "collapsed": false
   },
   "outputs": [
    {
     "name": "stderr",
     "output_type": "stream",
     "text": [
      "Building prefix dict from the default dictionary ...\n",
      "Loading model from cache c:\\users\\zhangy~1\\appdata\\local\\temp\\jieba.cache\n",
      "Loading model cost 0.598 seconds.\n",
      "Prefix dict has been built succesfully.\n"
     ]
    }
   ],
   "source": [
    "seg_list = [w for w in seg_list if w.encode('utf-8') not in stop_words]"
   ]
  },
  {
   "cell_type": "code",
   "execution_count": 18,
   "metadata": {
    "collapsed": false
   },
   "outputs": [
    {
     "name": "stdout",
     "output_type": "stream",
     "text": [
      "习近平 致 联合国 防治 荒漠化 公约 第十三次 缔约方 大会 高级别 会议 贺信 \n",
      " \t 值此 联合国 防治 荒漠化 公约 第十三次 缔约方 大会 高级别 会议 开幕 之际 我谨 代表 中国政府 中国 会议 召开 致以 热烈 祝贺 出席会议 各国 代表 国际 机构 负责人 各界人士 致以 诚挚 欢迎 \n",
      " \t 土地 荒漠化 影响 人类 生存 发展 全球 重大 生态 问题 公约 生效 21 年来 各方 共同努力 全球 荒漠化 防治 取得 明显 成效 形势 依然 严峻 世界 许多 地方 饱受 荒漠化 之苦 这次 大会 携手 防治 荒漠 共谋 人类 福祉 主题 共议 公约 战略 框架 维护 全球 生态 安全 产生 重大 积极 影响 \n",
      " \t 防治 荒漠化 人类 面临 共同 挑战 需要 国际 社会 携手 应对 弘扬 尊重 自然 保护 自然 理念 坚持 生态 优先 预防为主 坚定信心 面向未来 制定 广泛 合作 目标 明确 公约 战略 框架 共同 推进 全球 荒漠 生态系统 治理 荒漠 造福人类 中国 坚定不移 履行 公约 义务 本次 缔约方 大会 确定 目标 一如既往 加强 成员国 国际 组织 交流 合作 共同 建设 美好 世界 努力 \n",
      " \t 预祝 大会 圆满成功 \n",
      " \t 中华人民共和国 主席     习近平       \n",
      " \t 2017 11     \n",
      " \t 新华社 呼和浩特 11 日电 \n",
      " \t 联合国 防治 荒漠化 公约 第十三次 缔约方 大会 高级别 会议 11 内蒙古 鄂尔多斯市 开幕 国家 主席 习近平 发来 贺信 会议 召开 致以 热烈 祝贺 出席会议 各国 代表 国际 机构 负责人 各界人士 致以 诚挚 欢迎 预祝 大会 圆满成功 \n",
      " \t 习近平 指出 土地 荒漠化 影响 人类 生存 发展 全球 重大 生态 问题 公约 生效 21 年来 各方 共同努力 全球 荒漠化 防治 取得 明显 成效 形势 依然 严峻 世界 许多 地方 饱受 荒漠化 之苦 这次 大会 携手 防治 荒漠 共谋 人类 福祉 主题 共议 公约 战略 框架 维护 全球 生态 安全 产生 重大 积极 影响 \n",
      " \t 习近平 强调 防治 荒漠化 人类 面临 共同 挑战 需要 国际 社会 携手 应对 弘扬 尊重 自然 保护 自然 理念 坚持 生态 优先 预防为主 坚定信心 面向未来 制定 广泛 合作 目标 明确 公约 战略 框架 共同 推进 全球 荒漠 生态系统 治理 荒漠 造福人类 中国 坚定不移 履行 公约 义务 本次 缔约方 大会 确定 目标 一如既往 加强 成员国 国际 组织 交流 合作 共同 建设 美好 世界 努力 贺信 全文 另发 \n",
      " \t 国务院 副 总理 汪洋 开幕式 宣读 习近平 贺信 发表 主旨 演讲 强调 中国 认真 履行 习近平 主席 联合国 发展 峰会 郑重 承诺 落实 2030 持续 发展 议程 己任 以新 发展 理念 引领 防治 荒漠化 生态 文明 建设 重要 内容 全面 加强 国际交流 合作 努力 走出 一条 中国 特色 荒漠 生态系统 治理 民生 改善 相结合 道路 \n",
      " \t 联合国 秘书长 古 特雷斯 会议 发来 视频 致辞 \n",
      " \t 联合国 防治 荒漠化 公约 联合国 里 约 持续 发展 大会 框架 三大 环境 公约 旨在 推动 国际 社会 防治 荒漠化 缓解 干旱 影响 方面 加强 合作 缔约方 大会 公约 最高 决策机构 两年 举行 一次 来自 196 公约 缔约方 多个 国际 组织 正式 代表 约 1400 出席 本次 会议 新华社 呼和浩特 11 日电\n"
     ]
    }
   ],
   "source": [
    "print ' '.join(seg_list)"
   ]
  },
  {
   "cell_type": "code",
   "execution_count": 22,
   "metadata": {
    "collapsed": true
   },
   "outputs": [],
   "source": [
    "DATA_DIR = 'D:/Data/xjp'"
   ]
  },
  {
   "cell_type": "code",
   "execution_count": 23,
   "metadata": {
    "collapsed": true
   },
   "outputs": [],
   "source": [
    "fname = '%s/%s.txt'%(DATA_DIR, article_id)"
   ]
  },
  {
   "cell_type": "code",
   "execution_count": 25,
   "metadata": {
    "collapsed": false
   },
   "outputs": [],
   "source": [
    "with open(fname, 'r') as f:\n",
    "    text = f.readlines()"
   ]
  },
  {
   "cell_type": "code",
   "execution_count": 29,
   "metadata": {
    "collapsed": false
   },
   "outputs": [],
   "source": [
    "content = ''.join(text)"
   ]
  },
  {
   "cell_type": "code",
   "execution_count": 30,
   "metadata": {
    "collapsed": false
   },
   "outputs": [
    {
     "name": "stdout",
     "output_type": "stream",
     "text": [
      "习近平致信祝贺《联合国防治荒漠化公约》第十三次缔约方大会高级别会议召开\n",
      "\n",
      "来源：人民网－人民日报          发布时间：2017-09-12\n",
      "\n",
      "\n",
      "习近平致《联合国防治荒漠化公约》第十三次缔约方大会高级别会议的贺信\n",
      "\n",
      "\t值此《联合国防治荒漠化公约》第十三次缔约方大会高级别会议开幕之际，我谨代表中国政府和中国人民，向会议的召开致以热烈的祝贺！向出席会议的各国代表、国际机构负责人和各界人士致以诚挚的欢迎！\n",
      "\n",
      "\t土地荒漠化是影响人类生存和发展的全球重大生态问题。公约生效21年来，在各方共同努力下，全球荒漠化防治取得明显成效，但形势依然严峻，世界上仍有许多地方的人民饱受荒漠化之苦。这次大会以“携手防治荒漠，共谋人类福祉”为主题，共议公约新战略框架，必将对维护全球生态安全产生重大而积极的影响。\n",
      "\n",
      "\t防治荒漠化是人类面临的共同挑战，需要国际社会携手应对。我们要弘扬尊重自然、保护自然的理念，坚持生态优先、预防为主，坚定信心，面向未来，制定广泛合作、目标明确的公约新战略框架，共同推进全球荒漠生态系统治理，让荒漠造福人类。中国将坚定不移履行公约义务，按照本次缔约方大会确定的目标，一如既往加强同各成员国和国际组织的交流合作，共同为建设一个更加美好的世界而努力！\n",
      "\n",
      "\t预祝大会圆满成功！\n",
      "\n",
      "\t中华人民共和国主席  习近平   \n",
      "\n",
      "\t2017年9月11日  \n",
      "\n",
      "\t（新华社呼和浩特9月11日电）\n",
      "\n",
      "\t《联合国防治荒漠化公约》第十三次缔约方大会高级别会议11日在内蒙古鄂尔多斯市开幕。国家主席习近平发来贺信，向会议的召开致以热烈的祝贺，向出席会议的各国代表、国际机构负责人和各界人士致以诚挚的欢迎，并预祝大会圆满成功。\n",
      "\n",
      "\t习近平指出，土地荒漠化是影响人类生存和发展的全球重大生态问题。公约生效21年来，在各方共同努力下，全球荒漠化防治取得明显成效，但形势依然严峻，世界上仍有许多地方的人民饱受荒漠化之苦。这次大会以“携手防治荒漠，共谋人类福祉”为主题，共议公约新战略框架，必将对维护全球生态安全产生重大而积极的影响。\n",
      "\n",
      "\t习近平强调，防治荒漠化是人类面临的共同挑战，需要国际社会携手应对。我们要弘扬尊重自然、保护自然的理念，坚持生态优先、预防为主，坚定信心，面向未来，制定广泛合作、目标明确的公约新战略框架，共同推进全球荒漠生态系统治理，让荒漠造福人类。中国将坚定不移履行公约义务，按照本次缔约方大会确定的目标，一如既往加强同各成员国和国际组织的交流合作，共同为建设一个更加美好的世界而努力。（贺信全文另发）\n",
      "\n",
      "\t国务院副总理汪洋在开幕式上宣读了习近平的贺信并发表主旨演讲。他强调，中国将认真履行习近平主席在2015年联合国发展峰会上的郑重承诺，以落实2030年可持续发展议程为己任，以新发展理念为引领，把防治荒漠化作为生态文明建设的重要内容，全面加强国际交流合作，努力走出一条中国特色荒漠生态系统治理和民生改善相结合的道路。\n",
      "\n",
      "\t联合国秘书长古特雷斯向会议发来视频致辞。\n",
      "\n",
      "\t《联合国防治荒漠化公约》是联合国里约可持续发展大会框架下的三大环境公约之一，旨在推动国际社会在防治荒漠化和缓解干旱影响方面加强合作。缔约方大会是公约的最高决策机构，目前每两年举行一次，来自196个公约缔约方、20多个国际组织的正式代表约1400人出席本次会议。（新华社呼和浩特9月11日电）\n",
      "\n",
      "《 人民日报 》（ 2017年09月12日 01 版）\n",
      "\n",
      "\n",
      "(责编：程宏毅                     )\n"
     ]
    }
   ],
   "source": [
    "print content"
   ]
  },
  {
   "cell_type": "code",
   "execution_count": 31,
   "metadata": {
    "collapsed": true
   },
   "outputs": [],
   "source": [
    "seg_list = jieba.cut(content)"
   ]
  },
  {
   "cell_type": "code",
   "execution_count": 32,
   "metadata": {
    "collapsed": true
   },
   "outputs": [],
   "source": [
    "seg_list = [w for w in seg_list if w.encode('utf-8') not in stop_words]"
   ]
  },
  {
   "cell_type": "code",
   "execution_count": 35,
   "metadata": {
    "collapsed": true
   },
   "outputs": [],
   "source": [
    "files = [f for f in os.listdir(DATA_DIR)]"
   ]
  },
  {
   "cell_type": "code",
   "execution_count": 61,
   "metadata": {
    "collapsed": false
   },
   "outputs": [
    {
     "name": "stdout",
     "output_type": "stream",
     "text": [
      "2014-04-09\n",
      "2014-04-09\n",
      "2014-04-09\n"
     ]
    }
   ],
   "source": [
    "word_count = {}\n",
    "for f in files[:3]:\n",
    "    fname = '%s/%s'%(DATA_DIR, f)\n",
    "    with open(fname, 'r') as f:\n",
    "        text = f.readlines()\n",
    "    content = ''.join(text).replace('\\n', 'r').replace('\\t', '').decode('utf-8')\n",
    "    date = content[content.find(u'发布时间')+5:content.find(u'发布时间')+15]\n",
    "    seg_list = jieba.cut(content)\n",
    "    seg_list = [w for w in seg_list if w.encode('utf-8') not in stop_words]\n",
    "    for word in seg_list:\n",
    "        if not word_count.has_key(word):\n",
    "            word_count[word] = {}\n",
    "        if not word_count[word].has_key(date):\n",
    "            word_count[word][date] = 0\n",
    "        word_count[word][date] += 1"
   ]
  },
  {
   "cell_type": "code",
   "execution_count": 63,
   "metadata": {
    "collapsed": false
   },
   "outputs": [
    {
     "name": "stdout",
     "output_type": "stream",
     "text": [
      "朋友\n"
     ]
    }
   ],
   "source": [
    "print word_count.keys()[0]"
   ]
  },
  {
   "cell_type": "code",
   "execution_count": 67,
   "metadata": {
    "collapsed": false
   },
   "outputs": [],
   "source": [
    "import pickle"
   ]
  },
  {
   "cell_type": "code",
   "execution_count": 81,
   "metadata": {
    "collapsed": true
   },
   "outputs": [],
   "source": [
    "with open('D:/workspace/data/xjp_count.pkl', 'r') as f:\n",
    "    word_count = pickle.load(f)"
   ]
  },
  {
   "cell_type": "code",
   "execution_count": 82,
   "metadata": {
    "collapsed": false
   },
   "outputs": [],
   "source": [
    "total_count = {}\n",
    "for word, count in word_count.iteritems():\n",
    "    cnt = sum(count.values())\n",
    "    total_count[word] = cnt"
   ]
  },
  {
   "cell_type": "code",
   "execution_count": 83,
   "metadata": {
    "collapsed": false
   },
   "outputs": [],
   "source": [
    "sort_dict = sorted(total_count.items(), key=lambda x: x[1], reverse=True)"
   ]
  },
  {
   "cell_type": "code",
   "execution_count": 84,
   "metadata": {
    "collapsed": false
   },
   "outputs": [
    {
     "name": "stdout",
     "output_type": "stream",
     "text": [
      "  153482\n",
      "rr 64478\n",
      "习近平 36802\n",
      "发展 36256\n",
      "中国 25963\n",
      "合作 18407\n",
      "国家 17684\n",
      " 14101\n",
      "建设 13852\n",
      "主席 12834\n",
      "工作 12170\n",
      "经济 11440\n",
      "全面 10689\n",
      "坚持 9871\n",
      "加强 9232\n",
      "重要 9185\n",
      "问题 9102\n",
      "推进 8784\n",
      "推动 8653\n",
      "改革 8408\n"
     ]
    }
   ],
   "source": [
    "for w, v in sort_dict[:20]:\n",
    "    print w, v"
   ]
  },
  {
   "cell_type": "code",
   "execution_count": 85,
   "metadata": {
    "collapsed": true
   },
   "outputs": [],
   "source": [
    "year = 2015"
   ]
  },
  {
   "cell_type": "code",
   "execution_count": 142,
   "metadata": {
    "collapsed": false
   },
   "outputs": [
    {
     "name": "stdout",
     "output_type": "stream",
     "text": [
      "2014\n",
      "2014    NaN\n",
      "2015    NaN\n",
      "2016    NaN\n",
      "2017    NaN\n",
      "Name: rr, dtype: object\n",
      "rr 2014 17175 2014    17175\n",
      "2015      NaN\n",
      "2016      NaN\n",
      "2017      NaN\n",
      "Name: rr, dtype: object\n",
      "2015\n",
      "2014    17175\n",
      "2015      NaN\n",
      "2016      NaN\n",
      "2017      NaN\n",
      "Name: rr, dtype: object\n",
      "rr 2015 18481 2014    17175\n",
      "2015    18481\n",
      "2016      NaN\n",
      "2017      NaN\n",
      "Name: rr, dtype: object\n",
      "2016\n",
      "2014    17175\n",
      "2015    18481\n",
      "2016      NaN\n",
      "2017      NaN\n",
      "Name: rr, dtype: object\n",
      "rr 2016 16818 2014    17175\n",
      "2015    18481\n",
      "2016    16818\n",
      "2017      NaN\n",
      "Name: rr, dtype: object\n",
      "2017\n",
      "2014    17175\n",
      "2015    18481\n",
      "2016    16818\n",
      "2017      NaN\n",
      "Name: rr, dtype: object\n",
      "rr 2017 12004 2014    17175\n",
      "2015    18481\n",
      "2016    16818\n",
      "2017    12004\n",
      "Name: rr, dtype: object\n"
     ]
    }
   ],
   "source": [
    "words = [w for w, _ in sort_dict[:200]]\n",
    "ret = pd.DataFrame(columns=range(2014, 2018), index=words)\n",
    "for year in ret.columns:\n",
    "    print year\n",
    "    for word in words:\n",
    "        if word != ' ':\n",
    "            df = pd.DataFrame({word: word_count[word].values()}, index=word_count[word].keys())\n",
    "            df = df.sort_index()\n",
    "            df = df[(df.index >= '%d-01-01'%(year)) & (df.index < '%d-01-01'%(year+1))]\n",
    "#             print ret.loc[word]\n",
    "            ret.loc[word, year] = int(df[word].sum())\n",
    "#             print word, year, df[word].sum(), ret.loc[word]\n",
    "            break"
   ]
  },
  {
   "cell_type": "code",
   "execution_count": 137,
   "metadata": {
    "collapsed": false
   },
   "outputs": [
    {
     "data": {
      "text/html": [
       "<div>\n",
       "<style>\n",
       "    .dataframe thead tr:only-child th {\n",
       "        text-align: right;\n",
       "    }\n",
       "\n",
       "    .dataframe thead th {\n",
       "        text-align: left;\n",
       "    }\n",
       "\n",
       "    .dataframe tbody tr th {\n",
       "        vertical-align: top;\n",
       "    }\n",
       "</style>\n",
       "<table border=\"1\" class=\"dataframe\">\n",
       "  <thead>\n",
       "    <tr style=\"text-align: right;\">\n",
       "      <th></th>\n",
       "      <th>2014</th>\n",
       "      <th>2015</th>\n",
       "      <th>2016</th>\n",
       "      <th>2017</th>\n",
       "    </tr>\n",
       "  </thead>\n",
       "  <tbody>\n",
       "    <tr>\n",
       "      <th></th>\n",
       "      <td>NaN</td>\n",
       "      <td>NaN</td>\n",
       "      <td>NaN</td>\n",
       "      <td>NaN</td>\n",
       "    </tr>\n",
       "    <tr>\n",
       "      <th>rr</th>\n",
       "      <td>NaN</td>\n",
       "      <td>NaN</td>\n",
       "      <td>NaN</td>\n",
       "      <td>12004</td>\n",
       "    </tr>\n",
       "    <tr>\n",
       "      <th>习近平</th>\n",
       "      <td>NaN</td>\n",
       "      <td>NaN</td>\n",
       "      <td>NaN</td>\n",
       "      <td>NaN</td>\n",
       "    </tr>\n",
       "    <tr>\n",
       "      <th>发展</th>\n",
       "      <td>NaN</td>\n",
       "      <td>NaN</td>\n",
       "      <td>NaN</td>\n",
       "      <td>NaN</td>\n",
       "    </tr>\n",
       "    <tr>\n",
       "      <th>中国</th>\n",
       "      <td>NaN</td>\n",
       "      <td>NaN</td>\n",
       "      <td>NaN</td>\n",
       "      <td>NaN</td>\n",
       "    </tr>\n",
       "    <tr>\n",
       "      <th>合作</th>\n",
       "      <td>NaN</td>\n",
       "      <td>NaN</td>\n",
       "      <td>NaN</td>\n",
       "      <td>NaN</td>\n",
       "    </tr>\n",
       "    <tr>\n",
       "      <th>国家</th>\n",
       "      <td>NaN</td>\n",
       "      <td>NaN</td>\n",
       "      <td>NaN</td>\n",
       "      <td>NaN</td>\n",
       "    </tr>\n",
       "    <tr>\n",
       "      <th></th>\n",
       "      <td>NaN</td>\n",
       "      <td>NaN</td>\n",
       "      <td>NaN</td>\n",
       "      <td>NaN</td>\n",
       "    </tr>\n",
       "    <tr>\n",
       "      <th>建设</th>\n",
       "      <td>NaN</td>\n",
       "      <td>NaN</td>\n",
       "      <td>NaN</td>\n",
       "      <td>NaN</td>\n",
       "    </tr>\n",
       "    <tr>\n",
       "      <th>主席</th>\n",
       "      <td>NaN</td>\n",
       "      <td>NaN</td>\n",
       "      <td>NaN</td>\n",
       "      <td>NaN</td>\n",
       "    </tr>\n",
       "    <tr>\n",
       "      <th>工作</th>\n",
       "      <td>NaN</td>\n",
       "      <td>NaN</td>\n",
       "      <td>NaN</td>\n",
       "      <td>NaN</td>\n",
       "    </tr>\n",
       "    <tr>\n",
       "      <th>经济</th>\n",
       "      <td>NaN</td>\n",
       "      <td>NaN</td>\n",
       "      <td>NaN</td>\n",
       "      <td>NaN</td>\n",
       "    </tr>\n",
       "    <tr>\n",
       "      <th>全面</th>\n",
       "      <td>NaN</td>\n",
       "      <td>NaN</td>\n",
       "      <td>NaN</td>\n",
       "      <td>NaN</td>\n",
       "    </tr>\n",
       "    <tr>\n",
       "      <th>坚持</th>\n",
       "      <td>NaN</td>\n",
       "      <td>NaN</td>\n",
       "      <td>NaN</td>\n",
       "      <td>NaN</td>\n",
       "    </tr>\n",
       "    <tr>\n",
       "      <th>加强</th>\n",
       "      <td>NaN</td>\n",
       "      <td>NaN</td>\n",
       "      <td>NaN</td>\n",
       "      <td>NaN</td>\n",
       "    </tr>\n",
       "    <tr>\n",
       "      <th>重要</th>\n",
       "      <td>NaN</td>\n",
       "      <td>NaN</td>\n",
       "      <td>NaN</td>\n",
       "      <td>NaN</td>\n",
       "    </tr>\n",
       "    <tr>\n",
       "      <th>问题</th>\n",
       "      <td>NaN</td>\n",
       "      <td>NaN</td>\n",
       "      <td>NaN</td>\n",
       "      <td>NaN</td>\n",
       "    </tr>\n",
       "    <tr>\n",
       "      <th>推进</th>\n",
       "      <td>NaN</td>\n",
       "      <td>NaN</td>\n",
       "      <td>NaN</td>\n",
       "      <td>NaN</td>\n",
       "    </tr>\n",
       "    <tr>\n",
       "      <th>推动</th>\n",
       "      <td>NaN</td>\n",
       "      <td>NaN</td>\n",
       "      <td>NaN</td>\n",
       "      <td>NaN</td>\n",
       "    </tr>\n",
       "    <tr>\n",
       "      <th>改革</th>\n",
       "      <td>NaN</td>\n",
       "      <td>NaN</td>\n",
       "      <td>NaN</td>\n",
       "      <td>NaN</td>\n",
       "    </tr>\n",
       "    <tr>\n",
       "      <th>关系</th>\n",
       "      <td>NaN</td>\n",
       "      <td>NaN</td>\n",
       "      <td>NaN</td>\n",
       "      <td>NaN</td>\n",
       "    </tr>\n",
       "    <tr>\n",
       "      <th>共同</th>\n",
       "      <td>NaN</td>\n",
       "      <td>NaN</td>\n",
       "      <td>NaN</td>\n",
       "      <td>NaN</td>\n",
       "    </tr>\n",
       "    <tr>\n",
       "      <th>党</th>\n",
       "      <td>NaN</td>\n",
       "      <td>NaN</td>\n",
       "      <td>NaN</td>\n",
       "      <td>NaN</td>\n",
       "    </tr>\n",
       "    <tr>\n",
       "      <th>实现</th>\n",
       "      <td>NaN</td>\n",
       "      <td>NaN</td>\n",
       "      <td>NaN</td>\n",
       "      <td>NaN</td>\n",
       "    </tr>\n",
       "    <tr>\n",
       "      <th>世界</th>\n",
       "      <td>NaN</td>\n",
       "      <td>NaN</td>\n",
       "      <td>NaN</td>\n",
       "      <td>NaN</td>\n",
       "    </tr>\n",
       "    <tr>\n",
       "      <th>国际</th>\n",
       "      <td>NaN</td>\n",
       "      <td>NaN</td>\n",
       "      <td>NaN</td>\n",
       "      <td>NaN</td>\n",
       "    </tr>\n",
       "    <tr>\n",
       "      <th>创新</th>\n",
       "      <td>NaN</td>\n",
       "      <td>NaN</td>\n",
       "      <td>NaN</td>\n",
       "      <td>NaN</td>\n",
       "    </tr>\n",
       "    <tr>\n",
       "      <th>总书记</th>\n",
       "      <td>NaN</td>\n",
       "      <td>NaN</td>\n",
       "      <td>NaN</td>\n",
       "      <td>NaN</td>\n",
       "    </tr>\n",
       "    <tr>\n",
       "      <th>会议</th>\n",
       "      <td>NaN</td>\n",
       "      <td>NaN</td>\n",
       "      <td>NaN</td>\n",
       "      <td>NaN</td>\n",
       "    </tr>\n",
       "    <tr>\n",
       "      <th>强调</th>\n",
       "      <td>NaN</td>\n",
       "      <td>NaN</td>\n",
       "      <td>NaN</td>\n",
       "      <td>NaN</td>\n",
       "    </tr>\n",
       "    <tr>\n",
       "      <th>...</th>\n",
       "      <td>...</td>\n",
       "      <td>...</td>\n",
       "      <td>...</td>\n",
       "      <td>...</td>\n",
       "    </tr>\n",
       "    <tr>\n",
       "      <th>版</th>\n",
       "      <td>NaN</td>\n",
       "      <td>NaN</td>\n",
       "      <td>NaN</td>\n",
       "      <td>NaN</td>\n",
       "    </tr>\n",
       "    <tr>\n",
       "      <th>总理</th>\n",
       "      <td>NaN</td>\n",
       "      <td>NaN</td>\n",
       "      <td>NaN</td>\n",
       "      <td>NaN</td>\n",
       "    </tr>\n",
       "    <tr>\n",
       "      <th>保障</th>\n",
       "      <td>NaN</td>\n",
       "      <td>NaN</td>\n",
       "      <td>NaN</td>\n",
       "      <td>NaN</td>\n",
       "    </tr>\n",
       "    <tr>\n",
       "      <th>水平</th>\n",
       "      <td>NaN</td>\n",
       "      <td>NaN</td>\n",
       "      <td>NaN</td>\n",
       "      <td>NaN</td>\n",
       "    </tr>\n",
       "    <tr>\n",
       "      <th>…</th>\n",
       "      <td>NaN</td>\n",
       "      <td>NaN</td>\n",
       "      <td>NaN</td>\n",
       "      <td>NaN</td>\n",
       "    </tr>\n",
       "    <tr>\n",
       "      <th>中国共产党</th>\n",
       "      <td>NaN</td>\n",
       "      <td>NaN</td>\n",
       "      <td>NaN</td>\n",
       "      <td>NaN</td>\n",
       "    </tr>\n",
       "    <tr>\n",
       "      <th>金砖</th>\n",
       "      <td>NaN</td>\n",
       "      <td>NaN</td>\n",
       "      <td>NaN</td>\n",
       "      <td>NaN</td>\n",
       "    </tr>\n",
       "    <tr>\n",
       "      <th>需要</th>\n",
       "      <td>NaN</td>\n",
       "      <td>NaN</td>\n",
       "      <td>NaN</td>\n",
       "      <td>NaN</td>\n",
       "    </tr>\n",
       "    <tr>\n",
       "      <th>大会</th>\n",
       "      <td>NaN</td>\n",
       "      <td>NaN</td>\n",
       "      <td>NaN</td>\n",
       "      <td>NaN</td>\n",
       "    </tr>\n",
       "    <tr>\n",
       "      <th>特别</th>\n",
       "      <td>NaN</td>\n",
       "      <td>NaN</td>\n",
       "      <td>NaN</td>\n",
       "      <td>NaN</td>\n",
       "    </tr>\n",
       "    <tr>\n",
       "      <th>时代</th>\n",
       "      <td>NaN</td>\n",
       "      <td>NaN</td>\n",
       "      <td>NaN</td>\n",
       "      <td>NaN</td>\n",
       "    </tr>\n",
       "    <tr>\n",
       "      <th>复兴</th>\n",
       "      <td>NaN</td>\n",
       "      <td>NaN</td>\n",
       "      <td>NaN</td>\n",
       "      <td>NaN</td>\n",
       "    </tr>\n",
       "    <tr>\n",
       "      <th>应该</th>\n",
       "      <td>NaN</td>\n",
       "      <td>NaN</td>\n",
       "      <td>NaN</td>\n",
       "      <td>NaN</td>\n",
       "    </tr>\n",
       "    <tr>\n",
       "      <th>开放</th>\n",
       "      <td>NaN</td>\n",
       "      <td>NaN</td>\n",
       "      <td>NaN</td>\n",
       "      <td>NaN</td>\n",
       "    </tr>\n",
       "    <tr>\n",
       "      <th>新华网</th>\n",
       "      <td>NaN</td>\n",
       "      <td>NaN</td>\n",
       "      <td>NaN</td>\n",
       "      <td>NaN</td>\n",
       "    </tr>\n",
       "    <tr>\n",
       "      <th>友好</th>\n",
       "      <td>NaN</td>\n",
       "      <td>NaN</td>\n",
       "      <td>NaN</td>\n",
       "      <td>NaN</td>\n",
       "    </tr>\n",
       "    <tr>\n",
       "      <th>召开</th>\n",
       "      <td>NaN</td>\n",
       "      <td>NaN</td>\n",
       "      <td>NaN</td>\n",
       "      <td>NaN</td>\n",
       "    </tr>\n",
       "    <tr>\n",
       "      <th>亚洲</th>\n",
       "      <td>NaN</td>\n",
       "      <td>NaN</td>\n",
       "      <td>NaN</td>\n",
       "      <td>NaN</td>\n",
       "    </tr>\n",
       "    <tr>\n",
       "      <th>重要讲话</th>\n",
       "      <td>NaN</td>\n",
       "      <td>NaN</td>\n",
       "      <td>NaN</td>\n",
       "      <td>NaN</td>\n",
       "    </tr>\n",
       "    <tr>\n",
       "      <th>军队</th>\n",
       "      <td>NaN</td>\n",
       "      <td>NaN</td>\n",
       "      <td>NaN</td>\n",
       "      <td>NaN</td>\n",
       "    </tr>\n",
       "    <tr>\n",
       "      <th>当前</th>\n",
       "      <td>NaN</td>\n",
       "      <td>NaN</td>\n",
       "      <td>NaN</td>\n",
       "      <td>NaN</td>\n",
       "    </tr>\n",
       "    <tr>\n",
       "      <th>基础设施</th>\n",
       "      <td>NaN</td>\n",
       "      <td>NaN</td>\n",
       "      <td>NaN</td>\n",
       "      <td>NaN</td>\n",
       "    </tr>\n",
       "    <tr>\n",
       "      <th>投资</th>\n",
       "      <td>NaN</td>\n",
       "      <td>NaN</td>\n",
       "      <td>NaN</td>\n",
       "      <td>NaN</td>\n",
       "    </tr>\n",
       "    <tr>\n",
       "      <th>具有</th>\n",
       "      <td>NaN</td>\n",
       "      <td>NaN</td>\n",
       "      <td>NaN</td>\n",
       "      <td>NaN</td>\n",
       "    </tr>\n",
       "    <tr>\n",
       "      <th>更好</th>\n",
       "      <td>NaN</td>\n",
       "      <td>NaN</td>\n",
       "      <td>NaN</td>\n",
       "      <td>NaN</td>\n",
       "    </tr>\n",
       "    <tr>\n",
       "      <th>贡献</th>\n",
       "      <td>NaN</td>\n",
       "      <td>NaN</td>\n",
       "      <td>NaN</td>\n",
       "      <td>NaN</td>\n",
       "    </tr>\n",
       "    <tr>\n",
       "      <th>重点</th>\n",
       "      <td>NaN</td>\n",
       "      <td>NaN</td>\n",
       "      <td>NaN</td>\n",
       "      <td>NaN</td>\n",
       "    </tr>\n",
       "    <tr>\n",
       "      <th>市场</th>\n",
       "      <td>NaN</td>\n",
       "      <td>NaN</td>\n",
       "      <td>NaN</td>\n",
       "      <td>NaN</td>\n",
       "    </tr>\n",
       "    <tr>\n",
       "      <th>实施</th>\n",
       "      <td>NaN</td>\n",
       "      <td>NaN</td>\n",
       "      <td>NaN</td>\n",
       "      <td>NaN</td>\n",
       "    </tr>\n",
       "    <tr>\n",
       "      <th>周年</th>\n",
       "      <td>NaN</td>\n",
       "      <td>NaN</td>\n",
       "      <td>NaN</td>\n",
       "      <td>NaN</td>\n",
       "    </tr>\n",
       "  </tbody>\n",
       "</table>\n",
       "<p>200 rows × 4 columns</p>\n",
       "</div>"
      ],
      "text/plain": [
       "      2014 2015 2016   2017\n",
       "       NaN  NaN  NaN    NaN\n",
       "rr     NaN  NaN  NaN  12004\n",
       "习近平    NaN  NaN  NaN    NaN\n",
       "发展     NaN  NaN  NaN    NaN\n",
       "中国     NaN  NaN  NaN    NaN\n",
       "合作     NaN  NaN  NaN    NaN\n",
       "国家     NaN  NaN  NaN    NaN\n",
       "       NaN  NaN  NaN    NaN\n",
       "建设     NaN  NaN  NaN    NaN\n",
       "主席     NaN  NaN  NaN    NaN\n",
       "工作     NaN  NaN  NaN    NaN\n",
       "经济     NaN  NaN  NaN    NaN\n",
       "全面     NaN  NaN  NaN    NaN\n",
       "坚持     NaN  NaN  NaN    NaN\n",
       "加强     NaN  NaN  NaN    NaN\n",
       "重要     NaN  NaN  NaN    NaN\n",
       "问题     NaN  NaN  NaN    NaN\n",
       "推进     NaN  NaN  NaN    NaN\n",
       "推动     NaN  NaN  NaN    NaN\n",
       "改革     NaN  NaN  NaN    NaN\n",
       "关系     NaN  NaN  NaN    NaN\n",
       "共同     NaN  NaN  NaN    NaN\n",
       "党      NaN  NaN  NaN    NaN\n",
       "实现     NaN  NaN  NaN    NaN\n",
       "世界     NaN  NaN  NaN    NaN\n",
       "国际     NaN  NaN  NaN    NaN\n",
       "创新     NaN  NaN  NaN    NaN\n",
       "总书记    NaN  NaN  NaN    NaN\n",
       "会议     NaN  NaN  NaN    NaN\n",
       "强调     NaN  NaN  NaN    NaN\n",
       "...    ...  ...  ...    ...\n",
       "版      NaN  NaN  NaN    NaN\n",
       "总理     NaN  NaN  NaN    NaN\n",
       "保障     NaN  NaN  NaN    NaN\n",
       "水平     NaN  NaN  NaN    NaN\n",
       "…      NaN  NaN  NaN    NaN\n",
       "中国共产党  NaN  NaN  NaN    NaN\n",
       "金砖     NaN  NaN  NaN    NaN\n",
       "需要     NaN  NaN  NaN    NaN\n",
       "大会     NaN  NaN  NaN    NaN\n",
       "特别     NaN  NaN  NaN    NaN\n",
       "时代     NaN  NaN  NaN    NaN\n",
       "复兴     NaN  NaN  NaN    NaN\n",
       "应该     NaN  NaN  NaN    NaN\n",
       "开放     NaN  NaN  NaN    NaN\n",
       "新华网    NaN  NaN  NaN    NaN\n",
       "友好     NaN  NaN  NaN    NaN\n",
       "召开     NaN  NaN  NaN    NaN\n",
       "亚洲     NaN  NaN  NaN    NaN\n",
       "重要讲话   NaN  NaN  NaN    NaN\n",
       "军队     NaN  NaN  NaN    NaN\n",
       "当前     NaN  NaN  NaN    NaN\n",
       "基础设施   NaN  NaN  NaN    NaN\n",
       "投资     NaN  NaN  NaN    NaN\n",
       "具有     NaN  NaN  NaN    NaN\n",
       "更好     NaN  NaN  NaN    NaN\n",
       "贡献     NaN  NaN  NaN    NaN\n",
       "重点     NaN  NaN  NaN    NaN\n",
       "市场     NaN  NaN  NaN    NaN\n",
       "实施     NaN  NaN  NaN    NaN\n",
       "周年     NaN  NaN  NaN    NaN\n",
       "\n",
       "[200 rows x 4 columns]"
      ]
     },
     "execution_count": 137,
     "metadata": {},
     "output_type": "execute_result"
    }
   ],
   "source": [
    "ret"
   ]
  },
  {
   "cell_type": "code",
   "execution_count": null,
   "metadata": {
    "collapsed": true
   },
   "outputs": [],
   "source": []
  }
 ],
 "metadata": {
  "anaconda-cloud": {},
  "kernelspec": {
   "display_name": "Python [default]",
   "language": "python",
   "name": "python2"
  },
  "language_info": {
   "codemirror_mode": {
    "name": "ipython",
    "version": 2
   },
   "file_extension": ".py",
   "mimetype": "text/x-python",
   "name": "python",
   "nbconvert_exporter": "python",
   "pygments_lexer": "ipython2",
   "version": "2.7.12"
  }
 },
 "nbformat": 4,
 "nbformat_minor": 1
}
