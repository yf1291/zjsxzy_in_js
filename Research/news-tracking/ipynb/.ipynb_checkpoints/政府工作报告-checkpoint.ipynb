{
 "cells": [
  {
   "cell_type": "code",
   "execution_count": 31,
   "metadata": {
    "collapsed": true
   },
   "outputs": [],
   "source": [
    "import requests\n",
    "from bs4 import BeautifulSoup\n",
    "import jieba\n",
    "import os\n",
    "import pandas as pd\n",
    "from sklearn.feature_extraction.text import TfidfVectorizer, CountVectorizer"
   ]
  },
  {
   "cell_type": "code",
   "execution_count": 6,
   "metadata": {
    "collapsed": true
   },
   "outputs": [],
   "source": [
    "with open('./stop_words_zh.txt', 'r') as f:\n",
    "    stop_words = set([line.strip() for line in f.readlines()])"
   ]
  },
  {
   "cell_type": "code",
   "execution_count": 2,
   "metadata": {
    "collapsed": true
   },
   "outputs": [],
   "source": [
    "DATA_DIR = u'D:/Data/政府工作报告/'"
   ]
  },
  {
   "cell_type": "code",
   "execution_count": 53,
   "metadata": {
    "collapsed": true
   },
   "outputs": [],
   "source": [
    "files = [f for f in os.listdir(DATA_DIR) if f.endswith('.txt')]"
   ]
  },
  {
   "cell_type": "code",
   "execution_count": 54,
   "metadata": {
    "collapsed": false
   },
   "outputs": [
    {
     "name": "stdout",
     "output_type": "stream",
     "text": [
      "1991年国务院政府工作报告.txt\n"
     ]
    }
   ],
   "source": [
    "print files[0]"
   ]
  },
  {
   "cell_type": "code",
   "execution_count": 72,
   "metadata": {
    "collapsed": false
   },
   "outputs": [
    {
     "name": "stdout",
     "output_type": "stream",
     "text": [
      "1991年国务院政府工作报告.txt\n",
      "1992年国务院政府工作报告.txt\n",
      "1993年国务院政府工作报告.txt\n",
      "1994年国务院政府工作报告.txt\n",
      "1995年国务院政府工作报告.txt\n",
      "1996年国务院政府工作报告.txt\n",
      "1997年国务院政府工作报告.txt\n",
      "1998年国务院政府工作报告.txt\n",
      "1999年国务院政府工作报告.txt\n",
      "2000年国务院政府工作报告.txt\n",
      "2001年国务院政府工作报告.txt\n",
      "2002年国务院政府工作报告.txt\n",
      "2003年国务院政府工作报告.txt\n",
      "2004年国务院政府工作报告.txt\n",
      "2005年国务院政府工作报告.txt\n",
      "2006年国务院政府工作报告.txt\n",
      "2007年国务院政府工作报告.txt\n",
      "2008年国务院政府工作报告.txt\n",
      "2009年国务院政府工作报告.txt\n",
      "2010年国务院政府工作报告.txt\n",
      "2011年国务院政府工作报告.txt\n",
      "2012年国务院政府工作报告.txt\n",
      "2013年国务院政府工作报告.txt\n",
      "2014李克强总理作政府工作报告（文字实录）.txt\n",
      "2015政府工作报告（全文）.txt\n",
      "2016李克强作政府工作报告（文字实录）+.txt\n",
      "2017年李克强作政府工作报告（2017-03-05）.txt\n"
     ]
    }
   ],
   "source": [
    "data_samples = []\n",
    "for f in files:\n",
    "    fname = '%s/%s'%(DATA_DIR, f)\n",
    "    year = f[:4]\n",
    "    print f\n",
    "    with open(fname, 'r') as f:\n",
    "        text = f.readlines()\n",
    "#     print ''.join(text).decode('gb2312')[80:83]\n",
    "    content = ''.join(text).decode('gb18030').replace('\\n', '').replace('\\t', '')\n",
    "    seg_list = jieba.cut(content)\n",
    "    seg_list = [w for w in seg_list if w.encode('utf-8') not in stop_words]\n",
    "    data_samples.append(' '.join(seg_list))"
   ]
  },
  {
   "cell_type": "code",
   "execution_count": 73,
   "metadata": {
    "collapsed": false
   },
   "outputs": [
    {
     "data": {
      "text/plain": [
       "27"
      ]
     },
     "execution_count": 73,
     "metadata": {},
     "output_type": "execute_result"
    }
   ],
   "source": [
    "len(data_samples)"
   ]
  },
  {
   "cell_type": "code",
   "execution_count": 134,
   "metadata": {
    "collapsed": false
   },
   "outputs": [],
   "source": [
    "tf_vectorizer = CountVectorizer(max_features=100)"
   ]
  },
  {
   "cell_type": "code",
   "execution_count": 135,
   "metadata": {
    "collapsed": false
   },
   "outputs": [],
   "source": [
    "tf = tf_vectorizer.fit_transform(data_samples)"
   ]
  },
  {
   "cell_type": "code",
   "execution_count": 136,
   "metadata": {
    "collapsed": false
   },
   "outputs": [
    {
     "name": "stdout",
     "output_type": "stream",
     "text": [
      "科技 80\n",
      "积极 81\n",
      "稳定 82\n",
      "管理 83\n",
      "经济 84\n",
      "结构 85\n",
      "继续 86\n",
      "维护 87\n",
      "群众 88\n",
      "能力 89\n",
      "规范 90\n",
      "解决 91\n",
      "试点 92\n",
      "调整 93\n",
      "进一步 94\n",
      "重大 95\n",
      "重点 96\n",
      "重要 97\n",
      "问题 98\n",
      "鼓励 99\n"
     ]
    }
   ],
   "source": [
    "for w in tf_vectorizer.get_feature_names()[-20:]:\n",
    "    print w, tf_vectorizer.vocabulary_[w]"
   ]
  },
  {
   "cell_type": "code",
   "execution_count": 137,
   "metadata": {
    "collapsed": true
   },
   "outputs": [],
   "source": [
    "pd.DataFrame(tf.todense(), index=range(1991,2018), columns=tf_vectorizer.get_feature_names()).to_excel('D:/Data/gov_count.xlsx')"
   ]
  },
  {
   "cell_type": "code",
   "execution_count": 138,
   "metadata": {
    "collapsed": false
   },
   "outputs": [],
   "source": [
    "tfidf_vectorizer = TfidfVectorizer(max_features=100)"
   ]
  },
  {
   "cell_type": "code",
   "execution_count": 139,
   "metadata": {
    "collapsed": false
   },
   "outputs": [],
   "source": [
    "tfidf = tfidf_vectorizer.fit_transform(data_samples)"
   ]
  },
  {
   "cell_type": "code",
   "execution_count": 141,
   "metadata": {
    "collapsed": false
   },
   "outputs": [],
   "source": [
    "pd.DataFrame(tfidf.todense(), index=range(1991,2018), columns=tf_vectorizer.get_feature_names()).to_excel('D:/Data/gov.xlsx')"
   ]
  },
  {
   "cell_type": "code",
   "execution_count": null,
   "metadata": {
    "collapsed": true
   },
   "outputs": [],
   "source": []
  }
 ],
 "metadata": {
  "anaconda-cloud": {},
  "kernelspec": {
   "display_name": "Python [default]",
   "language": "python",
   "name": "python2"
  },
  "language_info": {
   "codemirror_mode": {
    "name": "ipython",
    "version": 2
   },
   "file_extension": ".py",
   "mimetype": "text/x-python",
   "name": "python",
   "nbconvert_exporter": "python",
   "pygments_lexer": "ipython2",
   "version": "2.7.12"
  }
 },
 "nbformat": 4,
 "nbformat_minor": 1
}
