{
 "cells": [
  {
   "cell_type": "code",
   "execution_count": 102,
   "metadata": {
    "collapsed": false
   },
   "outputs": [
    {
     "name": "stderr",
     "output_type": "stream",
     "text": [
      "C:\\Program Files\\Anaconda2\\lib\\site-packages\\gensim\\utils.py:865: UserWarning: detected Windows; aliasing chunkize to chunkize_serial\n",
      "  warnings.warn(\"detected Windows; aliasing chunkize to chunkize_serial\")\n"
     ]
    }
   ],
   "source": [
    "import jieba\n",
    "import os\n",
    "import datetime\n",
    "import pandas as pd\n",
    "import gensim\n",
    "# from textrank4zh import TextRank4Keyword, TextRank4Sentence"
   ]
  },
  {
   "cell_type": "code",
   "execution_count": null,
   "metadata": {
    "collapsed": true
   },
   "outputs": [],
   "source": [
    "with open(u'D:/Data/词检索/text.txt', 'r') as f:\n",
    "    content = f.readlines()"
   ]
  },
  {
   "cell_type": "code",
   "execution_count": 165,
   "metadata": {
    "collapsed": false
   },
   "outputs": [],
   "source": [
    "dic = {}\n",
    "for text in content:\n",
    "    text = text.decode('utf-8')\n",
    "    words = text.split(' ')\n",
    "    position = [i for (i, w) in enumerate(words) if w == u'国家战略']\n",
    "    select_words = []\n",
    "    length = len(words)\n",
    "    for p in position:\n",
    "        select_words += [words[i] for i in range(max(0, p-10), min(p+10, length)) if words[i] != '']\n",
    "    for w in select_words:\n",
    "        if not dic.has_key(w):\n",
    "            dic[w] = 0\n",
    "        dic[w] += 1"
   ]
  },
  {
   "cell_type": "code",
   "execution_count": 167,
   "metadata": {
    "collapsed": false
   },
   "outputs": [],
   "source": [
    "sort_dic = sorted(dic.items(), key=lambda x: x[1], reverse=True)"
   ]
  },
  {
   "cell_type": "code",
   "execution_count": 169,
   "metadata": {
    "collapsed": false
   },
   "outputs": [
    {
     "name": "stdout",
     "output_type": "stream",
     "text": [
      "国家战略 2619\n",
      "发展 1265\n",
      "一带 447\n",
      "一路 444\n",
      "服务 429\n",
      "建设 393\n",
      "中国 353\n",
      "国家 351\n",
      "京津冀 344\n",
      "上升 341\n",
      "创新 324\n",
      "协同 321\n",
      "经济 275\n",
      "推进 266\n",
      "重大 266\n",
      "战略 237\n",
      "重要 235\n",
      "融合 219\n",
      "实施 212\n",
      "长江 190\n",
      "经济带 189\n",
      "科技 179\n",
      "产业 178\n",
      "推动 178\n",
      "军民 176\n",
      "规划 175\n",
      "成为 171\n",
      "安全 148\n",
      "工作 148\n",
      "需求 147\n",
      "我国 145\n",
      "市场 144\n",
      "健康 144\n",
      "支持 143\n",
      "企业 143\n",
      "领域 141\n",
      "金融 140\n",
      "加强 136\n",
      "改革 129\n",
      "提升 129\n",
      "提出 129\n",
      "重点 124\n",
      "加快 115\n",
      "国际 115\n",
      "高度 115\n",
      "层面 113\n",
      "全民 113\n",
      "实现 112\n",
      "需要 111\n",
      "区域 111\n",
      "合作 108\n",
      "行业 105\n",
      "政策 103\n",
      "促进 101\n",
      "政府 94\n",
      "项目 93\n",
      "制造 91\n",
      "健身 89\n",
      "对接 87\n",
      "落实 87\n",
      "习近平 86\n",
      "互联网 84\n",
      "地区 83\n",
      "布局 82\n",
      "开放 79\n",
      "围绕 78\n",
      "十三 76\n",
      "目标 76\n",
      "保障 76\n",
      "作用 75\n",
      "相关 75\n",
      "中央 74\n",
      "进一步 74\n",
      "体现 74\n",
      "全球 74\n",
      "积极 73\n",
      "核心 73\n",
      "要求 72\n",
      "投资 72\n",
      "坚持 72\n",
      "能力 72\n",
      "强调 72\n",
      "全面 70\n",
      "未来 70\n",
      "机遇 70\n",
      "提供 69\n",
      "优势 68\n",
      "资源 68\n",
      " 67\n",
      "北京 66\n",
      "中心 66\n",
      "指出 65\n",
      "发挥 65\n",
      "增长 64\n",
      "方面 64\n",
      "一体化 64\n",
      "提高 63\n",
      "走 63\n",
      "说 63\n",
      "体系 62\n"
     ]
    }
   ],
   "source": [
    "for w, c in sort_dic[:100]:\n",
    "    print w, c"
   ]
  },
  {
   "cell_type": "code",
   "execution_count": 170,
   "metadata": {
    "collapsed": true
   },
   "outputs": [],
   "source": [
    "df = pd.DataFrame(sort_dic)"
   ]
  },
  {
   "cell_type": "code",
   "execution_count": 172,
   "metadata": {
    "collapsed": false
   },
   "outputs": [],
   "source": [
    "df.columns = ['word', 'count']"
   ]
  },
  {
   "cell_type": "code",
   "execution_count": 173,
   "metadata": {
    "collapsed": true
   },
   "outputs": [],
   "source": [
    "df.to_excel(u'D:/Data/词检索/国家战略.xlsx', encoding='utf-8', index=False)"
   ]
  },
  {
   "cell_type": "code",
   "execution_count": null,
   "metadata": {
    "collapsed": true
   },
   "outputs": [],
   "source": []
  }
 ],
 "metadata": {
  "anaconda-cloud": {},
  "kernelspec": {
   "display_name": "Python [default]",
   "language": "python",
   "name": "python2"
  },
  "language_info": {
   "codemirror_mode": {
    "name": "ipython",
    "version": 2
   },
   "file_extension": ".py",
   "mimetype": "text/x-python",
   "name": "python",
   "nbconvert_exporter": "python",
   "pygments_lexer": "ipython2",
   "version": "2.7.12"
  }
 },
 "nbformat": 4,
 "nbformat_minor": 1
}
