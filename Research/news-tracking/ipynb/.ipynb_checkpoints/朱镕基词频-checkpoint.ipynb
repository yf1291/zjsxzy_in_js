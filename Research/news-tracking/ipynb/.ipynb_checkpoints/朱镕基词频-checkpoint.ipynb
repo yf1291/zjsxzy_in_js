{
 "cells": [
  {
   "cell_type": "code",
   "execution_count": 190,
   "metadata": {
    "collapsed": false
   },
   "outputs": [],
   "source": [
    "import jieba\n",
    "import codecs\n",
    "import jieba.posseg as pseg\n",
    "import gensim\n",
    "import datetime\n",
    "import os\n",
    "import pandas as pd\n",
    "import numpy as np\n",
    "from sklearn.cluster import DBSCAN\n",
    "from sklearn.preprocessing import StandardScaler\n",
    "from sklearn.datasets.samples_generator import make_blobs\n",
    "import matplotlib.pyplot as plt\n",
    "from sklearn.cluster import KMeans\n",
    "from sklearn.cluster import AgglomerativeClustering\n",
    "%matplotlib inline"
   ]
  },
  {
   "cell_type": "code",
   "execution_count": 2,
   "metadata": {
    "collapsed": true
   },
   "outputs": [],
   "source": [
    "files = [f for f in os.listdir(u'D:Data/词库')]"
   ]
  },
  {
   "cell_type": "code",
   "execution_count": 3,
   "metadata": {
    "collapsed": true
   },
   "outputs": [],
   "source": [
    "words = []\n",
    "for f in files:\n",
    "    with open(u'D:Data/词库/%s'%(f), 'r') as f:\n",
    "        twords = f.readlines()\n",
    "    words += twords"
   ]
  },
  {
   "cell_type": "code",
   "execution_count": 4,
   "metadata": {
    "collapsed": false
   },
   "outputs": [],
   "source": [
    "words = [word.replace('\\t', ' ') for word in words]"
   ]
  },
  {
   "cell_type": "code",
   "execution_count": 5,
   "metadata": {
    "collapsed": true
   },
   "outputs": [],
   "source": [
    "with open('D:Data/dict.txt', 'w') as f:\n",
    "    f.write(''.join(words))"
   ]
  },
  {
   "cell_type": "code",
   "execution_count": 6,
   "metadata": {
    "collapsed": false
   },
   "outputs": [
    {
     "name": "stderr",
     "output_type": "stream",
     "text": [
      "Building prefix dict from the default dictionary ...\n",
      "Loading model from cache c:\\users\\jgtzsx01\\appdata\\local\\temp\\jieba.cache\n",
      "Loading model cost 1.420 seconds.\n",
      "Prefix dict has been built succesfully.\n"
     ]
    }
   ],
   "source": [
    "jieba.load_userdict('D:Data/dict.txt')"
   ]
  },
  {
   "cell_type": "code",
   "execution_count": 7,
   "metadata": {
    "collapsed": true
   },
   "outputs": [],
   "source": [
    "fname = u'D:Data/朱镕基答记者问.txt'\n",
    "DATA_DIR = u'D:Data/朱镕基答记者问/'"
   ]
  },
  {
   "cell_type": "code",
   "execution_count": 8,
   "metadata": {
    "collapsed": false
   },
   "outputs": [
    {
     "name": "stderr",
     "output_type": "stream",
     "text": [
      "C:\\Users\\jgtzsx01\\AppData\\Local\\Continuum\\Anaconda2\\lib\\site-packages\\ipykernel\\__main__.py:2: UnicodeWarning: Unicode unequal comparison failed to convert both arguments to Unicode - interpreting them as being unequal\n",
      "  from ipykernel import kernelapp as app\n"
     ]
    }
   ],
   "source": [
    "with open(fname, 'r') as f:\n",
    "    text = [line.decode('gbk').rstrip() for line in f.readlines() if line != u'\\n']"
   ]
  },
  {
   "cell_type": "code",
   "execution_count": 9,
   "metadata": {
    "collapsed": false
   },
   "outputs": [
    {
     "name": "stdout",
     "output_type": "stream",
     "text": [
      "2001-9-6\n",
      "1993-5-6\n",
      "2001-10-22\n",
      "2000-10-14\n",
      "2002-8-21\n",
      "2000-9-21\n",
      "1999-4-2\n",
      "1994-1-15\n",
      "1999-4-9\n",
      "1999-4-13\n",
      "2000-10-8\n",
      "2000-9-21\n",
      "1996-2-3\n",
      "2000-6-21\n",
      "2002-4-21\n",
      "2001-5-12\n",
      "2000-10-16\n",
      "2001-9-10\n",
      "2002-9-27\n",
      "2002-9-28\n",
      "2002-9-28\n",
      "1999-11-27\n",
      "2002-8-31\n",
      "2002-8-31\n",
      "2002-9-3\n",
      "2002-9-6\n",
      "2002-9-6\n",
      "1999-4-13\n",
      "2001-5-18\n",
      "2001-5-18\n",
      "1997-9-22\n",
      "1999-12-1\n",
      "1999-12-1\n"
     ]
    }
   ],
   "source": [
    "date = ''\n",
    "content = []\n",
    "for line in text:\n",
    "    if line[0] == u'（' and line[-1] == u'）':\n",
    "        if line.find(u'年') != -1 and line.find(u'月') != -1:\n",
    "            line = line[1:line.find(u'日')+1]\n",
    "            line = line.replace(u'年', '-').replace(u'月', '-').replace(u'日', '')\n",
    "            if date != '':\n",
    "                print date\n",
    "                with open(u'%s/%s.txt'%(DATA_DIR, date), 'w') as f:\n",
    "                    f.write('\\n'.join(content).encode('utf-8'))\n",
    "            date = line\n",
    "            content = []\n",
    "    content.append(line)\n",
    "with open(u'%s/%s.txt'%(DATA_DIR, date), 'w') as f:\n",
    "    f.write('\\n'.join(content).encode('utf-8'))"
   ]
  },
  {
   "cell_type": "code",
   "execution_count": 10,
   "metadata": {
    "collapsed": true
   },
   "outputs": [],
   "source": [
    "files = [f for f in os.listdir(DATA_DIR)]"
   ]
  },
  {
   "cell_type": "code",
   "execution_count": 11,
   "metadata": {
    "collapsed": false
   },
   "outputs": [
    {
     "data": {
      "text/plain": [
       "u'1993-5-6.txt'"
      ]
     },
     "execution_count": 11,
     "metadata": {},
     "output_type": "execute_result"
    }
   ],
   "source": [
    "files[0]"
   ]
  },
  {
   "cell_type": "code",
   "execution_count": 12,
   "metadata": {
    "collapsed": true
   },
   "outputs": [],
   "source": [
    "with open(u'%s/%s'%(DATA_DIR, files[0]), 'r') as f:\n",
    "    text = [line for line in f.readlines()]"
   ]
  },
  {
   "cell_type": "code",
   "execution_count": 13,
   "metadata": {
    "collapsed": false
   },
   "outputs": [],
   "source": [
    "text = [line for line in text if line.decode('utf-8').startswith(u'朱镕基')]"
   ]
  },
  {
   "cell_type": "code",
   "execution_count": 14,
   "metadata": {
    "collapsed": false
   },
   "outputs": [],
   "source": [
    "content = ' '.join(text)"
   ]
  },
  {
   "cell_type": "code",
   "execution_count": 15,
   "metadata": {
    "collapsed": false
   },
   "outputs": [
    {
     "name": "stdout",
     "output_type": "stream",
     "text": [
      "朱镕基：谢谢你的关心。我可以告诉你，李鹏总理正在康复。事实上，我几乎与他同时得了感冒。因此我也不想显示自己身体很好，我也感冒了。可能是因为最近北京天气变化太大，忽冷忽热的。如果医生建议我休息，我也很乐意，但是我还得坐在这里接受这次采访。今天上午，我已经说了近两个半小时的话，现在嗓子还很难受。\n",
      " 朱镕基：去年，中国国民经济进入快速增长期，我们的国内生产总值以超过12%的速度增长。相比前几年较低的增速，这一速度确实比较快。我认为，今年我们还会保持较快的增速，但不会超过12%。这一时期世界经济衰退，一些国家经济不景气，而中国经济增长如此之快，很自然地会引起国外人士的关注。有人说中国创造了一个奇迹，有很大的潜力进一步发展；但也有人认为中国的发展速度太快了，经济发展过热。\n",
      " 朱镕基：现在存在各种各样的预测，我每天都能听到很多。我认为，中国的经济发展速度会逐渐放慢一点。去年经济快速增长有赖于前10年的成功积累，也是前几年经济治理整顿的必然结果。通过治理整顿，我们得以厚积薄发。\n",
      " 朱镕基：我们非常重视国外著名的经济学家和国际金融组织的专家提出的建议与警告。我们正努力预防再度出现经济过热。我可以向你保证，在这一点上，中国的党和政府领导人有着清醒的头脑，并对这一趋势保持警惕。\n",
      " 朱镕基：我并不是指整个中国一点儿都不存在经济过热的迹象。事实上，某些地区和某些行业还是出现了过热的迹象。在沿海地区，在开发区建设、房地产业以及证券发行方面都出现了一定程度的过热。在部分地区，当地政府甚至在尚未确定能否吸引到足够的国外投资的情况下，就把大片土地划为新的开发区。有些地方还建造了许多豪华别墅和旅游景观。这种大规模扩建显然超出了实际需要。\n",
      " 朱镕基：1990年，当我还是上海市长的时候，一名德国的企业家到上海来拜访我，他也是个政治家，他当时很兴奋地告诉我说德国已经实现了统一，并且很快就将成为世界上最强大的经济体。他说，德国东部会迅速发展并赶上西部。我回答说：“别高兴得太早了，我想我比你更了解德国东部的情况。中国和民主德国都曾实行过社会主义计划经济，两国都发展相同类型的国有企业。”\n",
      " 朱镕基：这就表明竞争有多么的不公平。我们把这种公司叫做“冒牌外商”，名义上是外资公司，实质上却是中资公司。这些公司先到境外去，然后又回来。我当然不认可这种有失公平的做法，但我也的确没有办法阻止它们这样做，因为我们的法律允许并提供这样的有利条件。我们现在发展的是社会主义市场经济，所以我们无法把它们拒之门外，或者是不让它们回来。\n",
      " 朱镕基：最大的差别在于，我们仍坚持公有制在国民经济中占据主体地位。我们与那些社会民主党人的观点不同。中国仍处在前所未有的探索过程之中，目的是要发展高效的社会主义市场经济。自1949年取得革命胜利以来，中国为探索发展国民经济的途径进行了各种尝试。开始是依照苏联模式，试图建立社会主义计划经济体制。当然，我们不是机械地照搬苏联模式，而是发展中国特色的计划经济。经过多年尝试，我们发现这种模式带来了很多问题，甚至滋长了平均主义，也就是我们所说的吃“大锅饭”。这显然不能保持经济高速、持续的增长。直到1978年邓小平同志提出改革开放政策和建设有中国特色社会主义理论，我们才开始寻找自己的发展模式。我们既要继续保持公有制在国民经济中的主体地位，也要实现经济高效发展；与此同时，还要保证社会公正。我们相信这种模式是可行的，尽管此前没有人这么尝试过。我们不会照搬其他党派或国家的做法，我们目前努力建立的这种模式有着鲜明的中国特色。\n",
      " 朱镕基：我们充分参考了新加坡和日本的发展经验；事实上，也借鉴了它们的经验。但是，中国与它们有很大的差别。中国是一个大国，而新加坡很小；中国有着庞大的农村人口，而新加坡没有。两者没有可比性。另外，新加坡的经济发展完全依靠外部资源，而中国不得不主要依靠自给自足。但新加坡的经验在很多方面都颇有参考价值，如城市发展、开发区建设、金融和旅游业发展等。\n",
      " 朱镕基：产生这种担心的原因有两点。首先，可能很多人并不真正了解中国，对中国的情况知道得不多。他们只是凭历史教训得出这一结论：有的国家经济发展了就会走向扩张。有太多这样的例子，因此他们会有这种担心。但是，好好看一下中国的情况你就会发现，中国的经济还不发达，我们仍是一个发展中国家。尽管我们的经济增长速度较快，但经济总量还相对较少；尽管中国正在发展，可我们还有很长的路要走。看一看历史就知道，中国过去饱受列强欺凌，而从来没有欺凌过任何国家。即便中国在很久以后经济发展了、强大了，我们也将继续致力于维护世界的和平，永远不会对他人构成威胁。其次，这种担心是那些别有用心、对中国不友好的人散布的。总之，中国不是也绝不会成为这样的威胁。\n",
      " 朱镕基：人浮于事是国有企业面临的一个重大问题。大体上讲，要保证国有企业正常运转，只留现有人数的三分之一就够了，剩下那三分之二是富余的。然而，我们不能简单地把他们赶到大街上去，形成一支失业大军。那样会影响社会稳定。如果让他们靠社会保障生活，会使国家背上沉重的包袱。即便是在西方发达国家，社会保障也已成为政府的沉重负担。去年，我访问了北欧，几乎每个跟我谈话的人都抱怨他们再也承担不起这样一笔巨大的开支。所以，这样做也会给中国带来问题。因此，我们正在尝试用其他办法解决这个问题。即便一个岗位不需要某个职工了，他也不会被企业赶走，他可以转到其他岗位上继续工作。企业有责任对他的工作作出一个合理的安排。此外，中国的第三产业还很不发达，因而企业还可以在商业和服务业领域开展经营活动，安排一些职工就业。这就是我们所说的“离岗不离职”。\n",
      " 朱镕基：在世界贸易中，我们只占很小的比例，大约是2%或3%。虽然我们的贸易总额有1000亿美元，但其中相当一部分是由海外投资者通过香港创造的。正如你所指出的那样，中国国有企业的产品质量和竞争力都比不上外资企业。因此，中国出口的相当一部分产品是由外资企业生产的。现在，美国人和欧洲人都在抱怨对华贸易存在逆差的问题。实际上，他们不应该责怪中国，而是要怪他们自己的企业，是这些企业导致了如此之大的逆差。因为我们有越来越多的产品通过香港进行转口贸易，所以美国人和欧洲人将这部分出口都算做是中国的出口，事实是大部分收益并没有装进中国的口袋里。每100美元利润中，我们只能拿到2美元，剩下的98美元都被美国、日本和英国在香港的公司赚走了。\n",
      " 朱镕基：他做的一切都是出于自己的利益。\n",
      " 朱镕基：人民币终将成为一种完全可兑换的货币，但这恐怕还需要时间，因为条件还不成熟。我认为目前的人民币官方汇率是实事求是的，也与外汇收入和出口额的比例相符。关于外汇调剂中心的高汇率，我认为那种汇率水平是不正常的，也是不能长期维持的。现在外汇调剂中心的汇率这么高，这是由于很多暂时性的因素造成的。第一，当所有人都想快速发展经济时，对外汇的需求量就增大了。第二，大量的外资企业本应出口它们的产品，却在中国进行销售。为了保持外汇平衡，它们去外汇调剂中心获取外汇，这也抬高了对外汇的需求。第三，那些认为人民币不久将进一步贬值的人正在进行投机买卖，造成外汇调剂中心的高汇率。然而在我看来，人民币官方汇率将保持相对稳定，供求将在一段时间后达到平衡。\n",
      " 朱镕基：的确，在中国为建立市场经济体制而不断扩大对外开放的同时，外界对它的影响也在增加。在这方面，东西方文化从某种意义上来说有着冲突，东西方的道德观念也有不同。因此，在一些人，特别是年轻人中间出现了一些问题。此外，我们还有腐败的问题。但党和政府十分重视对人民的政治教育，即爱国主义教育、中华民族传统美德教育、中国优秀文化教育，当然，还有社会主义理念的教育等。这才是中国社会的主流。\n",
      " 朱镕基：我建议德国企业界对中国经济的发展保持信心。我必须再次强调，中国的经济并不像有些人所说的那样出现过热，对这种可能性我们保持着清醒的头脑。我们不想发展得太快，谁也不必对中国发展放缓感到惊讶。我相信我们能保持8%到9%的增长率，那就很了不起了。\n",
      "\n"
     ]
    }
   ],
   "source": [
    "print content"
   ]
  },
  {
   "cell_type": "code",
   "execution_count": 16,
   "metadata": {
    "collapsed": false
   },
   "outputs": [],
   "source": [
    "seg_list = pseg.cut(content)\n",
    "words = [word for word, t in seg_list]"
   ]
  },
  {
   "cell_type": "code",
   "execution_count": 17,
   "metadata": {
    "collapsed": false
   },
   "outputs": [
    {
     "name": "stdout",
     "output_type": "stream",
     "text": [
      "朱镕基\n",
      "：\n",
      "谢谢\n",
      "你\n",
      "的\n",
      "关心\n",
      "。\n",
      "我\n",
      "可以\n",
      "告诉\n",
      "你\n",
      "，\n",
      "李鹏\n",
      "总理\n",
      "正在\n",
      "康复\n",
      "。\n",
      "事实上\n",
      "，\n",
      "我\n"
     ]
    }
   ],
   "source": [
    "for word in words[:20]:\n",
    "    print word"
   ]
  },
  {
   "cell_type": "code",
   "execution_count": 18,
   "metadata": {
    "collapsed": false
   },
   "outputs": [],
   "source": [
    "with open('./stop_words_zh.txt', 'r') as f:\n",
    "    stop_words = [word.strip().decode('utf-8') for word in f.readlines()]"
   ]
  },
  {
   "cell_type": "code",
   "execution_count": 19,
   "metadata": {
    "collapsed": false
   },
   "outputs": [],
   "source": [
    "stop_words = set(stop_words)"
   ]
  },
  {
   "cell_type": "code",
   "execution_count": 20,
   "metadata": {
    "collapsed": false
   },
   "outputs": [],
   "source": [
    "words = [word for word in words if word not in stop_words]"
   ]
  },
  {
   "cell_type": "code",
   "execution_count": 21,
   "metadata": {
    "collapsed": false
   },
   "outputs": [],
   "source": [
    "count = {}\n",
    "for word in words:\n",
    "    if not count.has_key(word):\n",
    "        count[word] = 0\n",
    "    count[word] += 1"
   ]
  },
  {
   "cell_type": "code",
   "execution_count": 22,
   "metadata": {
    "collapsed": false
   },
   "outputs": [
    {
     "name": "stdout",
     "output_type": "stream",
     "text": [
      "1993-5-6.txt\n",
      "1994-1-15.txt\n",
      "1996-2-3.txt\n",
      "1997-9-22.txt\n",
      "1999-11-27.txt\n",
      "1999-12-1.txt\n",
      "1999-4-13.txt\n",
      "1999-4-2.txt\n",
      "1999-4-8.txt\n",
      "1999-4-9.txt\n",
      "2000-10-14.txt\n",
      "2000-10-16.txt\n",
      "2000-10-8.txt\n",
      "2000-6-21.txt\n",
      "2000-9-21.txt\n",
      "2001-10-22.txt\n",
      "2001-5-12.txt\n",
      "2001-5-18.txt\n",
      "2001-9-10.txt\n",
      "2001-9-6.txt\n",
      "2002-4-21.txt\n",
      "2002-8-21.txt\n",
      "2002-8-31.txt\n",
      "2002-9-27.txt\n",
      "2002-9-28.txt\n",
      "2002-9-3.txt\n",
      "2002-9-6.txt\n"
     ]
    }
   ],
   "source": [
    "count = {}\n",
    "for fi in files:\n",
    "    print fi\n",
    "    with open(u'%s/%s'%(DATA_DIR, fi), 'r') as f:\n",
    "        text = [line for line in f.readlines()]\n",
    "    text = [line for line in text if line.decode('utf-8').startswith(u'朱镕基')]\n",
    "    content = ' '.join(text)\n",
    "    seg_list = jieba.cut(content)\n",
    "    words = [word for word in seg_list]\n",
    "    words = [word for word in words if word not in stop_words]\n",
    "    for word in words:\n",
    "        if not count.has_key(word):\n",
    "            count[word] = 0\n",
    "        count[word] += 1"
   ]
  },
  {
   "cell_type": "code",
   "execution_count": 23,
   "metadata": {
    "collapsed": false
   },
   "outputs": [],
   "source": [
    "word_list = sorted(count.items(), key=lambda x: x[1], reverse=True)"
   ]
  },
  {
   "cell_type": "code",
   "execution_count": 125,
   "metadata": {
    "collapsed": false
   },
   "outputs": [],
   "source": [
    "key_words = [w for w, _ in word_list[:100]]"
   ]
  },
  {
   "cell_type": "code",
   "execution_count": 35,
   "metadata": {
    "collapsed": true
   },
   "outputs": [],
   "source": [
    "WALLSTCN_MODEL = \"C:/Users/jgtzsx01/Documents/workspace/model/text.model\"\n",
    "model = gensim.models.Word2Vec.load(WALLSTCN_MODEL)"
   ]
  },
  {
   "cell_type": "code",
   "execution_count": 126,
   "metadata": {
    "collapsed": false
   },
   "outputs": [],
   "source": [
    "key_words = [word for word in key_words if word in model]"
   ]
  },
  {
   "cell_type": "code",
   "execution_count": 127,
   "metadata": {
    "collapsed": true
   },
   "outputs": [],
   "source": [
    "df = pd.DataFrame(columns=key_words, index=[d.rstrip('.txt') for d in files])"
   ]
  },
  {
   "cell_type": "code",
   "execution_count": 128,
   "metadata": {
    "collapsed": false
   },
   "outputs": [
    {
     "name": "stdout",
     "output_type": "stream",
     "text": [
      "1993-5-6.txt\n",
      "1994-1-15.txt\n",
      "1996-2-3.txt\n",
      "1997-9-22.txt\n",
      "1999-11-27.txt\n",
      "1999-12-1.txt\n",
      "1999-4-13.txt\n",
      "1999-4-2.txt\n",
      "1999-4-8.txt\n",
      "1999-4-9.txt\n",
      "2000-10-14.txt\n",
      "2000-10-16.txt\n",
      "2000-10-8.txt\n",
      "2000-6-21.txt\n",
      "2000-9-21.txt\n",
      "2001-10-22.txt\n",
      "2001-5-12.txt\n",
      "2001-5-18.txt\n",
      "2001-9-10.txt\n",
      "2001-9-6.txt\n",
      "2002-4-21.txt\n",
      "2002-8-21.txt\n",
      "2002-8-31.txt\n",
      "2002-9-27.txt\n",
      "2002-9-28.txt\n",
      "2002-9-3.txt\n",
      "2002-9-6.txt\n"
     ]
    }
   ],
   "source": [
    "for fi in files:\n",
    "    print fi\n",
    "    date = fi.rstrip('.txt')\n",
    "    with open(u'%s/%s'%(DATA_DIR, fi), 'r') as f:\n",
    "        text = [line for line in f.readlines()]\n",
    "    text = [line for line in text if line.decode('utf-8').startswith(u'朱镕基')]\n",
    "    content = ' '.join(text)\n",
    "    seg_list = jieba.cut(content)\n",
    "    words = [word for word in seg_list]\n",
    "    words = [word for word in words if word not in stop_words]\n",
    "    count = {}\n",
    "    for word in words:\n",
    "        if not word in key_words:\n",
    "            continue\n",
    "        if not count.has_key(word):\n",
    "            count[word] = 0\n",
    "        count[word] += 1\n",
    "    for w, v in count.items():\n",
    "        df.loc[date, w] = v"
   ]
  },
  {
   "cell_type": "code",
   "execution_count": 129,
   "metadata": {
    "collapsed": false
   },
   "outputs": [],
   "source": [
    "df.to_excel('C:/Users/jgtzsx01/Desktop/words.xlsx')"
   ]
  },
  {
   "cell_type": "code",
   "execution_count": 173,
   "metadata": {
    "collapsed": false
   },
   "outputs": [],
   "source": [
    "word_vector = pd.DataFrame(index=key_words, columns=range(model[key_words[0]].shape[0]))"
   ]
  },
  {
   "cell_type": "code",
   "execution_count": 174,
   "metadata": {
    "collapsed": false
   },
   "outputs": [],
   "source": [
    "for word in key_words:\n",
    "    word_vector.loc[word] = model[word]"
   ]
  },
  {
   "cell_type": "code",
   "execution_count": 176,
   "metadata": {
    "collapsed": true
   },
   "outputs": [],
   "source": [
    "X = word_vector.as_matrix()"
   ]
  },
  {
   "cell_type": "code",
   "execution_count": 177,
   "metadata": {
    "collapsed": false
   },
   "outputs": [],
   "source": [
    "X = StandardScaler().fit_transform(X)"
   ]
  },
  {
   "cell_type": "code",
   "execution_count": 194,
   "metadata": {
    "collapsed": false
   },
   "outputs": [],
   "source": [
    "ward = AgglomerativeClustering(n_clusters=5, linkage='average', affinity='cosine').fit(X)"
   ]
  },
  {
   "cell_type": "code",
   "execution_count": 198,
   "metadata": {
    "collapsed": true
   },
   "outputs": [],
   "source": [
    "df = pd.DataFrame({'label': ward.labels_}, index=key_words)"
   ]
  },
  {
   "cell_type": "code",
   "execution_count": 205,
   "metadata": {
    "collapsed": false
   },
   "outputs": [
    {
     "data": {
      "text/html": [
       "<div>\n",
       "<table border=\"1\" class=\"dataframe\">\n",
       "  <thead>\n",
       "    <tr style=\"text-align: right;\">\n",
       "      <th></th>\n",
       "      <th>label</th>\n",
       "    </tr>\n",
       "  </thead>\n",
       "  <tbody>\n",
       "    <tr>\n",
       "      <th>问题</th>\n",
       "      <td>2</td>\n",
       "    </tr>\n",
       "    <tr>\n",
       "      <th>发展</th>\n",
       "      <td>2</td>\n",
       "    </tr>\n",
       "    <tr>\n",
       "      <th>经济</th>\n",
       "      <td>2</td>\n",
       "    </tr>\n",
       "    <tr>\n",
       "      <th>方面</th>\n",
       "      <td>2</td>\n",
       "    </tr>\n",
       "    <tr>\n",
       "      <th>合作</th>\n",
       "      <td>2</td>\n",
       "    </tr>\n",
       "    <tr>\n",
       "      <th>改革</th>\n",
       "      <td>2</td>\n",
       "    </tr>\n",
       "    <tr>\n",
       "      <th>企业</th>\n",
       "      <td>2</td>\n",
       "    </tr>\n",
       "    <tr>\n",
       "      <th>开放</th>\n",
       "      <td>2</td>\n",
       "    </tr>\n",
       "    <tr>\n",
       "      <th>政策</th>\n",
       "      <td>2</td>\n",
       "    </tr>\n",
       "    <tr>\n",
       "      <th>实行</th>\n",
       "      <td>2</td>\n",
       "    </tr>\n",
       "    <tr>\n",
       "      <th>工作</th>\n",
       "      <td>2</td>\n",
       "    </tr>\n",
       "    <tr>\n",
       "      <th>政府</th>\n",
       "      <td>2</td>\n",
       "    </tr>\n",
       "    <tr>\n",
       "      <th>国有企业</th>\n",
       "      <td>2</td>\n",
       "    </tr>\n",
       "    <tr>\n",
       "      <th>包括</th>\n",
       "      <td>2</td>\n",
       "    </tr>\n",
       "    <tr>\n",
       "      <th>提出</th>\n",
       "      <td>2</td>\n",
       "    </tr>\n",
       "    <tr>\n",
       "      <th>加强</th>\n",
       "      <td>2</td>\n",
       "    </tr>\n",
       "    <tr>\n",
       "      <th>建立</th>\n",
       "      <td>2</td>\n",
       "    </tr>\n",
       "    <tr>\n",
       "      <th>意见</th>\n",
       "      <td>2</td>\n",
       "    </tr>\n",
       "    <tr>\n",
       "      <th>技术</th>\n",
       "      <td>2</td>\n",
       "    </tr>\n",
       "    <tr>\n",
       "      <th>取得</th>\n",
       "      <td>2</td>\n",
       "    </tr>\n",
       "    <tr>\n",
       "      <th>实现</th>\n",
       "      <td>2</td>\n",
       "    </tr>\n",
       "    <tr>\n",
       "      <th>解决</th>\n",
       "      <td>2</td>\n",
       "    </tr>\n",
       "    <tr>\n",
       "      <th>要求</th>\n",
       "      <td>2</td>\n",
       "    </tr>\n",
       "    <tr>\n",
       "      <th>了解</th>\n",
       "      <td>2</td>\n",
       "    </tr>\n",
       "    <tr>\n",
       "      <th>存在</th>\n",
       "      <td>2</td>\n",
       "    </tr>\n",
       "    <tr>\n",
       "      <th>进一步</th>\n",
       "      <td>2</td>\n",
       "    </tr>\n",
       "  </tbody>\n",
       "</table>\n",
       "</div>"
      ],
      "text/plain": [
       "      label\n",
       "问题        2\n",
       "发展        2\n",
       "经济        2\n",
       "方面        2\n",
       "合作        2\n",
       "改革        2\n",
       "企业        2\n",
       "开放        2\n",
       "政策        2\n",
       "实行        2\n",
       "工作        2\n",
       "政府        2\n",
       "国有企业      2\n",
       "包括        2\n",
       "提出        2\n",
       "加强        2\n",
       "建立        2\n",
       "意见        2\n",
       "技术        2\n",
       "取得        2\n",
       "实现        2\n",
       "解决        2\n",
       "要求        2\n",
       "了解        2\n",
       "存在        2\n",
       "进一步       2"
      ]
     },
     "execution_count": 205,
     "metadata": {},
     "output_type": "execute_result"
    }
   ],
   "source": [
    "df[df['label'] == 2]"
   ]
  },
  {
   "cell_type": "code",
   "execution_count": 206,
   "metadata": {
    "collapsed": true
   },
   "outputs": [],
   "source": [
    "df.to_excel('C:/Users/jgtzsx01/Desktop/weight.xlsx')"
   ]
  },
  {
   "cell_type": "code",
   "execution_count": null,
   "metadata": {
    "collapsed": true
   },
   "outputs": [],
   "source": []
  }
 ],
 "metadata": {
  "anaconda-cloud": {},
  "kernelspec": {
   "display_name": "Python [default]",
   "language": "python",
   "name": "python2"
  },
  "language_info": {
   "codemirror_mode": {
    "name": "ipython",
    "version": 2
   },
   "file_extension": ".py",
   "mimetype": "text/x-python",
   "name": "python",
   "nbconvert_exporter": "python",
   "pygments_lexer": "ipython2",
   "version": "2.7.12"
  }
 },
 "nbformat": 4,
 "nbformat_minor": 1
}
