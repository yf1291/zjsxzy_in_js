{
 "cells": [
  {
   "cell_type": "code",
   "execution_count": 102,
   "metadata": {
    "collapsed": false
   },
   "outputs": [
    {
     "name": "stderr",
     "output_type": "stream",
     "text": [
      "C:\\Program Files\\Anaconda2\\lib\\site-packages\\gensim\\utils.py:865: UserWarning: detected Windows; aliasing chunkize to chunkize_serial\n",
      "  warnings.warn(\"detected Windows; aliasing chunkize to chunkize_serial\")\n"
     ]
    }
   ],
   "source": [
    "import jieba\n",
    "import os\n",
    "import datetime\n",
    "import pandas as pd\n",
    "import gensim\n",
    "# from textrank4zh import TextRank4Keyword, TextRank4Sentence"
   ]
  },
  {
   "cell_type": "code",
   "execution_count": 181,
   "metadata": {
    "collapsed": true
   },
   "outputs": [],
   "source": [
    "with open(u'D:/Data/词检索/text.txt', 'r') as f:\n",
    "    content = f.readlines()"
   ]
  },
  {
   "cell_type": "code",
   "execution_count": 182,
   "metadata": {
    "collapsed": false
   },
   "outputs": [],
   "source": [
    "dic = {}\n",
    "for text in content:\n",
    "    text = text.decode('utf-8')\n",
    "    words = text.split(' ')\n",
    "    position = [i for (i, w) in enumerate(words) if w == u'国家战略']\n",
    "    select_words = []\n",
    "    length = len(words)\n",
    "    for p in position:\n",
    "        select_words += [words[i] for i in range(max(0, p-10), min(p+10, length)) if words[i] != '']\n",
    "    for w in select_words:\n",
    "        if not dic.has_key(w):\n",
    "            dic[w] = 0\n",
    "        dic[w] += 1"
   ]
  },
  {
   "cell_type": "code",
   "execution_count": 183,
   "metadata": {
    "collapsed": false
   },
   "outputs": [],
   "source": [
    "sort_dic = sorted(dic.items(), key=lambda x: x[1], reverse=True)"
   ]
  },
  {
   "cell_type": "code",
   "execution_count": 184,
   "metadata": {
    "collapsed": false
   },
   "outputs": [
    {
     "name": "stdout",
     "output_type": "stream",
     "text": [
      "国家战略 484\n",
      "发展 347\n",
      "建设 118\n",
      "重大 112\n",
      "服务 103\n",
      "协同 98\n",
      "一带 91\n",
      "国家 87\n",
      "一路 86\n",
      "创新 83\n",
      "推进 82\n",
      "京津冀 78\n",
      "中国 78\n",
      "科技 67\n",
      "健康 64\n",
      "重要 62\n",
      "上升 59\n",
      "全民 58\n",
      "工作 54\n",
      "战略 53\n",
      "军民 51\n",
      "融合 51\n",
      "推动 48\n",
      "实施 44\n",
      "健身 42\n",
      "习近平 40\n",
      "经济 39\n",
      "长江 37\n",
      "经济带 36\n",
      "加快 33\n",
      "实现 33\n",
      "安全 32\n",
      "加强 31\n",
      "全局 30\n",
      "需求 29\n",
      "体系 28\n",
      "围绕 28\n",
      "合作 27\n",
      "对接 27\n",
      "高度 27\n",
      "党中央 26\n",
      "提出 26\n",
      "落实 25\n",
      "规划 25\n",
      "总书记 25\n",
      "提升 24\n",
      "领域 24\n",
      "强调 24\n",
      "中医药 23\n",
      "促进 23\n",
      "核心 22\n",
      "要求 22\n",
      "开放 22\n",
      "深入 22\n",
      "全面 21\n",
      "体现 21\n",
      "举措 21\n",
      "我国 21\n",
      "国际 21\n",
      "力量 21\n",
      "成为 21\n",
      "以来 20\n",
      "信息化 20\n",
      "优势 19\n",
      "任务 19\n",
      "党 19\n",
      "区域 19\n",
      "能力 19\n",
      "中央 18\n",
      "布局 18\n",
      "作用 18\n",
      "协调 18\n",
      "试验区 18\n",
      "目标 18\n",
      "重点 18\n",
      "改革 17\n",
      "全球 17\n",
      "作出 17\n",
      "构建 17\n",
      "生态 17\n",
      "增强 17\n",
      "十八 17\n",
      "谋划 17\n",
      "积极 17\n",
      "企业 16\n",
      "更好 16\n",
      "部署 16\n",
      "综合 16\n",
      "深度 16\n",
      "政府 16\n",
      "坚持 16\n",
      "主动 16\n",
      "经济社会 16\n",
      "融入 15\n",
      "世界 15\n",
      "社会 15\n",
      "持续 15\n",
      "一体化 15\n",
      "努力 15\n",
      "自贸 14\n"
     ]
    }
   ],
   "source": [
    "for w, c in sort_dic[:100]:\n",
    "    print w, c"
   ]
  },
  {
   "cell_type": "code",
   "execution_count": 185,
   "metadata": {
    "collapsed": true
   },
   "outputs": [],
   "source": [
    "df = pd.DataFrame(sort_dic)"
   ]
  },
  {
   "cell_type": "code",
   "execution_count": 186,
   "metadata": {
    "collapsed": false
   },
   "outputs": [],
   "source": [
    "df.columns = ['word', 'count']"
   ]
  },
  {
   "cell_type": "code",
   "execution_count": 187,
   "metadata": {
    "collapsed": true
   },
   "outputs": [],
   "source": [
    "df.to_excel(u'D:/Data/词检索/国家战略.xlsx', encoding='utf-8', index=False)"
   ]
  },
  {
   "cell_type": "code",
   "execution_count": null,
   "metadata": {
    "collapsed": true
   },
   "outputs": [],
   "source": []
  }
 ],
 "metadata": {
  "anaconda-cloud": {},
  "kernelspec": {
   "display_name": "Python [default]",
   "language": "python",
   "name": "python2"
  },
  "language_info": {
   "codemirror_mode": {
    "name": "ipython",
    "version": 2
   },
   "file_extension": ".py",
   "mimetype": "text/x-python",
   "name": "python",
   "nbconvert_exporter": "python",
   "pygments_lexer": "ipython2",
   "version": "2.7.12"
  }
 },
 "nbformat": 4,
 "nbformat_minor": 1
}
