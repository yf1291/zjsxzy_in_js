{
 "cells": [
  {
   "cell_type": "code",
   "execution_count": 1,
   "metadata": {},
   "outputs": [],
   "source": [
    "import numpy as np\n",
    "import pandas as pd\n",
    "import matplotlib.pyplot as plt\n",
    "from WindPy import w\n",
    "%matplotlib inline"
   ]
  },
  {
   "cell_type": "code",
   "execution_count": 2,
   "metadata": {},
   "outputs": [
    {
     "name": "stdout",
     "output_type": "stream",
     "text": [
      "Welcome to use Wind Quant API for Python (WindPy)!\n",
      "\n",
      "COPYRIGHT (C) 2020 WIND INFORMATION CO., LTD. ALL RIGHTS RESERVED.\n",
      "IN NO CIRCUMSTANCE SHALL WIND BE RESPONSIBLE FOR ANY DAMAGES OR LOSSES CAUSED BY USING WIND QUANT API FOR Python.\n"
     ]
    },
    {
     "data": {
      "text/plain": [
       ".ErrorCode=0\n",
       ".Data=[OK!]"
      ]
     },
     "execution_count": 2,
     "metadata": {},
     "output_type": "execute_result"
    }
   ],
   "source": [
    "w.start()"
   ]
  },
  {
   "cell_type": "code",
   "execution_count": 3,
   "metadata": {},
   "outputs": [],
   "source": [
    "start_date, end_date = '2009-12-01', '2020-10-31'"
   ]
  },
  {
   "cell_type": "markdown",
   "metadata": {},
   "source": [
    "# 读取数据"
   ]
  },
  {
   "cell_type": "code",
   "execution_count": 4,
   "metadata": {},
   "outputs": [],
   "source": [
    "theme = pd.read_excel('../data/申万行业分类表.xlsx', sheet_name='六板块分类')"
   ]
  },
  {
   "cell_type": "code",
   "execution_count": 5,
   "metadata": {},
   "outputs": [],
   "source": [
    "del theme['其他']"
   ]
  },
  {
   "cell_type": "code",
   "execution_count": 6,
   "metadata": {},
   "outputs": [],
   "source": [
    "mv = pd.read_excel('../data/申万行业分类表.xlsx', sheet_name='申万二级行业市值')"
   ]
  },
  {
   "cell_type": "code",
   "execution_count": 7,
   "metadata": {},
   "outputs": [],
   "source": [
    "mv['行业名称'] = [x.rstrip('\\(申万\\)').rstrip('Ⅱ') for x in mv['名称']]\n",
    "mv = mv.set_index('行业名称')"
   ]
  },
  {
   "cell_type": "code",
   "execution_count": 25,
   "metadata": {},
   "outputs": [
    {
     "name": "stdout",
     "output_type": "stream",
     "text": [
      "金融地产\n",
      "传统周期\n",
      "品牌消费\n",
      "医药健康\n",
      "先进制造\n",
      "新兴科技\n"
     ]
    }
   ],
   "source": [
    "columns = theme.columns\n",
    "value = {}\n",
    "for col in columns:\n",
    "    print(col)\n",
    "    sectors = theme[col].dropna().tolist()\n",
    "    codes, weights = [], []\n",
    "    for s in sectors:\n",
    "        s = s.rstrip('\\(申万\\)').rstrip(u'Ⅱ')\n",
    "        if mv.loc[s]['总市值（亿元）'] > 0:\n",
    "            codes.append(mv.loc[s]['代码'])\n",
    "            weights.append(mv.loc[s]['总市值（亿元）'])\n",
    "    weights = np.array(weights)\n",
    "    weights /= weights.sum()\n",
    "    data = w.wsd(codes, 'pb_lf', start_date, end_date, 'Period=M')\n",
    "    df = pd.DataFrame(np.array(data.Data).T, index=pd.to_datetime(data.Times), columns=codes)\n",
    "    value[col] = df.mul(weights, axis=1).sum(axis=1)"
   ]
  },
  {
   "cell_type": "code",
   "execution_count": 26,
   "metadata": {},
   "outputs": [],
   "source": [
    "valuation = pd.DataFrame(value)"
   ]
  },
  {
   "cell_type": "code",
   "execution_count": 28,
   "metadata": {},
   "outputs": [
    {
     "data": {
      "text/html": [
       "<div>\n",
       "<style scoped>\n",
       "    .dataframe tbody tr th:only-of-type {\n",
       "        vertical-align: middle;\n",
       "    }\n",
       "\n",
       "    .dataframe tbody tr th {\n",
       "        vertical-align: top;\n",
       "    }\n",
       "\n",
       "    .dataframe thead th {\n",
       "        text-align: right;\n",
       "    }\n",
       "</style>\n",
       "<table border=\"1\" class=\"dataframe\">\n",
       "  <thead>\n",
       "    <tr style=\"text-align: right;\">\n",
       "      <th></th>\n",
       "      <th>金融地产</th>\n",
       "      <th>传统周期</th>\n",
       "      <th>品牌消费</th>\n",
       "      <th>医药健康</th>\n",
       "      <th>先进制造</th>\n",
       "      <th>新兴科技</th>\n",
       "    </tr>\n",
       "  </thead>\n",
       "  <tbody>\n",
       "    <tr>\n",
       "      <th>2009-12-31</th>\n",
       "      <td>3.589145</td>\n",
       "      <td>3.668945</td>\n",
       "      <td>5.787814</td>\n",
       "      <td>5.593194</td>\n",
       "      <td>5.102967</td>\n",
       "      <td>4.619621</td>\n",
       "    </tr>\n",
       "    <tr>\n",
       "      <th>2010-01-29</th>\n",
       "      <td>3.304975</td>\n",
       "      <td>3.401679</td>\n",
       "      <td>5.572145</td>\n",
       "      <td>5.564320</td>\n",
       "      <td>4.966975</td>\n",
       "      <td>4.504251</td>\n",
       "    </tr>\n",
       "    <tr>\n",
       "      <th>2010-02-26</th>\n",
       "      <td>3.332825</td>\n",
       "      <td>3.514153</td>\n",
       "      <td>5.731844</td>\n",
       "      <td>5.848833</td>\n",
       "      <td>5.161654</td>\n",
       "      <td>4.741918</td>\n",
       "    </tr>\n",
       "    <tr>\n",
       "      <th>2010-03-31</th>\n",
       "      <td>3.370136</td>\n",
       "      <td>3.563687</td>\n",
       "      <td>5.620215</td>\n",
       "      <td>5.692663</td>\n",
       "      <td>5.583729</td>\n",
       "      <td>5.122479</td>\n",
       "    </tr>\n",
       "    <tr>\n",
       "      <th>2010-04-30</th>\n",
       "      <td>2.763146</td>\n",
       "      <td>3.216077</td>\n",
       "      <td>4.867572</td>\n",
       "      <td>5.550643</td>\n",
       "      <td>5.227154</td>\n",
       "      <td>4.227408</td>\n",
       "    </tr>\n",
       "  </tbody>\n",
       "</table>\n",
       "</div>"
      ],
      "text/plain": [
       "                金融地产      传统周期      品牌消费      医药健康      先进制造      新兴科技\n",
       "2009-12-31  3.589145  3.668945  5.787814  5.593194  5.102967  4.619621\n",
       "2010-01-29  3.304975  3.401679  5.572145  5.564320  4.966975  4.504251\n",
       "2010-02-26  3.332825  3.514153  5.731844  5.848833  5.161654  4.741918\n",
       "2010-03-31  3.370136  3.563687  5.620215  5.692663  5.583729  5.122479\n",
       "2010-04-30  2.763146  3.216077  4.867572  5.550643  5.227154  4.227408"
      ]
     },
     "execution_count": 28,
     "metadata": {},
     "output_type": "execute_result"
    }
   ],
   "source": [
    "valuation.head()"
   ]
  },
  {
   "cell_type": "markdown",
   "metadata": {},
   "source": [
    "# 计算相对基准估值"
   ]
  },
  {
   "cell_type": "code",
   "execution_count": 29,
   "metadata": {},
   "outputs": [],
   "source": [
    "data = w.wsd('000906.SH', 'pb_lf', start_date, end_date, 'Period=M')"
   ]
  },
  {
   "cell_type": "code",
   "execution_count": 30,
   "metadata": {},
   "outputs": [],
   "source": [
    "bench_valuation = pd.DataFrame(data.Data, index=['pb'], columns=pd.to_datetime(data.Times))\n",
    "bench_valuation = bench_valuation.T"
   ]
  },
  {
   "cell_type": "code",
   "execution_count": 34,
   "metadata": {},
   "outputs": [],
   "source": [
    "rel_valuation = valuation.div(bench_valuation['pb'], axis=0).rank(pct=True)"
   ]
  },
  {
   "cell_type": "code",
   "execution_count": 35,
   "metadata": {},
   "outputs": [],
   "source": [
    "valuation_score = rel_valuation.iloc[-1]"
   ]
  },
  {
   "cell_type": "code",
   "execution_count": 36,
   "metadata": {},
   "outputs": [],
   "source": [
    "def get_score(x):\n",
    "    if x <= 0.2:\n",
    "        return 2\n",
    "    elif x > 0.2 and x <= 0.4:\n",
    "        return 1\n",
    "    elif x > 0.4 and x <= 0.6:\n",
    "        return 0\n",
    "    elif x > 0.6 and x <= 0.8:\n",
    "        return -1\n",
    "    elif x >= 0.8:\n",
    "        return -2"
   ]
  },
  {
   "cell_type": "code",
   "execution_count": 37,
   "metadata": {},
   "outputs": [],
   "source": [
    "valuation_score = valuation_score.apply(lambda x: get_score(x))"
   ]
  },
  {
   "cell_type": "code",
   "execution_count": 38,
   "metadata": {},
   "outputs": [
    {
     "data": {
      "text/plain": [
       "金融地产    2\n",
       "传统周期    2\n",
       "品牌消费   -2\n",
       "医药健康   -1\n",
       "先进制造   -2\n",
       "新兴科技    0\n",
       "Name: 2020-10-30 00:00:00, dtype: int64"
      ]
     },
     "execution_count": 38,
     "metadata": {},
     "output_type": "execute_result"
    }
   ],
   "source": [
    "valuation_score"
   ]
  },
  {
   "cell_type": "code",
   "execution_count": null,
   "metadata": {},
   "outputs": [],
   "source": []
  }
 ],
 "metadata": {
  "kernelspec": {
   "display_name": "Python 3",
   "language": "python",
   "name": "python3"
  },
  "language_info": {
   "codemirror_mode": {
    "name": "ipython",
    "version": 3
   },
   "file_extension": ".py",
   "mimetype": "text/x-python",
   "name": "python",
   "nbconvert_exporter": "python",
   "pygments_lexer": "ipython3",
   "version": "3.6.5"
  }
 },
 "nbformat": 4,
 "nbformat_minor": 2
}
