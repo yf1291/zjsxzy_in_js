{
 "cells": [
  {
   "cell_type": "code",
   "execution_count": 121,
   "metadata": {},
   "outputs": [],
   "source": [
    "import pandas as pd\n",
    "import numpy as np\n",
    "import matplotlib.pyplot as plt\n",
    "from WindPy import w\n",
    "import empyrical\n",
    "%matplotlib inline"
   ]
  },
  {
   "cell_type": "code",
   "execution_count": 122,
   "metadata": {},
   "outputs": [
    {
     "data": {
      "text/plain": [
       ".ErrorCode=0\n",
       ".Data=[Already conntected!]"
      ]
     },
     "execution_count": 122,
     "metadata": {},
     "output_type": "execute_result"
    }
   ],
   "source": [
    "w.start()"
   ]
  },
  {
   "cell_type": "code",
   "execution_count": 123,
   "metadata": {},
   "outputs": [],
   "source": [
    "data = w.wsd('H11025.CSI,CBA00111.CS,000300.SH,000906.SH,399006.SZ,CL.NYM,AU9999.SGE', 'close', '2018-12-31', '2020-06-30', 'Days=Alldays')"
   ]
  },
  {
   "cell_type": "code",
   "execution_count": 124,
   "metadata": {},
   "outputs": [],
   "source": [
    "bench = pd.DataFrame(np.array(data.Data).T, index=data.Times, columns=data.Codes)"
   ]
  },
  {
   "cell_type": "code",
   "execution_count": 125,
   "metadata": {},
   "outputs": [],
   "source": [
    "bench_ret = bench.pct_change()"
   ]
  },
  {
   "cell_type": "code",
   "execution_count": 126,
   "metadata": {},
   "outputs": [],
   "source": [
    "bench_ret['货币'] = bench_ret['H11025.CSI']\n",
    "bench_ret['债券'] = bench_ret['CBA00111.CS']\n",
    "bench_ret['A股'] = 1./3 * bench_ret['000300.SH'] + 1./3 * bench_ret['000906.SH'] + 1./3 * bench_ret['399006.SZ']\n",
    "bench_ret['原油'] = bench_ret['CL.NYM']\n",
    "bench_ret['黄金'] = bench_ret['AU9999.SGE']"
   ]
  },
  {
   "cell_type": "code",
   "execution_count": 132,
   "metadata": {},
   "outputs": [
    {
     "data": {
      "text/html": [
       "<div>\n",
       "<style scoped>\n",
       "    .dataframe tbody tr th:only-of-type {\n",
       "        vertical-align: middle;\n",
       "    }\n",
       "\n",
       "    .dataframe tbody tr th {\n",
       "        vertical-align: top;\n",
       "    }\n",
       "\n",
       "    .dataframe thead th {\n",
       "        text-align: right;\n",
       "    }\n",
       "</style>\n",
       "<table border=\"1\" class=\"dataframe\">\n",
       "  <thead>\n",
       "    <tr style=\"text-align: right;\">\n",
       "      <th></th>\n",
       "      <th>H11025.CSI</th>\n",
       "      <th>CBA00111.CS</th>\n",
       "      <th>000300.SH</th>\n",
       "      <th>000906.SH</th>\n",
       "      <th>399006.SZ</th>\n",
       "      <th>CL.NYM</th>\n",
       "      <th>AU9999.SGE</th>\n",
       "      <th>货币</th>\n",
       "      <th>债券</th>\n",
       "      <th>A股</th>\n",
       "      <th>原油</th>\n",
       "      <th>黄金</th>\n",
       "    </tr>\n",
       "  </thead>\n",
       "  <tbody>\n",
       "    <tr>\n",
       "      <th>2018-12-31</th>\n",
       "      <td>NaN</td>\n",
       "      <td>NaN</td>\n",
       "      <td>NaN</td>\n",
       "      <td>NaN</td>\n",
       "      <td>NaN</td>\n",
       "      <td>NaN</td>\n",
       "      <td>NaN</td>\n",
       "      <td>NaN</td>\n",
       "      <td>NaN</td>\n",
       "      <td>NaN</td>\n",
       "      <td>NaN</td>\n",
       "      <td>NaN</td>\n",
       "    </tr>\n",
       "    <tr>\n",
       "      <th>2019-01-01</th>\n",
       "      <td>0.000000</td>\n",
       "      <td>0.000000</td>\n",
       "      <td>0.000000</td>\n",
       "      <td>0.000000</td>\n",
       "      <td>0.000000</td>\n",
       "      <td>0.000000</td>\n",
       "      <td>0.000000</td>\n",
       "      <td>0.000000</td>\n",
       "      <td>0.000000</td>\n",
       "      <td>0.000000</td>\n",
       "      <td>0.000000</td>\n",
       "      <td>0.000000</td>\n",
       "    </tr>\n",
       "    <tr>\n",
       "      <th>2019-01-02</th>\n",
       "      <td>0.000429</td>\n",
       "      <td>0.000468</td>\n",
       "      <td>-0.013658</td>\n",
       "      <td>-0.012444</td>\n",
       "      <td>-0.017400</td>\n",
       "      <td>0.011133</td>\n",
       "      <td>0.004216</td>\n",
       "      <td>0.000429</td>\n",
       "      <td>0.000468</td>\n",
       "      <td>-0.014500</td>\n",
       "      <td>0.011133</td>\n",
       "      <td>0.004216</td>\n",
       "    </tr>\n",
       "    <tr>\n",
       "      <th>2019-01-03</th>\n",
       "      <td>0.000088</td>\n",
       "      <td>0.000263</td>\n",
       "      <td>-0.001580</td>\n",
       "      <td>-0.002324</td>\n",
       "      <td>-0.011613</td>\n",
       "      <td>0.011010</td>\n",
       "      <td>0.005283</td>\n",
       "      <td>0.000088</td>\n",
       "      <td>0.000263</td>\n",
       "      <td>-0.005173</td>\n",
       "      <td>0.011010</td>\n",
       "      <td>0.005283</td>\n",
       "    </tr>\n",
       "    <tr>\n",
       "      <th>2019-01-04</th>\n",
       "      <td>0.000088</td>\n",
       "      <td>0.000287</td>\n",
       "      <td>0.023958</td>\n",
       "      <td>0.023931</td>\n",
       "      <td>0.025245</td>\n",
       "      <td>0.031604</td>\n",
       "      <td>0.000627</td>\n",
       "      <td>0.000088</td>\n",
       "      <td>0.000287</td>\n",
       "      <td>0.024378</td>\n",
       "      <td>0.031604</td>\n",
       "      <td>0.000627</td>\n",
       "    </tr>\n",
       "  </tbody>\n",
       "</table>\n",
       "</div>"
      ],
      "text/plain": [
       "            H11025.CSI  CBA00111.CS  000300.SH  000906.SH  399006.SZ  \\\n",
       "2018-12-31         NaN          NaN        NaN        NaN        NaN   \n",
       "2019-01-01    0.000000     0.000000   0.000000   0.000000   0.000000   \n",
       "2019-01-02    0.000429     0.000468  -0.013658  -0.012444  -0.017400   \n",
       "2019-01-03    0.000088     0.000263  -0.001580  -0.002324  -0.011613   \n",
       "2019-01-04    0.000088     0.000287   0.023958   0.023931   0.025245   \n",
       "\n",
       "              CL.NYM  AU9999.SGE        货币        债券        A股        原油  \\\n",
       "2018-12-31       NaN         NaN       NaN       NaN       NaN       NaN   \n",
       "2019-01-01  0.000000    0.000000  0.000000  0.000000  0.000000  0.000000   \n",
       "2019-01-02  0.011133    0.004216  0.000429  0.000468 -0.014500  0.011133   \n",
       "2019-01-03  0.011010    0.005283  0.000088  0.000263 -0.005173  0.011010   \n",
       "2019-01-04  0.031604    0.000627  0.000088  0.000287  0.024378  0.031604   \n",
       "\n",
       "                  黄金  \n",
       "2018-12-31       NaN  \n",
       "2019-01-01  0.000000  \n",
       "2019-01-02  0.004216  \n",
       "2019-01-03  0.005283  \n",
       "2019-01-04  0.000627  "
      ]
     },
     "execution_count": 132,
     "metadata": {},
     "output_type": "execute_result"
    }
   ],
   "source": [
    "bench_ret.head()"
   ]
  },
  {
   "cell_type": "code",
   "execution_count": 127,
   "metadata": {},
   "outputs": [],
   "source": [
    "data = w.wsd('H11025.CSI', 'close', '2018-12-31', '2020-06-30', 'Days=Alldays')"
   ]
  },
  {
   "cell_type": "code",
   "execution_count": 128,
   "metadata": {},
   "outputs": [],
   "source": [
    "money = pd.DataFrame(np.array(data.Data).T, index=data.Times, columns=['h11025'])\n",
    "money_ret = money.pct_change()"
   ]
  },
  {
   "cell_type": "code",
   "execution_count": 129,
   "metadata": {},
   "outputs": [],
   "source": [
    "codes = '070037.OF,050027.OF,000595.OF,J07004.OF,J10002.OF,501018.OF,000307.OF'\n",
    "data = w.wsd(codes, 'nav_adj', '2018-12-31', '2020-06-30', 'Days=Alldays')"
   ]
  },
  {
   "cell_type": "code",
   "execution_count": 130,
   "metadata": {},
   "outputs": [],
   "source": [
    "funds = pd.DataFrame(np.array(data.Data).T, index=data.Times, columns=data.Codes)\n",
    "funds_ret = funds.pct_change()"
   ]
  },
  {
   "cell_type": "code",
   "execution_count": 131,
   "metadata": {},
   "outputs": [
    {
     "data": {
      "text/html": [
       "<div>\n",
       "<style scoped>\n",
       "    .dataframe tbody tr th:only-of-type {\n",
       "        vertical-align: middle;\n",
       "    }\n",
       "\n",
       "    .dataframe tbody tr th {\n",
       "        vertical-align: top;\n",
       "    }\n",
       "\n",
       "    .dataframe thead th {\n",
       "        text-align: right;\n",
       "    }\n",
       "</style>\n",
       "<table border=\"1\" class=\"dataframe\">\n",
       "  <thead>\n",
       "    <tr style=\"text-align: right;\">\n",
       "      <th></th>\n",
       "      <th>070037.OF</th>\n",
       "      <th>050027.OF</th>\n",
       "      <th>000595.OF</th>\n",
       "      <th>J07004.OF</th>\n",
       "      <th>J10002.OF</th>\n",
       "      <th>501018.OF</th>\n",
       "      <th>000307.OF</th>\n",
       "    </tr>\n",
       "  </thead>\n",
       "  <tbody>\n",
       "    <tr>\n",
       "      <th>2018-12-31</th>\n",
       "      <td>NaN</td>\n",
       "      <td>NaN</td>\n",
       "      <td>NaN</td>\n",
       "      <td>NaN</td>\n",
       "      <td>NaN</td>\n",
       "      <td>NaN</td>\n",
       "      <td>NaN</td>\n",
       "    </tr>\n",
       "    <tr>\n",
       "      <th>2019-01-01</th>\n",
       "      <td>0.000000</td>\n",
       "      <td>0.000000</td>\n",
       "      <td>0.000000</td>\n",
       "      <td>0.000000</td>\n",
       "      <td>0.000000</td>\n",
       "      <td>0.000000</td>\n",
       "      <td>0.000000</td>\n",
       "    </tr>\n",
       "    <tr>\n",
       "      <th>2019-01-02</th>\n",
       "      <td>0.001787</td>\n",
       "      <td>0.000915</td>\n",
       "      <td>-0.015996</td>\n",
       "      <td>-0.008135</td>\n",
       "      <td>0.000000</td>\n",
       "      <td>0.013881</td>\n",
       "      <td>0.003877</td>\n",
       "    </tr>\n",
       "    <tr>\n",
       "      <th>2019-01-03</th>\n",
       "      <td>0.000892</td>\n",
       "      <td>0.000914</td>\n",
       "      <td>-0.019058</td>\n",
       "      <td>-0.010743</td>\n",
       "      <td>0.000000</td>\n",
       "      <td>0.005148</td>\n",
       "      <td>0.005051</td>\n",
       "    </tr>\n",
       "    <tr>\n",
       "      <th>2019-01-04</th>\n",
       "      <td>0.000891</td>\n",
       "      <td>0.000913</td>\n",
       "      <td>0.021714</td>\n",
       "      <td>0.021485</td>\n",
       "      <td>-0.013801</td>\n",
       "      <td>0.027896</td>\n",
       "      <td>0.000591</td>\n",
       "    </tr>\n",
       "  </tbody>\n",
       "</table>\n",
       "</div>"
      ],
      "text/plain": [
       "            070037.OF  050027.OF  000595.OF  J07004.OF  J10002.OF  501018.OF  \\\n",
       "2018-12-31        NaN        NaN        NaN        NaN        NaN        NaN   \n",
       "2019-01-01   0.000000   0.000000   0.000000   0.000000   0.000000   0.000000   \n",
       "2019-01-02   0.001787   0.000915  -0.015996  -0.008135   0.000000   0.013881   \n",
       "2019-01-03   0.000892   0.000914  -0.019058  -0.010743   0.000000   0.005148   \n",
       "2019-01-04   0.000891   0.000913   0.021714   0.021485  -0.013801   0.027896   \n",
       "\n",
       "            000307.OF  \n",
       "2018-12-31        NaN  \n",
       "2019-01-01   0.000000  \n",
       "2019-01-02   0.003877  \n",
       "2019-01-03   0.005051  \n",
       "2019-01-04   0.000591  "
      ]
     },
     "execution_count": 131,
     "metadata": {},
     "output_type": "execute_result"
    }
   ],
   "source": [
    "funds_ret.head()"
   ]
  },
  {
   "cell_type": "code",
   "execution_count": 133,
   "metadata": {},
   "outputs": [],
   "source": [
    "assets_ret = pd.DataFrame(index=money_ret.index)\n",
    "assets_ret['货币'] = money_ret\n",
    "assets_ret['债券'] = 0.5 * funds_ret['070037.OF'] + 0.5 * funds_ret['050027.OF']\n",
    "assets_ret['A股'] = 1./3 * funds_ret['000595.OF'] + 1./3 * funds_ret['J07004.OF'] + 1./3 * funds_ret['J10002.OF']\n",
    "assets_ret['原油'] = funds_ret['501018.OF']\n",
    "assets_ret['黄金'] = funds_ret['000307.OF']"
   ]
  },
  {
   "cell_type": "code",
   "execution_count": 134,
   "metadata": {},
   "outputs": [],
   "source": [
    "assets_ret = assets_ret.dropna()"
   ]
  },
  {
   "cell_type": "code",
   "execution_count": 135,
   "metadata": {},
   "outputs": [
    {
     "data": {
      "text/html": [
       "<div>\n",
       "<style scoped>\n",
       "    .dataframe tbody tr th:only-of-type {\n",
       "        vertical-align: middle;\n",
       "    }\n",
       "\n",
       "    .dataframe tbody tr th {\n",
       "        vertical-align: top;\n",
       "    }\n",
       "\n",
       "    .dataframe thead th {\n",
       "        text-align: right;\n",
       "    }\n",
       "</style>\n",
       "<table border=\"1\" class=\"dataframe\">\n",
       "  <thead>\n",
       "    <tr style=\"text-align: right;\">\n",
       "      <th></th>\n",
       "      <th>货币</th>\n",
       "      <th>债券</th>\n",
       "      <th>A股</th>\n",
       "      <th>原油</th>\n",
       "      <th>黄金</th>\n",
       "    </tr>\n",
       "  </thead>\n",
       "  <tbody>\n",
       "    <tr>\n",
       "      <th>2019-01-01</th>\n",
       "      <td>0.000000</td>\n",
       "      <td>0.000000</td>\n",
       "      <td>0.000000</td>\n",
       "      <td>0.000000</td>\n",
       "      <td>0.000000</td>\n",
       "    </tr>\n",
       "    <tr>\n",
       "      <th>2019-01-02</th>\n",
       "      <td>0.000429</td>\n",
       "      <td>0.001351</td>\n",
       "      <td>-0.008043</td>\n",
       "      <td>0.013881</td>\n",
       "      <td>0.003877</td>\n",
       "    </tr>\n",
       "    <tr>\n",
       "      <th>2019-01-03</th>\n",
       "      <td>0.000088</td>\n",
       "      <td>0.000903</td>\n",
       "      <td>-0.009934</td>\n",
       "      <td>0.005148</td>\n",
       "      <td>0.005051</td>\n",
       "    </tr>\n",
       "    <tr>\n",
       "      <th>2019-01-04</th>\n",
       "      <td>0.000088</td>\n",
       "      <td>0.000902</td>\n",
       "      <td>0.009800</td>\n",
       "      <td>0.027896</td>\n",
       "      <td>0.000591</td>\n",
       "    </tr>\n",
       "    <tr>\n",
       "      <th>2019-01-05</th>\n",
       "      <td>0.000000</td>\n",
       "      <td>0.000000</td>\n",
       "      <td>0.000000</td>\n",
       "      <td>0.000000</td>\n",
       "      <td>0.000000</td>\n",
       "    </tr>\n",
       "  </tbody>\n",
       "</table>\n",
       "</div>"
      ],
      "text/plain": [
       "                  货币        债券        A股        原油        黄金\n",
       "2019-01-01  0.000000  0.000000  0.000000  0.000000  0.000000\n",
       "2019-01-02  0.000429  0.001351 -0.008043  0.013881  0.003877\n",
       "2019-01-03  0.000088  0.000903 -0.009934  0.005148  0.005051\n",
       "2019-01-04  0.000088  0.000902  0.009800  0.027896  0.000591\n",
       "2019-01-05  0.000000  0.000000  0.000000  0.000000  0.000000"
      ]
     },
     "execution_count": 135,
     "metadata": {},
     "output_type": "execute_result"
    }
   ],
   "source": [
    "assets_ret.head()"
   ]
  },
  {
   "cell_type": "code",
   "execution_count": 136,
   "metadata": {},
   "outputs": [],
   "source": [
    "def weight_month2daily(weight, index):\n",
    "    daily_weight = pd.DataFrame(index=index, columns=weight.columns)\n",
    "    daily_weight.loc[weight.index] = weight\n",
    "    daily_weight = daily_weight.fillna(method='ffill')\n",
    "    return daily_weight"
   ]
  },
  {
   "cell_type": "code",
   "execution_count": 137,
   "metadata": {},
   "outputs": [],
   "source": [
    "def metrics(ret, period='daily'):\n",
    "    print(empyrical.cum_returns_final(ret))\n",
    "    print(empyrical.annual_return(ret, period=period))\n",
    "    print(empyrical.annual_volatility(ret, period=period))\n",
    "    print(empyrical.max_drawdown(ret))\n",
    "    print(empyrical.sharpe_ratio(ret, period=period))"
   ]
  },
  {
   "cell_type": "code",
   "execution_count": 152,
   "metadata": {},
   "outputs": [],
   "source": [
    "weights = pd.read_excel('../data/阿尔法精粹基金列表及各组合比例.xlsx', sheet_name='进取型', index_col=0)"
   ]
  },
  {
   "cell_type": "code",
   "execution_count": 140,
   "metadata": {},
   "outputs": [],
   "source": [
    "daily_weight = weight_month2daily(weights, assets_ret.index)"
   ]
  },
  {
   "cell_type": "code",
   "execution_count": 154,
   "metadata": {},
   "outputs": [
    {
     "name": "stdout",
     "output_type": "stream",
     "text": [
      "0.18175142746422535\n",
      "0.1177656444489048\n",
      "0.07012536746007886\n",
      "-0.07496554767861305\n",
      "1.6229948837581643\n"
     ]
    }
   ],
   "source": [
    "ret_bench = (daily_weight * bench_ret).sum(axis=1)\n",
    "ret_bench = ret_bench[ret_bench != 0]\n",
    "metrics(ret_bench)"
   ]
  },
  {
   "cell_type": "code",
   "execution_count": 155,
   "metadata": {},
   "outputs": [],
   "source": [
    "(1 + ret_bench).cumprod().to_excel('C:/Users/zhangyang01/Desktop/nav_jinqu.xlsx')"
   ]
  },
  {
   "cell_type": "code",
   "execution_count": 156,
   "metadata": {},
   "outputs": [],
   "source": [
    "ret_jinqu = (daily_weight.shift(1) * assets_ret).sum(axis=1)"
   ]
  },
  {
   "cell_type": "code",
   "execution_count": 157,
   "metadata": {},
   "outputs": [],
   "source": [
    "ret_jinqu = ret_jinqu[ret_jinqu != 0]"
   ]
  },
  {
   "cell_type": "code",
   "execution_count": 158,
   "metadata": {},
   "outputs": [
    {
     "name": "stdout",
     "output_type": "stream",
     "text": [
      "0.21648001018797225\n",
      "0.1558269789529092\n",
      "0.059935817781637216\n",
      "-0.06178078679101977\n",
      "2.4468039218097632\n"
     ]
    }
   ],
   "source": [
    "metrics(ret_jinqu)"
   ]
  },
  {
   "cell_type": "code",
   "execution_count": 159,
   "metadata": {},
   "outputs": [],
   "source": [
    "# (1 + ret_jinqu).cumprod().to_excel('C:/Users/zhangyang01/Desktop/nav_jinqu.xlsx')"
   ]
  },
  {
   "cell_type": "code",
   "execution_count": 160,
   "metadata": {},
   "outputs": [],
   "source": [
    "weights = pd.read_excel('../data/阿尔法精粹基金列表及各组合比例.xlsx', sheet_name='积极型', index_col=0)"
   ]
  },
  {
   "cell_type": "code",
   "execution_count": 161,
   "metadata": {},
   "outputs": [],
   "source": [
    "daily_weight = weight_month2daily(weights, assets_ret.index)"
   ]
  },
  {
   "cell_type": "code",
   "execution_count": 162,
   "metadata": {},
   "outputs": [
    {
     "name": "stdout",
     "output_type": "stream",
     "text": [
      "0.18175142746422535\n",
      "0.1177656444489048\n",
      "0.07012536746007886\n",
      "-0.07496554767861305\n",
      "1.6229948837581643\n"
     ]
    }
   ],
   "source": [
    "ret_bench = (daily_weight * bench_ret).sum(axis=1)\n",
    "ret_bench = ret_bench[ret_bench != 0]\n",
    "metrics(ret_bench)"
   ]
  },
  {
   "cell_type": "code",
   "execution_count": 163,
   "metadata": {},
   "outputs": [],
   "source": [
    "(1 + ret_bench).cumprod().to_excel('C:/Users/zhangyang01/Desktop/nav_jiji.xlsx')"
   ]
  },
  {
   "cell_type": "code",
   "execution_count": 164,
   "metadata": {},
   "outputs": [],
   "source": [
    "ret_jiji = (daily_weight.shift(1) * assets_ret).sum(axis=1)"
   ]
  },
  {
   "cell_type": "code",
   "execution_count": 165,
   "metadata": {},
   "outputs": [],
   "source": [
    "ret_jiji = ret_jiji[ret_jiji != 0]"
   ]
  },
  {
   "cell_type": "code",
   "execution_count": 166,
   "metadata": {},
   "outputs": [
    {
     "name": "stdout",
     "output_type": "stream",
     "text": [
      "0.21648001018797225\n",
      "0.1558269789529092\n",
      "0.059935817781637216\n",
      "-0.06178078679101977\n",
      "2.4468039218097632\n"
     ]
    }
   ],
   "source": [
    "metrics(ret_jiji)"
   ]
  },
  {
   "cell_type": "code",
   "execution_count": 167,
   "metadata": {},
   "outputs": [],
   "source": [
    "# (1 + ret_jiji).cumprod().to_excel('C:/Users/zhangyang01/Desktop/nav_jiji.xlsx')"
   ]
  },
  {
   "cell_type": "code",
   "execution_count": 168,
   "metadata": {},
   "outputs": [],
   "source": [
    "weights = pd.read_excel('../data/阿尔法精粹基金列表及各组合比例.xlsx', sheet_name='平衡型', index_col=0)"
   ]
  },
  {
   "cell_type": "code",
   "execution_count": 169,
   "metadata": {},
   "outputs": [],
   "source": [
    "daily_weight = weight_month2daily(weights, assets_ret.index)"
   ]
  },
  {
   "cell_type": "code",
   "execution_count": 170,
   "metadata": {},
   "outputs": [
    {
     "name": "stdout",
     "output_type": "stream",
     "text": [
      "0.1491002943991191\n",
      "0.09708082375131166\n",
      "0.0588017713485893\n",
      "-0.0669879408494397\n",
      "1.6053442281539376\n"
     ]
    }
   ],
   "source": [
    "ret_bench = (daily_weight * bench_ret).sum(axis=1)\n",
    "ret_bench = ret_bench[ret_bench != 0]\n",
    "metrics(ret_bench)"
   ]
  },
  {
   "cell_type": "code",
   "execution_count": 171,
   "metadata": {},
   "outputs": [],
   "source": [
    "(1 + ret_bench).cumprod().to_excel('C:/Users/zhangyang01/Desktop/nav_pingheng.xlsx')"
   ]
  },
  {
   "cell_type": "code",
   "execution_count": 172,
   "metadata": {},
   "outputs": [],
   "source": [
    "ret_pingheng = (daily_weight.shift(1) * assets_ret).sum(axis=1)"
   ]
  },
  {
   "cell_type": "code",
   "execution_count": 173,
   "metadata": {},
   "outputs": [],
   "source": [
    "ret_pingheng = ret_pingheng[ret_pingheng != 0]"
   ]
  },
  {
   "cell_type": "code",
   "execution_count": 174,
   "metadata": {},
   "outputs": [
    {
     "name": "stdout",
     "output_type": "stream",
     "text": [
      "0.16920795033816405\n",
      "0.12246345338515718\n",
      "0.04928552525949444\n",
      "-0.055162267081731095\n",
      "2.369150971768859\n"
     ]
    }
   ],
   "source": [
    "metrics(ret_pingheng)"
   ]
  },
  {
   "cell_type": "code",
   "execution_count": 175,
   "metadata": {},
   "outputs": [],
   "source": [
    "# (1 + ret_pingheng).cumprod().to_excel('C:/Users/zhangyang01/Desktop/nav_pingheng.xlsx')"
   ]
  },
  {
   "cell_type": "code",
   "execution_count": 176,
   "metadata": {},
   "outputs": [],
   "source": [
    "weights = pd.read_excel('../data/阿尔法精粹基金列表及各组合比例.xlsx', sheet_name='稳健型', index_col=0)"
   ]
  },
  {
   "cell_type": "code",
   "execution_count": 177,
   "metadata": {},
   "outputs": [],
   "source": [
    "daily_weight = weight_month2daily(weights, assets_ret.index)"
   ]
  },
  {
   "cell_type": "code",
   "execution_count": 178,
   "metadata": {},
   "outputs": [
    {
     "name": "stdout",
     "output_type": "stream",
     "text": [
      "0.12246779995048618\n",
      "0.08006342846660885\n",
      "0.045258148230121226\n",
      "-0.04841758678978652\n",
      "1.7246415155209152\n"
     ]
    }
   ],
   "source": [
    "ret_bench = (daily_weight * bench_ret).sum(axis=1)\n",
    "ret_bench = ret_bench[ret_bench != 0]\n",
    "metrics(ret_bench)"
   ]
  },
  {
   "cell_type": "code",
   "execution_count": 179,
   "metadata": {},
   "outputs": [],
   "source": [
    "(1 + ret_bench).cumprod().to_excel('C:/Users/zhangyang01/Desktop/nav_wenjian.xlsx')"
   ]
  },
  {
   "cell_type": "code",
   "execution_count": 101,
   "metadata": {},
   "outputs": [],
   "source": [
    "ret_wenjian = (daily_weight.shift(1) * assets_ret).sum(axis=1)"
   ]
  },
  {
   "cell_type": "code",
   "execution_count": 102,
   "metadata": {},
   "outputs": [],
   "source": [
    "ret_wenjian = ret_wenjian[ret_wenjian != 0]"
   ]
  },
  {
   "cell_type": "code",
   "execution_count": 103,
   "metadata": {},
   "outputs": [
    {
     "name": "stdout",
     "output_type": "stream",
     "text": [
      "0.12360569035053293\n",
      "0.0899431408811393\n",
      "0.03591081156001546\n",
      "-0.04029570481315379\n",
      "2.4166432012105803\n"
     ]
    }
   ],
   "source": [
    "metrics(ret_wenjian)"
   ]
  },
  {
   "cell_type": "code",
   "execution_count": 104,
   "metadata": {},
   "outputs": [],
   "source": [
    "(1 + ret_wenjian).cumprod().to_excel('C:/Users/zhangyang01/Desktop/nav_wenjian.xlsx')"
   ]
  },
  {
   "cell_type": "code",
   "execution_count": null,
   "metadata": {},
   "outputs": [],
   "source": []
  },
  {
   "cell_type": "code",
   "execution_count": null,
   "metadata": {},
   "outputs": [],
   "source": []
  }
 ],
 "metadata": {
  "kernelspec": {
   "display_name": "Python 3",
   "language": "python",
   "name": "python3"
  },
  "language_info": {
   "codemirror_mode": {
    "name": "ipython",
    "version": 3
   },
   "file_extension": ".py",
   "mimetype": "text/x-python",
   "name": "python",
   "nbconvert_exporter": "python",
   "pygments_lexer": "ipython3",
   "version": "3.6.5"
  }
 },
 "nbformat": 4,
 "nbformat_minor": 4
}
