{
 "cells": [
  {
   "cell_type": "code",
   "execution_count": 179,
   "metadata": {},
   "outputs": [],
   "source": [
    "import pandas as pd\n",
    "import numpy as np\n",
    "import datetime as dt\n",
    "from WindPy import w"
   ]
  },
  {
   "cell_type": "code",
   "execution_count": 180,
   "metadata": {},
   "outputs": [
    {
     "data": {
      "text/plain": [
       ".ErrorCode=0\n",
       ".Data=[Already conntected!]"
      ]
     },
     "execution_count": 180,
     "metadata": {},
     "output_type": "execute_result"
    }
   ],
   "source": [
    "w.start()"
   ]
  },
  {
   "cell_type": "code",
   "execution_count": 181,
   "metadata": {},
   "outputs": [],
   "source": [
    "today = (dt.date.today() - dt.timedelta(1)).strftime('%Y%m%d')"
   ]
  },
  {
   "cell_type": "code",
   "execution_count": 182,
   "metadata": {},
   "outputs": [
    {
     "data": {
      "text/plain": [
       "'20200714'"
      ]
     },
     "execution_count": 182,
     "metadata": {},
     "output_type": "execute_result"
    }
   ],
   "source": [
    "today"
   ]
  },
  {
   "cell_type": "code",
   "execution_count": 183,
   "metadata": {},
   "outputs": [],
   "source": [
    "DATA_DIR = '\\\\\\\\hg-pubshare\\HFM各部门共享\\资产配置投资研究中心\\张炀\\股票池'"
   ]
  },
  {
   "cell_type": "code",
   "execution_count": 184,
   "metadata": {},
   "outputs": [],
   "source": [
    "codes = pd.read_excel('%s/股票代码名单.xlsx'%(DATA_DIR), skiprows=4, index_col=0)"
   ]
  },
  {
   "cell_type": "code",
   "execution_count": 185,
   "metadata": {},
   "outputs": [],
   "source": [
    "codes.columns = ['股票代码', '股票名称']"
   ]
  },
  {
   "cell_type": "code",
   "execution_count": 186,
   "metadata": {},
   "outputs": [],
   "source": [
    "hkcodes = pd.read_excel('%s/港股股票代码名单.xlsx'%(DATA_DIR), skiprows=4, index_col=0)"
   ]
  },
  {
   "cell_type": "code",
   "execution_count": 187,
   "metadata": {},
   "outputs": [],
   "source": [
    "hkcodes.columns = ['股票代码', '股票名称']"
   ]
  },
  {
   "cell_type": "code",
   "execution_count": 188,
   "metadata": {},
   "outputs": [],
   "source": [
    "codes = codes.merge(hkcodes, on=['股票名称'], how='outer')"
   ]
  },
  {
   "cell_type": "code",
   "execution_count": 189,
   "metadata": {},
   "outputs": [],
   "source": [
    "codes['股票代码'] = [codes.loc[i, '股票代码_y'] if pd.isna(codes.loc[i, '股票代码_x']) else codes.loc[i, '股票代码_x'] for i in codes.index]"
   ]
  },
  {
   "cell_type": "code",
   "execution_count": 190,
   "metadata": {},
   "outputs": [],
   "source": [
    "codes = codes[['股票名称', '股票代码']]"
   ]
  },
  {
   "cell_type": "code",
   "execution_count": 191,
   "metadata": {},
   "outputs": [],
   "source": [
    "stocks = pd.read_excel('%s/股票池.xlsx'%(DATA_DIR))"
   ]
  },
  {
   "cell_type": "code",
   "execution_count": 192,
   "metadata": {},
   "outputs": [],
   "source": [
    "results = stocks.merge(codes, how='left', on=['股票名称'])"
   ]
  },
  {
   "cell_type": "code",
   "execution_count": 196,
   "metadata": {},
   "outputs": [],
   "source": [
    "stock2code = {s: c for s, c in zip(codes['股票名称'], codes['股票代码'])}"
   ]
  },
  {
   "cell_type": "code",
   "execution_count": 67,
   "metadata": {},
   "outputs": [],
   "source": [
    "data = w.wss(','.join(results['股票代码'].dropna().tolist()),\n",
    "             \"close,eps_ttm,pe_ttm,val_pe_deducted_ttm,pe_lyr,ps_ttm\",\"tradeDate=%s;priceAdj=U;cycle=D\"%(today))"
   ]
  },
  {
   "cell_type": "code",
   "execution_count": 70,
   "metadata": {},
   "outputs": [],
   "source": [
    "info = pd.DataFrame(data.Data, \n",
    "                    index=['收盘价', 'eps(ttm)', 'pe(ttm)', '扣非pe(ttm)', 'pb(lyr)', 'ps(ttm)'],\n",
    "                    columns=data.Codes)\n",
    "info = info.T"
   ]
  },
  {
   "cell_type": "code",
   "execution_count": 72,
   "metadata": {},
   "outputs": [],
   "source": [
    "info['股票代码'] = info.index"
   ]
  },
  {
   "cell_type": "code",
   "execution_count": 73,
   "metadata": {},
   "outputs": [
    {
     "data": {
      "text/html": [
       "<div>\n",
       "<style scoped>\n",
       "    .dataframe tbody tr th:only-of-type {\n",
       "        vertical-align: middle;\n",
       "    }\n",
       "\n",
       "    .dataframe tbody tr th {\n",
       "        vertical-align: top;\n",
       "    }\n",
       "\n",
       "    .dataframe thead th {\n",
       "        text-align: right;\n",
       "    }\n",
       "</style>\n",
       "<table border=\"1\" class=\"dataframe\">\n",
       "  <thead>\n",
       "    <tr style=\"text-align: right;\">\n",
       "      <th></th>\n",
       "      <th>收盘价</th>\n",
       "      <th>eps(ttm)</th>\n",
       "      <th>pe(ttm)</th>\n",
       "      <th>扣非pe(ttm)</th>\n",
       "      <th>pb(lyr)</th>\n",
       "      <th>ps(ttm)</th>\n",
       "      <th>股票代码</th>\n",
       "    </tr>\n",
       "  </thead>\n",
       "  <tbody>\n",
       "    <tr>\n",
       "      <th>600383.SH</th>\n",
       "      <td>15.01</td>\n",
       "      <td>2.186130</td>\n",
       "      <td>6.866013</td>\n",
       "      <td>8.555642</td>\n",
       "      <td>6.725783</td>\n",
       "      <td>1.142076</td>\n",
       "      <td>600383.SH</td>\n",
       "    </tr>\n",
       "    <tr>\n",
       "      <th>601901.SH</th>\n",
       "      <td>9.03</td>\n",
       "      <td>0.097033</td>\n",
       "      <td>93.061333</td>\n",
       "      <td>101.456372</td>\n",
       "      <td>73.775504</td>\n",
       "      <td>11.118667</td>\n",
       "      <td>601901.SH</td>\n",
       "    </tr>\n",
       "    <tr>\n",
       "      <th>601398.SH</th>\n",
       "      <td>5.14</td>\n",
       "      <td>0.883018</td>\n",
       "      <td>5.820949</td>\n",
       "      <td>5.851385</td>\n",
       "      <td>5.867352</td>\n",
       "      <td>2.163758</td>\n",
       "      <td>601398.SH</td>\n",
       "    </tr>\n",
       "    <tr>\n",
       "      <th>601601.SH</th>\n",
       "      <td>31.57</td>\n",
       "      <td>3.185958</td>\n",
       "      <td>9.909108</td>\n",
       "      <td>11.762749</td>\n",
       "      <td>10.948206</td>\n",
       "      <td>0.777664</td>\n",
       "      <td>601601.SH</td>\n",
       "    </tr>\n",
       "    <tr>\n",
       "      <th>600036.SH</th>\n",
       "      <td>36.51</td>\n",
       "      <td>3.783608</td>\n",
       "      <td>9.649521</td>\n",
       "      <td>9.692079</td>\n",
       "      <td>9.915003</td>\n",
       "      <td>3.317313</td>\n",
       "      <td>600036.SH</td>\n",
       "    </tr>\n",
       "  </tbody>\n",
       "</table>\n",
       "</div>"
      ],
      "text/plain": [
       "             收盘价  eps(ttm)    pe(ttm)   扣非pe(ttm)    pb(lyr)    ps(ttm)  \\\n",
       "600383.SH  15.01  2.186130   6.866013    8.555642   6.725783   1.142076   \n",
       "601901.SH   9.03  0.097033  93.061333  101.456372  73.775504  11.118667   \n",
       "601398.SH   5.14  0.883018   5.820949    5.851385   5.867352   2.163758   \n",
       "601601.SH  31.57  3.185958   9.909108   11.762749  10.948206   0.777664   \n",
       "600036.SH  36.51  3.783608   9.649521    9.692079   9.915003   3.317313   \n",
       "\n",
       "                股票代码  \n",
       "600383.SH  600383.SH  \n",
       "601901.SH  601901.SH  \n",
       "601398.SH  601398.SH  \n",
       "601601.SH  601601.SH  \n",
       "600036.SH  600036.SH  "
      ]
     },
     "execution_count": 73,
     "metadata": {},
     "output_type": "execute_result"
    }
   ],
   "source": [
    "info.head()"
   ]
  },
  {
   "cell_type": "code",
   "execution_count": 75,
   "metadata": {},
   "outputs": [],
   "source": [
    "results = results.merge(info, how='left', on=['股票代码'])"
   ]
  },
  {
   "cell_type": "code",
   "execution_count": 76,
   "metadata": {},
   "outputs": [],
   "source": [
    "new_columns = stocks.columns[:2].tolist() + results.columns[-7:].tolist() + stocks.columns[2:].tolist()"
   ]
  },
  {
   "cell_type": "code",
   "execution_count": 77,
   "metadata": {},
   "outputs": [],
   "source": [
    "results = results[new_columns]"
   ]
  },
  {
   "cell_type": "code",
   "execution_count": 78,
   "metadata": {},
   "outputs": [
    {
     "data": {
      "text/html": [
       "<div>\n",
       "<style scoped>\n",
       "    .dataframe tbody tr th:only-of-type {\n",
       "        vertical-align: middle;\n",
       "    }\n",
       "\n",
       "    .dataframe tbody tr th {\n",
       "        vertical-align: top;\n",
       "    }\n",
       "\n",
       "    .dataframe thead th {\n",
       "        text-align: right;\n",
       "    }\n",
       "</style>\n",
       "<table border=\"1\" class=\"dataframe\">\n",
       "  <thead>\n",
       "    <tr style=\"text-align: right;\">\n",
       "      <th></th>\n",
       "      <th>主题行业</th>\n",
       "      <th>股票名称</th>\n",
       "      <th>股票代码</th>\n",
       "      <th>收盘价</th>\n",
       "      <th>eps(ttm)</th>\n",
       "      <th>pe(ttm)</th>\n",
       "      <th>扣非pe(ttm)</th>\n",
       "      <th>pb(lyr)</th>\n",
       "      <th>ps(ttm)</th>\n",
       "      <th>上次预测时间</th>\n",
       "      <th>最新短评</th>\n",
       "      <th>最新长评</th>\n",
       "      <th>内部股票池（40%）</th>\n",
       "      <th>外部股票池（20%）</th>\n",
       "      <th>基金重仓股票池（20%）</th>\n",
       "      <th>北向资金重仓股票池（20%）</th>\n",
       "      <th>总分</th>\n",
       "    </tr>\n",
       "  </thead>\n",
       "  <tbody>\n",
       "    <tr>\n",
       "      <th>0</th>\n",
       "      <td>金融地产</td>\n",
       "      <td>金地集团</td>\n",
       "      <td>600383.SH</td>\n",
       "      <td>15.01</td>\n",
       "      <td>2.186130</td>\n",
       "      <td>6.866013</td>\n",
       "      <td>8.555642</td>\n",
       "      <td>6.725783</td>\n",
       "      <td>1.142076</td>\n",
       "      <td>2020-03-11</td>\n",
       "      <td>2.0</td>\n",
       "      <td>2.0</td>\n",
       "      <td>NaN</td>\n",
       "      <td>NaN</td>\n",
       "      <td>1.0</td>\n",
       "      <td>NaN</td>\n",
       "      <td>0.2</td>\n",
       "    </tr>\n",
       "    <tr>\n",
       "      <th>1</th>\n",
       "      <td>金融地产</td>\n",
       "      <td>方正证券</td>\n",
       "      <td>601901.SH</td>\n",
       "      <td>9.03</td>\n",
       "      <td>0.097033</td>\n",
       "      <td>93.061333</td>\n",
       "      <td>101.456372</td>\n",
       "      <td>73.775504</td>\n",
       "      <td>11.118667</td>\n",
       "      <td>2019-12-27</td>\n",
       "      <td>2.0</td>\n",
       "      <td>2.0</td>\n",
       "      <td>NaN</td>\n",
       "      <td>NaN</td>\n",
       "      <td>NaN</td>\n",
       "      <td>1.0</td>\n",
       "      <td>0.2</td>\n",
       "    </tr>\n",
       "    <tr>\n",
       "      <th>2</th>\n",
       "      <td>金融地产</td>\n",
       "      <td>工商银行</td>\n",
       "      <td>601398.SH</td>\n",
       "      <td>5.14</td>\n",
       "      <td>0.883018</td>\n",
       "      <td>5.820949</td>\n",
       "      <td>5.851385</td>\n",
       "      <td>5.867352</td>\n",
       "      <td>2.163758</td>\n",
       "      <td>2020-04-29</td>\n",
       "      <td>2.0</td>\n",
       "      <td>2.0</td>\n",
       "      <td>NaN</td>\n",
       "      <td>NaN</td>\n",
       "      <td>1.0</td>\n",
       "      <td>NaN</td>\n",
       "      <td>0.2</td>\n",
       "    </tr>\n",
       "    <tr>\n",
       "      <th>3</th>\n",
       "      <td>金融地产</td>\n",
       "      <td>中国太保</td>\n",
       "      <td>601601.SH</td>\n",
       "      <td>31.57</td>\n",
       "      <td>3.185958</td>\n",
       "      <td>9.909108</td>\n",
       "      <td>11.762749</td>\n",
       "      <td>10.948206</td>\n",
       "      <td>0.777664</td>\n",
       "      <td>2019-12-27</td>\n",
       "      <td>2.0</td>\n",
       "      <td>1.0</td>\n",
       "      <td>NaN</td>\n",
       "      <td>NaN</td>\n",
       "      <td>1.0</td>\n",
       "      <td>NaN</td>\n",
       "      <td>0.2</td>\n",
       "    </tr>\n",
       "    <tr>\n",
       "      <th>4</th>\n",
       "      <td>金融地产</td>\n",
       "      <td>招商银行</td>\n",
       "      <td>600036.SH</td>\n",
       "      <td>36.51</td>\n",
       "      <td>3.783608</td>\n",
       "      <td>9.649521</td>\n",
       "      <td>9.692079</td>\n",
       "      <td>9.915003</td>\n",
       "      <td>3.317313</td>\n",
       "      <td>2020-04-30</td>\n",
       "      <td>1.0</td>\n",
       "      <td>1.0</td>\n",
       "      <td>1.0</td>\n",
       "      <td>1.0</td>\n",
       "      <td>1.0</td>\n",
       "      <td>NaN</td>\n",
       "      <td>0.8</td>\n",
       "    </tr>\n",
       "    <tr>\n",
       "      <th>...</th>\n",
       "      <td>...</td>\n",
       "      <td>...</td>\n",
       "      <td>...</td>\n",
       "      <td>...</td>\n",
       "      <td>...</td>\n",
       "      <td>...</td>\n",
       "      <td>...</td>\n",
       "      <td>...</td>\n",
       "      <td>...</td>\n",
       "      <td>...</td>\n",
       "      <td>...</td>\n",
       "      <td>...</td>\n",
       "      <td>...</td>\n",
       "      <td>...</td>\n",
       "      <td>...</td>\n",
       "      <td>...</td>\n",
       "      <td>...</td>\n",
       "    </tr>\n",
       "    <tr>\n",
       "      <th>375</th>\n",
       "      <td>其他经济不敏感</td>\n",
       "      <td>上海机场</td>\n",
       "      <td>600009.SH</td>\n",
       "      <td>72.39</td>\n",
       "      <td>1.930292</td>\n",
       "      <td>37.502106</td>\n",
       "      <td>37.477388</td>\n",
       "      <td>27.730954</td>\n",
       "      <td>14.224410</td>\n",
       "      <td>2020-04-28</td>\n",
       "      <td>2.0</td>\n",
       "      <td>1.0</td>\n",
       "      <td>NaN</td>\n",
       "      <td>NaN</td>\n",
       "      <td>1.0</td>\n",
       "      <td>1.0</td>\n",
       "      <td>0.4</td>\n",
       "    </tr>\n",
       "    <tr>\n",
       "      <th>376</th>\n",
       "      <td>其他经济不敏感</td>\n",
       "      <td>深圳机场</td>\n",
       "      <td>000089.SZ</td>\n",
       "      <td>9.82</td>\n",
       "      <td>0.146090</td>\n",
       "      <td>67.218834</td>\n",
       "      <td>60.476750</td>\n",
       "      <td>33.919472</td>\n",
       "      <td>5.828463</td>\n",
       "      <td>2020-04-29</td>\n",
       "      <td>2.0</td>\n",
       "      <td>2.0</td>\n",
       "      <td>NaN</td>\n",
       "      <td>NaN</td>\n",
       "      <td>NaN</td>\n",
       "      <td>1.0</td>\n",
       "      <td>0.2</td>\n",
       "    </tr>\n",
       "    <tr>\n",
       "      <th>377</th>\n",
       "      <td>其他经济不敏感</td>\n",
       "      <td>新希望</td>\n",
       "      <td>000876.SZ</td>\n",
       "      <td>33.72</td>\n",
       "      <td>1.423732</td>\n",
       "      <td>23.684240</td>\n",
       "      <td>22.786182</td>\n",
       "      <td>28.195960</td>\n",
       "      <td>1.645283</td>\n",
       "      <td>2020-04-29</td>\n",
       "      <td>2.0</td>\n",
       "      <td>1.0</td>\n",
       "      <td>1.0</td>\n",
       "      <td>1.0</td>\n",
       "      <td>1.0</td>\n",
       "      <td>NaN</td>\n",
       "      <td>0.8</td>\n",
       "    </tr>\n",
       "    <tr>\n",
       "      <th>378</th>\n",
       "      <td>其他经济不敏感</td>\n",
       "      <td>中国联通</td>\n",
       "      <td>600050.SH</td>\n",
       "      <td>5.69</td>\n",
       "      <td>0.153191</td>\n",
       "      <td>37.143124</td>\n",
       "      <td>33.547355</td>\n",
       "      <td>35.433997</td>\n",
       "      <td>0.606251</td>\n",
       "      <td>2019-12-28</td>\n",
       "      <td>2.0</td>\n",
       "      <td>2.0</td>\n",
       "      <td>NaN</td>\n",
       "      <td>NaN</td>\n",
       "      <td>1.0</td>\n",
       "      <td>NaN</td>\n",
       "      <td>0.2</td>\n",
       "    </tr>\n",
       "    <tr>\n",
       "      <th>379</th>\n",
       "      <td>其他经济不敏感</td>\n",
       "      <td>牧原股份</td>\n",
       "      <td>002714.SZ</td>\n",
       "      <td>96.30</td>\n",
       "      <td>2.878114</td>\n",
       "      <td>33.459415</td>\n",
       "      <td>33.774631</td>\n",
       "      <td>59.027635</td>\n",
       "      <td>14.297590</td>\n",
       "      <td>2020-04-27</td>\n",
       "      <td>1.0</td>\n",
       "      <td>2.0</td>\n",
       "      <td>1.0</td>\n",
       "      <td>1.0</td>\n",
       "      <td>1.0</td>\n",
       "      <td>NaN</td>\n",
       "      <td>0.8</td>\n",
       "    </tr>\n",
       "  </tbody>\n",
       "</table>\n",
       "<p>380 rows × 17 columns</p>\n",
       "</div>"
      ],
      "text/plain": [
       "        主题行业  股票名称       股票代码    收盘价  eps(ttm)    pe(ttm)   扣非pe(ttm)  \\\n",
       "0       金融地产  金地集团  600383.SH  15.01  2.186130   6.866013    8.555642   \n",
       "1       金融地产  方正证券  601901.SH   9.03  0.097033  93.061333  101.456372   \n",
       "2       金融地产  工商银行  601398.SH   5.14  0.883018   5.820949    5.851385   \n",
       "3       金融地产  中国太保  601601.SH  31.57  3.185958   9.909108   11.762749   \n",
       "4       金融地产  招商银行  600036.SH  36.51  3.783608   9.649521    9.692079   \n",
       "..       ...   ...        ...    ...       ...        ...         ...   \n",
       "375  其他经济不敏感  上海机场  600009.SH  72.39  1.930292  37.502106   37.477388   \n",
       "376  其他经济不敏感  深圳机场  000089.SZ   9.82  0.146090  67.218834   60.476750   \n",
       "377  其他经济不敏感   新希望  000876.SZ  33.72  1.423732  23.684240   22.786182   \n",
       "378  其他经济不敏感  中国联通  600050.SH   5.69  0.153191  37.143124   33.547355   \n",
       "379  其他经济不敏感  牧原股份  002714.SZ  96.30  2.878114  33.459415   33.774631   \n",
       "\n",
       "       pb(lyr)    ps(ttm)      上次预测时间  最新短评  最新长评  内部股票池（40%）  外部股票池（20%）  \\\n",
       "0     6.725783   1.142076  2020-03-11   2.0   2.0         NaN         NaN   \n",
       "1    73.775504  11.118667  2019-12-27   2.0   2.0         NaN         NaN   \n",
       "2     5.867352   2.163758  2020-04-29   2.0   2.0         NaN         NaN   \n",
       "3    10.948206   0.777664  2019-12-27   2.0   1.0         NaN         NaN   \n",
       "4     9.915003   3.317313  2020-04-30   1.0   1.0         1.0         1.0   \n",
       "..         ...        ...         ...   ...   ...         ...         ...   \n",
       "375  27.730954  14.224410  2020-04-28   2.0   1.0         NaN         NaN   \n",
       "376  33.919472   5.828463  2020-04-29   2.0   2.0         NaN         NaN   \n",
       "377  28.195960   1.645283  2020-04-29   2.0   1.0         1.0         1.0   \n",
       "378  35.433997   0.606251  2019-12-28   2.0   2.0         NaN         NaN   \n",
       "379  59.027635  14.297590  2020-04-27   1.0   2.0         1.0         1.0   \n",
       "\n",
       "     基金重仓股票池（20%）  北向资金重仓股票池（20%）   总分  \n",
       "0             1.0             NaN  0.2  \n",
       "1             NaN             1.0  0.2  \n",
       "2             1.0             NaN  0.2  \n",
       "3             1.0             NaN  0.2  \n",
       "4             1.0             NaN  0.8  \n",
       "..            ...             ...  ...  \n",
       "375           1.0             1.0  0.4  \n",
       "376           NaN             1.0  0.2  \n",
       "377           1.0             NaN  0.8  \n",
       "378           1.0             NaN  0.2  \n",
       "379           1.0             NaN  0.8  \n",
       "\n",
       "[380 rows x 17 columns]"
      ]
     },
     "execution_count": 78,
     "metadata": {},
     "output_type": "execute_result"
    }
   ],
   "source": [
    "results"
   ]
  },
  {
   "cell_type": "code",
   "execution_count": null,
   "metadata": {},
   "outputs": [],
   "source": []
  }
 ],
 "metadata": {
  "kernelspec": {
   "display_name": "Python 3",
   "language": "python",
   "name": "python3"
  },
  "language_info": {
   "codemirror_mode": {
    "name": "ipython",
    "version": 3
   },
   "file_extension": ".py",
   "mimetype": "text/x-python",
   "name": "python",
   "nbconvert_exporter": "python",
   "pygments_lexer": "ipython3",
   "version": "3.6.5"
  }
 },
 "nbformat": 4,
 "nbformat_minor": 4
}
