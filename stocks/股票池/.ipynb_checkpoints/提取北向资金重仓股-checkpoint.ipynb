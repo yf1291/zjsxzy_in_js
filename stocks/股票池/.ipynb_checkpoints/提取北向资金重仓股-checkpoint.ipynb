{
 "cells": [
  {
   "cell_type": "code",
   "execution_count": 3,
   "metadata": {},
   "outputs": [],
   "source": [
    "import pandas as pd\n",
    "import numpy as np\n",
    "import matplotlib.pyplot as plt\n",
    "from WindPy import w\n",
    "import datetime as dt\n",
    "%matplotlib inline"
   ]
  },
  {
   "cell_type": "code",
   "execution_count": 2,
   "metadata": {},
   "outputs": [
    {
     "name": "stdout",
     "output_type": "stream",
     "text": [
      "Welcome to use Wind Quant API for Python (WindPy)!\n",
      "\n",
      "COPYRIGHT (C) 2017 WIND INFORMATION CO., LTD. ALL RIGHTS RESERVED.\n",
      "IN NO CIRCUMSTANCE SHALL WIND BE RESPONSIBLE FOR ANY DAMAGES OR LOSSES CAUSED BY USING WIND QUANT API FOR Python.\n"
     ]
    },
    {
     "data": {
      "text/plain": [
       ".ErrorCode=0\n",
       ".Data=[OK!]"
      ]
     },
     "execution_count": 2,
     "metadata": {},
     "output_type": "execute_result"
    }
   ],
   "source": [
    "w.start()"
   ]
  },
  {
   "cell_type": "code",
   "execution_count": 4,
   "metadata": {},
   "outputs": [],
   "source": [
    "start_date, end_date = '2020-06-01', '2020-06-29'"
   ]
  },
  {
   "cell_type": "markdown",
   "metadata": {},
   "source": [
    "# 提取初始时间北向资金持仓"
   ]
  },
  {
   "cell_type": "code",
   "execution_count": 13,
   "metadata": {},
   "outputs": [],
   "source": [
    "data = w.wset(\"shstockholdings\",\"date=%s;field=wind_code,sec_name,hold_stocks\"%(start_date))"
   ]
  },
  {
   "cell_type": "code",
   "execution_count": 14,
   "metadata": {},
   "outputs": [],
   "source": [
    "sh_df = pd.DataFrame(np.array(data.Data).T, columns=data.Fields)"
   ]
  },
  {
   "cell_type": "code",
   "execution_count": 15,
   "metadata": {},
   "outputs": [],
   "source": [
    "data = w.wset(\"szstockholdings\",\"date=%s;field=wind_code,sec_name,hold_stocks\"%(start_date))"
   ]
  },
  {
   "cell_type": "code",
   "execution_count": 16,
   "metadata": {},
   "outputs": [],
   "source": [
    "sz_df = pd.DataFrame(np.array(data.Data).T, columns=data.Fields)"
   ]
  },
  {
   "cell_type": "code",
   "execution_count": 17,
   "metadata": {},
   "outputs": [],
   "source": [
    "start_df = sh_df.append(sz_df)"
   ]
  },
  {
   "cell_type": "code",
   "execution_count": 19,
   "metadata": {},
   "outputs": [
    {
     "data": {
      "text/html": [
       "<div>\n",
       "<style scoped>\n",
       "    .dataframe tbody tr th:only-of-type {\n",
       "        vertical-align: middle;\n",
       "    }\n",
       "\n",
       "    .dataframe tbody tr th {\n",
       "        vertical-align: top;\n",
       "    }\n",
       "\n",
       "    .dataframe thead th {\n",
       "        text-align: right;\n",
       "    }\n",
       "</style>\n",
       "<table border=\"1\" class=\"dataframe\">\n",
       "  <thead>\n",
       "    <tr style=\"text-align: right;\">\n",
       "      <th></th>\n",
       "      <th>wind_code</th>\n",
       "      <th>sec_name</th>\n",
       "      <th>hold_stocks</th>\n",
       "    </tr>\n",
       "  </thead>\n",
       "  <tbody>\n",
       "    <tr>\n",
       "      <th>0</th>\n",
       "      <td>600000.SH</td>\n",
       "      <td>浦发银行</td>\n",
       "      <td>421022295.0</td>\n",
       "    </tr>\n",
       "    <tr>\n",
       "      <th>1</th>\n",
       "      <td>600004.SH</td>\n",
       "      <td>白云机场</td>\n",
       "      <td>149493414.0</td>\n",
       "    </tr>\n",
       "    <tr>\n",
       "      <th>2</th>\n",
       "      <td>600006.SH</td>\n",
       "      <td>东风汽车</td>\n",
       "      <td>545738.0</td>\n",
       "    </tr>\n",
       "    <tr>\n",
       "      <th>3</th>\n",
       "      <td>600007.SH</td>\n",
       "      <td>中国国贸</td>\n",
       "      <td>18575231.0</td>\n",
       "    </tr>\n",
       "    <tr>\n",
       "      <th>4</th>\n",
       "      <td>600008.SH</td>\n",
       "      <td>首创股份</td>\n",
       "      <td>62608599.0</td>\n",
       "    </tr>\n",
       "  </tbody>\n",
       "</table>\n",
       "</div>"
      ],
      "text/plain": [
       "   wind_code sec_name  hold_stocks\n",
       "0  600000.SH     浦发银行  421022295.0\n",
       "1  600004.SH     白云机场  149493414.0\n",
       "2  600006.SH     东风汽车     545738.0\n",
       "3  600007.SH     中国国贸   18575231.0\n",
       "4  600008.SH     首创股份   62608599.0"
      ]
     },
     "execution_count": 19,
     "metadata": {},
     "output_type": "execute_result"
    }
   ],
   "source": [
    "start_df.head()"
   ]
  },
  {
   "cell_type": "markdown",
   "metadata": {},
   "source": [
    "# 提取结束时间北向资金持仓"
   ]
  },
  {
   "cell_type": "code",
   "execution_count": 20,
   "metadata": {},
   "outputs": [],
   "source": [
    "data = w.wset(\"shstockholdings\",\"date=%s;field=wind_code,sec_name,hold_stocks,holding_marketvalue,calculate_ratio\"%(end_date))"
   ]
  },
  {
   "cell_type": "code",
   "execution_count": 21,
   "metadata": {},
   "outputs": [],
   "source": [
    "sh_df = pd.DataFrame(np.array(data.Data).T, columns=data.Fields)"
   ]
  },
  {
   "cell_type": "code",
   "execution_count": 22,
   "metadata": {},
   "outputs": [],
   "source": [
    "data = w.wset(\"szstockholdings\",\"date=%s;field=wind_code,sec_name,hold_stocks,holding_marketvalue,calculate_ratio\"%(end_date))"
   ]
  },
  {
   "cell_type": "code",
   "execution_count": 23,
   "metadata": {},
   "outputs": [],
   "source": [
    "sz_df = pd.DataFrame(np.array(data.Data).T, columns=data.Fields)"
   ]
  },
  {
   "cell_type": "code",
   "execution_count": 24,
   "metadata": {},
   "outputs": [],
   "source": [
    "end_df = sh_df.append(sz_df)"
   ]
  },
  {
   "cell_type": "code",
   "execution_count": 26,
   "metadata": {},
   "outputs": [],
   "source": [
    "end_df.columns = ['wind_code', 'sec_name', 'hold_stocks2', 'holding_marketvalue', 'calculate_ratio']"
   ]
  },
  {
   "cell_type": "code",
   "execution_count": 27,
   "metadata": {},
   "outputs": [
    {
     "data": {
      "text/html": [
       "<div>\n",
       "<style scoped>\n",
       "    .dataframe tbody tr th:only-of-type {\n",
       "        vertical-align: middle;\n",
       "    }\n",
       "\n",
       "    .dataframe tbody tr th {\n",
       "        vertical-align: top;\n",
       "    }\n",
       "\n",
       "    .dataframe thead th {\n",
       "        text-align: right;\n",
       "    }\n",
       "</style>\n",
       "<table border=\"1\" class=\"dataframe\">\n",
       "  <thead>\n",
       "    <tr style=\"text-align: right;\">\n",
       "      <th></th>\n",
       "      <th>wind_code</th>\n",
       "      <th>sec_name</th>\n",
       "      <th>hold_stocks2</th>\n",
       "      <th>holding_marketvalue</th>\n",
       "      <th>calculate_ratio</th>\n",
       "    </tr>\n",
       "  </thead>\n",
       "  <tbody>\n",
       "    <tr>\n",
       "      <th>0</th>\n",
       "      <td>600000.SH</td>\n",
       "      <td>浦发银行</td>\n",
       "      <td>438230687.0</td>\n",
       "      <td>4632098361.59</td>\n",
       "      <td>1.5593309443351582</td>\n",
       "    </tr>\n",
       "    <tr>\n",
       "      <th>1</th>\n",
       "      <td>600004.SH</td>\n",
       "      <td>白云机场</td>\n",
       "      <td>155105017.0</td>\n",
       "      <td>2340534706.53</td>\n",
       "      <td>7.495456404681445</td>\n",
       "    </tr>\n",
       "    <tr>\n",
       "      <th>2</th>\n",
       "      <td>600006.SH</td>\n",
       "      <td>东风汽车</td>\n",
       "      <td>539138.0</td>\n",
       "      <td>2167334.76</td>\n",
       "      <td>0.0269569</td>\n",
       "    </tr>\n",
       "    <tr>\n",
       "      <th>3</th>\n",
       "      <td>600007.SH</td>\n",
       "      <td>中国国贸</td>\n",
       "      <td>14575632.0</td>\n",
       "      <td>193855905.60000002</td>\n",
       "      <td>1.4470251898560171</td>\n",
       "    </tr>\n",
       "    <tr>\n",
       "      <th>4</th>\n",
       "      <td>600008.SH</td>\n",
       "      <td>首创股份</td>\n",
       "      <td>66001680.0</td>\n",
       "      <td>198665056.79999998</td>\n",
       "      <td>1.160887894796717</td>\n",
       "    </tr>\n",
       "  </tbody>\n",
       "</table>\n",
       "</div>"
      ],
      "text/plain": [
       "   wind_code sec_name hold_stocks2 holding_marketvalue     calculate_ratio\n",
       "0  600000.SH     浦发银行  438230687.0       4632098361.59  1.5593309443351582\n",
       "1  600004.SH     白云机场  155105017.0       2340534706.53   7.495456404681445\n",
       "2  600006.SH     东风汽车     539138.0          2167334.76           0.0269569\n",
       "3  600007.SH     中国国贸   14575632.0  193855905.60000002  1.4470251898560171\n",
       "4  600008.SH     首创股份   66001680.0  198665056.79999998   1.160887894796717"
      ]
     },
     "execution_count": 27,
     "metadata": {},
     "output_type": "execute_result"
    }
   ],
   "source": [
    "end_df.head()"
   ]
  },
  {
   "cell_type": "markdown",
   "metadata": {},
   "source": [
    "# 合并初始和结束时间持仓"
   ]
  },
  {
   "cell_type": "code",
   "execution_count": 29,
   "metadata": {},
   "outputs": [],
   "source": [
    "df = start_df.set_index(['wind_code', 'sec_name']).join(end_df.set_index(['wind_code', 'sec_name']))"
   ]
  },
  {
   "cell_type": "markdown",
   "metadata": {},
   "source": [
    "# 去除市值小于1亿的股票"
   ]
  },
  {
   "cell_type": "code",
   "execution_count": 31,
   "metadata": {},
   "outputs": [],
   "source": [
    "df['holding_marketvalue'] = df['holding_marketvalue'].astype('float')\n",
    "df = df[df['holding_marketvalue'] > 1e8]"
   ]
  },
  {
   "cell_type": "markdown",
   "metadata": {},
   "source": [
    "# 计算持仓变化"
   ]
  },
  {
   "cell_type": "code",
   "execution_count": 34,
   "metadata": {},
   "outputs": [],
   "source": [
    "df['hold_stocks'] = df['hold_stocks'].astype('float')\n",
    "df['hold_stocks2'] = df['hold_stocks2'].astype('float')\n",
    "df['hold_chg'] = df['hold_stocks2'] / df['hold_stocks'] - 1"
   ]
  },
  {
   "cell_type": "code",
   "execution_count": 40,
   "metadata": {},
   "outputs": [],
   "source": [
    "df = df.sort_values('holding_marketvalue', ascending=False)"
   ]
  },
  {
   "cell_type": "markdown",
   "metadata": {},
   "source": [
    "# 行业分类"
   ]
  },
  {
   "cell_type": "code",
   "execution_count": 41,
   "metadata": {},
   "outputs": [],
   "source": [
    "industry = pd.read_excel('../data/申万行业分类表.xlsx')"
   ]
  },
  {
   "cell_type": "code",
   "execution_count": 42,
   "metadata": {},
   "outputs": [
    {
     "data": {
      "text/html": [
       "<div>\n",
       "<style scoped>\n",
       "    .dataframe tbody tr th:only-of-type {\n",
       "        vertical-align: middle;\n",
       "    }\n",
       "\n",
       "    .dataframe tbody tr th {\n",
       "        vertical-align: top;\n",
       "    }\n",
       "\n",
       "    .dataframe thead th {\n",
       "        text-align: right;\n",
       "    }\n",
       "</style>\n",
       "<table border=\"1\" class=\"dataframe\">\n",
       "  <thead>\n",
       "    <tr style=\"text-align: right;\">\n",
       "      <th></th>\n",
       "      <th>金融地产</th>\n",
       "      <th>可选消费</th>\n",
       "      <th>必选医药</th>\n",
       "      <th>信息科技</th>\n",
       "      <th>其他经济敏感</th>\n",
       "      <th>其他经济不敏感</th>\n",
       "    </tr>\n",
       "  </thead>\n",
       "  <tbody>\n",
       "    <tr>\n",
       "      <th>0</th>\n",
       "      <td>银行Ⅱ(申万)</td>\n",
       "      <td>汽车整车(申万)</td>\n",
       "      <td>食品加工(申万)</td>\n",
       "      <td>半导体(申万)</td>\n",
       "      <td>煤炭开采Ⅱ(申万)</td>\n",
       "      <td>农产品加工(申万)</td>\n",
       "    </tr>\n",
       "    <tr>\n",
       "      <th>1</th>\n",
       "      <td>多元金融Ⅱ(申万)</td>\n",
       "      <td>汽车零部件Ⅱ(申万)</td>\n",
       "      <td>化学制药(申万)</td>\n",
       "      <td>其他电子Ⅱ(申万)</td>\n",
       "      <td>金属非金属新材料(申万)</td>\n",
       "      <td>饲料Ⅱ(申万)</td>\n",
       "    </tr>\n",
       "    <tr>\n",
       "      <th>2</th>\n",
       "      <td>券商Ⅱ(申万)</td>\n",
       "      <td>白色家电(申万)</td>\n",
       "      <td>中药Ⅱ(申万)</td>\n",
       "      <td>元件Ⅱ(申万)</td>\n",
       "      <td>其他采掘Ⅱ(申万)</td>\n",
       "      <td>渔业(申万)</td>\n",
       "    </tr>\n",
       "    <tr>\n",
       "      <th>3</th>\n",
       "      <td>保险Ⅱ(申万)</td>\n",
       "      <td>景点(申万)</td>\n",
       "      <td>生物制品Ⅱ(申万)</td>\n",
       "      <td>光学光电子(申万)</td>\n",
       "      <td>采掘服务Ⅱ(申万)</td>\n",
       "      <td>种植业(申万)</td>\n",
       "    </tr>\n",
       "    <tr>\n",
       "      <th>4</th>\n",
       "      <td>房地产开发Ⅱ(申万)</td>\n",
       "      <td>酒店Ⅱ(申万)</td>\n",
       "      <td>医疗器械Ⅱ(申万)</td>\n",
       "      <td>电子制造Ⅱ(申万)</td>\n",
       "      <td>工业金属(申万)</td>\n",
       "      <td>畜禽养殖Ⅱ(申万)</td>\n",
       "    </tr>\n",
       "  </tbody>\n",
       "</table>\n",
       "</div>"
      ],
      "text/plain": [
       "         金融地产        可选消费       必选医药       信息科技        其他经济敏感    其他经济不敏感\n",
       "0     银行Ⅱ(申万)    汽车整车(申万)   食品加工(申万)    半导体(申万)     煤炭开采Ⅱ(申万)  农产品加工(申万)\n",
       "1   多元金融Ⅱ(申万)  汽车零部件Ⅱ(申万)   化学制药(申万)  其他电子Ⅱ(申万)  金属非金属新材料(申万)    饲料Ⅱ(申万)\n",
       "2     券商Ⅱ(申万)    白色家电(申万)    中药Ⅱ(申万)    元件Ⅱ(申万)     其他采掘Ⅱ(申万)     渔业(申万)\n",
       "3     保险Ⅱ(申万)      景点(申万)  生物制品Ⅱ(申万)  光学光电子(申万)     采掘服务Ⅱ(申万)    种植业(申万)\n",
       "4  房地产开发Ⅱ(申万)     酒店Ⅱ(申万)  医疗器械Ⅱ(申万)  电子制造Ⅱ(申万)      工业金属(申万)  畜禽养殖Ⅱ(申万)"
      ]
     },
     "execution_count": 42,
     "metadata": {},
     "output_type": "execute_result"
    }
   ],
   "source": [
    "industry.head()"
   ]
  },
  {
   "cell_type": "code",
   "execution_count": 43,
   "metadata": {},
   "outputs": [],
   "source": [
    "industry2theme = {}\n",
    "for col in industry.columns:\n",
    "    for i in industry[col]:\n",
    "        if type(i) == str:\n",
    "            industry2theme[i.rstrip('(申万)')] = col\n",
    "            industry2theme[i.rstrip('Ⅱ(申万)')] = col\n",
    "#             print(i.rstrip('Ⅱ(申万)'), col)\n",
    "industry2theme['证券Ⅱ'] = '金融地产'"
   ]
  },
  {
   "cell_type": "code",
   "execution_count": 67,
   "metadata": {},
   "outputs": [],
   "source": [
    "data = w.wss([x[0] for x in df.index], 'industry_sw', 'industryType=2')"
   ]
  },
  {
   "cell_type": "code",
   "execution_count": 70,
   "metadata": {},
   "outputs": [],
   "source": [
    "df['industry_sw'] = data.Data[0]"
   ]
  },
  {
   "cell_type": "code",
   "execution_count": 73,
   "metadata": {},
   "outputs": [],
   "source": [
    "df['industry_theme'] = [industry2theme[x] for x in df['industry_sw']]"
   ]
  },
  {
   "cell_type": "code",
   "execution_count": 76,
   "metadata": {},
   "outputs": [],
   "source": [
    "df['calculate_ratio'] = df['calculate_ratio'].astype('float')"
   ]
  },
  {
   "cell_type": "code",
   "execution_count": 78,
   "metadata": {},
   "outputs": [],
   "source": [
    "df.to_excel('../data/北向资金重仓持股.xlsx')"
   ]
  },
  {
   "cell_type": "code",
   "execution_count": null,
   "metadata": {},
   "outputs": [],
   "source": []
  }
 ],
 "metadata": {
  "kernelspec": {
   "display_name": "Python 3",
   "language": "python",
   "name": "python3"
  },
  "language_info": {
   "codemirror_mode": {
    "name": "ipython",
    "version": 3
   },
   "file_extension": ".py",
   "mimetype": "text/x-python",
   "name": "python",
   "nbconvert_exporter": "python",
   "pygments_lexer": "ipython3",
   "version": "3.6.5"
  }
 },
 "nbformat": 4,
 "nbformat_minor": 4
}
