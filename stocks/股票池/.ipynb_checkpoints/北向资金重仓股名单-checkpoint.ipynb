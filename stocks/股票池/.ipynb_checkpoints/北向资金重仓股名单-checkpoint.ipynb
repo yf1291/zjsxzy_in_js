{
 "cells": [
  {
   "cell_type": "code",
   "execution_count": 3,
   "metadata": {},
   "outputs": [],
   "source": [
    "import pandas as pd\n",
    "import numpy as np\n",
    "from WindPy import w\n",
    "import datetime as dt"
   ]
  },
  {
   "cell_type": "code",
   "execution_count": 2,
   "metadata": {},
   "outputs": [
    {
     "name": "stdout",
     "output_type": "stream",
     "text": [
      "Welcome to use Wind Quant API for Python (WindPy)!\n",
      "\n",
      "COPYRIGHT (C) 2017 WIND INFORMATION CO., LTD. ALL RIGHTS RESERVED.\n",
      "IN NO CIRCUMSTANCE SHALL WIND BE RESPONSIBLE FOR ANY DAMAGES OR LOSSES CAUSED BY USING WIND QUANT API FOR Python.\n"
     ]
    },
    {
     "data": {
      "text/plain": [
       ".ErrorCode=0\n",
       ".Data=[OK!]"
      ]
     },
     "execution_count": 2,
     "metadata": {},
     "output_type": "execute_result"
    }
   ],
   "source": [
    "w.start()"
   ]
  },
  {
   "cell_type": "code",
   "execution_count": 21,
   "metadata": {},
   "outputs": [],
   "source": [
    "today = (dt.date.today() - dt.timedelta(1)).strftime('%Y%m%d')"
   ]
  },
  {
   "cell_type": "code",
   "execution_count": 22,
   "metadata": {},
   "outputs": [
    {
     "data": {
      "text/plain": [
       "'20200714'"
      ]
     },
     "execution_count": 22,
     "metadata": {},
     "output_type": "execute_result"
    }
   ],
   "source": [
    "today"
   ]
  },
  {
   "cell_type": "markdown",
   "metadata": {},
   "source": [
    "# 沪股通持股"
   ]
  },
  {
   "cell_type": "code",
   "execution_count": 23,
   "metadata": {},
   "outputs": [],
   "source": [
    "data = w.wset(\"shstockholdings\",\n",
    "              \"date=%s;field=wind_code,sec_name,hold_stocks,holding_marketvalue,calculate_ratio,float_sharesratio\"%(today))"
   ]
  },
  {
   "cell_type": "code",
   "execution_count": 24,
   "metadata": {},
   "outputs": [],
   "source": [
    "sh = pd.DataFrame(data.Data, index=data.Fields, columns=data.Codes)\n",
    "sh = sh.T"
   ]
  },
  {
   "cell_type": "markdown",
   "metadata": {},
   "source": [
    "# 深股通持股"
   ]
  },
  {
   "cell_type": "code",
   "execution_count": 11,
   "metadata": {},
   "outputs": [],
   "source": [
    "data = w.wset(\"szstockholdings\",\n",
    "              \"date=%s;field=wind_code,sec_name,hold_stocks,holding_marketvalue,calculate_ratio,float_sharesratio\"%(today))"
   ]
  },
  {
   "cell_type": "code",
   "execution_count": 12,
   "metadata": {},
   "outputs": [],
   "source": [
    "sz = pd.DataFrame(data.Data, index=data.Fields, columns=data.Codes)\n",
    "sz = sz.T"
   ]
  },
  {
   "cell_type": "code",
   "execution_count": 40,
   "metadata": {},
   "outputs": [],
   "source": [
    "df = sh.append(sz)"
   ]
  },
  {
   "cell_type": "code",
   "execution_count": 41,
   "metadata": {},
   "outputs": [],
   "source": [
    "df = df.sort_values('calculate_ratio', ascending=False)"
   ]
  },
  {
   "cell_type": "code",
   "execution_count": 42,
   "metadata": {},
   "outputs": [],
   "source": [
    "df.index = np.arange(df.shape[0])"
   ]
  },
  {
   "cell_type": "code",
   "execution_count": 45,
   "metadata": {},
   "outputs": [],
   "source": [
    "df = df.drop(df.index[200:])"
   ]
  },
  {
   "cell_type": "code",
   "execution_count": 46,
   "metadata": {},
   "outputs": [],
   "source": []
  },
  {
   "cell_type": "code",
   "execution_count": 47,
   "metadata": {},
   "outputs": [],
   "source": [
    "DATA_DIR = '\\\\\\\\hg-pubshare\\HFM各部门共享\\资产配置投资研究中心\\张炀\\股票池'"
   ]
  },
  {
   "cell_type": "code",
   "execution_count": 48,
   "metadata": {},
   "outputs": [
    {
     "data": {
      "text/html": [
       "<div>\n",
       "<style scoped>\n",
       "    .dataframe tbody tr th:only-of-type {\n",
       "        vertical-align: middle;\n",
       "    }\n",
       "\n",
       "    .dataframe tbody tr th {\n",
       "        vertical-align: top;\n",
       "    }\n",
       "\n",
       "    .dataframe thead th {\n",
       "        text-align: right;\n",
       "    }\n",
       "</style>\n",
       "<table border=\"1\" class=\"dataframe\">\n",
       "  <thead>\n",
       "    <tr style=\"text-align: right;\">\n",
       "      <th></th>\n",
       "      <th>股票代码</th>\n",
       "      <th>股票名称</th>\n",
       "      <th>持仓股数</th>\n",
       "      <th>持仓市值</th>\n",
       "      <th>占流通市值比例（%）</th>\n",
       "      <th>占自由流通股本比例</th>\n",
       "    </tr>\n",
       "  </thead>\n",
       "  <tbody>\n",
       "    <tr>\n",
       "      <th>0</th>\n",
       "      <td>002572.SZ</td>\n",
       "      <td>索菲亚</td>\n",
       "      <td>1.7967e+08</td>\n",
       "      <td>4.21864e+09</td>\n",
       "      <td>28.191</td>\n",
       "      <td>32.8896</td>\n",
       "    </tr>\n",
       "    <tr>\n",
       "      <th>1</th>\n",
       "      <td>300347.SZ</td>\n",
       "      <td>泰格医药</td>\n",
       "      <td>1.3548e+08</td>\n",
       "      <td>1.51751e+10</td>\n",
       "      <td>25.0478</td>\n",
       "      <td>27.7888</td>\n",
       "    </tr>\n",
       "    <tr>\n",
       "      <th>2</th>\n",
       "      <td>600009.SH</td>\n",
       "      <td>上海机场</td>\n",
       "      <td>2.47068e+08</td>\n",
       "      <td>1.78852e+10</td>\n",
       "      <td>22.5947</td>\n",
       "      <td>27.4282</td>\n",
       "    </tr>\n",
       "    <tr>\n",
       "      <th>3</th>\n",
       "      <td>300012.SZ</td>\n",
       "      <td>华测检测</td>\n",
       "      <td>3.33865e+08</td>\n",
       "      <td>8.02611e+09</td>\n",
       "      <td>22.1109</td>\n",
       "      <td>26.042</td>\n",
       "    </tr>\n",
       "    <tr>\n",
       "      <th>4</th>\n",
       "      <td>603501.SH</td>\n",
       "      <td>韦尔股份</td>\n",
       "      <td>3.30344e+07</td>\n",
       "      <td>8.24869e+09</td>\n",
       "      <td>21.1246</td>\n",
       "      <td>21.1246</td>\n",
       "    </tr>\n",
       "  </tbody>\n",
       "</table>\n",
       "</div>"
      ],
      "text/plain": [
       "        股票代码  股票名称         持仓股数         持仓市值 占流通市值比例（%） 占自由流通股本比例\n",
       "0  002572.SZ   索菲亚   1.7967e+08  4.21864e+09     28.191   32.8896\n",
       "1  300347.SZ  泰格医药   1.3548e+08  1.51751e+10    25.0478   27.7888\n",
       "2  600009.SH  上海机场  2.47068e+08  1.78852e+10    22.5947   27.4282\n",
       "3  300012.SZ  华测检测  3.33865e+08  8.02611e+09    22.1109    26.042\n",
       "4  603501.SH  韦尔股份  3.30344e+07  8.24869e+09    21.1246   21.1246"
      ]
     },
     "execution_count": 48,
     "metadata": {},
     "output_type": "execute_result"
    }
   ],
   "source": [
    "df.head()"
   ]
  },
  {
   "cell_type": "code",
   "execution_count": 49,
   "metadata": {},
   "outputs": [],
   "source": [
    "industry = pd.read_excel('%s/申万行业分类表.xlsx'%(DATA_DIR), sheet_name='申万二级行业')"
   ]
  },
  {
   "cell_type": "code",
   "execution_count": 50,
   "metadata": {},
   "outputs": [],
   "source": [
    "industry2theme = {}\n",
    "for col in industry.columns:\n",
    "    for i in industry[col]:\n",
    "        if type(i) == str:\n",
    "            industry2theme[i.rstrip('(申万)')] = col\n",
    "            industry2theme[i.rstrip('Ⅱ(申万)')] = col\n",
    "#             print(i.rstrip('Ⅱ(申万)'), col)\n",
    "industry2theme['证券Ⅱ'] = '金融地产'"
   ]
  },
  {
   "cell_type": "code",
   "execution_count": 55,
   "metadata": {},
   "outputs": [],
   "source": [
    "data = w.wss(df['股票代码'].tolist(), 'industry_sw', 'industryType=2')"
   ]
  },
  {
   "cell_type": "code",
   "execution_count": 57,
   "metadata": {},
   "outputs": [],
   "source": [
    "df['industry_sw'] = data.Data[0]"
   ]
  },
  {
   "cell_type": "code",
   "execution_count": 58,
   "metadata": {},
   "outputs": [],
   "source": [
    "df['industry_theme'] = [industry2theme[x] for x in df['industry_sw']]"
   ]
  },
  {
   "cell_type": "code",
   "execution_count": 59,
   "metadata": {},
   "outputs": [],
   "source": [
    "df.columns = ['股票代码', '股票名称', '持仓股数', '持仓市值', '占流通市值比例（%）', '占自由流通股本比例', '申万二级行业', '主题行业']"
   ]
  },
  {
   "cell_type": "code",
   "execution_count": null,
   "metadata": {},
   "outputs": [],
   "source": []
  }
 ],
 "metadata": {
  "kernelspec": {
   "display_name": "Python 3",
   "language": "python",
   "name": "python3"
  },
  "language_info": {
   "codemirror_mode": {
    "name": "ipython",
    "version": 3
   },
   "file_extension": ".py",
   "mimetype": "text/x-python",
   "name": "python",
   "nbconvert_exporter": "python",
   "pygments_lexer": "ipython3",
   "version": "3.6.5"
  }
 },
 "nbformat": 4,
 "nbformat_minor": 4
}
