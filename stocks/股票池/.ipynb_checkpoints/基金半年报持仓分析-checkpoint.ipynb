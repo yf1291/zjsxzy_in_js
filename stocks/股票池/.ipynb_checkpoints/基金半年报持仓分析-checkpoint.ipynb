{
 "cells": [
  {
   "cell_type": "code",
   "execution_count": 35,
   "metadata": {},
   "outputs": [],
   "source": [
    "import pandas as pd\n",
    "from WindPy import w"
   ]
  },
  {
   "cell_type": "code",
   "execution_count": 36,
   "metadata": {},
   "outputs": [
    {
     "name": "stdout",
     "output_type": "stream",
     "text": [
      "Welcome to use Wind Quant API for Python (WindPy)!\n",
      "\n",
      "COPYRIGHT (C) 2020 WIND INFORMATION CO., LTD. ALL RIGHTS RESERVED.\n",
      "IN NO CIRCUMSTANCE SHALL WIND BE RESPONSIBLE FOR ANY DAMAGES OR LOSSES CAUSED BY USING WIND QUANT API FOR Python.\n"
     ]
    },
    {
     "data": {
      "text/plain": [
       ".ErrorCode=0\n",
       ".Data=[OK!]"
      ]
     },
     "execution_count": 36,
     "metadata": {},
     "output_type": "execute_result"
    }
   ],
   "source": [
    "w.start()"
   ]
  },
  {
   "cell_type": "code",
   "execution_count": 23,
   "metadata": {},
   "outputs": [],
   "source": [
    "df = pd.read_excel('../data/基金半年度持仓.xlsx', converters={'SecuCode': str, 'FundCode': str})"
   ]
  },
  {
   "cell_type": "code",
   "execution_count": 24,
   "metadata": {},
   "outputs": [
    {
     "data": {
      "text/html": [
       "<div>\n",
       "<style scoped>\n",
       "    .dataframe tbody tr th:only-of-type {\n",
       "        vertical-align: middle;\n",
       "    }\n",
       "\n",
       "    .dataframe tbody tr th {\n",
       "        vertical-align: top;\n",
       "    }\n",
       "\n",
       "    .dataframe thead th {\n",
       "        text-align: right;\n",
       "    }\n",
       "</style>\n",
       "<table border=\"1\" class=\"dataframe\">\n",
       "  <thead>\n",
       "    <tr style=\"text-align: right;\">\n",
       "      <th></th>\n",
       "      <th>ReportDate</th>\n",
       "      <th>FundCode</th>\n",
       "      <th>FundAbbr</th>\n",
       "      <th>NV</th>\n",
       "      <th>AssetType</th>\n",
       "      <th>SecuCode</th>\n",
       "      <th>SecuAbbr</th>\n",
       "      <th>FirstIndustryName</th>\n",
       "      <th>SecondIndustryName</th>\n",
       "      <th>ThirdIndustryName</th>\n",
       "      <th>InfoPublDate</th>\n",
       "      <th>RatioInNV</th>\n",
       "      <th>ChangeOfSharesHolding</th>\n",
       "    </tr>\n",
       "  </thead>\n",
       "  <tbody>\n",
       "    <tr>\n",
       "      <th>0</th>\n",
       "      <td>2020-06-30</td>\n",
       "      <td>000001</td>\n",
       "      <td>华夏成长</td>\n",
       "      <td>5.054859e+09</td>\n",
       "      <td>股票</td>\n",
       "      <td>002127</td>\n",
       "      <td>南极电商</td>\n",
       "      <td>商贸零售</td>\n",
       "      <td>零售</td>\n",
       "      <td>连锁</td>\n",
       "      <td>2017-01-24</td>\n",
       "      <td>0.0799</td>\n",
       "      <td>5344450.0</td>\n",
       "    </tr>\n",
       "    <tr>\n",
       "      <th>1</th>\n",
       "      <td>2020-06-30</td>\n",
       "      <td>000001</td>\n",
       "      <td>华夏成长</td>\n",
       "      <td>5.054859e+09</td>\n",
       "      <td>股票</td>\n",
       "      <td>002384</td>\n",
       "      <td>东山精密</td>\n",
       "      <td>电子元器件</td>\n",
       "      <td>其他元器件</td>\n",
       "      <td>其他元器件</td>\n",
       "      <td>2019-07-22</td>\n",
       "      <td>0.0550</td>\n",
       "      <td>-726691.0</td>\n",
       "    </tr>\n",
       "    <tr>\n",
       "      <th>2</th>\n",
       "      <td>2020-06-30</td>\n",
       "      <td>000001</td>\n",
       "      <td>华夏成长</td>\n",
       "      <td>5.054859e+09</td>\n",
       "      <td>股票</td>\n",
       "      <td>002475</td>\n",
       "      <td>立讯精密</td>\n",
       "      <td>电子元器件</td>\n",
       "      <td>其他元器件</td>\n",
       "      <td>其他元器件</td>\n",
       "      <td>2010-09-20</td>\n",
       "      <td>0.0458</td>\n",
       "      <td>1427050.0</td>\n",
       "    </tr>\n",
       "    <tr>\n",
       "      <th>3</th>\n",
       "      <td>2020-06-30</td>\n",
       "      <td>000001</td>\n",
       "      <td>华夏成长</td>\n",
       "      <td>5.054859e+09</td>\n",
       "      <td>股票</td>\n",
       "      <td>002271</td>\n",
       "      <td>东方雨虹</td>\n",
       "      <td>建材</td>\n",
       "      <td>其他建材</td>\n",
       "      <td>新型建材及非金属新材料</td>\n",
       "      <td>2008-09-25</td>\n",
       "      <td>0.0441</td>\n",
       "      <td>5114883.0</td>\n",
       "    </tr>\n",
       "    <tr>\n",
       "      <th>4</th>\n",
       "      <td>2020-06-30</td>\n",
       "      <td>000001</td>\n",
       "      <td>华夏成长</td>\n",
       "      <td>5.054859e+09</td>\n",
       "      <td>股票</td>\n",
       "      <td>300142</td>\n",
       "      <td>沃森生物</td>\n",
       "      <td>医药</td>\n",
       "      <td>生物医药</td>\n",
       "      <td>生物医药</td>\n",
       "      <td>2010-12-07</td>\n",
       "      <td>0.0418</td>\n",
       "      <td>3259248.0</td>\n",
       "    </tr>\n",
       "  </tbody>\n",
       "</table>\n",
       "</div>"
      ],
      "text/plain": [
       "  ReportDate FundCode FundAbbr            NV AssetType SecuCode SecuAbbr  \\\n",
       "0 2020-06-30   000001     华夏成长  5.054859e+09        股票   002127     南极电商   \n",
       "1 2020-06-30   000001     华夏成长  5.054859e+09        股票   002384     东山精密   \n",
       "2 2020-06-30   000001     华夏成长  5.054859e+09        股票   002475     立讯精密   \n",
       "3 2020-06-30   000001     华夏成长  5.054859e+09        股票   002271     东方雨虹   \n",
       "4 2020-06-30   000001     华夏成长  5.054859e+09        股票   300142     沃森生物   \n",
       "\n",
       "  FirstIndustryName SecondIndustryName ThirdIndustryName InfoPublDate  \\\n",
       "0              商贸零售                 零售                连锁   2017-01-24   \n",
       "1             电子元器件              其他元器件             其他元器件   2019-07-22   \n",
       "2             电子元器件              其他元器件             其他元器件   2010-09-20   \n",
       "3                建材               其他建材       新型建材及非金属新材料   2008-09-25   \n",
       "4                医药               生物医药              生物医药   2010-12-07   \n",
       "\n",
       "   RatioInNV  ChangeOfSharesHolding  \n",
       "0     0.0799              5344450.0  \n",
       "1     0.0550              -726691.0  \n",
       "2     0.0458              1427050.0  \n",
       "3     0.0441              5114883.0  \n",
       "4     0.0418              3259248.0  "
      ]
     },
     "execution_count": 24,
     "metadata": {},
     "output_type": "execute_result"
    }
   ],
   "source": [
    "df.head()"
   ]
  },
  {
   "cell_type": "code",
   "execution_count": 25,
   "metadata": {},
   "outputs": [],
   "source": [
    "stocks = df[(df['ThirdIndustryName'] == '光伏') | \n",
    "            (df['ThirdIndustryName'] == '汽车零部件')]"
   ]
  },
  {
   "cell_type": "code",
   "execution_count": 26,
   "metadata": {},
   "outputs": [
    {
     "name": "stderr",
     "output_type": "stream",
     "text": [
      "C:\\Users\\zhangyang01\\AppData\\Local\\Continuum\\anaconda2\\envs\\py36\\lib\\site-packages\\ipykernel_launcher.py:1: SettingWithCopyWarning: \n",
      "A value is trying to be set on a copy of a slice from a DataFrame.\n",
      "Try using .loc[row_indexer,col_indexer] = value instead\n",
      "\n",
      "See the caveats in the documentation: https://pandas.pydata.org/pandas-docs/stable/user_guide/indexing.html#returning-a-view-versus-a-copy\n",
      "  \"\"\"Entry point for launching an IPython kernel.\n"
     ]
    }
   ],
   "source": [
    "stocks['holding'] = stocks['NV'] * stocks['RatioInNV']"
   ]
  },
  {
   "cell_type": "code",
   "execution_count": 29,
   "metadata": {},
   "outputs": [],
   "source": [
    "stock_holding = stocks.groupby('SecuCode').sum()['ChangeOfSharesHolding'].sort_values(ascending=False)"
   ]
  },
  {
   "cell_type": "code",
   "execution_count": 32,
   "metadata": {},
   "outputs": [],
   "source": [
    "stock_holding = pd.DataFrame(stock_holding)"
   ]
  },
  {
   "cell_type": "code",
   "execution_count": 39,
   "metadata": {},
   "outputs": [],
   "source": [
    "def to_windcode(code):\n",
    "    if code.startswith('6'):\n",
    "        return code + '.SH'\n",
    "    else:\n",
    "        return code + '.SZ'"
   ]
  },
  {
   "cell_type": "code",
   "execution_count": 40,
   "metadata": {},
   "outputs": [],
   "source": [
    "stock_holding['windcode'] = [to_windcode(x) for x in stock_holding.index]"
   ]
  },
  {
   "cell_type": "code",
   "execution_count": 41,
   "metadata": {},
   "outputs": [],
   "source": [
    "data = w.wss(stock_holding['windcode'].tolist(), 'free_float_shares')"
   ]
  },
  {
   "cell_type": "code",
   "execution_count": 43,
   "metadata": {},
   "outputs": [],
   "source": [
    "stock_holding['free_shares'] = data.Data[0]"
   ]
  },
  {
   "cell_type": "code",
   "execution_count": 44,
   "metadata": {},
   "outputs": [],
   "source": [
    "stock_holding['chg'] = stock_holding['ChangeOfSharesHolding'] / stock_holding['free_shares']"
   ]
  },
  {
   "cell_type": "code",
   "execution_count": 46,
   "metadata": {},
   "outputs": [],
   "source": [
    "stock_holding = stock_holding.sort_values('chg', ascending=False)"
   ]
  },
  {
   "cell_type": "code",
   "execution_count": 47,
   "metadata": {},
   "outputs": [],
   "source": [
    "stock_holding.to_excel('../data/持仓.xlsx')"
   ]
  },
  {
   "cell_type": "code",
   "execution_count": null,
   "metadata": {},
   "outputs": [],
   "source": []
  }
 ],
 "metadata": {
  "kernelspec": {
   "display_name": "Python 3",
   "language": "python",
   "name": "python3"
  },
  "language_info": {
   "codemirror_mode": {
    "name": "ipython",
    "version": 3
   },
   "file_extension": ".py",
   "mimetype": "text/x-python",
   "name": "python",
   "nbconvert_exporter": "python",
   "pygments_lexer": "ipython3",
   "version": "3.6.5"
  }
 },
 "nbformat": 4,
 "nbformat_minor": 2
}
