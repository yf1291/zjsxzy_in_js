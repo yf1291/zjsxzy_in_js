{
 "cells": [
  {
   "cell_type": "code",
   "execution_count": 40,
   "metadata": {},
   "outputs": [],
   "source": [
    "import pandas as pd\n",
    "import numpy as np\n",
    "from WindPy import w\n",
    "import matplotlib.pyplot as plt\n",
    "from adjustText import adjust_text\n",
    "%matplotlib inline"
   ]
  },
  {
   "cell_type": "code",
   "execution_count": 2,
   "metadata": {},
   "outputs": [
    {
     "name": "stdout",
     "output_type": "stream",
     "text": [
      "Welcome to use Wind Quant API for Python (WindPy)!\n",
      "\n",
      "COPYRIGHT (C) 2020 WIND INFORMATION CO., LTD. ALL RIGHTS RESERVED.\n",
      "IN NO CIRCUMSTANCE SHALL WIND BE RESPONSIBLE FOR ANY DAMAGES OR LOSSES CAUSED BY USING WIND QUANT API FOR Python.\n"
     ]
    },
    {
     "data": {
      "text/plain": [
       ".ErrorCode=0\n",
       ".Data=[OK!]"
      ]
     },
     "execution_count": 2,
     "metadata": {},
     "output_type": "execute_result"
    }
   ],
   "source": [
    "w.start()"
   ]
  },
  {
   "cell_type": "code",
   "execution_count": 22,
   "metadata": {},
   "outputs": [],
   "source": [
    "DATA_DIR = 'D:/OneDrive/嘉实/资产配置/'\n",
    "file_name = '行业龙头.xlsx'"
   ]
  },
  {
   "cell_type": "code",
   "execution_count": 23,
   "metadata": {},
   "outputs": [],
   "source": [
    "df = pd.read_excel('%s/%s'%(DATA_DIR, file_name))"
   ]
  },
  {
   "cell_type": "code",
   "execution_count": 34,
   "metadata": {},
   "outputs": [],
   "source": [
    "sectors = df[['申万三级行业名称']].drop_duplicates()\n",
    "sectors.index = range(sectors.size)"
   ]
  },
  {
   "cell_type": "markdown",
   "metadata": {},
   "source": [
    "# 申万三级行业指数"
   ]
  },
  {
   "cell_type": "code",
   "execution_count": 6,
   "metadata": {},
   "outputs": [],
   "source": [
    "data = w.wset(\"sectorconstituent\",\"date=2020-10-20;sectorid=a39901011i000000;field=wind_code,sec_name\")"
   ]
  },
  {
   "cell_type": "code",
   "execution_count": 12,
   "metadata": {},
   "outputs": [],
   "source": [
    "sw_df = pd.DataFrame(data.Data, index=data.Fields)\n",
    "sw_df = sw_df.T"
   ]
  },
  {
   "cell_type": "code",
   "execution_count": 20,
   "metadata": {},
   "outputs": [],
   "source": [
    "sw_df['申万三级行业名称'] = [x.rstrip('(申万)') for x in sw_df['sec_name']]"
   ]
  },
  {
   "cell_type": "code",
   "execution_count": 21,
   "metadata": {},
   "outputs": [
    {
     "data": {
      "text/html": [
       "<div>\n",
       "<style scoped>\n",
       "    .dataframe tbody tr th:only-of-type {\n",
       "        vertical-align: middle;\n",
       "    }\n",
       "\n",
       "    .dataframe tbody tr th {\n",
       "        vertical-align: top;\n",
       "    }\n",
       "\n",
       "    .dataframe thead th {\n",
       "        text-align: right;\n",
       "    }\n",
       "</style>\n",
       "<table border=\"1\" class=\"dataframe\">\n",
       "  <thead>\n",
       "    <tr style=\"text-align: right;\">\n",
       "      <th></th>\n",
       "      <th>wind_code</th>\n",
       "      <th>sec_name</th>\n",
       "      <th>申万三级行业名称</th>\n",
       "    </tr>\n",
       "  </thead>\n",
       "  <tbody>\n",
       "    <tr>\n",
       "      <th>0</th>\n",
       "      <td>850111.SI</td>\n",
       "      <td>种子生产(申万)</td>\n",
       "      <td>种子生产</td>\n",
       "    </tr>\n",
       "    <tr>\n",
       "      <th>1</th>\n",
       "      <td>850112.SI</td>\n",
       "      <td>粮食种植(申万)</td>\n",
       "      <td>粮食种植</td>\n",
       "    </tr>\n",
       "    <tr>\n",
       "      <th>2</th>\n",
       "      <td>850113.SI</td>\n",
       "      <td>其他种植业(申万)</td>\n",
       "      <td>其他种植业</td>\n",
       "    </tr>\n",
       "    <tr>\n",
       "      <th>3</th>\n",
       "      <td>850121.SI</td>\n",
       "      <td>海洋捕捞(申万)</td>\n",
       "      <td>海洋捕捞</td>\n",
       "    </tr>\n",
       "    <tr>\n",
       "      <th>4</th>\n",
       "      <td>850122.SI</td>\n",
       "      <td>水产养殖(申万)</td>\n",
       "      <td>水产养殖</td>\n",
       "    </tr>\n",
       "    <tr>\n",
       "      <th>...</th>\n",
       "      <td>...</td>\n",
       "      <td>...</td>\n",
       "      <td>...</td>\n",
       "    </tr>\n",
       "    <tr>\n",
       "      <th>222</th>\n",
       "      <td>857344.SI</td>\n",
       "      <td>线缆部件及其他(申万)</td>\n",
       "      <td>线缆部件及其他</td>\n",
       "    </tr>\n",
       "    <tr>\n",
       "      <th>223</th>\n",
       "      <td>857411.SI</td>\n",
       "      <td>航天装备Ⅲ(申万)</td>\n",
       "      <td>航天装备Ⅲ</td>\n",
       "    </tr>\n",
       "    <tr>\n",
       "      <th>224</th>\n",
       "      <td>857421.SI</td>\n",
       "      <td>航空装备Ⅲ(申万)</td>\n",
       "      <td>航空装备Ⅲ</td>\n",
       "    </tr>\n",
       "    <tr>\n",
       "      <th>225</th>\n",
       "      <td>857431.SI</td>\n",
       "      <td>地面兵装Ⅲ(申万)</td>\n",
       "      <td>地面兵装Ⅲ</td>\n",
       "    </tr>\n",
       "    <tr>\n",
       "      <th>226</th>\n",
       "      <td>858811.SI</td>\n",
       "      <td>其他交运设备Ⅲ(申万)</td>\n",
       "      <td>其他交运设备Ⅲ</td>\n",
       "    </tr>\n",
       "  </tbody>\n",
       "</table>\n",
       "<p>227 rows × 3 columns</p>\n",
       "</div>"
      ],
      "text/plain": [
       "     wind_code     sec_name 申万三级行业名称\n",
       "0    850111.SI     种子生产(申万)     种子生产\n",
       "1    850112.SI     粮食种植(申万)     粮食种植\n",
       "2    850113.SI    其他种植业(申万)    其他种植业\n",
       "3    850121.SI     海洋捕捞(申万)     海洋捕捞\n",
       "4    850122.SI     水产养殖(申万)     水产养殖\n",
       "..         ...          ...      ...\n",
       "222  857344.SI  线缆部件及其他(申万)  线缆部件及其他\n",
       "223  857411.SI    航天装备Ⅲ(申万)    航天装备Ⅲ\n",
       "224  857421.SI    航空装备Ⅲ(申万)    航空装备Ⅲ\n",
       "225  857431.SI    地面兵装Ⅲ(申万)    地面兵装Ⅲ\n",
       "226  858811.SI  其他交运设备Ⅲ(申万)  其他交运设备Ⅲ\n",
       "\n",
       "[227 rows x 3 columns]"
      ]
     },
     "execution_count": 21,
     "metadata": {},
     "output_type": "execute_result"
    }
   ],
   "source": [
    "sw_df"
   ]
  },
  {
   "cell_type": "markdown",
   "metadata": {},
   "source": [
    "# 合并行业龙头表"
   ]
  },
  {
   "cell_type": "code",
   "execution_count": 35,
   "metadata": {},
   "outputs": [],
   "source": [
    "sectors = sectors.join(sw_df.set_index('申万三级行业名称'), on='申万三级行业名称')"
   ]
  },
  {
   "cell_type": "code",
   "execution_count": 37,
   "metadata": {},
   "outputs": [],
   "source": [
    "data = w.wss(sectors['wind_code'].tolist(), \n",
    "             \"risk_returnyearly_index,stdevry\",\n",
    "             \"startDate=20100101;endDate=20201019;returnType=1;period=2\")"
   ]
  },
  {
   "cell_type": "code",
   "execution_count": 42,
   "metadata": {},
   "outputs": [],
   "source": [
    "sectors['ret'] = data.Data[0]\n",
    "sectors['vol'] = data.Data[1]"
   ]
  },
  {
   "cell_type": "code",
   "execution_count": 43,
   "metadata": {},
   "outputs": [
    {
     "data": {
      "text/html": [
       "<div>\n",
       "<style scoped>\n",
       "    .dataframe tbody tr th:only-of-type {\n",
       "        vertical-align: middle;\n",
       "    }\n",
       "\n",
       "    .dataframe tbody tr th {\n",
       "        vertical-align: top;\n",
       "    }\n",
       "\n",
       "    .dataframe thead th {\n",
       "        text-align: right;\n",
       "    }\n",
       "</style>\n",
       "<table border=\"1\" class=\"dataframe\">\n",
       "  <thead>\n",
       "    <tr style=\"text-align: right;\">\n",
       "      <th></th>\n",
       "      <th>申万三级行业名称</th>\n",
       "      <th>wind_code</th>\n",
       "      <th>sec_name</th>\n",
       "      <th>return</th>\n",
       "      <th>std</th>\n",
       "      <th>ret</th>\n",
       "      <th>vol</th>\n",
       "    </tr>\n",
       "  </thead>\n",
       "  <tbody>\n",
       "    <tr>\n",
       "      <th>0</th>\n",
       "      <td>银行Ⅲ</td>\n",
       "      <td>851911.SI</td>\n",
       "      <td>银行Ⅲ(申万)</td>\n",
       "      <td>2.563500</td>\n",
       "      <td>23.000680</td>\n",
       "      <td>2.563500</td>\n",
       "      <td>23.000680</td>\n",
       "    </tr>\n",
       "    <tr>\n",
       "      <th>1</th>\n",
       "      <td>证券Ⅲ</td>\n",
       "      <td>851931.SI</td>\n",
       "      <td>证券Ⅲ(申万)</td>\n",
       "      <td>-0.898031</td>\n",
       "      <td>36.838365</td>\n",
       "      <td>-0.898031</td>\n",
       "      <td>36.838365</td>\n",
       "    </tr>\n",
       "    <tr>\n",
       "      <th>2</th>\n",
       "      <td>保险Ⅲ</td>\n",
       "      <td>851941.SI</td>\n",
       "      <td>保险Ⅲ(申万)</td>\n",
       "      <td>7.275859</td>\n",
       "      <td>30.089363</td>\n",
       "      <td>7.275859</td>\n",
       "      <td>30.089363</td>\n",
       "    </tr>\n",
       "    <tr>\n",
       "      <th>3</th>\n",
       "      <td>房地产开发Ⅲ</td>\n",
       "      <td>851811.SI</td>\n",
       "      <td>房地产开发Ⅲ(申万)</td>\n",
       "      <td>1.298589</td>\n",
       "      <td>27.986832</td>\n",
       "      <td>1.298589</td>\n",
       "      <td>27.986832</td>\n",
       "    </tr>\n",
       "    <tr>\n",
       "      <th>4</th>\n",
       "      <td>白酒</td>\n",
       "      <td>851231.SI</td>\n",
       "      <td>白酒(申万)</td>\n",
       "      <td>20.658939</td>\n",
       "      <td>28.193201</td>\n",
       "      <td>20.658939</td>\n",
       "      <td>28.193201</td>\n",
       "    </tr>\n",
       "    <tr>\n",
       "      <th>...</th>\n",
       "      <td>...</td>\n",
       "      <td>...</td>\n",
       "      <td>...</td>\n",
       "      <td>...</td>\n",
       "      <td>...</td>\n",
       "      <td>...</td>\n",
       "      <td>...</td>\n",
       "    </tr>\n",
       "    <tr>\n",
       "      <th>73</th>\n",
       "      <td>移动互联网服务</td>\n",
       "      <td>852222.SI</td>\n",
       "      <td>移动互联网服务(申万)</td>\n",
       "      <td>5.301687</td>\n",
       "      <td>39.267099</td>\n",
       "      <td>5.301687</td>\n",
       "      <td>39.267099</td>\n",
       "    </tr>\n",
       "    <tr>\n",
       "      <th>74</th>\n",
       "      <td>互联网信息服务</td>\n",
       "      <td>852221.SI</td>\n",
       "      <td>互联网信息服务(申万)</td>\n",
       "      <td>20.936833</td>\n",
       "      <td>38.992090</td>\n",
       "      <td>20.936833</td>\n",
       "      <td>38.992090</td>\n",
       "    </tr>\n",
       "    <tr>\n",
       "      <th>75</th>\n",
       "      <td>影视动漫</td>\n",
       "      <td>852242.SI</td>\n",
       "      <td>影视动漫(申万)</td>\n",
       "      <td>2.848618</td>\n",
       "      <td>36.073584</td>\n",
       "      <td>2.848618</td>\n",
       "      <td>36.073584</td>\n",
       "    </tr>\n",
       "    <tr>\n",
       "      <th>76</th>\n",
       "      <td>人工景点</td>\n",
       "      <td>852111.SI</td>\n",
       "      <td>人工景点(申万)</td>\n",
       "      <td>15.018144</td>\n",
       "      <td>37.840130</td>\n",
       "      <td>15.018144</td>\n",
       "      <td>37.840130</td>\n",
       "    </tr>\n",
       "    <tr>\n",
       "      <th>77</th>\n",
       "      <td>其他文化传媒</td>\n",
       "      <td>852244.SI</td>\n",
       "      <td>其他文化传媒(申万)</td>\n",
       "      <td>-16.937895</td>\n",
       "      <td>49.538575</td>\n",
       "      <td>-16.937895</td>\n",
       "      <td>49.538575</td>\n",
       "    </tr>\n",
       "  </tbody>\n",
       "</table>\n",
       "<p>78 rows × 7 columns</p>\n",
       "</div>"
      ],
      "text/plain": [
       "   申万三级行业名称  wind_code     sec_name     return        std        ret  \\\n",
       "0       银行Ⅲ  851911.SI      银行Ⅲ(申万)   2.563500  23.000680   2.563500   \n",
       "1       证券Ⅲ  851931.SI      证券Ⅲ(申万)  -0.898031  36.838365  -0.898031   \n",
       "2       保险Ⅲ  851941.SI      保险Ⅲ(申万)   7.275859  30.089363   7.275859   \n",
       "3    房地产开发Ⅲ  851811.SI   房地产开发Ⅲ(申万)   1.298589  27.986832   1.298589   \n",
       "4        白酒  851231.SI       白酒(申万)  20.658939  28.193201  20.658939   \n",
       "..      ...        ...          ...        ...        ...        ...   \n",
       "73  移动互联网服务  852222.SI  移动互联网服务(申万)   5.301687  39.267099   5.301687   \n",
       "74  互联网信息服务  852221.SI  互联网信息服务(申万)  20.936833  38.992090  20.936833   \n",
       "75     影视动漫  852242.SI     影视动漫(申万)   2.848618  36.073584   2.848618   \n",
       "76     人工景点  852111.SI     人工景点(申万)  15.018144  37.840130  15.018144   \n",
       "77   其他文化传媒  852244.SI   其他文化传媒(申万) -16.937895  49.538575 -16.937895   \n",
       "\n",
       "          vol  \n",
       "0   23.000680  \n",
       "1   36.838365  \n",
       "2   30.089363  \n",
       "3   27.986832  \n",
       "4   28.193201  \n",
       "..        ...  \n",
       "73  39.267099  \n",
       "74  38.992090  \n",
       "75  36.073584  \n",
       "76  37.840130  \n",
       "77  49.538575  \n",
       "\n",
       "[78 rows x 7 columns]"
      ]
     },
     "execution_count": 43,
     "metadata": {},
     "output_type": "execute_result"
    }
   ],
   "source": [
    "sectors"
   ]
  },
  {
   "cell_type": "code",
   "execution_count": null,
   "metadata": {},
   "outputs": [],
   "source": [
    "fig, ax = plt.subplots(figsize=(16, 9))\n",
    "\n",
    "ax.scatter(sectors['vol'], sectors['ret'], color='blue', s=100)\n",
    "\n",
    "texts = [ax.text(sectors['vol'][i], sectors['ret'][i], sectors['申万三级行业名称'][i], fontsize=10) for i in range(sectors.shape[0])]\n",
    "adjust_text(texts)\n",
    "\n",
    "ax.xaxis.set_tick_params(labelsize=15)\n",
    "ax.yaxis.set_tick_params(labelsize=15)\n",
    "ax.set_ylabel('年化收益率（%）', fontsize=15)\n",
    "ax.set_xlabel('年化波动率（%）', fontsize=15)\n",
    "_ = ax.set_title('行业龙头风险收益特征', fontsize=25, y=1)\n",
    "fig.savefig('../pic/行业龙头风险收益特征.png', format='png', dpi=400, bbox_inches='tight')"
   ]
  },
  {
   "cell_type": "code",
   "execution_count": null,
   "metadata": {},
   "outputs": [],
   "source": []
  }
 ],
 "metadata": {
  "kernelspec": {
   "display_name": "Python 3",
   "language": "python",
   "name": "python3"
  },
  "language_info": {
   "codemirror_mode": {
    "name": "ipython",
    "version": 3
   },
   "file_extension": ".py",
   "mimetype": "text/x-python",
   "name": "python",
   "nbconvert_exporter": "python",
   "pygments_lexer": "ipython3",
   "version": "3.6.5"
  }
 },
 "nbformat": 4,
 "nbformat_minor": 2
}
