{
 "cells": [
  {
   "cell_type": "code",
   "execution_count": 1,
   "metadata": {},
   "outputs": [],
   "source": [
    "import pandas as pd\n",
    "import numpy as np\n",
    "from WindPy import w"
   ]
  },
  {
   "cell_type": "code",
   "execution_count": 2,
   "metadata": {},
   "outputs": [
    {
     "name": "stdout",
     "output_type": "stream",
     "text": [
      "Welcome to use Wind Quant API for Python (WindPy)!\n",
      "\n",
      "COPYRIGHT (C) 2017 WIND INFORMATION CO., LTD. ALL RIGHTS RESERVED.\n",
      "IN NO CIRCUMSTANCE SHALL WIND BE RESPONSIBLE FOR ANY DAMAGES OR LOSSES CAUSED BY USING WIND QUANT API FOR Python.\n"
     ]
    },
    {
     "data": {
      "text/plain": [
       ".ErrorCode=0\n",
       ".Data=[OK!]"
      ]
     },
     "execution_count": 2,
     "metadata": {},
     "output_type": "execute_result"
    }
   ],
   "source": [
    "w.start()"
   ]
  },
  {
   "cell_type": "code",
   "execution_count": 32,
   "metadata": {},
   "outputs": [
    {
     "name": "stdout",
     "output_type": "stream",
     "text": [
      "WARNING *** OLE2 inconsistency: SSCS size is 0 but SSAT size is non-zero\n"
     ]
    }
   ],
   "source": [
    "# df = pd.read_excel('D:/tmp/股票池.xlsx', converters={'代码': str}, sheet_name='成长')\n",
    "df = pd.read_excel('\\\\\\\\hfm-pubshare\\HFM各部门共享\\Harvest嘉实全体员工\\YANJJ\\综合信息查询_组合证券.xls',\n",
    "                   index_col=0, converters={'证券代码': str})"
   ]
  },
  {
   "cell_type": "code",
   "execution_count": 33,
   "metadata": {},
   "outputs": [],
   "source": [
    "def code2windcode(x):\n",
    "    if type(x) == str:\n",
    "        if x.startswith('6'):\n",
    "            return x + '.SH'\n",
    "        else:\n",
    "            return x + '.SZ'\n",
    "    else:\n",
    "        return ''"
   ]
  },
  {
   "cell_type": "code",
   "execution_count": 35,
   "metadata": {},
   "outputs": [],
   "source": [
    "df = df.drop(df.index[-1])"
   ]
  },
  {
   "cell_type": "code",
   "execution_count": 36,
   "metadata": {},
   "outputs": [
    {
     "name": "stderr",
     "output_type": "stream",
     "text": [
      "C:\\Users\\zhangyang01\\AppData\\Local\\Continuum\\anaconda2\\envs\\py36\\lib\\site-packages\\ipykernel_launcher.py:1: SettingWithCopyWarning: \n",
      "A value is trying to be set on a copy of a slice from a DataFrame.\n",
      "Try using .loc[row_indexer,col_indexer] = value instead\n",
      "\n",
      "See the caveats in the documentation: https://pandas.pydata.org/pandas-docs/stable/user_guide/indexing.html#returning-a-view-versus-a-copy\n",
      "  \"\"\"Entry point for launching an IPython kernel.\n"
     ]
    }
   ],
   "source": [
    "df['windcode'] = [code2windcode(x) for x in df['证券代码']]"
   ]
  },
  {
   "cell_type": "code",
   "execution_count": 38,
   "metadata": {},
   "outputs": [],
   "source": [
    "data = w.wss(df['windcode'].tolist(), 'industry_sw', 'industryType=2')"
   ]
  },
  {
   "cell_type": "code",
   "execution_count": 39,
   "metadata": {},
   "outputs": [
    {
     "name": "stderr",
     "output_type": "stream",
     "text": [
      "C:\\Users\\zhangyang01\\AppData\\Local\\Continuum\\anaconda2\\envs\\py36\\lib\\site-packages\\ipykernel_launcher.py:1: SettingWithCopyWarning: \n",
      "A value is trying to be set on a copy of a slice from a DataFrame.\n",
      "Try using .loc[row_indexer,col_indexer] = value instead\n",
      "\n",
      "See the caveats in the documentation: https://pandas.pydata.org/pandas-docs/stable/user_guide/indexing.html#returning-a-view-versus-a-copy\n",
      "  \"\"\"Entry point for launching an IPython kernel.\n"
     ]
    }
   ],
   "source": [
    "df['industry_sw'] = data.Data[0]"
   ]
  },
  {
   "cell_type": "code",
   "execution_count": 41,
   "metadata": {},
   "outputs": [],
   "source": [
    "industry = pd.read_excel('../data/申万行业分类表.xlsx')"
   ]
  },
  {
   "cell_type": "code",
   "execution_count": 51,
   "metadata": {},
   "outputs": [],
   "source": [
    "industry2theme = {}\n",
    "for col in industry.columns:\n",
    "    for i in industry[col]:\n",
    "        if type(i) == str:\n",
    "            industry2theme[i.rstrip('(申万)')] = col\n",
    "            industry2theme[i.rstrip('Ⅱ(申万)')] = col\n",
    "#             print(i.rstrip('Ⅱ(申万)'), col)\n",
    "industry2theme['证券Ⅱ'] = '金融地产'\n",
    "industry2theme[None] = 'None'"
   ]
  },
  {
   "cell_type": "code",
   "execution_count": 52,
   "metadata": {},
   "outputs": [
    {
     "name": "stderr",
     "output_type": "stream",
     "text": [
      "C:\\Users\\zhangyang01\\AppData\\Local\\Continuum\\anaconda2\\envs\\py36\\lib\\site-packages\\ipykernel_launcher.py:1: SettingWithCopyWarning: \n",
      "A value is trying to be set on a copy of a slice from a DataFrame.\n",
      "Try using .loc[row_indexer,col_indexer] = value instead\n",
      "\n",
      "See the caveats in the documentation: https://pandas.pydata.org/pandas-docs/stable/user_guide/indexing.html#returning-a-view-versus-a-copy\n",
      "  \"\"\"Entry point for launching an IPython kernel.\n"
     ]
    }
   ],
   "source": [
    "df['industry_theme'] = [industry2theme[x] for x in df['industry_sw']]"
   ]
  },
  {
   "cell_type": "code",
   "execution_count": 53,
   "metadata": {},
   "outputs": [
    {
     "data": {
      "text/html": [
       "<div>\n",
       "<style scoped>\n",
       "    .dataframe tbody tr th:only-of-type {\n",
       "        vertical-align: middle;\n",
       "    }\n",
       "\n",
       "    .dataframe tbody tr th {\n",
       "        vertical-align: top;\n",
       "    }\n",
       "\n",
       "    .dataframe thead th {\n",
       "        text-align: right;\n",
       "    }\n",
       "</style>\n",
       "<table border=\"1\" class=\"dataframe\">\n",
       "  <thead>\n",
       "    <tr style=\"text-align: right;\">\n",
       "      <th></th>\n",
       "      <th>市值比净值(%)</th>\n",
       "      <th>当日涨跌幅(%)</th>\n",
       "      <th>市值</th>\n",
       "      <th>持仓</th>\n",
       "      <th>浮盈率(%)</th>\n",
       "      <th>盈亏率(%)</th>\n",
       "      <th>当日卖量</th>\n",
       "      <th>当日买金额</th>\n",
       "      <th>净买量</th>\n",
       "      <th>当日卖金额</th>\n",
       "      <th>...</th>\n",
       "      <th>上一日累计盈亏</th>\n",
       "      <th>本币盈亏率(%)</th>\n",
       "      <th>当日卖出结转成本</th>\n",
       "      <th>债券剩余天数（年）</th>\n",
       "      <th>债券剩余存续天数（年）</th>\n",
       "      <th>代销机构名称</th>\n",
       "      <th>成本比总资产(%)</th>\n",
       "      <th>收益率(%)</th>\n",
       "      <th>新累计盈亏（含费用）</th>\n",
       "      <th>收益率(新)(%)</th>\n",
       "    </tr>\n",
       "    <tr>\n",
       "      <th>industry_theme</th>\n",
       "      <th></th>\n",
       "      <th></th>\n",
       "      <th></th>\n",
       "      <th></th>\n",
       "      <th></th>\n",
       "      <th></th>\n",
       "      <th></th>\n",
       "      <th></th>\n",
       "      <th></th>\n",
       "      <th></th>\n",
       "      <th></th>\n",
       "      <th></th>\n",
       "      <th></th>\n",
       "      <th></th>\n",
       "      <th></th>\n",
       "      <th></th>\n",
       "      <th></th>\n",
       "      <th></th>\n",
       "      <th></th>\n",
       "      <th></th>\n",
       "      <th></th>\n",
       "    </tr>\n",
       "  </thead>\n",
       "  <tbody>\n",
       "    <tr>\n",
       "      <th>None</th>\n",
       "      <td>0.108791</td>\n",
       "      <td>0.000000</td>\n",
       "      <td>4.539063e+05</td>\n",
       "      <td>11471</td>\n",
       "      <td>0.000000</td>\n",
       "      <td>0.000000</td>\n",
       "      <td>0</td>\n",
       "      <td>0.000000e+00</td>\n",
       "      <td>0</td>\n",
       "      <td>0.00</td>\n",
       "      <td>...</td>\n",
       "      <td>0.00</td>\n",
       "      <td>0.000000</td>\n",
       "      <td>0.00</td>\n",
       "      <td>0.000000</td>\n",
       "      <td>0.000000</td>\n",
       "      <td>0.0</td>\n",
       "      <td>0.108328</td>\n",
       "      <td>0.000000</td>\n",
       "      <td>0.00</td>\n",
       "      <td>0.000000</td>\n",
       "    </tr>\n",
       "    <tr>\n",
       "      <th>信息科技</th>\n",
       "      <td>50.742382</td>\n",
       "      <td>96.823039</td>\n",
       "      <td>2.117119e+08</td>\n",
       "      <td>5082096</td>\n",
       "      <td>282.057684</td>\n",
       "      <td>659.279014</td>\n",
       "      <td>2531790</td>\n",
       "      <td>1.434707e+08</td>\n",
       "      <td>1028991</td>\n",
       "      <td>73681201.62</td>\n",
       "      <td>...</td>\n",
       "      <td>3436720.02</td>\n",
       "      <td>659.279014</td>\n",
       "      <td>64429734.71</td>\n",
       "      <td>7984.709589</td>\n",
       "      <td>7984.709589</td>\n",
       "      <td>0.0</td>\n",
       "      <td>49.227487</td>\n",
       "      <td>444.670301</td>\n",
       "      <td>12083263.99</td>\n",
       "      <td>1804.409012</td>\n",
       "    </tr>\n",
       "    <tr>\n",
       "      <th>其他经济不敏感</th>\n",
       "      <td>1.074023</td>\n",
       "      <td>18.266119</td>\n",
       "      <td>4.481135e+06</td>\n",
       "      <td>50203</td>\n",
       "      <td>70.720108</td>\n",
       "      <td>133.098761</td>\n",
       "      <td>62900</td>\n",
       "      <td>0.000000e+00</td>\n",
       "      <td>-62900</td>\n",
       "      <td>7653695.00</td>\n",
       "      <td>...</td>\n",
       "      <td>35977.75</td>\n",
       "      <td>133.098761</td>\n",
       "      <td>7876241.00</td>\n",
       "      <td>0.000000</td>\n",
       "      <td>0.000000</td>\n",
       "      <td>0.0</td>\n",
       "      <td>0.874855</td>\n",
       "      <td>63.838776</td>\n",
       "      <td>-213671.49</td>\n",
       "      <td>-947.306966</td>\n",
       "    </tr>\n",
       "    <tr>\n",
       "      <th>其他经济敏感</th>\n",
       "      <td>0.017890</td>\n",
       "      <td>37.661457</td>\n",
       "      <td>7.464332e+04</td>\n",
       "      <td>2014</td>\n",
       "      <td>167.747384</td>\n",
       "      <td>409.756469</td>\n",
       "      <td>2118660</td>\n",
       "      <td>0.000000e+00</td>\n",
       "      <td>-2118660</td>\n",
       "      <td>47990733.59</td>\n",
       "      <td>...</td>\n",
       "      <td>25278.30</td>\n",
       "      <td>409.756469</td>\n",
       "      <td>39175301.19</td>\n",
       "      <td>0.000000</td>\n",
       "      <td>0.000000</td>\n",
       "      <td>0.0</td>\n",
       "      <td>0.007655</td>\n",
       "      <td>264.279630</td>\n",
       "      <td>8704739.51</td>\n",
       "      <td>409.756469</td>\n",
       "    </tr>\n",
       "    <tr>\n",
       "      <th>可选消费</th>\n",
       "      <td>0.894477</td>\n",
       "      <td>1.381175</td>\n",
       "      <td>3.732018e+06</td>\n",
       "      <td>195701</td>\n",
       "      <td>-0.070960</td>\n",
       "      <td>-0.070910</td>\n",
       "      <td>638560</td>\n",
       "      <td>3.734666e+06</td>\n",
       "      <td>-442859</td>\n",
       "      <td>26725539.80</td>\n",
       "      <td>...</td>\n",
       "      <td>154664.00</td>\n",
       "      <td>-0.070910</td>\n",
       "      <td>23629935.44</td>\n",
       "      <td>0.000000</td>\n",
       "      <td>0.000000</td>\n",
       "      <td>0.0</td>\n",
       "      <td>0.891307</td>\n",
       "      <td>25.975975</td>\n",
       "      <td>3168987.06</td>\n",
       "      <td>-0.170740</td>\n",
       "    </tr>\n",
       "    <tr>\n",
       "      <th>必选医药</th>\n",
       "      <td>16.151893</td>\n",
       "      <td>55.982434</td>\n",
       "      <td>6.739038e+07</td>\n",
       "      <td>1542300</td>\n",
       "      <td>343.077355</td>\n",
       "      <td>3937.086181</td>\n",
       "      <td>1366700</td>\n",
       "      <td>3.057994e+07</td>\n",
       "      <td>-809300</td>\n",
       "      <td>23447419.59</td>\n",
       "      <td>...</td>\n",
       "      <td>-128510.00</td>\n",
       "      <td>3937.086181</td>\n",
       "      <td>21663436.96</td>\n",
       "      <td>0.000000</td>\n",
       "      <td>0.000000</td>\n",
       "      <td>0.0</td>\n",
       "      <td>13.194015</td>\n",
       "      <td>1979.971085</td>\n",
       "      <td>1523543.18</td>\n",
       "      <td>3934.314697</td>\n",
       "    </tr>\n",
       "    <tr>\n",
       "      <th>金融地产</th>\n",
       "      <td>5.377325</td>\n",
       "      <td>13.079809</td>\n",
       "      <td>2.243576e+07</td>\n",
       "      <td>833783</td>\n",
       "      <td>65.862748</td>\n",
       "      <td>99.223452</td>\n",
       "      <td>3053220</td>\n",
       "      <td>0.000000e+00</td>\n",
       "      <td>-3053220</td>\n",
       "      <td>52229486.61</td>\n",
       "      <td>...</td>\n",
       "      <td>159396.04</td>\n",
       "      <td>99.223452</td>\n",
       "      <td>48371920.84</td>\n",
       "      <td>0.000000</td>\n",
       "      <td>0.000000</td>\n",
       "      <td>0.0</td>\n",
       "      <td>3.799998</td>\n",
       "      <td>73.852356</td>\n",
       "      <td>3844110.46</td>\n",
       "      <td>98.793098</td>\n",
       "    </tr>\n",
       "  </tbody>\n",
       "</table>\n",
       "<p>7 rows × 164 columns</p>\n",
       "</div>"
      ],
      "text/plain": [
       "                 市值比净值(%)   当日涨跌幅(%)            市值       持仓      浮盈率(%)  \\\n",
       "industry_theme                                                            \n",
       "None             0.108791   0.000000  4.539063e+05    11471    0.000000   \n",
       "信息科技            50.742382  96.823039  2.117119e+08  5082096  282.057684   \n",
       "其他经济不敏感          1.074023  18.266119  4.481135e+06    50203   70.720108   \n",
       "其他经济敏感           0.017890  37.661457  7.464332e+04     2014  167.747384   \n",
       "可选消费             0.894477   1.381175  3.732018e+06   195701   -0.070960   \n",
       "必选医药            16.151893  55.982434  6.739038e+07  1542300  343.077355   \n",
       "金融地产             5.377325  13.079809  2.243576e+07   833783   65.862748   \n",
       "\n",
       "                     盈亏率(%)     当日卖量         当日买金额      净买量        当日卖金额  ...  \\\n",
       "industry_theme                                                            ...   \n",
       "None               0.000000        0  0.000000e+00        0         0.00  ...   \n",
       "信息科技             659.279014  2531790  1.434707e+08  1028991  73681201.62  ...   \n",
       "其他经济不敏感          133.098761    62900  0.000000e+00   -62900   7653695.00  ...   \n",
       "其他经济敏感           409.756469  2118660  0.000000e+00 -2118660  47990733.59  ...   \n",
       "可选消费              -0.070910   638560  3.734666e+06  -442859  26725539.80  ...   \n",
       "必选医药            3937.086181  1366700  3.057994e+07  -809300  23447419.59  ...   \n",
       "金融地产              99.223452  3053220  0.000000e+00 -3053220  52229486.61  ...   \n",
       "\n",
       "                   上一日累计盈亏     本币盈亏率(%)     当日卖出结转成本    债券剩余天数（年）  \\\n",
       "industry_theme                                                      \n",
       "None                  0.00     0.000000         0.00     0.000000   \n",
       "信息科技            3436720.02   659.279014  64429734.71  7984.709589   \n",
       "其他经济不敏感           35977.75   133.098761   7876241.00     0.000000   \n",
       "其他经济敏感            25278.30   409.756469  39175301.19     0.000000   \n",
       "可选消费             154664.00    -0.070910  23629935.44     0.000000   \n",
       "必选医药            -128510.00  3937.086181  21663436.96     0.000000   \n",
       "金融地产             159396.04    99.223452  48371920.84     0.000000   \n",
       "\n",
       "                债券剩余存续天数（年）  代销机构名称  成本比总资产(%)       收益率(%)   新累计盈亏（含费用）  \\\n",
       "industry_theme                                                             \n",
       "None               0.000000     0.0   0.108328     0.000000         0.00   \n",
       "信息科技            7984.709589     0.0  49.227487   444.670301  12083263.99   \n",
       "其他经济不敏感            0.000000     0.0   0.874855    63.838776   -213671.49   \n",
       "其他经济敏感             0.000000     0.0   0.007655   264.279630   8704739.51   \n",
       "可选消费               0.000000     0.0   0.891307    25.975975   3168987.06   \n",
       "必选医药               0.000000     0.0  13.194015  1979.971085   1523543.18   \n",
       "金融地产               0.000000     0.0   3.799998    73.852356   3844110.46   \n",
       "\n",
       "                  收益率(新)(%)  \n",
       "industry_theme               \n",
       "None               0.000000  \n",
       "信息科技            1804.409012  \n",
       "其他经济不敏感         -947.306966  \n",
       "其他经济敏感           409.756469  \n",
       "可选消费              -0.170740  \n",
       "必选医药            3934.314697  \n",
       "金融地产              98.793098  \n",
       "\n",
       "[7 rows x 164 columns]"
      ]
     },
     "execution_count": 53,
     "metadata": {},
     "output_type": "execute_result"
    }
   ],
   "source": [
    "df.groupby('industry_theme').sum()"
   ]
  },
  {
   "cell_type": "code",
   "execution_count": 41,
   "metadata": {},
   "outputs": [],
   "source": [
    "df.to_excel('C:/Users/zhangyang01/Desktop/创新成长.xlsx')"
   ]
  },
  {
   "cell_type": "code",
   "execution_count": null,
   "metadata": {},
   "outputs": [],
   "source": []
  }
 ],
 "metadata": {
  "kernelspec": {
   "display_name": "Python 3",
   "language": "python",
   "name": "python3"
  },
  "language_info": {
   "codemirror_mode": {
    "name": "ipython",
    "version": 3
   },
   "file_extension": ".py",
   "mimetype": "text/x-python",
   "name": "python",
   "nbconvert_exporter": "python",
   "pygments_lexer": "ipython3",
   "version": "3.6.5"
  }
 },
 "nbformat": 4,
 "nbformat_minor": 2
}
