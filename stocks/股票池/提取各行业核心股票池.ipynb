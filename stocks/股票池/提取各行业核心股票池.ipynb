{
 "cells": [
  {
   "cell_type": "code",
   "execution_count": 184,
   "metadata": {},
   "outputs": [],
   "source": [
    "import pandas as pd\n",
    "import numpy as np"
   ]
  },
  {
   "cell_type": "code",
   "execution_count": 185,
   "metadata": {},
   "outputs": [],
   "source": [
    "DATA_DIR = '\\\\\\\\hg-pubshare\\HFM各部门共享\\资产配置投资研究中心\\张炀\\股票池'"
   ]
  },
  {
   "cell_type": "code",
   "execution_count": 186,
   "metadata": {},
   "outputs": [],
   "source": [
    "df = pd.read_excel('%s/股票池.xlsx'%(DATA_DIR))"
   ]
  },
  {
   "cell_type": "code",
   "execution_count": 187,
   "metadata": {},
   "outputs": [],
   "source": [
    "df['核心股票池(10)'] = np.NaN\n",
    "df['核心股票池(20)'] = np.NaN"
   ]
  },
  {
   "cell_type": "markdown",
   "metadata": {},
   "source": [
    "# 可选消费"
   ]
  },
  {
   "cell_type": "code",
   "execution_count": 188,
   "metadata": {},
   "outputs": [],
   "source": [
    "k = 20"
   ]
  },
  {
   "cell_type": "code",
   "execution_count": 189,
   "metadata": {},
   "outputs": [],
   "source": [
    "t = df[df['主题行业'] == '可选消费'].sort_values('总分', ascending=False)[:k]"
   ]
  },
  {
   "cell_type": "code",
   "execution_count": 190,
   "metadata": {},
   "outputs": [],
   "source": [
    "df.loc[t.index, '核心股票池(20)'] = 1"
   ]
  },
  {
   "cell_type": "code",
   "execution_count": 191,
   "metadata": {},
   "outputs": [],
   "source": [
    "k = 10"
   ]
  },
  {
   "cell_type": "code",
   "execution_count": 192,
   "metadata": {},
   "outputs": [],
   "source": [
    "t = df[df['主题行业'] == '可选消费'].sort_values('总分', ascending=False)[:k]"
   ]
  },
  {
   "cell_type": "code",
   "execution_count": 193,
   "metadata": {},
   "outputs": [],
   "source": [
    "df.loc[t.index, '核心股票池(10)'] = 1"
   ]
  },
  {
   "cell_type": "markdown",
   "metadata": {},
   "source": [
    "# 必选医药"
   ]
  },
  {
   "cell_type": "code",
   "execution_count": 194,
   "metadata": {},
   "outputs": [],
   "source": [
    "k = 20"
   ]
  },
  {
   "cell_type": "code",
   "execution_count": 195,
   "metadata": {},
   "outputs": [],
   "source": [
    "t = df[df['主题行业'] == '必选医药'].sort_values('总分', ascending=False)[:k]"
   ]
  },
  {
   "cell_type": "code",
   "execution_count": 196,
   "metadata": {},
   "outputs": [],
   "source": [
    "df.loc[t.index, '核心股票池(20)'] = 1"
   ]
  },
  {
   "cell_type": "code",
   "execution_count": 197,
   "metadata": {},
   "outputs": [],
   "source": [
    "k = 10"
   ]
  },
  {
   "cell_type": "code",
   "execution_count": 198,
   "metadata": {},
   "outputs": [],
   "source": [
    "t = df[df['主题行业'] == '必选医药'].sort_values('总分', ascending=False)[:k]"
   ]
  },
  {
   "cell_type": "code",
   "execution_count": 199,
   "metadata": {},
   "outputs": [],
   "source": [
    "df.loc[t.index, '核心股票池(10)'] = 1"
   ]
  },
  {
   "cell_type": "markdown",
   "metadata": {},
   "source": [
    "# 信息科技"
   ]
  },
  {
   "cell_type": "code",
   "execution_count": 200,
   "metadata": {},
   "outputs": [],
   "source": [
    "k = 20"
   ]
  },
  {
   "cell_type": "code",
   "execution_count": 201,
   "metadata": {},
   "outputs": [],
   "source": [
    "t = df[df['主题行业'] == '信息科技'].sort_values('总分', ascending=False)[:k]"
   ]
  },
  {
   "cell_type": "code",
   "execution_count": 202,
   "metadata": {},
   "outputs": [],
   "source": [
    "df.loc[t.index, '核心股票池(20)'] = 1"
   ]
  },
  {
   "cell_type": "code",
   "execution_count": 203,
   "metadata": {},
   "outputs": [],
   "source": [
    "k = 10"
   ]
  },
  {
   "cell_type": "code",
   "execution_count": 204,
   "metadata": {},
   "outputs": [],
   "source": [
    "t = df[df['主题行业'] == '信息科技'].sort_values('总分', ascending=False)[:k]"
   ]
  },
  {
   "cell_type": "code",
   "execution_count": 205,
   "metadata": {},
   "outputs": [],
   "source": [
    "df.loc[t.index, '核心股票池(10)'] = 1"
   ]
  },
  {
   "cell_type": "code",
   "execution_count": 206,
   "metadata": {},
   "outputs": [
    {
     "data": {
      "text/plain": [
       "(60, 21)"
      ]
     },
     "execution_count": 206,
     "metadata": {},
     "output_type": "execute_result"
    }
   ],
   "source": [
    "df[df['核心股票池(20)'] == 1].shape"
   ]
  },
  {
   "cell_type": "code",
   "execution_count": 207,
   "metadata": {},
   "outputs": [
    {
     "data": {
      "text/plain": [
       "(30, 21)"
      ]
     },
     "execution_count": 207,
     "metadata": {},
     "output_type": "execute_result"
    }
   ],
   "source": [
    "df[df['核心股票池(10)'] == 1].shape"
   ]
  },
  {
   "cell_type": "code",
   "execution_count": 210,
   "metadata": {},
   "outputs": [],
   "source": [
    "df.to_excel('%s/股票池.xlsx'%(DATA_DIR), index=False)"
   ]
  },
  {
   "cell_type": "code",
   "execution_count": 209,
   "metadata": {},
   "outputs": [
    {
     "data": {
      "text/html": [
       "<div>\n",
       "<style scoped>\n",
       "    .dataframe tbody tr th:only-of-type {\n",
       "        vertical-align: middle;\n",
       "    }\n",
       "\n",
       "    .dataframe tbody tr th {\n",
       "        vertical-align: top;\n",
       "    }\n",
       "\n",
       "    .dataframe thead th {\n",
       "        text-align: right;\n",
       "    }\n",
       "</style>\n",
       "<table border=\"1\" class=\"dataframe\">\n",
       "  <thead>\n",
       "    <tr style=\"text-align: right;\">\n",
       "      <th></th>\n",
       "      <th>主题行业</th>\n",
       "      <th>股票名称</th>\n",
       "      <th>细分行业</th>\n",
       "      <th>收盘价</th>\n",
       "      <th>上次预测时间</th>\n",
       "      <th>短评</th>\n",
       "      <th>长评</th>\n",
       "      <th>动量</th>\n",
       "      <th>增速(2020)</th>\n",
       "      <th>增速(2021)</th>\n",
       "      <th>...</th>\n",
       "      <th>pe(2020)</th>\n",
       "      <th>pe(2021)</th>\n",
       "      <th>pe(2022)</th>\n",
       "      <th>内部池(40%)</th>\n",
       "      <th>外部池(20%)</th>\n",
       "      <th>基金重仓池(30%)</th>\n",
       "      <th>外资重仓池(10%)</th>\n",
       "      <th>总分</th>\n",
       "      <th>核心股票池(10)</th>\n",
       "      <th>核心股票池(20)</th>\n",
       "    </tr>\n",
       "  </thead>\n",
       "  <tbody>\n",
       "    <tr>\n",
       "      <th>0</th>\n",
       "      <td>金融地产</td>\n",
       "      <td>中信证券</td>\n",
       "      <td>证券</td>\n",
       "      <td>30.50</td>\n",
       "      <td>2020-07-02</td>\n",
       "      <td>2.0</td>\n",
       "      <td>1.0</td>\n",
       "      <td>0.012882</td>\n",
       "      <td>0.15</td>\n",
       "      <td>0.15</td>\n",
       "      <td>...</td>\n",
       "      <td>25.416667</td>\n",
       "      <td>22.101449</td>\n",
       "      <td>19.677419</td>\n",
       "      <td>1.0</td>\n",
       "      <td>1.0</td>\n",
       "      <td>NaN</td>\n",
       "      <td>NaN</td>\n",
       "      <td>0.6</td>\n",
       "      <td>NaN</td>\n",
       "      <td>NaN</td>\n",
       "    </tr>\n",
       "    <tr>\n",
       "      <th>1</th>\n",
       "      <td>金融地产</td>\n",
       "      <td>招商银行</td>\n",
       "      <td>银行</td>\n",
       "      <td>36.44</td>\n",
       "      <td>2020-04-30</td>\n",
       "      <td>1.0</td>\n",
       "      <td>1.0</td>\n",
       "      <td>0.004710</td>\n",
       "      <td>0.18</td>\n",
       "      <td>0.16</td>\n",
       "      <td>...</td>\n",
       "      <td>8.133929</td>\n",
       "      <td>7.021195</td>\n",
       "      <td>6.103853</td>\n",
       "      <td>1.0</td>\n",
       "      <td>1.0</td>\n",
       "      <td>1.0</td>\n",
       "      <td>1.0</td>\n",
       "      <td>1.0</td>\n",
       "      <td>NaN</td>\n",
       "      <td>NaN</td>\n",
       "    </tr>\n",
       "    <tr>\n",
       "      <th>2</th>\n",
       "      <td>金融地产</td>\n",
       "      <td>宁波银行</td>\n",
       "      <td>银行</td>\n",
       "      <td>31.10</td>\n",
       "      <td>2020-07-13</td>\n",
       "      <td>1.0</td>\n",
       "      <td>1.0</td>\n",
       "      <td>0.010847</td>\n",
       "      <td>0.17</td>\n",
       "      <td>0.16</td>\n",
       "      <td>...</td>\n",
       "      <td>12.390438</td>\n",
       "      <td>10.724138</td>\n",
       "      <td>9.311377</td>\n",
       "      <td>1.0</td>\n",
       "      <td>1.0</td>\n",
       "      <td>NaN</td>\n",
       "      <td>NaN</td>\n",
       "      <td>0.6</td>\n",
       "      <td>NaN</td>\n",
       "      <td>NaN</td>\n",
       "    </tr>\n",
       "    <tr>\n",
       "      <th>3</th>\n",
       "      <td>金融地产</td>\n",
       "      <td>兴业银行</td>\n",
       "      <td>银行</td>\n",
       "      <td>16.28</td>\n",
       "      <td>2020-04-29</td>\n",
       "      <td>2.0</td>\n",
       "      <td>2.0</td>\n",
       "      <td>0.002342</td>\n",
       "      <td>0.09</td>\n",
       "      <td>0.10</td>\n",
       "      <td>...</td>\n",
       "      <td>4.678161</td>\n",
       "      <td>4.272966</td>\n",
       "      <td>3.786047</td>\n",
       "      <td>1.0</td>\n",
       "      <td>1.0</td>\n",
       "      <td>1.0</td>\n",
       "      <td>NaN</td>\n",
       "      <td>0.9</td>\n",
       "      <td>NaN</td>\n",
       "      <td>NaN</td>\n",
       "    </tr>\n",
       "    <tr>\n",
       "      <th>4</th>\n",
       "      <td>金融地产</td>\n",
       "      <td>金地集团</td>\n",
       "      <td>房地产开发</td>\n",
       "      <td>14.80</td>\n",
       "      <td>2020-03-11</td>\n",
       "      <td>2.0</td>\n",
       "      <td>2.0</td>\n",
       "      <td>0.007033</td>\n",
       "      <td>0.17</td>\n",
       "      <td>0.18</td>\n",
       "      <td>...</td>\n",
       "      <td>5.758755</td>\n",
       "      <td>4.884488</td>\n",
       "      <td>4.314869</td>\n",
       "      <td>NaN</td>\n",
       "      <td>NaN</td>\n",
       "      <td>1.0</td>\n",
       "      <td>NaN</td>\n",
       "      <td>0.3</td>\n",
       "      <td>NaN</td>\n",
       "      <td>NaN</td>\n",
       "    </tr>\n",
       "    <tr>\n",
       "      <th>...</th>\n",
       "      <td>...</td>\n",
       "      <td>...</td>\n",
       "      <td>...</td>\n",
       "      <td>...</td>\n",
       "      <td>...</td>\n",
       "      <td>...</td>\n",
       "      <td>...</td>\n",
       "      <td>...</td>\n",
       "      <td>...</td>\n",
       "      <td>...</td>\n",
       "      <td>...</td>\n",
       "      <td>...</td>\n",
       "      <td>...</td>\n",
       "      <td>...</td>\n",
       "      <td>...</td>\n",
       "      <td>...</td>\n",
       "      <td>...</td>\n",
       "      <td>...</td>\n",
       "      <td>...</td>\n",
       "      <td>...</td>\n",
       "      <td>...</td>\n",
       "    </tr>\n",
       "    <tr>\n",
       "      <th>400</th>\n",
       "      <td>其他经济不敏感</td>\n",
       "      <td>富安娜</td>\n",
       "      <td>家纺</td>\n",
       "      <td>7.59</td>\n",
       "      <td>NaN</td>\n",
       "      <td>NaN</td>\n",
       "      <td>NaN</td>\n",
       "      <td>0.005080</td>\n",
       "      <td>NaN</td>\n",
       "      <td>NaN</td>\n",
       "      <td>...</td>\n",
       "      <td>NaN</td>\n",
       "      <td>NaN</td>\n",
       "      <td>NaN</td>\n",
       "      <td>NaN</td>\n",
       "      <td>NaN</td>\n",
       "      <td>1.0</td>\n",
       "      <td>NaN</td>\n",
       "      <td>0.3</td>\n",
       "      <td>NaN</td>\n",
       "      <td>NaN</td>\n",
       "    </tr>\n",
       "    <tr>\n",
       "      <th>401</th>\n",
       "      <td>其他经济不敏感</td>\n",
       "      <td>白云机场</td>\n",
       "      <td>机场</td>\n",
       "      <td>14.93</td>\n",
       "      <td>2020-07-14</td>\n",
       "      <td>1.0</td>\n",
       "      <td>2.0</td>\n",
       "      <td>-0.001139</td>\n",
       "      <td>0.66</td>\n",
       "      <td>0.20</td>\n",
       "      <td>...</td>\n",
       "      <td>24.080645</td>\n",
       "      <td>19.906667</td>\n",
       "      <td>17.773810</td>\n",
       "      <td>NaN</td>\n",
       "      <td>NaN</td>\n",
       "      <td>NaN</td>\n",
       "      <td>1.0</td>\n",
       "      <td>0.1</td>\n",
       "      <td>NaN</td>\n",
       "      <td>NaN</td>\n",
       "    </tr>\n",
       "    <tr>\n",
       "      <th>402</th>\n",
       "      <td>其他经济不敏感</td>\n",
       "      <td>上海机场</td>\n",
       "      <td>机场</td>\n",
       "      <td>72.00</td>\n",
       "      <td>2020-04-28</td>\n",
       "      <td>2.0</td>\n",
       "      <td>1.0</td>\n",
       "      <td>0.000861</td>\n",
       "      <td>0.16</td>\n",
       "      <td>0.15</td>\n",
       "      <td>...</td>\n",
       "      <td>23.529412</td>\n",
       "      <td>20.396601</td>\n",
       "      <td>17.777778</td>\n",
       "      <td>NaN</td>\n",
       "      <td>NaN</td>\n",
       "      <td>1.0</td>\n",
       "      <td>1.0</td>\n",
       "      <td>0.4</td>\n",
       "      <td>NaN</td>\n",
       "      <td>NaN</td>\n",
       "    </tr>\n",
       "    <tr>\n",
       "      <th>403</th>\n",
       "      <td>其他经济不敏感</td>\n",
       "      <td>红旗连锁</td>\n",
       "      <td>超市</td>\n",
       "      <td>11.08</td>\n",
       "      <td>NaN</td>\n",
       "      <td>NaN</td>\n",
       "      <td>NaN</td>\n",
       "      <td>0.000857</td>\n",
       "      <td>NaN</td>\n",
       "      <td>NaN</td>\n",
       "      <td>...</td>\n",
       "      <td>NaN</td>\n",
       "      <td>NaN</td>\n",
       "      <td>NaN</td>\n",
       "      <td>NaN</td>\n",
       "      <td>NaN</td>\n",
       "      <td>NaN</td>\n",
       "      <td>1.0</td>\n",
       "      <td>0.1</td>\n",
       "      <td>NaN</td>\n",
       "      <td>NaN</td>\n",
       "    </tr>\n",
       "    <tr>\n",
       "      <th>404</th>\n",
       "      <td>其他经济不敏感</td>\n",
       "      <td>佩蒂股份</td>\n",
       "      <td>饲料</td>\n",
       "      <td>44.94</td>\n",
       "      <td>2020-07-13</td>\n",
       "      <td>2.0</td>\n",
       "      <td>1.0</td>\n",
       "      <td>0.010490</td>\n",
       "      <td>0.28</td>\n",
       "      <td>0.22</td>\n",
       "      <td>...</td>\n",
       "      <td>29.960000</td>\n",
       "      <td>24.557377</td>\n",
       "      <td>20.614679</td>\n",
       "      <td>1.0</td>\n",
       "      <td>1.0</td>\n",
       "      <td>NaN</td>\n",
       "      <td>NaN</td>\n",
       "      <td>0.6</td>\n",
       "      <td>NaN</td>\n",
       "      <td>NaN</td>\n",
       "    </tr>\n",
       "  </tbody>\n",
       "</table>\n",
       "<p>405 rows × 21 columns</p>\n",
       "</div>"
      ],
      "text/plain": [
       "        主题行业  股票名称   细分行业    收盘价      上次预测时间   短评   长评        动量  增速(2020)  \\\n",
       "0       金融地产  中信证券     证券  30.50  2020-07-02  2.0  1.0  0.012882      0.15   \n",
       "1       金融地产  招商银行     银行  36.44  2020-04-30  1.0  1.0  0.004710      0.18   \n",
       "2       金融地产  宁波银行     银行  31.10  2020-07-13  1.0  1.0  0.010847      0.17   \n",
       "3       金融地产  兴业银行     银行  16.28  2020-04-29  2.0  2.0  0.002342      0.09   \n",
       "4       金融地产  金地集团  房地产开发  14.80  2020-03-11  2.0  2.0  0.007033      0.17   \n",
       "..       ...   ...    ...    ...         ...  ...  ...       ...       ...   \n",
       "400  其他经济不敏感   富安娜     家纺   7.59         NaN  NaN  NaN  0.005080       NaN   \n",
       "401  其他经济不敏感  白云机场     机场  14.93  2020-07-14  1.0  2.0 -0.001139      0.66   \n",
       "402  其他经济不敏感  上海机场     机场  72.00  2020-04-28  2.0  1.0  0.000861      0.16   \n",
       "403  其他经济不敏感  红旗连锁     超市  11.08         NaN  NaN  NaN  0.000857       NaN   \n",
       "404  其他经济不敏感  佩蒂股份     饲料  44.94  2020-07-13  2.0  1.0  0.010490      0.28   \n",
       "\n",
       "     增速(2021)  ...   pe(2020)   pe(2021)   pe(2022)  内部池(40%)  外部池(20%)  \\\n",
       "0        0.15  ...  25.416667  22.101449  19.677419       1.0       1.0   \n",
       "1        0.16  ...   8.133929   7.021195   6.103853       1.0       1.0   \n",
       "2        0.16  ...  12.390438  10.724138   9.311377       1.0       1.0   \n",
       "3        0.10  ...   4.678161   4.272966   3.786047       1.0       1.0   \n",
       "4        0.18  ...   5.758755   4.884488   4.314869       NaN       NaN   \n",
       "..        ...  ...        ...        ...        ...       ...       ...   \n",
       "400       NaN  ...        NaN        NaN        NaN       NaN       NaN   \n",
       "401      0.20  ...  24.080645  19.906667  17.773810       NaN       NaN   \n",
       "402      0.15  ...  23.529412  20.396601  17.777778       NaN       NaN   \n",
       "403       NaN  ...        NaN        NaN        NaN       NaN       NaN   \n",
       "404      0.22  ...  29.960000  24.557377  20.614679       1.0       1.0   \n",
       "\n",
       "     基金重仓池(30%)  外资重仓池(10%)   总分  核心股票池(10)  核心股票池(20)  \n",
       "0           NaN         NaN  0.6        NaN        NaN  \n",
       "1           1.0         1.0  1.0        NaN        NaN  \n",
       "2           NaN         NaN  0.6        NaN        NaN  \n",
       "3           1.0         NaN  0.9        NaN        NaN  \n",
       "4           1.0         NaN  0.3        NaN        NaN  \n",
       "..          ...         ...  ...        ...        ...  \n",
       "400         1.0         NaN  0.3        NaN        NaN  \n",
       "401         NaN         1.0  0.1        NaN        NaN  \n",
       "402         1.0         1.0  0.4        NaN        NaN  \n",
       "403         NaN         1.0  0.1        NaN        NaN  \n",
       "404         NaN         NaN  0.6        NaN        NaN  \n",
       "\n",
       "[405 rows x 21 columns]"
      ]
     },
     "execution_count": 209,
     "metadata": {},
     "output_type": "execute_result"
    }
   ],
   "source": [
    "df"
   ]
  },
  {
   "cell_type": "code",
   "execution_count": null,
   "metadata": {},
   "outputs": [],
   "source": []
  }
 ],
 "metadata": {
  "kernelspec": {
   "display_name": "Python 3",
   "language": "python",
   "name": "python3"
  },
  "language_info": {
   "codemirror_mode": {
    "name": "ipython",
    "version": 3
   },
   "file_extension": ".py",
   "mimetype": "text/x-python",
   "name": "python",
   "nbconvert_exporter": "python",
   "pygments_lexer": "ipython3",
   "version": "3.6.5"
  }
 },
 "nbformat": 4,
 "nbformat_minor": 2
}
