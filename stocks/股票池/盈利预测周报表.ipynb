{
 "cells": [
  {
   "cell_type": "code",
   "execution_count": 4,
   "metadata": {},
   "outputs": [],
   "source": [
    "import pandas as pd\n",
    "import numpy as np\n",
    "import os"
   ]
  },
  {
   "cell_type": "code",
   "execution_count": 3,
   "metadata": {},
   "outputs": [],
   "source": [
    "sheet_names = ['金融地产_小组', '周期性行业_小组', '消费行业_小组', '制造行业_小组', '科技行业_小组', '健康行业_小组', '其他_小组', '港股通_小组']\n",
    "DATA_DIR = '\\\\\\\\hg-pubshare\\HFM各部门共享\\资产配置投资研究中心\\张炀\\股票池'"
   ]
  },
  {
   "cell_type": "code",
   "execution_count": 7,
   "metadata": {},
   "outputs": [],
   "source": [
    "filenames = [f for f in os.listdir(DATA_DIR) if f.startswith('盈利预测')]"
   ]
  },
  {
   "cell_type": "code",
   "execution_count": 9,
   "metadata": {},
   "outputs": [],
   "source": [
    "filename = filenames[0]"
   ]
  },
  {
   "cell_type": "code",
   "execution_count": 49,
   "metadata": {},
   "outputs": [],
   "source": [
    "df = pd.read_excel('%s/%s'%(DATA_DIR, filename), sheet_name=sheet_names[0], skiprows=2)\n",
    "for s in sheet_names[1:]:\n",
    "    temp = pd.read_excel('%s/%s'%(DATA_DIR, filename), sheet_name=s, skiprows=2)\n",
    "    df = df.append(temp)"
   ]
  },
  {
   "cell_type": "code",
   "execution_count": 50,
   "metadata": {},
   "outputs": [],
   "source": [
    "df = df[['公司名称', '上次预测时间', '最新短评', '最新长评']]\n",
    "df.columns = ['股票名称', '上次预测时间', '最新短评', '最新长评']"
   ]
  },
  {
   "cell_type": "code",
   "execution_count": 51,
   "metadata": {},
   "outputs": [],
   "source": [
    "stocks = pd.read_excel('%s/股票池.xlsx'%(DATA_DIR))"
   ]
  },
  {
   "cell_type": "code",
   "execution_count": 52,
   "metadata": {},
   "outputs": [
    {
     "data": {
      "text/html": [
       "<div>\n",
       "<style scoped>\n",
       "    .dataframe tbody tr th:only-of-type {\n",
       "        vertical-align: middle;\n",
       "    }\n",
       "\n",
       "    .dataframe tbody tr th {\n",
       "        vertical-align: top;\n",
       "    }\n",
       "\n",
       "    .dataframe thead th {\n",
       "        text-align: right;\n",
       "    }\n",
       "</style>\n",
       "<table border=\"1\" class=\"dataframe\">\n",
       "  <thead>\n",
       "    <tr style=\"text-align: right;\">\n",
       "      <th></th>\n",
       "      <th>主题行业</th>\n",
       "      <th>股票名称</th>\n",
       "      <th>内部股票池（40%）</th>\n",
       "      <th>外部股票池（20%）</th>\n",
       "      <th>基金重仓股票池（20%）</th>\n",
       "      <th>北向资金重仓股票池（20%）</th>\n",
       "      <th>总分</th>\n",
       "    </tr>\n",
       "  </thead>\n",
       "  <tbody>\n",
       "    <tr>\n",
       "      <th>0</th>\n",
       "      <td>金融地产</td>\n",
       "      <td>金地集团</td>\n",
       "      <td>NaN</td>\n",
       "      <td>NaN</td>\n",
       "      <td>1.0</td>\n",
       "      <td>NaN</td>\n",
       "      <td>0.2</td>\n",
       "    </tr>\n",
       "    <tr>\n",
       "      <th>1</th>\n",
       "      <td>金融地产</td>\n",
       "      <td>方正证券</td>\n",
       "      <td>NaN</td>\n",
       "      <td>NaN</td>\n",
       "      <td>NaN</td>\n",
       "      <td>1.0</td>\n",
       "      <td>0.2</td>\n",
       "    </tr>\n",
       "    <tr>\n",
       "      <th>2</th>\n",
       "      <td>金融地产</td>\n",
       "      <td>工商银行</td>\n",
       "      <td>NaN</td>\n",
       "      <td>NaN</td>\n",
       "      <td>1.0</td>\n",
       "      <td>NaN</td>\n",
       "      <td>0.2</td>\n",
       "    </tr>\n",
       "    <tr>\n",
       "      <th>3</th>\n",
       "      <td>金融地产</td>\n",
       "      <td>中国太保</td>\n",
       "      <td>NaN</td>\n",
       "      <td>NaN</td>\n",
       "      <td>1.0</td>\n",
       "      <td>NaN</td>\n",
       "      <td>0.2</td>\n",
       "    </tr>\n",
       "    <tr>\n",
       "      <th>4</th>\n",
       "      <td>金融地产</td>\n",
       "      <td>招商银行</td>\n",
       "      <td>1.0</td>\n",
       "      <td>1.0</td>\n",
       "      <td>1.0</td>\n",
       "      <td>NaN</td>\n",
       "      <td>0.8</td>\n",
       "    </tr>\n",
       "  </tbody>\n",
       "</table>\n",
       "</div>"
      ],
      "text/plain": [
       "   主题行业  股票名称  内部股票池（40%）  外部股票池（20%）  基金重仓股票池（20%）  北向资金重仓股票池（20%）   总分\n",
       "0  金融地产  金地集团         NaN         NaN           1.0             NaN  0.2\n",
       "1  金融地产  方正证券         NaN         NaN           NaN             1.0  0.2\n",
       "2  金融地产  工商银行         NaN         NaN           1.0             NaN  0.2\n",
       "3  金融地产  中国太保         NaN         NaN           1.0             NaN  0.2\n",
       "4  金融地产  招商银行         1.0         1.0           1.0             NaN  0.8"
      ]
     },
     "execution_count": 52,
     "metadata": {},
     "output_type": "execute_result"
    }
   ],
   "source": [
    "stocks.head()"
   ]
  },
  {
   "cell_type": "code",
   "execution_count": 53,
   "metadata": {},
   "outputs": [
    {
     "data": {
      "text/plain": [
       "(380, 7)"
      ]
     },
     "execution_count": 53,
     "metadata": {},
     "output_type": "execute_result"
    }
   ],
   "source": [
    "stocks.shape"
   ]
  },
  {
   "cell_type": "code",
   "execution_count": 54,
   "metadata": {},
   "outputs": [
    {
     "data": {
      "text/plain": [
       "(1065, 4)"
      ]
     },
     "execution_count": 54,
     "metadata": {},
     "output_type": "execute_result"
    }
   ],
   "source": [
    "df.shape"
   ]
  },
  {
   "cell_type": "code",
   "execution_count": 55,
   "metadata": {},
   "outputs": [
    {
     "data": {
      "text/html": [
       "<div>\n",
       "<style scoped>\n",
       "    .dataframe tbody tr th:only-of-type {\n",
       "        vertical-align: middle;\n",
       "    }\n",
       "\n",
       "    .dataframe tbody tr th {\n",
       "        vertical-align: top;\n",
       "    }\n",
       "\n",
       "    .dataframe thead th {\n",
       "        text-align: right;\n",
       "    }\n",
       "</style>\n",
       "<table border=\"1\" class=\"dataframe\">\n",
       "  <thead>\n",
       "    <tr style=\"text-align: right;\">\n",
       "      <th></th>\n",
       "      <th>主题行业</th>\n",
       "      <th>股票名称</th>\n",
       "      <th>内部股票池（40%）</th>\n",
       "      <th>外部股票池（20%）</th>\n",
       "      <th>基金重仓股票池（20%）</th>\n",
       "      <th>北向资金重仓股票池（20%）</th>\n",
       "      <th>总分</th>\n",
       "      <th>上次预测时间</th>\n",
       "      <th>最新短评</th>\n",
       "      <th>最新长评</th>\n",
       "    </tr>\n",
       "  </thead>\n",
       "  <tbody>\n",
       "    <tr>\n",
       "      <th>0</th>\n",
       "      <td>金融地产</td>\n",
       "      <td>金地集团</td>\n",
       "      <td>NaN</td>\n",
       "      <td>NaN</td>\n",
       "      <td>1.0</td>\n",
       "      <td>NaN</td>\n",
       "      <td>0.2</td>\n",
       "      <td>2020-03-11</td>\n",
       "      <td>2.0</td>\n",
       "      <td>2.0</td>\n",
       "    </tr>\n",
       "    <tr>\n",
       "      <th>1</th>\n",
       "      <td>金融地产</td>\n",
       "      <td>方正证券</td>\n",
       "      <td>NaN</td>\n",
       "      <td>NaN</td>\n",
       "      <td>NaN</td>\n",
       "      <td>1.0</td>\n",
       "      <td>0.2</td>\n",
       "      <td>2019-12-27</td>\n",
       "      <td>2.0</td>\n",
       "      <td>2.0</td>\n",
       "    </tr>\n",
       "    <tr>\n",
       "      <th>2</th>\n",
       "      <td>金融地产</td>\n",
       "      <td>工商银行</td>\n",
       "      <td>NaN</td>\n",
       "      <td>NaN</td>\n",
       "      <td>1.0</td>\n",
       "      <td>NaN</td>\n",
       "      <td>0.2</td>\n",
       "      <td>2020-04-29</td>\n",
       "      <td>2.0</td>\n",
       "      <td>2.0</td>\n",
       "    </tr>\n",
       "    <tr>\n",
       "      <th>3</th>\n",
       "      <td>金融地产</td>\n",
       "      <td>中国太保</td>\n",
       "      <td>NaN</td>\n",
       "      <td>NaN</td>\n",
       "      <td>1.0</td>\n",
       "      <td>NaN</td>\n",
       "      <td>0.2</td>\n",
       "      <td>2019-12-27</td>\n",
       "      <td>2.0</td>\n",
       "      <td>1.0</td>\n",
       "    </tr>\n",
       "    <tr>\n",
       "      <th>4</th>\n",
       "      <td>金融地产</td>\n",
       "      <td>招商银行</td>\n",
       "      <td>1.0</td>\n",
       "      <td>1.0</td>\n",
       "      <td>1.0</td>\n",
       "      <td>NaN</td>\n",
       "      <td>0.8</td>\n",
       "      <td>2020-04-30</td>\n",
       "      <td>1.0</td>\n",
       "      <td>1.0</td>\n",
       "    </tr>\n",
       "    <tr>\n",
       "      <th>...</th>\n",
       "      <td>...</td>\n",
       "      <td>...</td>\n",
       "      <td>...</td>\n",
       "      <td>...</td>\n",
       "      <td>...</td>\n",
       "      <td>...</td>\n",
       "      <td>...</td>\n",
       "      <td>...</td>\n",
       "      <td>...</td>\n",
       "      <td>...</td>\n",
       "    </tr>\n",
       "    <tr>\n",
       "      <th>375</th>\n",
       "      <td>其他经济不敏感</td>\n",
       "      <td>上海机场</td>\n",
       "      <td>NaN</td>\n",
       "      <td>NaN</td>\n",
       "      <td>1.0</td>\n",
       "      <td>1.0</td>\n",
       "      <td>0.4</td>\n",
       "      <td>2020-04-28</td>\n",
       "      <td>2.0</td>\n",
       "      <td>1.0</td>\n",
       "    </tr>\n",
       "    <tr>\n",
       "      <th>376</th>\n",
       "      <td>其他经济不敏感</td>\n",
       "      <td>深圳机场</td>\n",
       "      <td>NaN</td>\n",
       "      <td>NaN</td>\n",
       "      <td>NaN</td>\n",
       "      <td>1.0</td>\n",
       "      <td>0.2</td>\n",
       "      <td>2020-04-29</td>\n",
       "      <td>2.0</td>\n",
       "      <td>2.0</td>\n",
       "    </tr>\n",
       "    <tr>\n",
       "      <th>377</th>\n",
       "      <td>其他经济不敏感</td>\n",
       "      <td>新希望</td>\n",
       "      <td>1.0</td>\n",
       "      <td>1.0</td>\n",
       "      <td>1.0</td>\n",
       "      <td>NaN</td>\n",
       "      <td>0.8</td>\n",
       "      <td>2020-04-29</td>\n",
       "      <td>2.0</td>\n",
       "      <td>1.0</td>\n",
       "    </tr>\n",
       "    <tr>\n",
       "      <th>378</th>\n",
       "      <td>其他经济不敏感</td>\n",
       "      <td>中国联通</td>\n",
       "      <td>NaN</td>\n",
       "      <td>NaN</td>\n",
       "      <td>1.0</td>\n",
       "      <td>NaN</td>\n",
       "      <td>0.2</td>\n",
       "      <td>2019-12-28</td>\n",
       "      <td>2.0</td>\n",
       "      <td>2.0</td>\n",
       "    </tr>\n",
       "    <tr>\n",
       "      <th>379</th>\n",
       "      <td>其他经济不敏感</td>\n",
       "      <td>牧原股份</td>\n",
       "      <td>1.0</td>\n",
       "      <td>1.0</td>\n",
       "      <td>1.0</td>\n",
       "      <td>NaN</td>\n",
       "      <td>0.8</td>\n",
       "      <td>2020-04-27</td>\n",
       "      <td>1.0</td>\n",
       "      <td>2.0</td>\n",
       "    </tr>\n",
       "  </tbody>\n",
       "</table>\n",
       "<p>380 rows × 10 columns</p>\n",
       "</div>"
      ],
      "text/plain": [
       "        主题行业  股票名称  内部股票池（40%）  外部股票池（20%）  基金重仓股票池（20%）  北向资金重仓股票池（20%）   总分  \\\n",
       "0       金融地产  金地集团         NaN         NaN           1.0             NaN  0.2   \n",
       "1       金融地产  方正证券         NaN         NaN           NaN             1.0  0.2   \n",
       "2       金融地产  工商银行         NaN         NaN           1.0             NaN  0.2   \n",
       "3       金融地产  中国太保         NaN         NaN           1.0             NaN  0.2   \n",
       "4       金融地产  招商银行         1.0         1.0           1.0             NaN  0.8   \n",
       "..       ...   ...         ...         ...           ...             ...  ...   \n",
       "375  其他经济不敏感  上海机场         NaN         NaN           1.0             1.0  0.4   \n",
       "376  其他经济不敏感  深圳机场         NaN         NaN           NaN             1.0  0.2   \n",
       "377  其他经济不敏感   新希望         1.0         1.0           1.0             NaN  0.8   \n",
       "378  其他经济不敏感  中国联通         NaN         NaN           1.0             NaN  0.2   \n",
       "379  其他经济不敏感  牧原股份         1.0         1.0           1.0             NaN  0.8   \n",
       "\n",
       "         上次预测时间  最新短评  最新长评  \n",
       "0    2020-03-11   2.0   2.0  \n",
       "1    2019-12-27   2.0   2.0  \n",
       "2    2020-04-29   2.0   2.0  \n",
       "3    2019-12-27   2.0   1.0  \n",
       "4    2020-04-30   1.0   1.0  \n",
       "..          ...   ...   ...  \n",
       "375  2020-04-28   2.0   1.0  \n",
       "376  2020-04-29   2.0   2.0  \n",
       "377  2020-04-29   2.0   1.0  \n",
       "378  2019-12-28   2.0   2.0  \n",
       "379  2020-04-27   1.0   2.0  \n",
       "\n",
       "[380 rows x 10 columns]"
      ]
     },
     "execution_count": 55,
     "metadata": {},
     "output_type": "execute_result"
    }
   ],
   "source": [
    "stocks.merge(df, how='left', on=['股票名称'])"
   ]
  },
  {
   "cell_type": "code",
   "execution_count": null,
   "metadata": {},
   "outputs": [],
   "source": []
  }
 ],
 "metadata": {
  "kernelspec": {
   "display_name": "Python 3",
   "language": "python",
   "name": "python3"
  },
  "language_info": {
   "codemirror_mode": {
    "name": "ipython",
    "version": 3
   },
   "file_extension": ".py",
   "mimetype": "text/x-python",
   "name": "python",
   "nbconvert_exporter": "python",
   "pygments_lexer": "ipython3",
   "version": "3.6.5"
  }
 },
 "nbformat": 4,
 "nbformat_minor": 4
}
