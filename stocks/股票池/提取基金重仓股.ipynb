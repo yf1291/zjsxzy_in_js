{
 "cells": [
  {
   "cell_type": "code",
   "execution_count": 1,
   "metadata": {},
   "outputs": [],
   "source": [
    "import pandas as pd\n",
    "import numpy as np\n",
    "import matplotlib.pyplot as plt\n",
    "from WindPy import w\n",
    "import pyodbc\n",
    "import datetime as dt\n",
    "%matplotlib inline"
   ]
  },
  {
   "cell_type": "code",
   "execution_count": 2,
   "metadata": {},
   "outputs": [
    {
     "name": "stdout",
     "output_type": "stream",
     "text": [
      "Welcome to use Wind Quant API for Python (WindPy)!\n",
      "\n",
      "COPYRIGHT (C) 2020 WIND INFORMATION CO., LTD. ALL RIGHTS RESERVED.\n",
      "IN NO CIRCUMSTANCE SHALL WIND BE RESPONSIBLE FOR ANY DAMAGES OR LOSSES CAUSED BY USING WIND QUANT API FOR Python.\n"
     ]
    },
    {
     "data": {
      "text/plain": [
       ".ErrorCode=0\n",
       ".Data=[OK!]"
      ]
     },
     "execution_count": 2,
     "metadata": {},
     "output_type": "execute_result"
    }
   ],
   "source": [
    "w.start()"
   ]
  },
  {
   "cell_type": "code",
   "execution_count": 3,
   "metadata": {},
   "outputs": [],
   "source": [
    "conn = pyodbc.connect('DRIVER={SQL Server};SERVER=10.0.185.138;DATABASE=JYDB;UID=js_dev;PWD=js_dev')"
   ]
  },
  {
   "cell_type": "code",
   "execution_count": 4,
   "metadata": {},
   "outputs": [],
   "source": [
    "report_date = '2020-06-30'\n",
    "last_date = dt.datetime.today() - dt.timedelta(1)"
   ]
  },
  {
   "cell_type": "code",
   "execution_count": 5,
   "metadata": {},
   "outputs": [],
   "source": [
    "def get_wind_code(c):\n",
    "    if c.startswith('0') or c.startswith('3'):\n",
    "        return c + '.SZ'\n",
    "    else:\n",
    "        return c + '.SH'"
   ]
  },
  {
   "cell_type": "markdown",
   "metadata": {},
   "source": [
    "# 提取PMS行业基金列表"
   ]
  },
  {
   "cell_type": "code",
   "execution_count": 6,
   "metadata": {},
   "outputs": [],
   "source": [
    "owner = 'W5718909221'\n",
    "today = dt.date.today().strftime('%Y%m%d')"
   ]
  },
  {
   "cell_type": "markdown",
   "metadata": {},
   "source": [
    "### 可选消费"
   ]
  },
  {
   "cell_type": "code",
   "execution_count": 7,
   "metadata": {},
   "outputs": [],
   "source": [
    "data = w.wpf(\"可选消费行业基金组合\", \n",
    "             \"PMS.HoldingDaily\",\n",
    "             \"tradedate=%s;reportcurrency=CNY;owner=%s;field=Asset_Code,Asset_Name,Asset_Classification\"%(today, owner))"
   ]
  },
  {
   "cell_type": "code",
   "execution_count": 8,
   "metadata": {},
   "outputs": [],
   "source": [
    "con = pd.DataFrame(data.Data, index=data.Fields)\n",
    "con = con.T"
   ]
  },
  {
   "cell_type": "code",
   "execution_count": 9,
   "metadata": {},
   "outputs": [],
   "source": [
    "con = con[con['asset_classification'] == '基金']"
   ]
  },
  {
   "cell_type": "markdown",
   "metadata": {},
   "source": [
    "### 医药"
   ]
  },
  {
   "cell_type": "code",
   "execution_count": 10,
   "metadata": {},
   "outputs": [],
   "source": [
    "data = w.wpf(\"医药行业基金组合\", \n",
    "             \"PMS.HoldingDaily\",\n",
    "             \"tradedate=%s;reportcurrency=CNY;owner=%s;field=Asset_Code,Asset_Name,Asset_Classification\"%(today, owner))"
   ]
  },
  {
   "cell_type": "code",
   "execution_count": 11,
   "metadata": {},
   "outputs": [],
   "source": [
    "med = pd.DataFrame(data.Data, index=data.Fields)\n",
    "med = med.T"
   ]
  },
  {
   "cell_type": "code",
   "execution_count": 12,
   "metadata": {},
   "outputs": [],
   "source": [
    "med = med[med['asset_classification'] == '基金']"
   ]
  },
  {
   "cell_type": "markdown",
   "metadata": {},
   "source": [
    "### 科技"
   ]
  },
  {
   "cell_type": "code",
   "execution_count": 13,
   "metadata": {},
   "outputs": [],
   "source": [
    "data = w.wpf(\"科技行业基金组合\", \n",
    "             \"PMS.HoldingDaily\",\n",
    "             \"tradedate=%s;reportcurrency=CNY;owner=%s;field=Asset_Code,Asset_Name,Asset_Classification\"%(today, owner))"
   ]
  },
  {
   "cell_type": "code",
   "execution_count": 14,
   "metadata": {},
   "outputs": [],
   "source": [
    "tech = pd.DataFrame(data.Data, index=data.Fields)\n",
    "tech = tech.T"
   ]
  },
  {
   "cell_type": "code",
   "execution_count": 15,
   "metadata": {},
   "outputs": [],
   "source": [
    "tech = tech[tech['asset_classification'] == '基金']"
   ]
  },
  {
   "cell_type": "markdown",
   "metadata": {},
   "source": [
    "### 价值"
   ]
  },
  {
   "cell_type": "code",
   "execution_count": 16,
   "metadata": {},
   "outputs": [],
   "source": [
    "data = w.wpf(\"全市场价值基金组合\", \n",
    "             \"PMS.HoldingDaily\",\n",
    "             \"tradedate=%s;reportcurrency=CNY;owner=%s;field=Asset_Code,Asset_Name,Asset_Classification\"%(today, owner))"
   ]
  },
  {
   "cell_type": "code",
   "execution_count": 17,
   "metadata": {},
   "outputs": [],
   "source": [
    "value = pd.DataFrame(data.Data, index=data.Fields)\n",
    "value = value.T"
   ]
  },
  {
   "cell_type": "code",
   "execution_count": 18,
   "metadata": {},
   "outputs": [],
   "source": [
    "value = value[value['asset_classification'] == '基金']"
   ]
  },
  {
   "cell_type": "markdown",
   "metadata": {},
   "source": [
    "### 成长"
   ]
  },
  {
   "cell_type": "code",
   "execution_count": 19,
   "metadata": {},
   "outputs": [],
   "source": [
    "data = w.wpf(\"全市场成长基金组合\", \n",
    "             \"PMS.HoldingDaily\",\n",
    "             \"tradedate=%s;reportcurrency=CNY;owner=%s;field=Asset_Code,Asset_Name,Asset_Classification\"%(today, owner))"
   ]
  },
  {
   "cell_type": "code",
   "execution_count": 20,
   "metadata": {},
   "outputs": [],
   "source": [
    "growth = pd.DataFrame(data.Data, index=data.Fields)\n",
    "growth = growth.T"
   ]
  },
  {
   "cell_type": "code",
   "execution_count": 21,
   "metadata": {},
   "outputs": [],
   "source": [
    "growth = growth[growth['asset_classification'] == '基金']"
   ]
  },
  {
   "cell_type": "markdown",
   "metadata": {},
   "source": [
    "### 平衡"
   ]
  },
  {
   "cell_type": "code",
   "execution_count": 22,
   "metadata": {},
   "outputs": [],
   "source": [
    "data = w.wpf(\"全市场平衡基金组合\", \n",
    "             \"PMS.HoldingDaily\",\n",
    "             \"tradedate=%s;reportcurrency=CNY;owner=%s;field=Asset_Code,Asset_Name,Asset_Classification\"%(today, owner))"
   ]
  },
  {
   "cell_type": "code",
   "execution_count": 23,
   "metadata": {},
   "outputs": [],
   "source": [
    "garp = pd.DataFrame(data.Data, index=data.Fields)\n",
    "garp = garp.T"
   ]
  },
  {
   "cell_type": "code",
   "execution_count": 24,
   "metadata": {},
   "outputs": [],
   "source": [
    "garp = garp[garp['asset_classification'] == '基金']"
   ]
  },
  {
   "cell_type": "code",
   "execution_count": 25,
   "metadata": {},
   "outputs": [],
   "source": [
    "funds = pd.concat([con, med, tech, value, growth, garp])"
   ]
  },
  {
   "cell_type": "markdown",
   "metadata": {},
   "source": [
    "# 提取基金重仓股"
   ]
  },
  {
   "cell_type": "code",
   "execution_count": 26,
   "metadata": {},
   "outputs": [],
   "source": [
    "set_codes = '(' + ','.join(['\\'%s\\''%(x.rstrip('.OF')) for x in funds['asset_code']]) + ')'"
   ]
  },
  {
   "cell_type": "code",
   "execution_count": 27,
   "metadata": {},
   "outputs": [],
   "source": [
    "query = \"\"\"\n",
    "    select ksp.ReportDate, t.SecuCode, t.SecuAbbr, t2.SecuCode, t2.SecuAbbr, ksp.SharesHolding, ksp.ChangeOfSharesHolding, ksp.RatioInNV\n",
    "    from MF_KeyStockPortfolio as ksp, SecuMain as t, SecuMain as t2\n",
    "    where ksp.ReportDate = '%s'\n",
    "        and ksp.InnerCode = t.InnerCode\n",
    "        and ksp.StockInnerCode = t2.InnerCode\n",
    "        and t.SecuCode in %s\n",
    "\"\"\"%(report_date, set_codes)"
   ]
  },
  {
   "cell_type": "code",
   "execution_count": 28,
   "metadata": {},
   "outputs": [],
   "source": [
    "df = pd.read_sql_query(query, con=conn)"
   ]
  },
  {
   "cell_type": "code",
   "execution_count": 29,
   "metadata": {},
   "outputs": [],
   "source": [
    "df.columns = ['ReportDate', 'SecuCode', 'SecuAbbr', 'StockCode', 'StockAbbr', 'SharesHolding', 'ChangeOfSharesHolding', 'RatioInNV']"
   ]
  },
  {
   "cell_type": "code",
   "execution_count": 30,
   "metadata": {},
   "outputs": [],
   "source": [
    "df['StockAbbr'] = df['StockAbbr'].apply(lambda x: x.replace(' ', ''))"
   ]
  },
  {
   "cell_type": "code",
   "execution_count": 31,
   "metadata": {},
   "outputs": [],
   "source": [
    "stocks = df.groupby(['StockCode', 'StockAbbr']).sum()[['SharesHolding', 'ChangeOfSharesHolding']]"
   ]
  },
  {
   "cell_type": "code",
   "execution_count": 32,
   "metadata": {},
   "outputs": [],
   "source": [
    "stocks['RatioInNV'] = df.groupby(['StockCode', 'StockAbbr']).mean()['RatioInNV']"
   ]
  },
  {
   "cell_type": "code",
   "execution_count": 33,
   "metadata": {},
   "outputs": [],
   "source": [
    "stocks['WindCode'] = [get_wind_code(x) for x in stocks.index.levels[0]]"
   ]
  },
  {
   "cell_type": "code",
   "execution_count": 34,
   "metadata": {},
   "outputs": [],
   "source": [
    "data = w.wss(stocks['WindCode'].tolist(), 'close', \"tradeDate=%s\"%(last_date.strftime('%Y-%m-%d')))"
   ]
  },
  {
   "cell_type": "code",
   "execution_count": 35,
   "metadata": {},
   "outputs": [],
   "source": [
    "stocks['Close'] = data.Data[0]\n",
    "stocks['MarketValue'] = stocks['SharesHolding'] * stocks['Close']"
   ]
  },
  {
   "cell_type": "code",
   "execution_count": 36,
   "metadata": {},
   "outputs": [],
   "source": [
    "stocks = stocks.sort_values('RatioInNV', ascending=False)"
   ]
  },
  {
   "cell_type": "code",
   "execution_count": 37,
   "metadata": {},
   "outputs": [
    {
     "data": {
      "text/html": [
       "<div>\n",
       "<style scoped>\n",
       "    .dataframe tbody tr th:only-of-type {\n",
       "        vertical-align: middle;\n",
       "    }\n",
       "\n",
       "    .dataframe tbody tr th {\n",
       "        vertical-align: top;\n",
       "    }\n",
       "\n",
       "    .dataframe thead th {\n",
       "        text-align: right;\n",
       "    }\n",
       "</style>\n",
       "<table border=\"1\" class=\"dataframe\">\n",
       "  <thead>\n",
       "    <tr style=\"text-align: right;\">\n",
       "      <th></th>\n",
       "      <th></th>\n",
       "      <th>SharesHolding</th>\n",
       "      <th>ChangeOfSharesHolding</th>\n",
       "      <th>RatioInNV</th>\n",
       "      <th>WindCode</th>\n",
       "      <th>Close</th>\n",
       "      <th>MarketValue</th>\n",
       "    </tr>\n",
       "    <tr>\n",
       "      <th>StockCode</th>\n",
       "      <th>StockAbbr</th>\n",
       "      <th></th>\n",
       "      <th></th>\n",
       "      <th></th>\n",
       "      <th></th>\n",
       "      <th></th>\n",
       "      <th></th>\n",
       "    </tr>\n",
       "  </thead>\n",
       "  <tbody>\n",
       "    <tr>\n",
       "      <th>002925</th>\n",
       "      <th>盈趣科技</th>\n",
       "      <td>2731468.0</td>\n",
       "      <td>-301800.0</td>\n",
       "      <td>0.0999</td>\n",
       "      <td>002925.SZ</td>\n",
       "      <td>58.25</td>\n",
       "      <td>1.591080e+08</td>\n",
       "    </tr>\n",
       "    <tr>\n",
       "      <th>002371</th>\n",
       "      <th>北方华创</th>\n",
       "      <td>9857930.0</td>\n",
       "      <td>614379.0</td>\n",
       "      <td>0.0960</td>\n",
       "      <td>002371.SZ</td>\n",
       "      <td>157.20</td>\n",
       "      <td>1.549667e+09</td>\n",
       "    </tr>\n",
       "    <tr>\n",
       "      <th>300782</th>\n",
       "      <th>卓胜微</th>\n",
       "      <td>3587978.0</td>\n",
       "      <td>1641020.0</td>\n",
       "      <td>0.0903</td>\n",
       "      <td>300782.SZ</td>\n",
       "      <td>341.86</td>\n",
       "      <td>1.226586e+09</td>\n",
       "    </tr>\n",
       "    <tr>\n",
       "      <th>688029</th>\n",
       "      <th>南微医学</th>\n",
       "      <td>2124370.0</td>\n",
       "      <td>537935.0</td>\n",
       "      <td>0.0892</td>\n",
       "      <td>688029.SH</td>\n",
       "      <td>210.38</td>\n",
       "      <td>4.469250e+08</td>\n",
       "    </tr>\n",
       "    <tr>\n",
       "      <th>603986</th>\n",
       "      <th>兆易创新</th>\n",
       "      <td>6062488.0</td>\n",
       "      <td>1702656.0</td>\n",
       "      <td>0.0887</td>\n",
       "      <td>603986.SH</td>\n",
       "      <td>178.90</td>\n",
       "      <td>1.084579e+09</td>\n",
       "    </tr>\n",
       "  </tbody>\n",
       "</table>\n",
       "</div>"
      ],
      "text/plain": [
       "                     SharesHolding  ChangeOfSharesHolding  RatioInNV  \\\n",
       "StockCode StockAbbr                                                    \n",
       "002925    盈趣科技           2731468.0              -301800.0     0.0999   \n",
       "002371    北方华创           9857930.0               614379.0     0.0960   \n",
       "300782    卓胜微            3587978.0              1641020.0     0.0903   \n",
       "688029    南微医学           2124370.0               537935.0     0.0892   \n",
       "603986    兆易创新           6062488.0              1702656.0     0.0887   \n",
       "\n",
       "                      WindCode   Close   MarketValue  \n",
       "StockCode StockAbbr                                   \n",
       "002925    盈趣科技       002925.SZ   58.25  1.591080e+08  \n",
       "002371    北方华创       002371.SZ  157.20  1.549667e+09  \n",
       "300782    卓胜微        300782.SZ  341.86  1.226586e+09  \n",
       "688029    南微医学       688029.SH  210.38  4.469250e+08  \n",
       "603986    兆易创新       603986.SH  178.90  1.084579e+09  "
      ]
     },
     "execution_count": 37,
     "metadata": {},
     "output_type": "execute_result"
    }
   ],
   "source": [
    "stocks.head()"
   ]
  },
  {
   "cell_type": "markdown",
   "metadata": {},
   "source": [
    "# 主题行业分类"
   ]
  },
  {
   "cell_type": "code",
   "execution_count": 38,
   "metadata": {},
   "outputs": [],
   "source": [
    "industry = pd.read_excel('../data/申万行业分类表.xlsx')"
   ]
  },
  {
   "cell_type": "code",
   "execution_count": 39,
   "metadata": {},
   "outputs": [],
   "source": [
    "industry2theme = {}\n",
    "for col in industry.columns:\n",
    "    for i in industry[col]:\n",
    "        if type(i) == str:\n",
    "            industry2theme[i.rstrip('(申万)')] = col\n",
    "            industry2theme[i.rstrip('Ⅱ(申万)')] = col\n",
    "#             print(i.rstrip('Ⅱ(申万)'), col)\n",
    "industry2theme['证券Ⅱ'] = '金融地产'"
   ]
  },
  {
   "cell_type": "code",
   "execution_count": 40,
   "metadata": {},
   "outputs": [],
   "source": [
    "data = w.wss(stocks['WindCode'].tolist(), 'industry_sw', 'industryType=2')"
   ]
  },
  {
   "cell_type": "code",
   "execution_count": 41,
   "metadata": {},
   "outputs": [],
   "source": [
    "stocks['industry_sw'] = data.Data[0]"
   ]
  },
  {
   "cell_type": "code",
   "execution_count": 42,
   "metadata": {},
   "outputs": [],
   "source": [
    "stocks['industry_theme'] = [industry2theme[x] for x in stocks['industry_sw']]"
   ]
  },
  {
   "cell_type": "code",
   "execution_count": 100,
   "metadata": {},
   "outputs": [],
   "source": [
    "del stocks['WindCode']"
   ]
  },
  {
   "cell_type": "code",
   "execution_count": 102,
   "metadata": {},
   "outputs": [
    {
     "data": {
      "text/html": [
       "<div>\n",
       "<style scoped>\n",
       "    .dataframe tbody tr th:only-of-type {\n",
       "        vertical-align: middle;\n",
       "    }\n",
       "\n",
       "    .dataframe tbody tr th {\n",
       "        vertical-align: top;\n",
       "    }\n",
       "\n",
       "    .dataframe thead th {\n",
       "        text-align: right;\n",
       "    }\n",
       "</style>\n",
       "<table border=\"1\" class=\"dataframe\">\n",
       "  <thead>\n",
       "    <tr style=\"text-align: right;\">\n",
       "      <th></th>\n",
       "      <th></th>\n",
       "      <th>SharesHolding</th>\n",
       "      <th>ChangeOfSharesHolding</th>\n",
       "      <th>RatioInNV</th>\n",
       "      <th>Close</th>\n",
       "      <th>MarketValue</th>\n",
       "      <th>industry_sw</th>\n",
       "      <th>industry_theme</th>\n",
       "    </tr>\n",
       "    <tr>\n",
       "      <th>StockCode</th>\n",
       "      <th>StockAbbr</th>\n",
       "      <th></th>\n",
       "      <th></th>\n",
       "      <th></th>\n",
       "      <th></th>\n",
       "      <th></th>\n",
       "      <th></th>\n",
       "      <th></th>\n",
       "    </tr>\n",
       "  </thead>\n",
       "  <tbody>\n",
       "    <tr>\n",
       "      <th>002925</th>\n",
       "      <th>盈趣科技</th>\n",
       "      <td>5434232.0</td>\n",
       "      <td>-264473.0</td>\n",
       "      <td>0.09655</td>\n",
       "      <td>65.50</td>\n",
       "      <td>3.559422e+08</td>\n",
       "      <td>电子制造</td>\n",
       "      <td>信息科技</td>\n",
       "    </tr>\n",
       "    <tr>\n",
       "      <th>002371</th>\n",
       "      <th>北方华创</th>\n",
       "      <td>9857930.0</td>\n",
       "      <td>614379.0</td>\n",
       "      <td>0.09600</td>\n",
       "      <td>187.00</td>\n",
       "      <td>1.843433e+09</td>\n",
       "      <td>半导体</td>\n",
       "      <td>信息科技</td>\n",
       "    </tr>\n",
       "    <tr>\n",
       "      <th>300782</th>\n",
       "      <th>卓胜微</th>\n",
       "      <td>3587978.0</td>\n",
       "      <td>1641020.0</td>\n",
       "      <td>0.09030</td>\n",
       "      <td>450.39</td>\n",
       "      <td>1.615989e+09</td>\n",
       "      <td>半导体</td>\n",
       "      <td>信息科技</td>\n",
       "    </tr>\n",
       "    <tr>\n",
       "      <th>688029</th>\n",
       "      <th>南微医学</th>\n",
       "      <td>2124370.0</td>\n",
       "      <td>537935.0</td>\n",
       "      <td>0.08920</td>\n",
       "      <td>230.20</td>\n",
       "      <td>4.890300e+08</td>\n",
       "      <td>医疗器械Ⅱ</td>\n",
       "      <td>必选医药</td>\n",
       "    </tr>\n",
       "    <tr>\n",
       "      <th>603986</th>\n",
       "      <th>兆易创新</th>\n",
       "      <td>6062488.0</td>\n",
       "      <td>1702656.0</td>\n",
       "      <td>0.08870</td>\n",
       "      <td>242.53</td>\n",
       "      <td>1.470335e+09</td>\n",
       "      <td>半导体</td>\n",
       "      <td>信息科技</td>\n",
       "    </tr>\n",
       "  </tbody>\n",
       "</table>\n",
       "</div>"
      ],
      "text/plain": [
       "                     SharesHolding  ChangeOfSharesHolding  RatioInNV   Close  \\\n",
       "StockCode StockAbbr                                                            \n",
       "002925    盈趣科技           5434232.0              -264473.0    0.09655   65.50   \n",
       "002371    北方华创           9857930.0               614379.0    0.09600  187.00   \n",
       "300782    卓胜微            3587978.0              1641020.0    0.09030  450.39   \n",
       "688029    南微医学           2124370.0               537935.0    0.08920  230.20   \n",
       "603986    兆易创新           6062488.0              1702656.0    0.08870  242.53   \n",
       "\n",
       "                      MarketValue industry_sw industry_theme  \n",
       "StockCode StockAbbr                                           \n",
       "002925    盈趣科技       3.559422e+08        电子制造           信息科技  \n",
       "002371    北方华创       1.843433e+09         半导体           信息科技  \n",
       "300782    卓胜微        1.615989e+09         半导体           信息科技  \n",
       "688029    南微医学       4.890300e+08       医疗器械Ⅱ           必选医药  \n",
       "603986    兆易创新       1.470335e+09         半导体           信息科技  "
      ]
     },
     "execution_count": 102,
     "metadata": {},
     "output_type": "execute_result"
    }
   ],
   "source": [
    "stocks.head()"
   ]
  },
  {
   "cell_type": "code",
   "execution_count": 99,
   "metadata": {},
   "outputs": [],
   "source": [
    "stocks.to_excel('../data/基金池基金重仓股.xlsx')"
   ]
  },
  {
   "cell_type": "code",
   "execution_count": null,
   "metadata": {},
   "outputs": [],
   "source": []
  }
 ],
 "metadata": {
  "kernelspec": {
   "display_name": "Python 3",
   "language": "python",
   "name": "python3"
  },
  "language_info": {
   "codemirror_mode": {
    "name": "ipython",
    "version": 3
   },
   "file_extension": ".py",
   "mimetype": "text/x-python",
   "name": "python",
   "nbconvert_exporter": "python",
   "pygments_lexer": "ipython3",
   "version": "3.6.5"
  }
 },
 "nbformat": 4,
 "nbformat_minor": 2
}
