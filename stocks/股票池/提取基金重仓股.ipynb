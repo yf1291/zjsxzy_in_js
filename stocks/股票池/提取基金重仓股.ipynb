{
 "cells": [
  {
   "cell_type": "code",
   "execution_count": 1,
   "metadata": {},
   "outputs": [],
   "source": [
    "import pandas as pd\n",
    "import numpy as np\n",
    "import matplotlib.pyplot as plt\n",
    "from WindPy import w\n",
    "import pyodbc\n",
    "import datetime as dt\n",
    "%matplotlib inline"
   ]
  },
  {
   "cell_type": "code",
   "execution_count": 2,
   "metadata": {},
   "outputs": [
    {
     "name": "stdout",
     "output_type": "stream",
     "text": [
      "Welcome to use Wind Quant API for Python (WindPy)!\n",
      "\n",
      "COPYRIGHT (C) 2017 WIND INFORMATION CO., LTD. ALL RIGHTS RESERVED.\n",
      "IN NO CIRCUMSTANCE SHALL WIND BE RESPONSIBLE FOR ANY DAMAGES OR LOSSES CAUSED BY USING WIND QUANT API FOR Python.\n"
     ]
    },
    {
     "data": {
      "text/plain": [
       ".ErrorCode=0\n",
       ".Data=[OK!]"
      ]
     },
     "execution_count": 2,
     "metadata": {},
     "output_type": "execute_result"
    }
   ],
   "source": [
    "w.start()"
   ]
  },
  {
   "cell_type": "code",
   "execution_count": 3,
   "metadata": {},
   "outputs": [],
   "source": [
    "conn = pyodbc.connect('DRIVER={SQL Server};SERVER=10.0.185.138;DATABASE=JYDB;UID=js_dev;PWD=js_dev')"
   ]
  },
  {
   "cell_type": "code",
   "execution_count": 4,
   "metadata": {},
   "outputs": [],
   "source": [
    "report_date = '2020-03-31'\n",
    "last_date = dt.datetime.today() - dt.timedelta(1)"
   ]
  },
  {
   "cell_type": "code",
   "execution_count": 5,
   "metadata": {},
   "outputs": [],
   "source": [
    "def get_wind_code(c):\n",
    "    if c.startswith('0') or c.startswith('3'):\n",
    "        return c + '.SZ'\n",
    "    else:\n",
    "        return c + '.SH'"
   ]
  },
  {
   "cell_type": "markdown",
   "metadata": {},
   "source": [
    "# 基金池中基金重仓股"
   ]
  },
  {
   "cell_type": "code",
   "execution_count": 9,
   "metadata": {},
   "outputs": [],
   "source": [
    "funds = pd.read_excel('../data/基金池.xlsx')"
   ]
  },
  {
   "cell_type": "code",
   "execution_count": 11,
   "metadata": {},
   "outputs": [
    {
     "data": {
      "text/html": [
       "<div>\n",
       "<style scoped>\n",
       "    .dataframe tbody tr th:only-of-type {\n",
       "        vertical-align: middle;\n",
       "    }\n",
       "\n",
       "    .dataframe tbody tr th {\n",
       "        vertical-align: top;\n",
       "    }\n",
       "\n",
       "    .dataframe thead th {\n",
       "        text-align: right;\n",
       "    }\n",
       "</style>\n",
       "<table border=\"1\" class=\"dataframe\">\n",
       "  <thead>\n",
       "    <tr style=\"text-align: right;\">\n",
       "      <th></th>\n",
       "      <th>基金代码</th>\n",
       "      <th>基金名称</th>\n",
       "      <th>基金规模</th>\n",
       "    </tr>\n",
       "  </thead>\n",
       "  <tbody>\n",
       "    <tr>\n",
       "      <th>0</th>\n",
       "      <td>660010.OF</td>\n",
       "      <td>农银汇理策略精选</td>\n",
       "      <td>2.024779e+09</td>\n",
       "    </tr>\n",
       "    <tr>\n",
       "      <th>1</th>\n",
       "      <td>519773.OF</td>\n",
       "      <td>交银数据产业</td>\n",
       "      <td>3.680433e+09</td>\n",
       "    </tr>\n",
       "    <tr>\n",
       "      <th>2</th>\n",
       "      <td>720001.OF</td>\n",
       "      <td>财通价值动量</td>\n",
       "      <td>2.352315e+09</td>\n",
       "    </tr>\n",
       "    <tr>\n",
       "      <th>3</th>\n",
       "      <td>002692.OF</td>\n",
       "      <td>富国创新科技</td>\n",
       "      <td>7.496134e+09</td>\n",
       "    </tr>\n",
       "    <tr>\n",
       "      <th>4</th>\n",
       "      <td>000404.OF</td>\n",
       "      <td>易方达新兴成长</td>\n",
       "      <td>6.474656e+09</td>\n",
       "    </tr>\n",
       "  </tbody>\n",
       "</table>\n",
       "</div>"
      ],
      "text/plain": [
       "        基金代码      基金名称          基金规模\n",
       "0  660010.OF  农银汇理策略精选  2.024779e+09\n",
       "1  519773.OF    交银数据产业  3.680433e+09\n",
       "2  720001.OF    财通价值动量  2.352315e+09\n",
       "3  002692.OF    富国创新科技  7.496134e+09\n",
       "4  000404.OF   易方达新兴成长  6.474656e+09"
      ]
     },
     "execution_count": 11,
     "metadata": {},
     "output_type": "execute_result"
    }
   ],
   "source": [
    "funds.head()"
   ]
  },
  {
   "cell_type": "code",
   "execution_count": 12,
   "metadata": {},
   "outputs": [],
   "source": [
    "set_codes = '(' + ','.join(['\\'%s\\''%(x.rstrip('.OF')) for x in funds['基金代码']]) + ')'"
   ]
  },
  {
   "cell_type": "code",
   "execution_count": 13,
   "metadata": {},
   "outputs": [],
   "source": [
    "query = \"\"\"\n",
    "    select ksp.ReportDate, t.SecuCode, t.SecuAbbr, t2.SecuCode, t2.SecuAbbr, ksp.SharesHolding, ksp.ChangeOfSharesHolding, ksp.RatioInNV\n",
    "    from MF_KeyStockPortfolio as ksp, SecuMain as t, SecuMain as t2\n",
    "    where ksp.ReportDate = '%s'\n",
    "        and ksp.InnerCode = t.InnerCode\n",
    "        and ksp.StockInnerCode = t2.InnerCode\n",
    "        and t.SecuCode in %s\n",
    "\"\"\"%(report_date, set_codes)"
   ]
  },
  {
   "cell_type": "code",
   "execution_count": 14,
   "metadata": {},
   "outputs": [],
   "source": [
    "df = pd.read_sql_query(query, con=conn)"
   ]
  },
  {
   "cell_type": "code",
   "execution_count": 15,
   "metadata": {},
   "outputs": [],
   "source": [
    "df.columns = ['ReportDate', 'SecuCode', 'SecuAbbr', 'StockCode', 'StockAbbr', 'SharesHolding', 'ChangeOfSharesHolding', 'RatioInNV']"
   ]
  },
  {
   "cell_type": "code",
   "execution_count": 16,
   "metadata": {},
   "outputs": [
    {
     "data": {
      "text/html": [
       "<div>\n",
       "<style scoped>\n",
       "    .dataframe tbody tr th:only-of-type {\n",
       "        vertical-align: middle;\n",
       "    }\n",
       "\n",
       "    .dataframe tbody tr th {\n",
       "        vertical-align: top;\n",
       "    }\n",
       "\n",
       "    .dataframe thead th {\n",
       "        text-align: right;\n",
       "    }\n",
       "</style>\n",
       "<table border=\"1\" class=\"dataframe\">\n",
       "  <thead>\n",
       "    <tr style=\"text-align: right;\">\n",
       "      <th></th>\n",
       "      <th>ReportDate</th>\n",
       "      <th>SecuCode</th>\n",
       "      <th>SecuAbbr</th>\n",
       "      <th>StockCode</th>\n",
       "      <th>StockAbbr</th>\n",
       "      <th>SharesHolding</th>\n",
       "      <th>ChangeOfSharesHolding</th>\n",
       "      <th>RatioInNV</th>\n",
       "    </tr>\n",
       "  </thead>\n",
       "  <tbody>\n",
       "    <tr>\n",
       "      <th>0</th>\n",
       "      <td>2020-03-31</td>\n",
       "      <td>000251</td>\n",
       "      <td>工银地产</td>\n",
       "      <td>600036</td>\n",
       "      <td>招商银行</td>\n",
       "      <td>13599900.0</td>\n",
       "      <td>-1400152.0</td>\n",
       "      <td>0.0977</td>\n",
       "    </tr>\n",
       "    <tr>\n",
       "      <th>1</th>\n",
       "      <td>2020-03-31</td>\n",
       "      <td>000251</td>\n",
       "      <td>工银地产</td>\n",
       "      <td>002142</td>\n",
       "      <td>宁波银行</td>\n",
       "      <td>16297177.0</td>\n",
       "      <td>-1591705.0</td>\n",
       "      <td>0.0837</td>\n",
       "    </tr>\n",
       "    <tr>\n",
       "      <th>2</th>\n",
       "      <td>2020-03-31</td>\n",
       "      <td>000251</td>\n",
       "      <td>工银地产</td>\n",
       "      <td>601318</td>\n",
       "      <td>中国平安</td>\n",
       "      <td>5197030.0</td>\n",
       "      <td>197030.0</td>\n",
       "      <td>0.0800</td>\n",
       "    </tr>\n",
       "    <tr>\n",
       "      <th>3</th>\n",
       "      <td>2020-03-31</td>\n",
       "      <td>000251</td>\n",
       "      <td>工银地产</td>\n",
       "      <td>600030</td>\n",
       "      <td>中信证券</td>\n",
       "      <td>13964500.0</td>\n",
       "      <td>-1368800.0</td>\n",
       "      <td>0.0689</td>\n",
       "    </tr>\n",
       "    <tr>\n",
       "      <th>4</th>\n",
       "      <td>2020-03-31</td>\n",
       "      <td>000251</td>\n",
       "      <td>工银地产</td>\n",
       "      <td>000001</td>\n",
       "      <td>平安银行</td>\n",
       "      <td>15012900.0</td>\n",
       "      <td>12900.0</td>\n",
       "      <td>0.0428</td>\n",
       "    </tr>\n",
       "  </tbody>\n",
       "</table>\n",
       "</div>"
      ],
      "text/plain": [
       "  ReportDate SecuCode SecuAbbr StockCode StockAbbr  SharesHolding  \\\n",
       "0 2020-03-31   000251     工银地产    600036      招商银行     13599900.0   \n",
       "1 2020-03-31   000251     工银地产    002142      宁波银行     16297177.0   \n",
       "2 2020-03-31   000251     工银地产    601318      中国平安      5197030.0   \n",
       "3 2020-03-31   000251     工银地产    600030      中信证券     13964500.0   \n",
       "4 2020-03-31   000251     工银地产    000001      平安银行     15012900.0   \n",
       "\n",
       "   ChangeOfSharesHolding  RatioInNV  \n",
       "0             -1400152.0     0.0977  \n",
       "1             -1591705.0     0.0837  \n",
       "2               197030.0     0.0800  \n",
       "3             -1368800.0     0.0689  \n",
       "4                12900.0     0.0428  "
      ]
     },
     "execution_count": 16,
     "metadata": {},
     "output_type": "execute_result"
    }
   ],
   "source": [
    "df.head()"
   ]
  },
  {
   "cell_type": "code",
   "execution_count": 17,
   "metadata": {},
   "outputs": [],
   "source": [
    "stocks = df.groupby(['StockCode', 'StockAbbr']).sum()[['SharesHolding', 'ChangeOfSharesHolding']]"
   ]
  },
  {
   "cell_type": "code",
   "execution_count": 18,
   "metadata": {},
   "outputs": [],
   "source": [
    "stocks['RatioInNV'] = df.groupby(['StockCode', 'StockAbbr']).mean()['RatioInNV']"
   ]
  },
  {
   "cell_type": "code",
   "execution_count": 19,
   "metadata": {},
   "outputs": [],
   "source": [
    "stocks['WindCode'] = [get_wind_code(x) for x in stocks.index.levels[0]]"
   ]
  },
  {
   "cell_type": "code",
   "execution_count": 20,
   "metadata": {},
   "outputs": [],
   "source": [
    "data = w.wss(stocks['WindCode'].tolist(), 'close', \"tradeDate=%s\"%(last_date.strftime('%Y-%m-%d')))"
   ]
  },
  {
   "cell_type": "code",
   "execution_count": 21,
   "metadata": {},
   "outputs": [],
   "source": [
    "stocks['Close'] = data.Data[0]\n",
    "stocks['MarketValue'] = stocks['SharesHolding'] * stocks['Close']"
   ]
  },
  {
   "cell_type": "code",
   "execution_count": 22,
   "metadata": {},
   "outputs": [],
   "source": [
    "stocks['ChangeOfSharesHoldingPct'] = stocks['ChangeOfSharesHolding'] / (stocks['SharesHolding'] - stocks['ChangeOfSharesHolding'])"
   ]
  },
  {
   "cell_type": "code",
   "execution_count": 23,
   "metadata": {},
   "outputs": [],
   "source": [
    "stocks = stocks.sort_values('RatioInNV', ascending=False)"
   ]
  },
  {
   "cell_type": "code",
   "execution_count": 24,
   "metadata": {},
   "outputs": [
    {
     "data": {
      "text/html": [
       "<div>\n",
       "<style scoped>\n",
       "    .dataframe tbody tr th:only-of-type {\n",
       "        vertical-align: middle;\n",
       "    }\n",
       "\n",
       "    .dataframe tbody tr th {\n",
       "        vertical-align: top;\n",
       "    }\n",
       "\n",
       "    .dataframe thead th {\n",
       "        text-align: right;\n",
       "    }\n",
       "</style>\n",
       "<table border=\"1\" class=\"dataframe\">\n",
       "  <thead>\n",
       "    <tr style=\"text-align: right;\">\n",
       "      <th></th>\n",
       "      <th></th>\n",
       "      <th>SharesHolding</th>\n",
       "      <th>ChangeOfSharesHolding</th>\n",
       "      <th>RatioInNV</th>\n",
       "      <th>WindCode</th>\n",
       "      <th>Close</th>\n",
       "      <th>MarketValue</th>\n",
       "      <th>ChangeOfSharesHoldingPct</th>\n",
       "    </tr>\n",
       "    <tr>\n",
       "      <th>StockCode</th>\n",
       "      <th>StockAbbr</th>\n",
       "      <th></th>\n",
       "      <th></th>\n",
       "      <th></th>\n",
       "      <th></th>\n",
       "      <th></th>\n",
       "      <th></th>\n",
       "      <th></th>\n",
       "    </tr>\n",
       "  </thead>\n",
       "  <tbody>\n",
       "    <tr>\n",
       "      <th>601318</th>\n",
       "      <th>中国平安</th>\n",
       "      <td>39675662.0</td>\n",
       "      <td>297006.0</td>\n",
       "      <td>0.10415</td>\n",
       "      <td>601318.SH</td>\n",
       "      <td>71.01</td>\n",
       "      <td>2.817369e+09</td>\n",
       "      <td>0.007542</td>\n",
       "    </tr>\n",
       "    <tr>\n",
       "      <th>000513</th>\n",
       "      <th>丽珠集团</th>\n",
       "      <td>7935421.0</td>\n",
       "      <td>-23400.0</td>\n",
       "      <td>0.10050</td>\n",
       "      <td>000513.SZ</td>\n",
       "      <td>49.10</td>\n",
       "      <td>3.896292e+08</td>\n",
       "      <td>-0.002940</td>\n",
       "    </tr>\n",
       "    <tr>\n",
       "      <th>603866</th>\n",
       "      <th>桃李面包</th>\n",
       "      <td>3027766.0</td>\n",
       "      <td>-307760.0</td>\n",
       "      <td>0.09970</td>\n",
       "      <td>603866.SH</td>\n",
       "      <td>49.32</td>\n",
       "      <td>1.493294e+08</td>\n",
       "      <td>-0.092267</td>\n",
       "    </tr>\n",
       "    <tr>\n",
       "      <th>300699</th>\n",
       "      <th>光威复材</th>\n",
       "      <td>2215925.0</td>\n",
       "      <td>1446645.0</td>\n",
       "      <td>0.09580</td>\n",
       "      <td>300699.SZ</td>\n",
       "      <td>62.70</td>\n",
       "      <td>1.389385e+08</td>\n",
       "      <td>1.880518</td>\n",
       "    </tr>\n",
       "    <tr>\n",
       "      <th>600885</th>\n",
       "      <th>宏发股份</th>\n",
       "      <td>10488860.0</td>\n",
       "      <td>5559991.0</td>\n",
       "      <td>0.09450</td>\n",
       "      <td>600885.SH</td>\n",
       "      <td>38.55</td>\n",
       "      <td>4.043456e+08</td>\n",
       "      <td>1.128046</td>\n",
       "    </tr>\n",
       "  </tbody>\n",
       "</table>\n",
       "</div>"
      ],
      "text/plain": [
       "                     SharesHolding  ChangeOfSharesHolding  RatioInNV  \\\n",
       "StockCode StockAbbr                                                    \n",
       "601318    中国平安          39675662.0               297006.0    0.10415   \n",
       "000513    丽珠集团           7935421.0               -23400.0    0.10050   \n",
       "603866    桃李面包           3027766.0              -307760.0    0.09970   \n",
       "300699    光威复材           2215925.0              1446645.0    0.09580   \n",
       "600885    宏发股份          10488860.0              5559991.0    0.09450   \n",
       "\n",
       "                      WindCode  Close   MarketValue  ChangeOfSharesHoldingPct  \n",
       "StockCode StockAbbr                                                            \n",
       "601318    中国平安       601318.SH  71.01  2.817369e+09                  0.007542  \n",
       "000513    丽珠集团       000513.SZ  49.10  3.896292e+08                 -0.002940  \n",
       "603866    桃李面包       603866.SH  49.32  1.493294e+08                 -0.092267  \n",
       "300699    光威复材       300699.SZ  62.70  1.389385e+08                  1.880518  \n",
       "600885    宏发股份       600885.SH  38.55  4.043456e+08                  1.128046  "
      ]
     },
     "execution_count": 24,
     "metadata": {},
     "output_type": "execute_result"
    }
   ],
   "source": [
    "stocks.head()"
   ]
  },
  {
   "cell_type": "markdown",
   "metadata": {},
   "source": [
    "### 行业分类"
   ]
  },
  {
   "cell_type": "code",
   "execution_count": 26,
   "metadata": {},
   "outputs": [],
   "source": [
    "industry = pd.read_excel('../data/申万行业分类表.xlsx')"
   ]
  },
  {
   "cell_type": "code",
   "execution_count": 27,
   "metadata": {},
   "outputs": [
    {
     "data": {
      "text/html": [
       "<div>\n",
       "<style scoped>\n",
       "    .dataframe tbody tr th:only-of-type {\n",
       "        vertical-align: middle;\n",
       "    }\n",
       "\n",
       "    .dataframe tbody tr th {\n",
       "        vertical-align: top;\n",
       "    }\n",
       "\n",
       "    .dataframe thead th {\n",
       "        text-align: right;\n",
       "    }\n",
       "</style>\n",
       "<table border=\"1\" class=\"dataframe\">\n",
       "  <thead>\n",
       "    <tr style=\"text-align: right;\">\n",
       "      <th></th>\n",
       "      <th>金融地产</th>\n",
       "      <th>可选消费</th>\n",
       "      <th>必选医药</th>\n",
       "      <th>信息科技</th>\n",
       "      <th>其他经济敏感</th>\n",
       "      <th>其他经济不敏感</th>\n",
       "    </tr>\n",
       "  </thead>\n",
       "  <tbody>\n",
       "    <tr>\n",
       "      <th>0</th>\n",
       "      <td>银行Ⅱ(申万)</td>\n",
       "      <td>汽车整车(申万)</td>\n",
       "      <td>食品加工(申万)</td>\n",
       "      <td>半导体(申万)</td>\n",
       "      <td>煤炭开采Ⅱ(申万)</td>\n",
       "      <td>农产品加工(申万)</td>\n",
       "    </tr>\n",
       "    <tr>\n",
       "      <th>1</th>\n",
       "      <td>多元金融Ⅱ(申万)</td>\n",
       "      <td>汽车零部件Ⅱ(申万)</td>\n",
       "      <td>化学制药(申万)</td>\n",
       "      <td>其他电子Ⅱ(申万)</td>\n",
       "      <td>金属非金属新材料(申万)</td>\n",
       "      <td>饲料Ⅱ(申万)</td>\n",
       "    </tr>\n",
       "    <tr>\n",
       "      <th>2</th>\n",
       "      <td>券商Ⅱ(申万)</td>\n",
       "      <td>白色家电(申万)</td>\n",
       "      <td>中药Ⅱ(申万)</td>\n",
       "      <td>元件Ⅱ(申万)</td>\n",
       "      <td>其他采掘Ⅱ(申万)</td>\n",
       "      <td>渔业(申万)</td>\n",
       "    </tr>\n",
       "    <tr>\n",
       "      <th>3</th>\n",
       "      <td>保险Ⅱ(申万)</td>\n",
       "      <td>景点(申万)</td>\n",
       "      <td>生物制品Ⅱ(申万)</td>\n",
       "      <td>光学光电子(申万)</td>\n",
       "      <td>采掘服务Ⅱ(申万)</td>\n",
       "      <td>种植业(申万)</td>\n",
       "    </tr>\n",
       "    <tr>\n",
       "      <th>4</th>\n",
       "      <td>房地产开发Ⅱ(申万)</td>\n",
       "      <td>酒店Ⅱ(申万)</td>\n",
       "      <td>医疗器械Ⅱ(申万)</td>\n",
       "      <td>电子制造Ⅱ(申万)</td>\n",
       "      <td>工业金属(申万)</td>\n",
       "      <td>畜禽养殖Ⅱ(申万)</td>\n",
       "    </tr>\n",
       "  </tbody>\n",
       "</table>\n",
       "</div>"
      ],
      "text/plain": [
       "         金融地产        可选消费       必选医药       信息科技        其他经济敏感    其他经济不敏感\n",
       "0     银行Ⅱ(申万)    汽车整车(申万)   食品加工(申万)    半导体(申万)     煤炭开采Ⅱ(申万)  农产品加工(申万)\n",
       "1   多元金融Ⅱ(申万)  汽车零部件Ⅱ(申万)   化学制药(申万)  其他电子Ⅱ(申万)  金属非金属新材料(申万)    饲料Ⅱ(申万)\n",
       "2     券商Ⅱ(申万)    白色家电(申万)    中药Ⅱ(申万)    元件Ⅱ(申万)     其他采掘Ⅱ(申万)     渔业(申万)\n",
       "3     保险Ⅱ(申万)      景点(申万)  生物制品Ⅱ(申万)  光学光电子(申万)     采掘服务Ⅱ(申万)    种植业(申万)\n",
       "4  房地产开发Ⅱ(申万)     酒店Ⅱ(申万)  医疗器械Ⅱ(申万)  电子制造Ⅱ(申万)      工业金属(申万)  畜禽养殖Ⅱ(申万)"
      ]
     },
     "execution_count": 27,
     "metadata": {},
     "output_type": "execute_result"
    }
   ],
   "source": [
    "industry.head()"
   ]
  },
  {
   "cell_type": "code",
   "execution_count": 28,
   "metadata": {},
   "outputs": [],
   "source": [
    "industry2theme = {}\n",
    "for col in industry.columns:\n",
    "    for i in industry[col]:\n",
    "        if type(i) == str:\n",
    "            industry2theme[i.rstrip('(申万)')] = col\n",
    "            industry2theme[i.rstrip('Ⅱ(申万)')] = col\n",
    "#             print(i.rstrip('Ⅱ(申万)'), col)\n",
    "industry2theme['证券Ⅱ'] = '金融地产'"
   ]
  },
  {
   "cell_type": "code",
   "execution_count": 29,
   "metadata": {},
   "outputs": [],
   "source": [
    "data = w.wss(stocks['WindCode'].tolist(), 'industry_sw', 'industryType=2')"
   ]
  },
  {
   "cell_type": "code",
   "execution_count": 30,
   "metadata": {},
   "outputs": [],
   "source": [
    "stocks['industry_sw'] = data.Data[0]"
   ]
  },
  {
   "cell_type": "code",
   "execution_count": 31,
   "metadata": {},
   "outputs": [],
   "source": [
    "stocks['industry_theme'] = [industry2theme[x] for x in stocks['industry_sw']]"
   ]
  },
  {
   "cell_type": "code",
   "execution_count": 32,
   "metadata": {},
   "outputs": [
    {
     "data": {
      "text/html": [
       "<div>\n",
       "<style scoped>\n",
       "    .dataframe tbody tr th:only-of-type {\n",
       "        vertical-align: middle;\n",
       "    }\n",
       "\n",
       "    .dataframe tbody tr th {\n",
       "        vertical-align: top;\n",
       "    }\n",
       "\n",
       "    .dataframe thead th {\n",
       "        text-align: right;\n",
       "    }\n",
       "</style>\n",
       "<table border=\"1\" class=\"dataframe\">\n",
       "  <thead>\n",
       "    <tr style=\"text-align: right;\">\n",
       "      <th></th>\n",
       "      <th></th>\n",
       "      <th>SharesHolding</th>\n",
       "      <th>ChangeOfSharesHolding</th>\n",
       "      <th>RatioInNV</th>\n",
       "      <th>WindCode</th>\n",
       "      <th>Close</th>\n",
       "      <th>MarketValue</th>\n",
       "      <th>ChangeOfSharesHoldingPct</th>\n",
       "      <th>industry_sw</th>\n",
       "      <th>industry_theme</th>\n",
       "    </tr>\n",
       "    <tr>\n",
       "      <th>StockCode</th>\n",
       "      <th>StockAbbr</th>\n",
       "      <th></th>\n",
       "      <th></th>\n",
       "      <th></th>\n",
       "      <th></th>\n",
       "      <th></th>\n",
       "      <th></th>\n",
       "      <th></th>\n",
       "      <th></th>\n",
       "      <th></th>\n",
       "    </tr>\n",
       "  </thead>\n",
       "  <tbody>\n",
       "    <tr>\n",
       "      <th>601318</th>\n",
       "      <th>中国平安</th>\n",
       "      <td>39675662.0</td>\n",
       "      <td>297006.0</td>\n",
       "      <td>0.10415</td>\n",
       "      <td>601318.SH</td>\n",
       "      <td>71.01</td>\n",
       "      <td>2.817369e+09</td>\n",
       "      <td>0.007542</td>\n",
       "      <td>保险Ⅱ</td>\n",
       "      <td>金融地产</td>\n",
       "    </tr>\n",
       "    <tr>\n",
       "      <th>000513</th>\n",
       "      <th>丽珠集团</th>\n",
       "      <td>7935421.0</td>\n",
       "      <td>-23400.0</td>\n",
       "      <td>0.10050</td>\n",
       "      <td>000513.SZ</td>\n",
       "      <td>49.10</td>\n",
       "      <td>3.896292e+08</td>\n",
       "      <td>-0.002940</td>\n",
       "      <td>化学制药</td>\n",
       "      <td>必选医药</td>\n",
       "    </tr>\n",
       "    <tr>\n",
       "      <th>603866</th>\n",
       "      <th>桃李面包</th>\n",
       "      <td>3027766.0</td>\n",
       "      <td>-307760.0</td>\n",
       "      <td>0.09970</td>\n",
       "      <td>603866.SH</td>\n",
       "      <td>49.32</td>\n",
       "      <td>1.493294e+08</td>\n",
       "      <td>-0.092267</td>\n",
       "      <td>食品加工</td>\n",
       "      <td>必选医药</td>\n",
       "    </tr>\n",
       "    <tr>\n",
       "      <th>300699</th>\n",
       "      <th>光威复材</th>\n",
       "      <td>2215925.0</td>\n",
       "      <td>1446645.0</td>\n",
       "      <td>0.09580</td>\n",
       "      <td>300699.SZ</td>\n",
       "      <td>62.70</td>\n",
       "      <td>1.389385e+08</td>\n",
       "      <td>1.880518</td>\n",
       "      <td>化学纤维</td>\n",
       "      <td>其他经济敏感</td>\n",
       "    </tr>\n",
       "    <tr>\n",
       "      <th>600885</th>\n",
       "      <th>宏发股份</th>\n",
       "      <td>10488860.0</td>\n",
       "      <td>5559991.0</td>\n",
       "      <td>0.09450</td>\n",
       "      <td>600885.SH</td>\n",
       "      <td>38.55</td>\n",
       "      <td>4.043456e+08</td>\n",
       "      <td>1.128046</td>\n",
       "      <td>高低压设备</td>\n",
       "      <td>信息科技</td>\n",
       "    </tr>\n",
       "  </tbody>\n",
       "</table>\n",
       "</div>"
      ],
      "text/plain": [
       "                     SharesHolding  ChangeOfSharesHolding  RatioInNV  \\\n",
       "StockCode StockAbbr                                                    \n",
       "601318    中国平安          39675662.0               297006.0    0.10415   \n",
       "000513    丽珠集团           7935421.0               -23400.0    0.10050   \n",
       "603866    桃李面包           3027766.0              -307760.0    0.09970   \n",
       "300699    光威复材           2215925.0              1446645.0    0.09580   \n",
       "600885    宏发股份          10488860.0              5559991.0    0.09450   \n",
       "\n",
       "                      WindCode  Close   MarketValue  ChangeOfSharesHoldingPct  \\\n",
       "StockCode StockAbbr                                                             \n",
       "601318    中国平安       601318.SH  71.01  2.817369e+09                  0.007542   \n",
       "000513    丽珠集团       000513.SZ  49.10  3.896292e+08                 -0.002940   \n",
       "603866    桃李面包       603866.SH  49.32  1.493294e+08                 -0.092267   \n",
       "300699    光威复材       300699.SZ  62.70  1.389385e+08                  1.880518   \n",
       "600885    宏发股份       600885.SH  38.55  4.043456e+08                  1.128046   \n",
       "\n",
       "                    industry_sw industry_theme  \n",
       "StockCode StockAbbr                             \n",
       "601318    中国平安              保险Ⅱ           金融地产  \n",
       "000513    丽珠集团             化学制药           必选医药  \n",
       "603866    桃李面包             食品加工           必选医药  \n",
       "300699    光威复材             化学纤维         其他经济敏感  \n",
       "600885    宏发股份            高低压设备           信息科技  "
      ]
     },
     "execution_count": 32,
     "metadata": {},
     "output_type": "execute_result"
    }
   ],
   "source": [
    "stocks.head()"
   ]
  },
  {
   "cell_type": "code",
   "execution_count": 34,
   "metadata": {},
   "outputs": [],
   "source": [
    "stocks.to_excel('../data/基金池基金重仓股.xlsx')"
   ]
  },
  {
   "cell_type": "markdown",
   "metadata": {},
   "source": [
    "# 全部基金重仓股"
   ]
  },
  {
   "cell_type": "code",
   "execution_count": 35,
   "metadata": {},
   "outputs": [],
   "source": [
    "query = \"\"\"\n",
    "    select ksp.ReportDate, t.SecuCode, t.SecuAbbr, t2.SecuCode, t2.SecuAbbr, ksp.SharesHolding, ksp.ChangeOfSharesHolding, ksp.RatioInNV\n",
    "    from MF_KeyStockPortfolio as ksp, SecuMain as t, SecuMain as t2\n",
    "    where ksp.ReportDate = '%s'\n",
    "        and ksp.InnerCode = t.InnerCode\n",
    "        and ksp.StockInnerCode = t2.InnerCode\n",
    "\"\"\"%(report_date)"
   ]
  },
  {
   "cell_type": "code",
   "execution_count": 36,
   "metadata": {},
   "outputs": [],
   "source": [
    "df = pd.read_sql_query(query, con=conn)"
   ]
  },
  {
   "cell_type": "code",
   "execution_count": 37,
   "metadata": {},
   "outputs": [],
   "source": [
    "df.columns = ['ReportDate', 'SecuCode', 'SecuAbbr', 'StockCode', 'StockAbbr', 'SharesHolding', 'ChangeOfSharesHolding', 'RatioInNV']"
   ]
  },
  {
   "cell_type": "code",
   "execution_count": 38,
   "metadata": {},
   "outputs": [],
   "source": [
    "stocks = df.groupby(['StockCode', 'StockAbbr']).sum()[['SharesHolding', 'ChangeOfSharesHolding']]"
   ]
  },
  {
   "cell_type": "code",
   "execution_count": 39,
   "metadata": {},
   "outputs": [],
   "source": [
    "stocks['RatioInNV'] = df.groupby(['StockCode', 'StockAbbr']).mean()['RatioInNV']"
   ]
  },
  {
   "cell_type": "code",
   "execution_count": 40,
   "metadata": {},
   "outputs": [],
   "source": [
    "stocks['WindCode'] = [get_wind_code(x) for x in stocks.index.levels[0]]"
   ]
  },
  {
   "cell_type": "code",
   "execution_count": 41,
   "metadata": {},
   "outputs": [],
   "source": [
    "data = w.wss(stocks['WindCode'].tolist(), 'close', \"tradeDate=%s\"%(last_date.strftime('%Y-%m-%d')))"
   ]
  },
  {
   "cell_type": "code",
   "execution_count": 42,
   "metadata": {},
   "outputs": [],
   "source": [
    "stocks['Close'] = data.Data[0]\n",
    "stocks['MarketValue'] = stocks['SharesHolding'] * stocks['Close']"
   ]
  },
  {
   "cell_type": "code",
   "execution_count": 43,
   "metadata": {},
   "outputs": [],
   "source": [
    "stocks = stocks.sort_values('MarketValue', ascending=False)"
   ]
  },
  {
   "cell_type": "code",
   "execution_count": 44,
   "metadata": {},
   "outputs": [],
   "source": [
    "stocks['ChangeOfSharesHoldingPct'] = stocks['ChangeOfSharesHolding'] / (stocks['SharesHolding'] - stocks['ChangeOfSharesHolding'])"
   ]
  },
  {
   "cell_type": "code",
   "execution_count": 45,
   "metadata": {},
   "outputs": [],
   "source": [
    "stocks.to_excel('../data/全部基金基金重仓股.xlsx')"
   ]
  },
  {
   "cell_type": "code",
   "execution_count": null,
   "metadata": {},
   "outputs": [],
   "source": []
  }
 ],
 "metadata": {
  "kernelspec": {
   "display_name": "Python 3",
   "language": "python",
   "name": "python3"
  },
  "language_info": {
   "codemirror_mode": {
    "name": "ipython",
    "version": 3
   },
   "file_extension": ".py",
   "mimetype": "text/x-python",
   "name": "python",
   "nbconvert_exporter": "python",
   "pygments_lexer": "ipython3",
   "version": "3.6.5"
  }
 },
 "nbformat": 4,
 "nbformat_minor": 4
}
