{
 "cells": [
  {
   "cell_type": "code",
   "execution_count": 38,
   "metadata": {},
   "outputs": [],
   "source": [
    "import pandas as pd\n",
    "import numpy as np\n",
    "from WindPy import w"
   ]
  },
  {
   "cell_type": "code",
   "execution_count": 39,
   "metadata": {},
   "outputs": [
    {
     "data": {
      "text/plain": [
       ".ErrorCode=0\n",
       ".Data=[Already conntected!]"
      ]
     },
     "execution_count": 39,
     "metadata": {},
     "output_type": "execute_result"
    }
   ],
   "source": [
    "w.start()"
   ]
  },
  {
   "cell_type": "code",
   "execution_count": 3,
   "metadata": {},
   "outputs": [],
   "source": [
    "# fname = '\\\\\\\\hfm-pubshare\\HFM各部门共享\\Harvest嘉实全体员工\\YANJJ\\综合信息查询_成交回报.xls'\n",
    "fname = '../data/综合信息查询_成交回报.xls'"
   ]
  },
  {
   "cell_type": "code",
   "execution_count": 4,
   "metadata": {},
   "outputs": [
    {
     "name": "stdout",
     "output_type": "stream",
     "text": [
      "WARNING *** OLE2 inconsistency: SSCS size is 0 but SSAT size is non-zero\n"
     ]
    }
   ],
   "source": [
    "df = pd.read_excel(fname, index_col=0, converters={'证券代码': str})"
   ]
  },
  {
   "cell_type": "code",
   "execution_count": 5,
   "metadata": {},
   "outputs": [],
   "source": [
    "df = df[df['委托方向'] == '卖出']"
   ]
  },
  {
   "cell_type": "code",
   "execution_count": 6,
   "metadata": {},
   "outputs": [],
   "source": [
    "df.loc[df.index, '发生日期'] = pd.to_datetime(df['发生日期'])"
   ]
  },
  {
   "cell_type": "code",
   "execution_count": 7,
   "metadata": {},
   "outputs": [],
   "source": [
    "def to_windcode(s):\n",
    "    if s.startswith('6'):\n",
    "        return s + '.SH'\n",
    "    else:\n",
    "        return s + '.SZ'"
   ]
  },
  {
   "cell_type": "code",
   "execution_count": 8,
   "metadata": {},
   "outputs": [],
   "source": [
    "df['windcode'] = [to_windcode(x) for x in df['证券代码']]"
   ]
  },
  {
   "cell_type": "code",
   "execution_count": 9,
   "metadata": {},
   "outputs": [],
   "source": [
    "data = w.wss(df['windcode'].drop_duplicates().tolist(), 'ipo_date,mkt,ipo_price')"
   ]
  },
  {
   "cell_type": "code",
   "execution_count": 10,
   "metadata": {},
   "outputs": [],
   "source": [
    "ipo_date = {k: v for k, v in zip(data.Codes, data.Data[0])}\n",
    "mkt = {k: v for k, v in zip(data.Codes, data.Data[1])}\n",
    "ipo_price = {k: v for k, v in zip(data.Codes, data.Data[2])}"
   ]
  },
  {
   "cell_type": "code",
   "execution_count": 11,
   "metadata": {},
   "outputs": [],
   "source": [
    "df['ipo_date'] = pd.to_datetime([ipo_date[x] for x in df['windcode']])\n",
    "df['mkt'] = [mkt[x] for x in df['windcode']]\n",
    "df['ipo_price'] = [ipo_price[x] for x in df['windcode']]"
   ]
  },
  {
   "cell_type": "code",
   "execution_count": 12,
   "metadata": {},
   "outputs": [],
   "source": [
    "df['days'] = df['发生日期'] - df['ipo_date']"
   ]
  },
  {
   "cell_type": "code",
   "execution_count": 13,
   "metadata": {},
   "outputs": [],
   "source": [
    "df['days'] = [x.days for x in df['days']]"
   ]
  },
  {
   "cell_type": "markdown",
   "metadata": {},
   "source": [
    "# 新股判断条件"
   ]
  },
  {
   "cell_type": "code",
   "execution_count": 14,
   "metadata": {},
   "outputs": [],
   "source": [
    "df = df[df['days'] < 45]"
   ]
  },
  {
   "cell_type": "code",
   "execution_count": 55,
   "metadata": {},
   "outputs": [
    {
     "data": {
      "text/html": [
       "<div>\n",
       "<style scoped>\n",
       "    .dataframe tbody tr th:only-of-type {\n",
       "        vertical-align: middle;\n",
       "    }\n",
       "\n",
       "    .dataframe tbody tr th {\n",
       "        vertical-align: top;\n",
       "    }\n",
       "\n",
       "    .dataframe thead th {\n",
       "        text-align: right;\n",
       "    }\n",
       "</style>\n",
       "<table border=\"1\" class=\"dataframe\">\n",
       "  <thead>\n",
       "    <tr style=\"text-align: right;\">\n",
       "      <th></th>\n",
       "      <th>发生日期</th>\n",
       "      <th>基金编号</th>\n",
       "      <th>基金名称</th>\n",
       "      <th>组合名称</th>\n",
       "      <th>证券代码</th>\n",
       "      <th>证券名称</th>\n",
       "      <th>委托方向</th>\n",
       "      <th>指令数量</th>\n",
       "      <th>持仓</th>\n",
       "      <th>最新价</th>\n",
       "      <th>...</th>\n",
       "      <th>今开盘价</th>\n",
       "      <th>是否强平委托</th>\n",
       "      <th>代下达人</th>\n",
       "      <th>是否强平</th>\n",
       "      <th>平仓盈亏</th>\n",
       "      <th>windcode</th>\n",
       "      <th>ipo_date</th>\n",
       "      <th>mkt</th>\n",
       "      <th>ipo_price</th>\n",
       "      <th>days</th>\n",
       "    </tr>\n",
       "    <tr>\n",
       "      <th>序号</th>\n",
       "      <th></th>\n",
       "      <th></th>\n",
       "      <th></th>\n",
       "      <th></th>\n",
       "      <th></th>\n",
       "      <th></th>\n",
       "      <th></th>\n",
       "      <th></th>\n",
       "      <th></th>\n",
       "      <th></th>\n",
       "      <th></th>\n",
       "      <th></th>\n",
       "      <th></th>\n",
       "      <th></th>\n",
       "      <th></th>\n",
       "      <th></th>\n",
       "      <th></th>\n",
       "      <th></th>\n",
       "      <th></th>\n",
       "      <th></th>\n",
       "      <th></th>\n",
       "    </tr>\n",
       "  </thead>\n",
       "  <tbody>\n",
       "    <tr>\n",
       "      <th>2</th>\n",
       "      <td>2020-09-03</td>\n",
       "      <td>418.0</td>\n",
       "      <td>嘉实创新成长混合</td>\n",
       "      <td>缺省组合</td>\n",
       "      <td>605123</td>\n",
       "      <td>派克新材</td>\n",
       "      <td>卖出</td>\n",
       "      <td>599</td>\n",
       "      <td>0.0</td>\n",
       "      <td>85.15</td>\n",
       "      <td>...</td>\n",
       "      <td>0.0</td>\n",
       "      <td>非强平</td>\n",
       "      <td>黄文婕</td>\n",
       "      <td>否</td>\n",
       "      <td>0</td>\n",
       "      <td>605123.SH</td>\n",
       "      <td>2020-08-25</td>\n",
       "      <td>主板</td>\n",
       "      <td>30.33</td>\n",
       "      <td>9</td>\n",
       "    </tr>\n",
       "    <tr>\n",
       "      <th>3</th>\n",
       "      <td>2020-09-04</td>\n",
       "      <td>418.0</td>\n",
       "      <td>嘉实创新成长混合</td>\n",
       "      <td>缺省组合</td>\n",
       "      <td>688390</td>\n",
       "      <td>N固德威</td>\n",
       "      <td>卖出</td>\n",
       "      <td>2585</td>\n",
       "      <td>0.0</td>\n",
       "      <td>135.00</td>\n",
       "      <td>...</td>\n",
       "      <td>0.0</td>\n",
       "      <td>非强平</td>\n",
       "      <td>闫晶晶</td>\n",
       "      <td>否</td>\n",
       "      <td>0</td>\n",
       "      <td>688390.SH</td>\n",
       "      <td>2020-09-04</td>\n",
       "      <td>科创板</td>\n",
       "      <td>37.93</td>\n",
       "      <td>0</td>\n",
       "    </tr>\n",
       "    <tr>\n",
       "      <th>4</th>\n",
       "      <td>2020-09-04</td>\n",
       "      <td>418.0</td>\n",
       "      <td>嘉实创新成长混合</td>\n",
       "      <td>缺省组合</td>\n",
       "      <td>002996</td>\n",
       "      <td>顺博合金</td>\n",
       "      <td>卖出</td>\n",
       "      <td>849</td>\n",
       "      <td>0.0</td>\n",
       "      <td>18.34</td>\n",
       "      <td>...</td>\n",
       "      <td>19.5</td>\n",
       "      <td>非强平</td>\n",
       "      <td>闫晶晶</td>\n",
       "      <td>否</td>\n",
       "      <td>0</td>\n",
       "      <td>002996.SZ</td>\n",
       "      <td>2020-08-28</td>\n",
       "      <td>中小企业板</td>\n",
       "      <td>8.41</td>\n",
       "      <td>7</td>\n",
       "    </tr>\n",
       "    <tr>\n",
       "      <th>5</th>\n",
       "      <td>2020-09-07</td>\n",
       "      <td>418.0</td>\n",
       "      <td>嘉实创新成长混合</td>\n",
       "      <td>缺省组合</td>\n",
       "      <td>603155</td>\n",
       "      <td>新亚强</td>\n",
       "      <td>卖出</td>\n",
       "      <td>687</td>\n",
       "      <td>0.0</td>\n",
       "      <td>38.64</td>\n",
       "      <td>...</td>\n",
       "      <td>0.0</td>\n",
       "      <td>非强平</td>\n",
       "      <td>黄文婕</td>\n",
       "      <td>否</td>\n",
       "      <td>0</td>\n",
       "      <td>603155.SH</td>\n",
       "      <td>2020-09-01</td>\n",
       "      <td>主板</td>\n",
       "      <td>31.85</td>\n",
       "      <td>6</td>\n",
       "    </tr>\n",
       "    <tr>\n",
       "      <th>6</th>\n",
       "      <td>2020-09-01</td>\n",
       "      <td>418.0</td>\n",
       "      <td>嘉实创新成长混合</td>\n",
       "      <td>缺省组合</td>\n",
       "      <td>603931</td>\n",
       "      <td>格林达</td>\n",
       "      <td>卖出</td>\n",
       "      <td>431</td>\n",
       "      <td>0.0</td>\n",
       "      <td>70.56</td>\n",
       "      <td>...</td>\n",
       "      <td>0.0</td>\n",
       "      <td>非强平</td>\n",
       "      <td>黄文婕</td>\n",
       "      <td>否</td>\n",
       "      <td>0</td>\n",
       "      <td>603931.SH</td>\n",
       "      <td>2020-08-19</td>\n",
       "      <td>主板</td>\n",
       "      <td>21.38</td>\n",
       "      <td>13</td>\n",
       "    </tr>\n",
       "  </tbody>\n",
       "</table>\n",
       "<p>5 rows × 67 columns</p>\n",
       "</div>"
      ],
      "text/plain": [
       "         发生日期   基金编号      基金名称  组合名称    证券代码  证券名称 委托方向  指令数量   持仓     最新价  \\\n",
       "序号                                                                           \n",
       "2  2020-09-03  418.0  嘉实创新成长混合  缺省组合  605123  派克新材   卖出   599  0.0   85.15   \n",
       "3  2020-09-04  418.0  嘉实创新成长混合  缺省组合  688390  N固德威   卖出  2585  0.0  135.00   \n",
       "4  2020-09-04  418.0  嘉实创新成长混合  缺省组合  002996  顺博合金   卖出   849  0.0   18.34   \n",
       "5  2020-09-07  418.0  嘉实创新成长混合  缺省组合  603155   新亚强   卖出   687  0.0   38.64   \n",
       "6  2020-09-01  418.0  嘉实创新成长混合  缺省组合  603931   格林达   卖出   431  0.0   70.56   \n",
       "\n",
       "    ...  今开盘价  是否强平委托  代下达人  是否强平  平仓盈亏   windcode   ipo_date    mkt  \\\n",
       "序号  ...                                                                \n",
       "2   ...   0.0     非强平   黄文婕     否     0  605123.SH 2020-08-25     主板   \n",
       "3   ...   0.0     非强平   闫晶晶     否     0  688390.SH 2020-09-04    科创板   \n",
       "4   ...  19.5     非强平   闫晶晶     否     0  002996.SZ 2020-08-28  中小企业板   \n",
       "5   ...   0.0     非强平   黄文婕     否     0  603155.SH 2020-09-01     主板   \n",
       "6   ...   0.0     非强平   黄文婕     否     0  603931.SH 2020-08-19     主板   \n",
       "\n",
       "   ipo_price  days  \n",
       "序号                  \n",
       "2      30.33     9  \n",
       "3      37.93     0  \n",
       "4       8.41     7  \n",
       "5      31.85     6  \n",
       "6      21.38    13  \n",
       "\n",
       "[5 rows x 67 columns]"
      ]
     },
     "execution_count": 55,
     "metadata": {},
     "output_type": "execute_result"
    }
   ],
   "source": [
    "df.head()"
   ]
  },
  {
   "cell_type": "markdown",
   "metadata": {},
   "source": [
    "# 创新成长打新统计"
   ]
  },
  {
   "cell_type": "code",
   "execution_count": 40,
   "metadata": {},
   "outputs": [],
   "source": [
    "results = pd.DataFrame(columns=['基金名称', '基金公司名称', \n",
    "                                '是否全部卖出（科）', '原持有股数（科）', \n",
    "                                '已卖出股数（科）', '卖出持股比例（科）',\n",
    "                                '科创板股票成本金额', '科创板打新收益',\n",
    "                                '是否全部卖出（创）', '原持有股数（创）',\n",
    "                                '已卖出股数（创）', '卖出持股比例（创）',\n",
    "                                '创业板股票成本金额', '创业板打新收益',\n",
    "                                '主板打新收益', '打新总收益', '备注'], index=[1])"
   ]
  },
  {
   "cell_type": "code",
   "execution_count": 41,
   "metadata": {},
   "outputs": [],
   "source": [
    "results.loc[1, '基金名称'] = '嘉实创新成长混合'\n",
    "results.loc[1, '基金公司名称'] = '嘉实基金管理有限公司'"
   ]
  },
  {
   "cell_type": "markdown",
   "metadata": {},
   "source": [
    "### 科创板"
   ]
  },
  {
   "cell_type": "code",
   "execution_count": 42,
   "metadata": {},
   "outputs": [],
   "source": [
    "star = df[df['mkt'] == '科创板']"
   ]
  },
  {
   "cell_type": "code",
   "execution_count": 43,
   "metadata": {},
   "outputs": [],
   "source": [
    "results.loc[1, '原持有股数（科）'] = (star['成交数量'] + star['持仓']).sum() / 1e4\n",
    "results.loc[1, '已卖出股数（科）'] = star['成交数量'].sum() / 1e4\n",
    "results.loc[1, '卖出持股比例（科）'] = results.loc[1, '已卖出股数（科）'] / results.loc[1, '原持有股数（科）']\n",
    "results.loc[1, '是否全部卖出（科）'] = '是' if results.loc[1, '卖出持股比例（科）'] == 1 else '否'"
   ]
  },
  {
   "cell_type": "code",
   "execution_count": 44,
   "metadata": {},
   "outputs": [],
   "source": [
    "results.loc[1, '科创板股票成本金额'] = (star['ipo_price']*star['成交数量']).sum()\n",
    "results.loc[1, '科创板打新收益'] = (star['成交金额']-star['ipo_price']*star['成交数量']).sum()"
   ]
  },
  {
   "cell_type": "code",
   "execution_count": 45,
   "metadata": {},
   "outputs": [
    {
     "data": {
      "text/html": [
       "<div>\n",
       "<style scoped>\n",
       "    .dataframe tbody tr th:only-of-type {\n",
       "        vertical-align: middle;\n",
       "    }\n",
       "\n",
       "    .dataframe tbody tr th {\n",
       "        vertical-align: top;\n",
       "    }\n",
       "\n",
       "    .dataframe thead th {\n",
       "        text-align: right;\n",
       "    }\n",
       "</style>\n",
       "<table border=\"1\" class=\"dataframe\">\n",
       "  <thead>\n",
       "    <tr style=\"text-align: right;\">\n",
       "      <th></th>\n",
       "      <th>基金名称</th>\n",
       "      <th>基金公司名称</th>\n",
       "      <th>是否全部卖出（科）</th>\n",
       "      <th>原持有股数（科）</th>\n",
       "      <th>已卖出股数（科）</th>\n",
       "      <th>卖出持股比例（科）</th>\n",
       "      <th>科创板股票成本金额</th>\n",
       "      <th>科创板打新收益</th>\n",
       "      <th>是否全部卖出（创）</th>\n",
       "      <th>原持有股数（创）</th>\n",
       "      <th>已卖出股数（创）</th>\n",
       "      <th>卖出持股比例（创）</th>\n",
       "      <th>创业板股票成本金额</th>\n",
       "      <th>创业板打新收益</th>\n",
       "      <th>主板打新收益</th>\n",
       "      <th>打新总收益</th>\n",
       "      <th>备注</th>\n",
       "    </tr>\n",
       "  </thead>\n",
       "  <tbody>\n",
       "    <tr>\n",
       "      <th>1</th>\n",
       "      <td>嘉实创新成长混合</td>\n",
       "      <td>嘉实基金管理有限公司</td>\n",
       "      <td>是</td>\n",
       "      <td>1.081</td>\n",
       "      <td>1.081</td>\n",
       "      <td>1</td>\n",
       "      <td>570779</td>\n",
       "      <td>509205</td>\n",
       "      <td>NaN</td>\n",
       "      <td>NaN</td>\n",
       "      <td>NaN</td>\n",
       "      <td>NaN</td>\n",
       "      <td>NaN</td>\n",
       "      <td>NaN</td>\n",
       "      <td>NaN</td>\n",
       "      <td>NaN</td>\n",
       "      <td>NaN</td>\n",
       "    </tr>\n",
       "  </tbody>\n",
       "</table>\n",
       "</div>"
      ],
      "text/plain": [
       "       基金名称      基金公司名称 是否全部卖出（科） 原持有股数（科） 已卖出股数（科） 卖出持股比例（科） 科创板股票成本金额  \\\n",
       "1  嘉实创新成长混合  嘉实基金管理有限公司         是    1.081    1.081         1    570779   \n",
       "\n",
       "  科创板打新收益 是否全部卖出（创） 原持有股数（创） 已卖出股数（创） 卖出持股比例（创） 创业板股票成本金额 创业板打新收益 主板打新收益  \\\n",
       "1  509205       NaN      NaN      NaN       NaN       NaN     NaN    NaN   \n",
       "\n",
       "  打新总收益   备注  \n",
       "1   NaN  NaN  "
      ]
     },
     "execution_count": 45,
     "metadata": {},
     "output_type": "execute_result"
    }
   ],
   "source": [
    "results"
   ]
  },
  {
   "cell_type": "markdown",
   "metadata": {},
   "source": [
    "### 创业板"
   ]
  },
  {
   "cell_type": "code",
   "execution_count": 37,
   "metadata": {},
   "outputs": [],
   "source": [
    "entr = df[df['mkt'] == '创业板']"
   ]
  },
  {
   "cell_type": "code",
   "execution_count": 46,
   "metadata": {},
   "outputs": [],
   "source": [
    "results.loc[1, '原持有股数（创）'] = (entr['成交数量'] + entr['持仓']).sum() / 1e4\n",
    "results.loc[1, '已卖出股数（创）'] = entr['成交数量'].sum() / 1e4\n",
    "results.loc[1, '卖出持股比例（创）'] = results.loc[1, '已卖出股数（创）'] / results.loc[1, '原持有股数（创）']\n",
    "results.loc[1, '是否全部卖出（创）'] = '是' if results.loc[1, '卖出持股比例（创）'] == 1 else '否'"
   ]
  },
  {
   "cell_type": "code",
   "execution_count": 47,
   "metadata": {},
   "outputs": [],
   "source": [
    "results.loc[1, '创业板股票成本金额'] = (entr['ipo_price']*entr['成交数量']).sum()\n",
    "results.loc[1, '创业板打新收益'] = (entr['成交金额']-entr['ipo_price']*entr['成交数量']).sum()"
   ]
  },
  {
   "cell_type": "code",
   "execution_count": 48,
   "metadata": {},
   "outputs": [
    {
     "data": {
      "text/html": [
       "<div>\n",
       "<style scoped>\n",
       "    .dataframe tbody tr th:only-of-type {\n",
       "        vertical-align: middle;\n",
       "    }\n",
       "\n",
       "    .dataframe tbody tr th {\n",
       "        vertical-align: top;\n",
       "    }\n",
       "\n",
       "    .dataframe thead th {\n",
       "        text-align: right;\n",
       "    }\n",
       "</style>\n",
       "<table border=\"1\" class=\"dataframe\">\n",
       "  <thead>\n",
       "    <tr style=\"text-align: right;\">\n",
       "      <th></th>\n",
       "      <th>基金名称</th>\n",
       "      <th>基金公司名称</th>\n",
       "      <th>是否全部卖出（科）</th>\n",
       "      <th>原持有股数（科）</th>\n",
       "      <th>已卖出股数（科）</th>\n",
       "      <th>卖出持股比例（科）</th>\n",
       "      <th>科创板股票成本金额</th>\n",
       "      <th>科创板打新收益</th>\n",
       "      <th>是否全部卖出（创）</th>\n",
       "      <th>原持有股数（创）</th>\n",
       "      <th>已卖出股数（创）</th>\n",
       "      <th>卖出持股比例（创）</th>\n",
       "      <th>创业板股票成本金额</th>\n",
       "      <th>创业板打新收益</th>\n",
       "      <th>主板打新收益</th>\n",
       "      <th>打新总收益</th>\n",
       "      <th>备注</th>\n",
       "    </tr>\n",
       "  </thead>\n",
       "  <tbody>\n",
       "    <tr>\n",
       "      <th>1</th>\n",
       "      <td>嘉实创新成长混合</td>\n",
       "      <td>嘉实基金管理有限公司</td>\n",
       "      <td>是</td>\n",
       "      <td>1.081</td>\n",
       "      <td>1.081</td>\n",
       "      <td>1</td>\n",
       "      <td>570779</td>\n",
       "      <td>509205</td>\n",
       "      <td>否</td>\n",
       "      <td>3.4444</td>\n",
       "      <td>3.2145</td>\n",
       "      <td>0.933254</td>\n",
       "      <td>404760</td>\n",
       "      <td>898858</td>\n",
       "      <td>NaN</td>\n",
       "      <td>NaN</td>\n",
       "      <td>NaN</td>\n",
       "    </tr>\n",
       "  </tbody>\n",
       "</table>\n",
       "</div>"
      ],
      "text/plain": [
       "       基金名称      基金公司名称 是否全部卖出（科） 原持有股数（科） 已卖出股数（科） 卖出持股比例（科） 科创板股票成本金额  \\\n",
       "1  嘉实创新成长混合  嘉实基金管理有限公司         是    1.081    1.081         1    570779   \n",
       "\n",
       "  科创板打新收益 是否全部卖出（创） 原持有股数（创） 已卖出股数（创） 卖出持股比例（创） 创业板股票成本金额 创业板打新收益 主板打新收益  \\\n",
       "1  509205         否   3.4444   3.2145  0.933254    404760  898858    NaN   \n",
       "\n",
       "  打新总收益   备注  \n",
       "1   NaN  NaN  "
      ]
     },
     "execution_count": 48,
     "metadata": {},
     "output_type": "execute_result"
    }
   ],
   "source": [
    "results"
   ]
  },
  {
   "cell_type": "markdown",
   "metadata": {},
   "source": [
    "### 非科创板"
   ]
  },
  {
   "cell_type": "code",
   "execution_count": 49,
   "metadata": {},
   "outputs": [],
   "source": [
    "main = df[df['mkt'] == '主板']"
   ]
  },
  {
   "cell_type": "code",
   "execution_count": 50,
   "metadata": {},
   "outputs": [],
   "source": [
    "results.loc[1, '主板打新收益'] = (main['成交金额']-main['ipo_price']*main['成交数量']).sum()"
   ]
  },
  {
   "cell_type": "code",
   "execution_count": 51,
   "metadata": {},
   "outputs": [],
   "source": [
    "results.loc[1, '打新总收益'] = (df['成交金额'] - df['ipo_price']*df['成交数量']).sum()"
   ]
  },
  {
   "cell_type": "code",
   "execution_count": 52,
   "metadata": {},
   "outputs": [],
   "source": [
    "results.to_excel('../data/打新统计.xlsx')"
   ]
  },
  {
   "cell_type": "code",
   "execution_count": null,
   "metadata": {},
   "outputs": [],
   "source": []
  }
 ],
 "metadata": {
  "kernelspec": {
   "display_name": "Python 3",
   "language": "python",
   "name": "python3"
  },
  "language_info": {
   "codemirror_mode": {
    "name": "ipython",
    "version": 3
   },
   "file_extension": ".py",
   "mimetype": "text/x-python",
   "name": "python",
   "nbconvert_exporter": "python",
   "pygments_lexer": "ipython3",
   "version": "3.6.5"
  }
 },
 "nbformat": 4,
 "nbformat_minor": 2
}
