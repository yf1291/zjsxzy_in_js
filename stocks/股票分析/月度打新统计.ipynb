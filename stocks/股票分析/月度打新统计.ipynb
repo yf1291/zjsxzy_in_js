{
 "cells": [
  {
   "cell_type": "code",
   "execution_count": 1,
   "metadata": {},
   "outputs": [],
   "source": [
    "import pandas as pd\n",
    "import numpy as np\n",
    "from WindPy import w"
   ]
  },
  {
   "cell_type": "code",
   "execution_count": 2,
   "metadata": {},
   "outputs": [
    {
     "name": "stdout",
     "output_type": "stream",
     "text": [
      "Welcome to use Wind Quant API for Python (WindPy)!\n",
      "\n",
      "COPYRIGHT (C) 2020 WIND INFORMATION CO., LTD. ALL RIGHTS RESERVED.\n",
      "IN NO CIRCUMSTANCE SHALL WIND BE RESPONSIBLE FOR ANY DAMAGES OR LOSSES CAUSED BY USING WIND QUANT API FOR Python.\n"
     ]
    },
    {
     "data": {
      "text/plain": [
       ".ErrorCode=0\n",
       ".Data=[OK!]"
      ]
     },
     "execution_count": 2,
     "metadata": {},
     "output_type": "execute_result"
    }
   ],
   "source": [
    "w.start()"
   ]
  },
  {
   "cell_type": "code",
   "execution_count": 3,
   "metadata": {},
   "outputs": [],
   "source": [
    "# fname = '\\\\\\\\hfm-pubshare\\HFM各部门共享\\Harvest嘉实全体员工\\YANJJ\\综合信息查询_成交回报.xls'\n",
    "fname = '../data/综合信息查询_成交回报.xls'"
   ]
  },
  {
   "cell_type": "code",
   "execution_count": 4,
   "metadata": {},
   "outputs": [
    {
     "name": "stdout",
     "output_type": "stream",
     "text": [
      "WARNING *** file size (29730) not 512 + multiple of sector size (512)\n",
      "WARNING *** OLE2 inconsistency: SSCS size is 0 but SSAT size is non-zero\n"
     ]
    }
   ],
   "source": [
    "df = pd.read_excel(fname, index_col=0, converters={'证券代码': str})"
   ]
  },
  {
   "cell_type": "code",
   "execution_count": 5,
   "metadata": {},
   "outputs": [],
   "source": [
    "df = df[df['委托方向'] == '卖出']"
   ]
  },
  {
   "cell_type": "code",
   "execution_count": 6,
   "metadata": {},
   "outputs": [],
   "source": [
    "df.loc[df.index, '发生日期'] = pd.to_datetime(df['发生日期'])"
   ]
  },
  {
   "cell_type": "code",
   "execution_count": 7,
   "metadata": {},
   "outputs": [],
   "source": [
    "def to_windcode(s):\n",
    "    if s.startswith('6'):\n",
    "        return s + '.SH'\n",
    "    else:\n",
    "        return s + '.SZ'"
   ]
  },
  {
   "cell_type": "code",
   "execution_count": 8,
   "metadata": {},
   "outputs": [],
   "source": [
    "df['windcode'] = [to_windcode(x) for x in df['证券代码']]"
   ]
  },
  {
   "cell_type": "code",
   "execution_count": 9,
   "metadata": {},
   "outputs": [],
   "source": [
    "data = w.wss(df['windcode'].drop_duplicates().tolist(), 'ipo_date,mkt,ipo_price')"
   ]
  },
  {
   "cell_type": "code",
   "execution_count": 10,
   "metadata": {},
   "outputs": [],
   "source": [
    "ipo_date = {k: v for k, v in zip(data.Codes, data.Data[0])}\n",
    "mkt = {k: v for k, v in zip(data.Codes, data.Data[1])}\n",
    "ipo_price = {k: v for k, v in zip(data.Codes, data.Data[2])}"
   ]
  },
  {
   "cell_type": "code",
   "execution_count": 11,
   "metadata": {},
   "outputs": [],
   "source": [
    "df['ipo_date'] = pd.to_datetime([ipo_date[x] for x in df['windcode']])\n",
    "df['mkt'] = [mkt[x] for x in df['windcode']]\n",
    "df['ipo_price'] = [ipo_price[x] for x in df['windcode']]"
   ]
  },
  {
   "cell_type": "code",
   "execution_count": 12,
   "metadata": {},
   "outputs": [],
   "source": [
    "df['days'] = df['发生日期'] - df['ipo_date']"
   ]
  },
  {
   "cell_type": "code",
   "execution_count": 13,
   "metadata": {},
   "outputs": [],
   "source": [
    "df['days'] = [x.days for x in df['days']]"
   ]
  },
  {
   "cell_type": "markdown",
   "metadata": {},
   "source": [
    "# 新股判断条件"
   ]
  },
  {
   "cell_type": "code",
   "execution_count": 14,
   "metadata": {},
   "outputs": [],
   "source": [
    "df = df[df['days'] < 45]"
   ]
  },
  {
   "cell_type": "code",
   "execution_count": 15,
   "metadata": {},
   "outputs": [
    {
     "data": {
      "text/html": [
       "<div>\n",
       "<style scoped>\n",
       "    .dataframe tbody tr th:only-of-type {\n",
       "        vertical-align: middle;\n",
       "    }\n",
       "\n",
       "    .dataframe tbody tr th {\n",
       "        vertical-align: top;\n",
       "    }\n",
       "\n",
       "    .dataframe thead th {\n",
       "        text-align: right;\n",
       "    }\n",
       "</style>\n",
       "<table border=\"1\" class=\"dataframe\">\n",
       "  <thead>\n",
       "    <tr style=\"text-align: right;\">\n",
       "      <th></th>\n",
       "      <th>发生日期</th>\n",
       "      <th>基金编号</th>\n",
       "      <th>基金名称</th>\n",
       "      <th>组合名称</th>\n",
       "      <th>证券代码</th>\n",
       "      <th>证券名称</th>\n",
       "      <th>委托方向</th>\n",
       "      <th>指令数量</th>\n",
       "      <th>持仓</th>\n",
       "      <th>最新价</th>\n",
       "      <th>...</th>\n",
       "      <th>今开盘价</th>\n",
       "      <th>是否强平委托</th>\n",
       "      <th>代下达人</th>\n",
       "      <th>是否强平</th>\n",
       "      <th>平仓盈亏</th>\n",
       "      <th>windcode</th>\n",
       "      <th>ipo_date</th>\n",
       "      <th>mkt</th>\n",
       "      <th>ipo_price</th>\n",
       "      <th>days</th>\n",
       "    </tr>\n",
       "    <tr>\n",
       "      <th>序号</th>\n",
       "      <th></th>\n",
       "      <th></th>\n",
       "      <th></th>\n",
       "      <th></th>\n",
       "      <th></th>\n",
       "      <th></th>\n",
       "      <th></th>\n",
       "      <th></th>\n",
       "      <th></th>\n",
       "      <th></th>\n",
       "      <th></th>\n",
       "      <th></th>\n",
       "      <th></th>\n",
       "      <th></th>\n",
       "      <th></th>\n",
       "      <th></th>\n",
       "      <th></th>\n",
       "      <th></th>\n",
       "      <th></th>\n",
       "      <th></th>\n",
       "      <th></th>\n",
       "    </tr>\n",
       "  </thead>\n",
       "  <tbody>\n",
       "    <tr>\n",
       "      <th>1</th>\n",
       "      <td>2020-11-05</td>\n",
       "      <td>418.0</td>\n",
       "      <td>嘉实创新成长混合</td>\n",
       "      <td>缺省组合</td>\n",
       "      <td>300903</td>\n",
       "      <td>N科翔</td>\n",
       "      <td>卖出</td>\n",
       "      <td>4775</td>\n",
       "      <td>0.0</td>\n",
       "      <td>57.82</td>\n",
       "      <td>...</td>\n",
       "      <td>58.99</td>\n",
       "      <td>非强平</td>\n",
       "      <td>闫晶晶</td>\n",
       "      <td>否</td>\n",
       "      <td>0</td>\n",
       "      <td>300903.SZ</td>\n",
       "      <td>2020-11-05</td>\n",
       "      <td>创业板</td>\n",
       "      <td>13.06</td>\n",
       "      <td>0</td>\n",
       "    </tr>\n",
       "    <tr>\n",
       "      <th>4</th>\n",
       "      <td>2020-11-27</td>\n",
       "      <td>418.0</td>\n",
       "      <td>嘉实创新成长混合</td>\n",
       "      <td>缺省组合</td>\n",
       "      <td>300910</td>\n",
       "      <td>N瑞丰</td>\n",
       "      <td>卖出</td>\n",
       "      <td>3622</td>\n",
       "      <td>403.0</td>\n",
       "      <td>103.00</td>\n",
       "      <td>...</td>\n",
       "      <td>83.00</td>\n",
       "      <td>非强平</td>\n",
       "      <td>刘正伟</td>\n",
       "      <td>否</td>\n",
       "      <td>0</td>\n",
       "      <td>300910.SZ</td>\n",
       "      <td>2020-11-27</td>\n",
       "      <td>创业板</td>\n",
       "      <td>30.26</td>\n",
       "      <td>0</td>\n",
       "    </tr>\n",
       "    <tr>\n",
       "      <th>6</th>\n",
       "      <td>2020-11-27</td>\n",
       "      <td>418.0</td>\n",
       "      <td>嘉实创新成长混合</td>\n",
       "      <td>缺省组合</td>\n",
       "      <td>605177</td>\n",
       "      <td>东亚药业</td>\n",
       "      <td>卖出</td>\n",
       "      <td>439</td>\n",
       "      <td>0.0</td>\n",
       "      <td>54.24</td>\n",
       "      <td>...</td>\n",
       "      <td>0.00</td>\n",
       "      <td>非强平</td>\n",
       "      <td>刘正伟</td>\n",
       "      <td>否</td>\n",
       "      <td>0</td>\n",
       "      <td>605177.SH</td>\n",
       "      <td>2020-11-25</td>\n",
       "      <td>主板</td>\n",
       "      <td>31.13</td>\n",
       "      <td>2</td>\n",
       "    </tr>\n",
       "    <tr>\n",
       "      <th>9</th>\n",
       "      <td>2020-11-12</td>\n",
       "      <td>418.0</td>\n",
       "      <td>嘉实创新成长混合</td>\n",
       "      <td>缺省组合</td>\n",
       "      <td>300884</td>\n",
       "      <td>N狄耐克</td>\n",
       "      <td>卖出</td>\n",
       "      <td>4486</td>\n",
       "      <td>499.0</td>\n",
       "      <td>76.60</td>\n",
       "      <td>...</td>\n",
       "      <td>70.00</td>\n",
       "      <td>非强平</td>\n",
       "      <td>闫晶晶</td>\n",
       "      <td>否</td>\n",
       "      <td>0</td>\n",
       "      <td>300884.SZ</td>\n",
       "      <td>2020-11-12</td>\n",
       "      <td>创业板</td>\n",
       "      <td>24.87</td>\n",
       "      <td>0</td>\n",
       "    </tr>\n",
       "    <tr>\n",
       "      <th>10</th>\n",
       "      <td>2020-11-13</td>\n",
       "      <td>418.0</td>\n",
       "      <td>嘉实创新成长混合</td>\n",
       "      <td>缺省组合</td>\n",
       "      <td>003018</td>\n",
       "      <td>金富科技</td>\n",
       "      <td>卖出</td>\n",
       "      <td>1027</td>\n",
       "      <td>0.0</td>\n",
       "      <td>17.56</td>\n",
       "      <td>...</td>\n",
       "      <td>20.72</td>\n",
       "      <td>非强平</td>\n",
       "      <td>黄文婕</td>\n",
       "      <td>否</td>\n",
       "      <td>0</td>\n",
       "      <td>003018.SZ</td>\n",
       "      <td>2020-11-06</td>\n",
       "      <td>中小企业板</td>\n",
       "      <td>8.93</td>\n",
       "      <td>7</td>\n",
       "    </tr>\n",
       "  </tbody>\n",
       "</table>\n",
       "<p>5 rows × 67 columns</p>\n",
       "</div>"
      ],
      "text/plain": [
       "         发生日期   基金编号      基金名称  组合名称    证券代码  证券名称 委托方向  指令数量     持仓     最新价  \\\n",
       "序号                                                                             \n",
       "1  2020-11-05  418.0  嘉实创新成长混合  缺省组合  300903   N科翔   卖出  4775    0.0   57.82   \n",
       "4  2020-11-27  418.0  嘉实创新成长混合  缺省组合  300910   N瑞丰   卖出  3622  403.0  103.00   \n",
       "6  2020-11-27  418.0  嘉实创新成长混合  缺省组合  605177  东亚药业   卖出   439    0.0   54.24   \n",
       "9  2020-11-12  418.0  嘉实创新成长混合  缺省组合  300884  N狄耐克   卖出  4486  499.0   76.60   \n",
       "10 2020-11-13  418.0  嘉实创新成长混合  缺省组合  003018  金富科技   卖出  1027    0.0   17.56   \n",
       "\n",
       "    ...   今开盘价  是否强平委托  代下达人  是否强平  平仓盈亏   windcode   ipo_date    mkt  \\\n",
       "序号  ...                                                                 \n",
       "1   ...  58.99     非强平   闫晶晶     否     0  300903.SZ 2020-11-05    创业板   \n",
       "4   ...  83.00     非强平   刘正伟     否     0  300910.SZ 2020-11-27    创业板   \n",
       "6   ...   0.00     非强平   刘正伟     否     0  605177.SH 2020-11-25     主板   \n",
       "9   ...  70.00     非强平   闫晶晶     否     0  300884.SZ 2020-11-12    创业板   \n",
       "10  ...  20.72     非强平   黄文婕     否     0  003018.SZ 2020-11-06  中小企业板   \n",
       "\n",
       "   ipo_price  days  \n",
       "序号                  \n",
       "1      13.06     0  \n",
       "4      30.26     0  \n",
       "6      31.13     2  \n",
       "9      24.87     0  \n",
       "10      8.93     7  \n",
       "\n",
       "[5 rows x 67 columns]"
      ]
     },
     "execution_count": 15,
     "metadata": {},
     "output_type": "execute_result"
    }
   ],
   "source": [
    "df.head()"
   ]
  },
  {
   "cell_type": "markdown",
   "metadata": {},
   "source": [
    "# 创新成长打新统计"
   ]
  },
  {
   "cell_type": "code",
   "execution_count": 16,
   "metadata": {},
   "outputs": [],
   "source": [
    "results = pd.DataFrame(columns=['基金名称', '基金公司名称', \n",
    "                                '是否全部卖出（科）', '原持有股数（科）', \n",
    "                                '已卖出股数（科）', '卖出持股比例（科）',\n",
    "                                '科创板股票成本金额', '科创板打新收益',\n",
    "                                '是否全部卖出（创）', '原持有股数（创）',\n",
    "                                '已卖出股数（创）', '卖出持股比例（创）',\n",
    "                                '创业板股票成本金额', '创业板打新收益',\n",
    "                                '主板打新收益', '打新总收益', '备注'], index=[1])"
   ]
  },
  {
   "cell_type": "code",
   "execution_count": 17,
   "metadata": {},
   "outputs": [],
   "source": [
    "results.loc[1, '基金名称'] = '嘉实创新成长混合'\n",
    "results.loc[1, '基金公司名称'] = '嘉实基金管理有限公司'"
   ]
  },
  {
   "cell_type": "markdown",
   "metadata": {},
   "source": [
    "### 科创板"
   ]
  },
  {
   "cell_type": "code",
   "execution_count": 18,
   "metadata": {},
   "outputs": [],
   "source": [
    "star = df[df['mkt'] == '科创板']"
   ]
  },
  {
   "cell_type": "code",
   "execution_count": 19,
   "metadata": {},
   "outputs": [],
   "source": [
    "results.loc[1, '原持有股数（科）'] = (star['成交数量'] + star['持仓']).sum() / 1e4\n",
    "results.loc[1, '已卖出股数（科）'] = star['成交数量'].sum() / 1e4\n",
    "results.loc[1, '卖出持股比例（科）'] = results.loc[1, '已卖出股数（科）'] / results.loc[1, '原持有股数（科）']\n",
    "results.loc[1, '是否全部卖出（科）'] = '是' if results.loc[1, '卖出持股比例（科）'] == 1 else '否'"
   ]
  },
  {
   "cell_type": "code",
   "execution_count": 20,
   "metadata": {},
   "outputs": [],
   "source": [
    "results.loc[1, '科创板股票成本金额'] = (star['ipo_price']*star['成交数量']).sum()\n",
    "results.loc[1, '科创板打新收益'] = (star['成交金额']-star['ipo_price']*star['成交数量']).sum()"
   ]
  },
  {
   "cell_type": "code",
   "execution_count": 21,
   "metadata": {},
   "outputs": [
    {
     "data": {
      "text/html": [
       "<div>\n",
       "<style scoped>\n",
       "    .dataframe tbody tr th:only-of-type {\n",
       "        vertical-align: middle;\n",
       "    }\n",
       "\n",
       "    .dataframe tbody tr th {\n",
       "        vertical-align: top;\n",
       "    }\n",
       "\n",
       "    .dataframe thead th {\n",
       "        text-align: right;\n",
       "    }\n",
       "</style>\n",
       "<table border=\"1\" class=\"dataframe\">\n",
       "  <thead>\n",
       "    <tr style=\"text-align: right;\">\n",
       "      <th></th>\n",
       "      <th>基金名称</th>\n",
       "      <th>基金公司名称</th>\n",
       "      <th>是否全部卖出（科）</th>\n",
       "      <th>原持有股数（科）</th>\n",
       "      <th>已卖出股数（科）</th>\n",
       "      <th>卖出持股比例（科）</th>\n",
       "      <th>科创板股票成本金额</th>\n",
       "      <th>科创板打新收益</th>\n",
       "      <th>是否全部卖出（创）</th>\n",
       "      <th>原持有股数（创）</th>\n",
       "      <th>已卖出股数（创）</th>\n",
       "      <th>卖出持股比例（创）</th>\n",
       "      <th>创业板股票成本金额</th>\n",
       "      <th>创业板打新收益</th>\n",
       "      <th>主板打新收益</th>\n",
       "      <th>打新总收益</th>\n",
       "      <th>备注</th>\n",
       "    </tr>\n",
       "  </thead>\n",
       "  <tbody>\n",
       "    <tr>\n",
       "      <th>1</th>\n",
       "      <td>嘉实创新成长混合</td>\n",
       "      <td>嘉实基金管理有限公司</td>\n",
       "      <td>是</td>\n",
       "      <td>0.3114</td>\n",
       "      <td>0.3114</td>\n",
       "      <td>1</td>\n",
       "      <td>111263</td>\n",
       "      <td>214194</td>\n",
       "      <td>NaN</td>\n",
       "      <td>NaN</td>\n",
       "      <td>NaN</td>\n",
       "      <td>NaN</td>\n",
       "      <td>NaN</td>\n",
       "      <td>NaN</td>\n",
       "      <td>NaN</td>\n",
       "      <td>NaN</td>\n",
       "      <td>NaN</td>\n",
       "    </tr>\n",
       "  </tbody>\n",
       "</table>\n",
       "</div>"
      ],
      "text/plain": [
       "       基金名称      基金公司名称 是否全部卖出（科） 原持有股数（科） 已卖出股数（科） 卖出持股比例（科） 科创板股票成本金额  \\\n",
       "1  嘉实创新成长混合  嘉实基金管理有限公司         是   0.3114   0.3114         1    111263   \n",
       "\n",
       "  科创板打新收益 是否全部卖出（创） 原持有股数（创） 已卖出股数（创） 卖出持股比例（创） 创业板股票成本金额 创业板打新收益 主板打新收益  \\\n",
       "1  214194       NaN      NaN      NaN       NaN       NaN     NaN    NaN   \n",
       "\n",
       "  打新总收益   备注  \n",
       "1   NaN  NaN  "
      ]
     },
     "execution_count": 21,
     "metadata": {},
     "output_type": "execute_result"
    }
   ],
   "source": [
    "results"
   ]
  },
  {
   "cell_type": "markdown",
   "metadata": {},
   "source": [
    "### 创业板"
   ]
  },
  {
   "cell_type": "code",
   "execution_count": 22,
   "metadata": {},
   "outputs": [],
   "source": [
    "entr = df[df['mkt'] == '创业板']"
   ]
  },
  {
   "cell_type": "code",
   "execution_count": 23,
   "metadata": {},
   "outputs": [],
   "source": [
    "results.loc[1, '原持有股数（创）'] = (entr['成交数量'] + entr['持仓']).sum() / 1e4\n",
    "results.loc[1, '已卖出股数（创）'] = entr['成交数量'].sum() / 1e4\n",
    "results.loc[1, '卖出持股比例（创）'] = results.loc[1, '已卖出股数（创）'] / results.loc[1, '原持有股数（创）']\n",
    "results.loc[1, '是否全部卖出（创）'] = '是' if results.loc[1, '卖出持股比例（创）'] == 1 else '否'"
   ]
  },
  {
   "cell_type": "code",
   "execution_count": 24,
   "metadata": {},
   "outputs": [],
   "source": [
    "results.loc[1, '创业板股票成本金额'] = (entr['ipo_price']*entr['成交数量']).sum()\n",
    "results.loc[1, '创业板打新收益'] = (entr['成交金额']-entr['ipo_price']*entr['成交数量']).sum()"
   ]
  },
  {
   "cell_type": "code",
   "execution_count": 25,
   "metadata": {},
   "outputs": [
    {
     "data": {
      "text/html": [
       "<div>\n",
       "<style scoped>\n",
       "    .dataframe tbody tr th:only-of-type {\n",
       "        vertical-align: middle;\n",
       "    }\n",
       "\n",
       "    .dataframe tbody tr th {\n",
       "        vertical-align: top;\n",
       "    }\n",
       "\n",
       "    .dataframe thead th {\n",
       "        text-align: right;\n",
       "    }\n",
       "</style>\n",
       "<table border=\"1\" class=\"dataframe\">\n",
       "  <thead>\n",
       "    <tr style=\"text-align: right;\">\n",
       "      <th></th>\n",
       "      <th>基金名称</th>\n",
       "      <th>基金公司名称</th>\n",
       "      <th>是否全部卖出（科）</th>\n",
       "      <th>原持有股数（科）</th>\n",
       "      <th>已卖出股数（科）</th>\n",
       "      <th>卖出持股比例（科）</th>\n",
       "      <th>科创板股票成本金额</th>\n",
       "      <th>科创板打新收益</th>\n",
       "      <th>是否全部卖出（创）</th>\n",
       "      <th>原持有股数（创）</th>\n",
       "      <th>已卖出股数（创）</th>\n",
       "      <th>卖出持股比例（创）</th>\n",
       "      <th>创业板股票成本金额</th>\n",
       "      <th>创业板打新收益</th>\n",
       "      <th>主板打新收益</th>\n",
       "      <th>打新总收益</th>\n",
       "      <th>备注</th>\n",
       "    </tr>\n",
       "  </thead>\n",
       "  <tbody>\n",
       "    <tr>\n",
       "      <th>1</th>\n",
       "      <td>嘉实创新成长混合</td>\n",
       "      <td>嘉实基金管理有限公司</td>\n",
       "      <td>是</td>\n",
       "      <td>0.3114</td>\n",
       "      <td>0.3114</td>\n",
       "      <td>1</td>\n",
       "      <td>111263</td>\n",
       "      <td>214194</td>\n",
       "      <td>否</td>\n",
       "      <td>2.0454</td>\n",
       "      <td>1.8884</td>\n",
       "      <td>0.923242</td>\n",
       "      <td>486700</td>\n",
       "      <td>1.02162e+06</td>\n",
       "      <td>NaN</td>\n",
       "      <td>NaN</td>\n",
       "      <td>NaN</td>\n",
       "    </tr>\n",
       "  </tbody>\n",
       "</table>\n",
       "</div>"
      ],
      "text/plain": [
       "       基金名称      基金公司名称 是否全部卖出（科） 原持有股数（科） 已卖出股数（科） 卖出持股比例（科） 科创板股票成本金额  \\\n",
       "1  嘉实创新成长混合  嘉实基金管理有限公司         是   0.3114   0.3114         1    111263   \n",
       "\n",
       "  科创板打新收益 是否全部卖出（创） 原持有股数（创） 已卖出股数（创） 卖出持股比例（创） 创业板股票成本金额      创业板打新收益 主板打新收益  \\\n",
       "1  214194         否   2.0454   1.8884  0.923242    486700  1.02162e+06    NaN   \n",
       "\n",
       "  打新总收益   备注  \n",
       "1   NaN  NaN  "
      ]
     },
     "execution_count": 25,
     "metadata": {},
     "output_type": "execute_result"
    }
   ],
   "source": [
    "results"
   ]
  },
  {
   "cell_type": "markdown",
   "metadata": {},
   "source": [
    "### 非科创板"
   ]
  },
  {
   "cell_type": "code",
   "execution_count": 26,
   "metadata": {},
   "outputs": [],
   "source": [
    "main = df[df['mkt'] == '主板']"
   ]
  },
  {
   "cell_type": "code",
   "execution_count": 27,
   "metadata": {},
   "outputs": [],
   "source": [
    "results.loc[1, '主板打新收益'] = (main['成交金额']-main['ipo_price']*main['成交数量']).sum()"
   ]
  },
  {
   "cell_type": "code",
   "execution_count": 28,
   "metadata": {},
   "outputs": [],
   "source": [
    "results.loc[1, '打新总收益'] = (df['成交金额'] - df['ipo_price']*df['成交数量']).sum()"
   ]
  },
  {
   "cell_type": "code",
   "execution_count": 29,
   "metadata": {},
   "outputs": [],
   "source": [
    "results.to_excel('../data/打新统计.xlsx')"
   ]
  },
  {
   "cell_type": "code",
   "execution_count": null,
   "metadata": {},
   "outputs": [],
   "source": []
  }
 ],
 "metadata": {
  "kernelspec": {
   "display_name": "Python 3",
   "language": "python",
   "name": "python3"
  },
  "language_info": {
   "codemirror_mode": {
    "name": "ipython",
    "version": 3
   },
   "file_extension": ".py",
   "mimetype": "text/x-python",
   "name": "python",
   "nbconvert_exporter": "python",
   "pygments_lexer": "ipython3",
   "version": "3.6.5"
  }
 },
 "nbformat": 4,
 "nbformat_minor": 2
}
