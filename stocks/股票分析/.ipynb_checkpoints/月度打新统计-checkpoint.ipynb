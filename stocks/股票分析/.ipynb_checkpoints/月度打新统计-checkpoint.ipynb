{
 "cells": [
  {
   "cell_type": "code",
   "execution_count": 1,
   "metadata": {},
   "outputs": [],
   "source": [
    "import pandas as pd\n",
    "import numpy as np\n",
    "from WindPy import w"
   ]
  },
  {
   "cell_type": "code",
   "execution_count": 2,
   "metadata": {},
   "outputs": [
    {
     "name": "stdout",
     "output_type": "stream",
     "text": [
      "Welcome to use Wind Quant API for Python (WindPy)!\n",
      "\n",
      "COPYRIGHT (C) 2017 WIND INFORMATION CO., LTD. ALL RIGHTS RESERVED.\n",
      "IN NO CIRCUMSTANCE SHALL WIND BE RESPONSIBLE FOR ANY DAMAGES OR LOSSES CAUSED BY USING WIND QUANT API FOR Python.\n"
     ]
    },
    {
     "data": {
      "text/plain": [
       ".ErrorCode=0\n",
       ".Data=[OK!]"
      ]
     },
     "execution_count": 2,
     "metadata": {},
     "output_type": "execute_result"
    }
   ],
   "source": [
    "w.start()"
   ]
  },
  {
   "cell_type": "code",
   "execution_count": 54,
   "metadata": {},
   "outputs": [],
   "source": [
    "fname = '\\\\\\\\hfm-pubshare\\HFM各部门共享\\Harvest嘉实全体员工\\YANJJ\\综合信息查询_成交回报.xls'"
   ]
  },
  {
   "cell_type": "code",
   "execution_count": 55,
   "metadata": {},
   "outputs": [
    {
     "name": "stdout",
     "output_type": "stream",
     "text": [
      "WARNING *** OLE2 inconsistency: SSCS size is 0 but SSAT size is non-zero\n"
     ]
    }
   ],
   "source": [
    "df = pd.read_excel(fname, index_col=0, converters={'证券代码': str})"
   ]
  },
  {
   "cell_type": "code",
   "execution_count": 56,
   "metadata": {},
   "outputs": [],
   "source": [
    "df = df[df['委托方向'] == '卖出']"
   ]
  },
  {
   "cell_type": "code",
   "execution_count": 57,
   "metadata": {},
   "outputs": [],
   "source": [
    "df.loc[df.index, '发生日期'] = pd.to_datetime(df['发生日期'])"
   ]
  },
  {
   "cell_type": "code",
   "execution_count": 58,
   "metadata": {},
   "outputs": [],
   "source": [
    "def to_windcode(s):\n",
    "    if s.startswith('6'):\n",
    "        return s + '.SH'\n",
    "    else:\n",
    "        return s + '.SZ'"
   ]
  },
  {
   "cell_type": "code",
   "execution_count": 59,
   "metadata": {},
   "outputs": [],
   "source": [
    "df['windcode'] = [to_windcode(x) for x in df['证券代码']]"
   ]
  },
  {
   "cell_type": "code",
   "execution_count": 60,
   "metadata": {},
   "outputs": [],
   "source": [
    "data = w.wss(df['windcode'].drop_duplicates().tolist(), 'ipo_date,mkt,ipo_price')"
   ]
  },
  {
   "cell_type": "code",
   "execution_count": 61,
   "metadata": {},
   "outputs": [],
   "source": [
    "ipo_date = {k: v for k, v in zip(data.Codes, data.Data[0])}\n",
    "mkt = {k: v for k, v in zip(data.Codes, data.Data[1])}\n",
    "ipo_price = {k: v for k, v in zip(data.Codes, data.Data[2])}"
   ]
  },
  {
   "cell_type": "code",
   "execution_count": 62,
   "metadata": {},
   "outputs": [],
   "source": [
    "df['ipo_date'] = pd.to_datetime([ipo_date[x] for x in df['windcode']])\n",
    "df['mkt'] = [mkt[x] for x in df['windcode']]\n",
    "df['ipo_price'] = [ipo_price[x] for x in df['windcode']]"
   ]
  },
  {
   "cell_type": "code",
   "execution_count": 63,
   "metadata": {},
   "outputs": [],
   "source": [
    "df['days'] = df['发生日期'] - df['ipo_date']"
   ]
  },
  {
   "cell_type": "code",
   "execution_count": 64,
   "metadata": {},
   "outputs": [],
   "source": [
    "df['days'] = [x.days for x in df['days']]"
   ]
  },
  {
   "cell_type": "markdown",
   "metadata": {},
   "source": [
    "# 新股判断条件"
   ]
  },
  {
   "cell_type": "code",
   "execution_count": 65,
   "metadata": {},
   "outputs": [],
   "source": [
    "df = df[df['days'] < 45]"
   ]
  },
  {
   "cell_type": "markdown",
   "metadata": {},
   "source": [
    "# 创新成长"
   ]
  },
  {
   "cell_type": "markdown",
   "metadata": {},
   "source": [
    "### 科创板"
   ]
  },
  {
   "cell_type": "code",
   "execution_count": 89,
   "metadata": {},
   "outputs": [],
   "source": [
    "star = df[df['mkt'] == '科创板']"
   ]
  },
  {
   "cell_type": "code",
   "execution_count": 113,
   "metadata": {},
   "outputs": [],
   "source": [
    "results = pd.DataFrame(columns=['基金名称', '基金公司名称', \n",
    "                                '是否全部卖出', '原持有股数', \n",
    "                                '已卖出股数', '卖出持股比例',\n",
    "                                '科创板卖出盈利金额', '科创股票成本金额',\n",
    "                                '科创打新收益率', '非科创板打新收益', \n",
    "                                '打新总收益', '备注'], index=[1])"
   ]
  },
  {
   "cell_type": "code",
   "execution_count": 114,
   "metadata": {},
   "outputs": [],
   "source": [
    "results.loc[1, '基金名称'] = '嘉实创新成长'\n",
    "results.loc[1, '基金公司名称'] = '嘉实基金'"
   ]
  },
  {
   "cell_type": "code",
   "execution_count": 115,
   "metadata": {},
   "outputs": [],
   "source": [
    "results.loc[1, '原持有股数'] = (star['成交数量'] + star['持仓']).sum() / 1e4\n",
    "results.loc[1, '已卖出股数'] = star['成交数量'].sum() / 1e4\n",
    "results.loc[1, '卖出持股比例'] = results.loc[1, '已卖出股数'] / results.loc[1, '原持有股数']\n",
    "results.loc[1, '是否全部卖出'] = '是' if results.loc[1, '卖出持股比例'] == 1 else '否'"
   ]
  },
  {
   "cell_type": "code",
   "execution_count": 116,
   "metadata": {},
   "outputs": [],
   "source": [
    "results.loc[1, '科创板卖出盈利金额'] = (star['成交金额']-star['ipo_price']*star['成交数量']).sum()\n",
    "results.loc[1, '科创股票成本金额'] = (star['ipo_price']*star['成交数量']).sum()\n",
    "results.loc[1, '科创打新收益率'] = results.loc[1, '科创板卖出盈利金额'] / results.loc[1, '科创股票成本金额']"
   ]
  },
  {
   "cell_type": "markdown",
   "metadata": {},
   "source": [
    "### 非科创板"
   ]
  },
  {
   "cell_type": "code",
   "execution_count": 112,
   "metadata": {},
   "outputs": [],
   "source": [
    "main = df[df['mkt'] != '科创板']"
   ]
  },
  {
   "cell_type": "code",
   "execution_count": 118,
   "metadata": {},
   "outputs": [],
   "source": [
    "results.loc[1, '非科创板打新收益'] = (main['成交金额']-main['ipo_price']*main['成交数量']).sum()"
   ]
  },
  {
   "cell_type": "code",
   "execution_count": 120,
   "metadata": {},
   "outputs": [],
   "source": [
    "results.loc[1, '打新总收益'] = results.loc[1, '科创板卖出盈利金额'] + results.loc[1, '非科创板打新收益']"
   ]
  },
  {
   "cell_type": "code",
   "execution_count": 122,
   "metadata": {},
   "outputs": [],
   "source": [
    "results.to_excel('../data/打新统计.xlsx')"
   ]
  },
  {
   "cell_type": "code",
   "execution_count": null,
   "metadata": {},
   "outputs": [],
   "source": []
  }
 ],
 "metadata": {
  "kernelspec": {
   "display_name": "Python 3",
   "language": "python",
   "name": "python3"
  },
  "language_info": {
   "codemirror_mode": {
    "name": "ipython",
    "version": 3
   },
   "file_extension": ".py",
   "mimetype": "text/x-python",
   "name": "python",
   "nbconvert_exporter": "python",
   "pygments_lexer": "ipython3",
   "version": "3.6.5"
  }
 },
 "nbformat": 4,
 "nbformat_minor": 2
}
